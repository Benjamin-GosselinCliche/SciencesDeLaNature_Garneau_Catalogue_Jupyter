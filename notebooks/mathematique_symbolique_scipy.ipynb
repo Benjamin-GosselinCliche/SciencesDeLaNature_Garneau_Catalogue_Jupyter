{
 "cells": [
  {
   "cell_type": "markdown",
   "id": "34419965",
   "metadata": {},
   "source": [
    "# Démonstration Sympy\n",
    "---\n",
    "\n",
    "<div style=\"text-align: center;\">\n",
    "    <div style=\"display: inline-block; position: relative; width: 350px;\">\n",
    "        <img src=\"../img/_f260286f-3f4a-48cb-9dee-93d38a5b43d2.jpeg\" alt=\"Dessin\" style=\"width: 100%;\"/>\n",
    "        <p style=\"text-align: center; margin-top: 5px;\">\n",
    "            <span style=\"font-style: italic; font-size: 16px;\"> Sympy </span><br/>\n",
    "            <span style=\"font-style: italic; font-size: 12px;\">Image générée par DALL·E 3, 2024 </span>\n",
    "        </p>\n",
    "    </div>\n",
    "</div>"
   ]
  },
  {
   "cell_type": "markdown",
   "id": "e2fc5143",
   "metadata": {},
   "source": [
    "## Mise en contexte:\n",
    "\n",
    "SymPy est une bibliothèque Python pour les mathématiques symboliques. Contrairement aux calculs numériques, où les valeurs sont représentées par des nombres, les mathématiques symboliques manipulent des fonctions mathématiques de manière exacte, en conservant les symboles tels quels.\n",
    "\n",
    "Comme à l'habitude, nous importons d'abors la librairie:\n",
    "\n",
    "```python\n",
    "import sympy as sp \n",
    "```\n",
    "\n",
    "Les variables doivent être instanciées de la manière suivante:\n",
    "\n",
    "```python\n",
    "x, y, a, b = sp.symbols('x y a b')\n",
    "```\n",
    "\n",
    "Ici, les variables x, y, a et b seront donc traités symboliquement.\n",
    "\n",
    "## Référence:\n",
    "\n",
    "https://docs.sympy.org/latest/index.html\n"
   ]
  },
  {
   "cell_type": "markdown",
   "id": "b72522bb-5303-415e-9e38-a27c63e4070a",
   "metadata": {},
   "source": [
    "# Opérations de base"
   ]
  },
  {
   "cell_type": "markdown",
   "id": "8d96fb5c-9a80-40a9-bdeb-05335ac8e63f",
   "metadata": {},
   "source": [
    "## Déclaration des variables et des fonctions"
   ]
  },
  {
   "cell_type": "code",
   "execution_count": 59,
   "id": "8c4f4f49",
   "metadata": {},
   "outputs": [
    {
     "data": {
      "text/latex": [
       "$\\displaystyle x$"
      ],
      "text/plain": [
       "x"
      ]
     },
     "metadata": {},
     "output_type": "display_data"
    },
    {
     "data": {
      "text/latex": [
       "$\\displaystyle f_{1}{\\left(x \\right)}$"
      ],
      "text/plain": [
       "f1(x)"
      ]
     },
     "metadata": {},
     "output_type": "display_data"
    },
    {
     "data": {
      "text/latex": [
       "$\\displaystyle f_{1}{\\left(x \\right)}$"
      ],
      "text/plain": [
       "f1(x)"
      ]
     },
     "metadata": {},
     "output_type": "display_data"
    },
    {
     "data": {
      "text/latex": [
       "$\\displaystyle x^{2} + y^{2}$"
      ],
      "text/plain": [
       "x**2 + y**2"
      ]
     },
     "execution_count": 59,
     "metadata": {},
     "output_type": "execute_result"
    }
   ],
   "source": [
    "import sympy as sp\n",
    "# L'équivalent d'un print pour un affichage symbolique dans Jupyter est la  display de IPython.display\n",
    "from IPython.display import display\n",
    "\n",
    "# Définition des variables\n",
    "x, y, a, b = sp.symbols('x y a b')\n",
    "\n",
    "# Définition d'une  à une variable: f1(x) \n",
    "_f1 = sp.Function('f1')(x)\n",
    "\n",
    "# Définition d'une  à deux variable: f2(x, y) \n",
    "_f2 = sp.Function('f2')(x, y)\n",
    "\n",
    "# Définition d'une  à deux variable: f2(x, y) \n",
    "_f2 = sp.Function('f2')(x, y)\n",
    "\n",
    "# Définition d'une  algébrique de base:\n",
    "expr1 = x**2 + y**2\n",
    "\n",
    "display(x)\n",
    "display(_f1)\n",
    "display(_f1)\n",
    "\n",
    "#Le dernier élément d'une cellule n'a pas besoin d'un display\n",
    "expr1"
   ]
  },
  {
   "cell_type": "markdown",
   "id": "7667d634-c86a-4330-869c-2ee8140ddb7c",
   "metadata": {},
   "source": [
    "## Addition, soustraction, multiplication, division"
   ]
  },
  {
   "cell_type": "code",
   "execution_count": 60,
   "id": "ec36d204-e4b2-46ad-8bac-1883e730ae60",
   "metadata": {},
   "outputs": [
    {
     "data": {
      "text/latex": [
       "$\\displaystyle x^{3} + x^{2} + y^{3} + y^{2}$"
      ],
      "text/plain": [
       "x**3 + x**2 + y**3 + y**2"
      ]
     },
     "metadata": {},
     "output_type": "display_data"
    },
    {
     "data": {
      "text/latex": [
       "$\\displaystyle - x^{3} + x^{2} - y^{3} + y^{2}$"
      ],
      "text/plain": [
       "-x**3 + x**2 - y**3 + y**2"
      ]
     },
     "metadata": {},
     "output_type": "display_data"
    },
    {
     "data": {
      "text/latex": [
       "$\\displaystyle \\left(x^{2} + y^{2}\\right) \\left(x^{3} + y^{3}\\right)$"
      ],
      "text/plain": [
       "(x**2 + y**2)*(x**3 + y**3)"
      ]
     },
     "metadata": {},
     "output_type": "display_data"
    },
    {
     "data": {
      "text/latex": [
       "$\\displaystyle \\frac{x^{2} + y^{2}}{x^{3} + y^{3}}$"
      ],
      "text/plain": [
       "(x**2 + y**2)/(x**3 + y**3)"
      ]
     },
     "metadata": {},
     "output_type": "display_data"
    }
   ],
   "source": [
    "expr1 = x**2 + y**2\n",
    "expr2 = x**3 + y**3\n",
    "\n",
    "result_addition = sp.Add(expr1, expr2)\n",
    "result_substraction = sp.Add(expr1, -expr2)\n",
    "result_multiplication = sp.Mul(expr1, expr2)\n",
    "result_division = sp.Mul(expr1, 1/expr2)\n",
    "\n",
    "display(result_addition)\n",
    "display(result_substraction)\n",
    "display(result_multiplication)\n",
    "display(result_division)"
   ]
  },
  {
   "cell_type": "markdown",
   "id": "9c4875d3-1c29-4f31-a19b-a7b6b72ffa7b",
   "metadata": {},
   "source": [
    "## Substitution"
   ]
  },
  {
   "cell_type": "code",
   "execution_count": 61,
   "id": "149f9732-dbe3-431c-af8a-f35205ca571d",
   "metadata": {},
   "outputs": [
    {
     "data": {
      "text/latex": [
       "$\\displaystyle f{\\left(b + x \\right)}$"
      ],
      "text/plain": [
       "f(b + x)"
      ]
     },
     "metadata": {},
     "output_type": "display_data"
    },
    {
     "data": {
      "text/latex": [
       "$\\displaystyle \\cos{\\left(a^{2} - 200 \\right)} + 1$"
      ],
      "text/plain": [
       "cos(a**2 - 200) + 1"
      ]
     },
     "metadata": {},
     "output_type": "display_data"
    }
   ],
   "source": [
    "# Définition d'une  à une variable: f(x) \n",
    "_f = sp.Function('f')(x)\n",
    "# Création de l'fonction f(x + a)\n",
    "_foff = _f.subs(x, x + b)\n",
    "\n",
    "expr = sp.cos(x) + 1\n",
    "expr2 = expr.subs(x, 200-a**2)\n",
    "\n",
    "display(_foff)\n",
    "display(expr2 )"
   ]
  },
  {
   "cell_type": "markdown",
   "id": "b0627838-9193-40bd-bbf9-feb512e5dd4a",
   "metadata": {},
   "source": [
    "## Expand"
   ]
  },
  {
   "cell_type": "code",
   "execution_count": 62,
   "id": "41a336a1-8a42-4618-b418-fe3a63339b1c",
   "metadata": {},
   "outputs": [
    {
     "name": "stdout",
     "output_type": "stream",
     "text": [
      "fonction:\n"
     ]
    },
    {
     "data": {
      "text/latex": [
       "$\\displaystyle \\left(x + 2 y\\right)^{4}$"
      ],
      "text/plain": [
       "(x + 2*y)**4"
      ]
     },
     "metadata": {},
     "output_type": "display_data"
    },
    {
     "name": "stdout",
     "output_type": "stream",
     "text": [
      "fonction développée:\n"
     ]
    },
    {
     "data": {
      "text/latex": [
       "$\\displaystyle x^{4} + 8 x^{3} y + 24 x^{2} y^{2} + 32 x y^{3} + 16 y^{4}$"
      ],
      "text/plain": [
       "x**4 + 8*x**3*y + 24*x**2*y**2 + 32*x*y**3 + 16*y**4"
      ]
     },
     "metadata": {},
     "output_type": "display_data"
    }
   ],
   "source": [
    "# Définir une fonction\n",
    "expr = (x + 2*y)**4\n",
    "\n",
    "# Expansion de la fonction\n",
    "expr_expand = sp.expand(expr)\n",
    "\n",
    "# Affichage des résultats\n",
    "print(\"fonction:\")\n",
    "display(expr)\n",
    "print(\"fonction développée:\")\n",
    "display(expr_expand)\n"
   ]
  },
  {
   "cell_type": "markdown",
   "id": "7b686b0c-9b10-45af-93bc-2d589d1f3724",
   "metadata": {},
   "source": [
    "## Factor"
   ]
  },
  {
   "cell_type": "code",
   "execution_count": 63,
   "id": "ba92610a-4c74-48c9-8d08-0a8f552c8f5c",
   "metadata": {},
   "outputs": [
    {
     "name": "stdout",
     "output_type": "stream",
     "text": [
      "fonction:\n"
     ]
    },
    {
     "data": {
      "text/latex": [
       "$\\displaystyle 16 x^{4} + 96 x^{3} + 216 x^{2} + 216 x + 81$"
      ],
      "text/plain": [
       "16*x**4 + 96*x**3 + 216*x**2 + 216*x + 81"
      ]
     },
     "metadata": {},
     "output_type": "display_data"
    },
    {
     "name": "stdout",
     "output_type": "stream",
     "text": [
      "fonction factorisée:\n"
     ]
    },
    {
     "data": {
      "text/latex": [
       "$\\displaystyle \\left(2 x + 3\\right)^{4}$"
      ],
      "text/plain": [
       "(2*x + 3)**4"
      ]
     },
     "metadata": {},
     "output_type": "display_data"
    },
    {
     "name": "stdout",
     "output_type": "stream",
     "text": [
      "fonction factorisée:\n"
     ]
    },
    {
     "data": {
      "text/latex": [
       "$\\displaystyle \\left(2 x + 3\\right)^{4}$"
      ],
      "text/plain": [
       "(2*x + 3)**4"
      ]
     },
     "execution_count": 63,
     "metadata": {},
     "output_type": "execute_result"
    }
   ],
   "source": [
    "# Définir une fonction\n",
    "expr = 16*x**4 + 96*x**3 + 216*x**2 + 216*x + 81\n",
    "\n",
    "# Factorisation de fonction\n",
    "expr_factor = sp.factor(expr)\n",
    "\n",
    "# Affichage des résultats\n",
    "print(\"fonction:\")\n",
    "display(expr)\n",
    "print(\"fonction factorisée:\")\n",
    "display(expr_factor)\n",
    "\n",
    "# On obtient le même résultat avec une écriture plus simple:\n",
    "print(\"fonction factorisée:\")\n",
    "expr.factor()"
   ]
  },
  {
   "cell_type": "markdown",
   "id": "65ddf2f1-de7f-4420-bc9f-6de9f345c34c",
   "metadata": {},
   "source": [
    "## Evalf"
   ]
  },
  {
   "cell_type": "code",
   "execution_count": 54,
   "id": "6a1df033-fd12-473a-aaa6-3d8fcccb9d1c",
   "metadata": {},
   "outputs": [
    {
     "data": {
      "text/latex": [
       "$\\displaystyle 0.0874989834394464$"
      ],
      "text/plain": [
       "0.0874989834394464"
      ]
     },
     "execution_count": 54,
     "metadata": {},
     "output_type": "execute_result"
    }
   ],
   "source": [
    "expr = sp.cos(2*x)\n",
    "expr.evalf(subs={x: 2.4})"
   ]
  },
  {
   "cell_type": "code",
   "execution_count": null,
   "id": "3459284b-08b0-4c00-a428-eab2b152527e",
   "metadata": {},
   "outputs": [],
   "source": []
  },
  {
   "cell_type": "code",
   "execution_count": 4,
   "id": "8931e4a4",
   "metadata": {},
   "outputs": [
    {
     "data": {
      "text/plain": [
       "{-12/5 + 3*sqrt(6)/5 - 3*sqrt(12/25 - 11*sqrt(6)/50): 1,\n",
       " -3*sqrt(12/25 + 11*sqrt(6)/50) - 12/5 - 3*sqrt(6)/5: 1,\n",
       " -12/5 - 3*sqrt(6)/5 + 3*sqrt(12/25 + 11*sqrt(6)/50): 1,\n",
       " -12/5 + 3*sqrt(6)/5 + 3*sqrt(12/25 - 11*sqrt(6)/50): 1}"
      ]
     },
     "execution_count": 4,
     "metadata": {},
     "output_type": "execute_result"
    }
   ],
   "source": [
    "#\n",
    "polynomial_degre_4 = 10*x**4 + 96*x**3 + 216*x**2 + 216*x + 81\n",
    "# Calcul des racines du polynôme\n",
    "racines = sp.roots(polynomial_degre_4)\n",
    "racines"
   ]
  },
  {
   "cell_type": "code",
   "execution_count": 5,
   "id": "265a3187",
   "metadata": {},
   "outputs": [
    {
     "ename": "NameError",
     "evalue": "name 'Math' is not defined",
     "output_type": "error",
     "traceback": [
      "\u001b[0;31m---------------------------------------------------------------------------\u001b[0m",
      "\u001b[0;31mNameError\u001b[0m                                 Traceback (most recent call last)",
      "Cell \u001b[0;32mIn[5], line 6\u001b[0m\n\u001b[1;32m      1\u001b[0m \u001b[38;5;66;03m## Les fonctions\u001b[39;00m\n\u001b[1;32m      4\u001b[0m ggg \u001b[38;5;241m=\u001b[39m \u001b[38;5;124mr\u001b[39m\u001b[38;5;124m'\u001b[39m\u001b[38;5;124mf(a)=\u001b[39m\u001b[38;5;124m\\\u001b[39m\u001b[38;5;124mint_\u001b[39m\u001b[38;5;124m\\\u001b[39m\u001b[38;5;124minfty^0 \u001b[39m\u001b[38;5;124m\\\u001b[39m\u001b[38;5;124mfrac\u001b[39m\u001b[38;5;132;01m{1}\u001b[39;00m\u001b[38;5;124m{\u001b[39m\u001b[38;5;124ma+2} \u001b[39m\u001b[38;5;124m\\\u001b[39m\u001b[38;5;124mmathrm\u001b[39m\u001b[38;5;132;01m{d}\u001b[39;00m\u001b[38;5;124ma\u001b[39m\u001b[38;5;124m'\u001b[39m\n\u001b[0;32m----> 6\u001b[0m display(\u001b[43mMath\u001b[49m(ggg))\n",
      "\u001b[0;31mNameError\u001b[0m: name 'Math' is not defined"
     ]
    }
   ],
   "source": [
    "## Les s\n",
    "ggg = r'f(a)=\\int_\\infty^0 \\frac{1}{a+2} \\mathrm{d}a'\n",
    "\n",
    "display(Math(ggg))"
   ]
  },
  {
   "cell_type": "markdown",
   "id": "a62af8e6-063d-40f1-9ea4-ef5e06d88006",
   "metadata": {},
   "source": [
    "# Calcul différentiel et intégral"
   ]
  },
  {
   "cell_type": "code",
   "execution_count": null,
   "id": "fb7b484e",
   "metadata": {},
   "outputs": [],
   "source": [
    "# Calcul de la dérivée\n",
    "derivative_f1 = sp.diff(_f1, x)\n",
    "\n",
    "# Calcul de l'intégrale\n",
    "integral_f1 = sp.integrate(_f1, x)\n",
    "\n",
    "display(derivative_f1)\n",
    "display(integral_f1)"
   ]
  },
  {
   "cell_type": "code",
   "execution_count": null,
   "id": "af7352b3",
   "metadata": {
    "lines_to_next_cell": 2
   },
   "outputs": [],
   "source": [
    "import sympy as sp\n",
    "\n",
    "# Définition des symboles\n",
    "x, a, b = sp.symbols('x a b')\n",
    "\n",
    "# Définition de la  F(x)\n",
    "F = sp.Function('F')(x)\n",
    "\n",
    "# Définition de l'intégrale définie\n",
    "integral_eq = sp.Eq(sp.integrate(F.diff(x), (x, a, b)), F.subs(x, b) - F.subs(x, a))\n",
    "\n",
    "# Affichage de l'équation\n",
    "integral_eq"
   ]
  },
  {
   "cell_type": "code",
   "execution_count": null,
   "id": "f5374506",
   "metadata": {
    "lines_to_next_cell": 2
   },
   "outputs": [],
   "source": [
    "import sympy as sp\n",
    "\n",
    "# Définition des symboles\n",
    "x, y = sp.symbols('x y')\n",
    "\n",
    "# fonction à simplifier\n",
    "expr = (x**2 + 2*x + 1) / (x + 1)\n",
    "\n",
    "# Simplification de l'fonction\n",
    "simplified_expr = sp.simplify(expr)\n",
    "\n",
    "print(\"fonction simplifiée:\", simplified_expr)"
   ]
  },
  {
   "cell_type": "code",
   "execution_count": null,
   "id": "433aeb22",
   "metadata": {
    "lines_to_next_cell": 2
   },
   "outputs": [],
   "source": [
    "# Equation symbolique\n",
    "equation = sp.Eq(x**2 + 2*x, 0)\n",
    "\n",
    "# Résolution de l'équation\n",
    "solutions = sp.solve(equation, x)\n",
    "\n",
    "print(\"Solutions de l'équation:\", solutions)"
   ]
  },
  {
   "cell_type": "code",
   "execution_count": null,
   "id": "3eec0347",
   "metadata": {
    "lines_to_next_cell": 2
   },
   "outputs": [],
   "source": [
    "# Définition d'une  symbolique\n",
    "f = sp.Function('f')(x)\n",
    "\n",
    "# Calcul de la dérivée\n",
    "derivative = sp.diff(f, x)\n",
    "\n",
    "print(\"Dérivée de f par rapport à x:\", derivative)\n",
    "\n",
    "# Calcul de l'intégrale\n",
    "integral = sp.integrate(f, x)\n",
    "\n",
    "print(\"Intégrale de f par rapport à x:\", integral)"
   ]
  },
  {
   "cell_type": "code",
   "execution_count": null,
   "id": "d10f5ff3",
   "metadata": {
    "lines_to_next_cell": 2
   },
   "outputs": [],
   "source": [
    "# Simplification d'une fonction trigonométrique\n",
    "expr_trig = sp.sin(x)**2 + sp.cos(x)**2\n",
    "\n",
    "simplified_trig_expr = sp.simplify(expr_trig)\n",
    "\n",
    "print(\"fonction trigonométrique simplifiée:\", simplified_trig_expr)"
   ]
  },
  {
   "cell_type": "code",
   "execution_count": null,
   "id": "c50f49df-bf36-491f-a14f-767fd010701a",
   "metadata": {},
   "outputs": [],
   "source": []
  },
  {
   "cell_type": "code",
   "execution_count": null,
   "id": "5f97db8b-6a20-488f-a760-1621210a51cb",
   "metadata": {},
   "outputs": [],
   "source": []
  },
  {
   "cell_type": "code",
   "execution_count": null,
   "id": "9c08ec36-3756-4939-a72d-da7eec461de5",
   "metadata": {},
   "outputs": [],
   "source": []
  },
  {
   "cell_type": "code",
   "execution_count": null,
   "id": "bec219e0-b811-4467-bf3c-10b5ccdb950e",
   "metadata": {},
   "outputs": [],
   "source": []
  },
  {
   "cell_type": "code",
   "execution_count": null,
   "id": "491b1d1b-a37d-4a95-b64c-3877d36c3d20",
   "metadata": {},
   "outputs": [],
   "source": []
  },
  {
   "cell_type": "code",
   "execution_count": null,
   "id": "f69c288d-e795-4c0c-ba06-5fccdcbdf94f",
   "metadata": {},
   "outputs": [],
   "source": []
  },
  {
   "cell_type": "code",
   "execution_count": null,
   "id": "638d93b5-9d02-4584-b3a3-213c55cee90b",
   "metadata": {},
   "outputs": [],
   "source": []
  },
  {
   "cell_type": "code",
   "execution_count": null,
   "id": "e818384b",
   "metadata": {},
   "outputs": [],
   "source": [
    "expr = sp.cos(2*x)\n",
    "expr.evalf(subs={x: 2.4})"
   ]
  },
  {
   "cell_type": "code",
   "execution_count": null,
   "id": "95bdd8f4",
   "metadata": {
    "lines_to_next_cell": 2
   },
   "outputs": [],
   "source": [
    "import numpy as np\n",
    "from scipy.integrate import solve_ivp\n",
    "import matplotlib.pyplot as plt\n",
    "\n",
    "# Définir l'équation différentielle : dy/dt = -2y\n",
    "def model(t, y):\n",
    "    return -2 * y\n",
    "\n",
    "# Conditions initiales et intervalle de temps\n",
    "t_span = (0, 5)\n",
    "y0 = [1]\n",
    "\n",
    "# Résolution de l'EDO\n",
    "sol = solve_ivp(model, t_span, y0, t_eval=np.linspace(0, 5, 100))\n",
    "\n",
    "# Affichage du résultat\n",
    "plt.plot(sol.t, sol.y[0])\n",
    "plt.xlabel('Temps')\n",
    "plt.ylabel('y(t)')\n",
    "plt.title('Solution de l\\'équation différentielle')\n",
    "plt.grid(True)\n",
    "plt.show()"
   ]
  },
  {
   "cell_type": "code",
   "execution_count": null,
   "id": "a3e7e695",
   "metadata": {},
   "outputs": [],
   "source": [
    "print(sol)"
   ]
  },
  {
   "cell_type": "code",
   "execution_count": null,
   "id": "2431b12f",
   "metadata": {
    "lines_to_next_cell": 2
   },
   "outputs": [],
   "source": [
    "from scipy.interpolate import interp1d\n",
    "import numpy as np\n",
    "import matplotlib.pyplot as plt\n",
    "\n",
    "# Données initiales\n",
    "x = np.linspace(0, 10, 10)\n",
    "y = np.cos(x)\n",
    "\n",
    "# Interpolation linéaire\n",
    "f_linear = interp1d(x, y)\n",
    "x_new = np.linspace(0, 10, 100)\n",
    "y_new_linear = f_linear(x_new)\n",
    "\n",
    "# Interpolation cubique\n",
    "f_cubic = interp1d(x, y, kind='cubic')\n",
    "y_new_cubic = f_cubic(x_new)\n",
    "\n",
    "# Affichage des résultats\n",
    "plt.plot(x, y, 'o', label='Données initiales')\n",
    "plt.plot(x_new, y_new_linear, '-', label='Interpolation linéaire')\n",
    "plt.plot(x_new, y_new_cubic, '--', label='Interpolation cubique')\n",
    "plt.legend()\n",
    "plt.title('Interpolation de données')\n",
    "plt.xlabel('x')\n",
    "plt.ylabel('y')\n",
    "plt.grid(True)\n",
    "plt.show()"
   ]
  },
  {
   "cell_type": "code",
   "execution_count": null,
   "id": "fa394a81",
   "metadata": {
    "lines_to_next_cell": 2
   },
   "outputs": [],
   "source": [
    "import sympy as sp\n",
    "\n",
    "# Définition des symboles\n",
    "x, y = sp.symbols('x y')\n",
    "\n",
    "# fonction à simplifier\n",
    "expr = (x**2 + 2*x + 1) / (x + 1)\n",
    "\n",
    "# Simplification de l'fonction\n",
    "simplified_expr = sp.simplify(expr)\n",
    "\n",
    "# Affichage en LaTeX\n",
    "sp.latex(simplified_expr)"
   ]
  },
  {
   "cell_type": "code",
   "execution_count": null,
   "id": "1f8ff10d",
   "metadata": {
    "lines_to_next_cell": 2
   },
   "outputs": [],
   "source": [
    "# Définition d'une  symbolique\n",
    "f = sp.Function('f')(x)\n",
    "\n",
    "# Calcul de la dérivée\n",
    "derivative = sp.diff(f, x)\n",
    "\n",
    "# Affichage en LaTeX\n",
    "mip = sp.latex(derivative)\n",
    "\n",
    "from IPython.display import display, Math\n",
    "display(Math(mip))"
   ]
  },
  {
   "cell_type": "code",
   "execution_count": null,
   "id": "282e5843",
   "metadata": {},
   "outputs": [],
   "source": []
  },
  {
   "cell_type": "code",
   "execution_count": null,
   "id": "e002ca1f-498d-4883-8552-684c10bb57e6",
   "metadata": {},
   "outputs": [],
   "source": []
  }
 ],
 "metadata": {
  "kernelspec": {
   "display_name": "Python 3 (ipykernel)",
   "language": "python",
   "name": "python3"
  },
  "language_info": {
   "codemirror_mode": {
    "name": "ipython",
    "version": 3
   },
   "file_extension": ".py",
   "mimetype": "text/x-python",
   "name": "python",
   "nbconvert_exporter": "python",
   "pygments_lexer": "ipython3",
   "version": "3.12.0"
  }
 },
 "nbformat": 4,
 "nbformat_minor": 5
}
