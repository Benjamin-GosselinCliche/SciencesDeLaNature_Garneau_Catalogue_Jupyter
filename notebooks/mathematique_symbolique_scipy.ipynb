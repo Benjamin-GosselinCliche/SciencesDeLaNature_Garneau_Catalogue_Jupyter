{
 "cells": [
  {
   "cell_type": "markdown",
   "id": "34419965",
   "metadata": {},
   "source": [
    "# Démonstration Sympy\n",
    "---\n",
    "\n",
    "<div style=\"text-align: center;\">\n",
    "    <div style=\"display: inline-block; position: relative; width: 350px;\">\n",
    "        <img src=\"../img/_f260286f-3f4a-48cb-9dee-93d38a5b43d2.jpeg\" alt=\"Dessin\" style=\"width: 100%;\"/>\n",
    "        <p style=\"text-align: center; margin-top: 5px;\">\n",
    "            <span style=\"font-style: italic; font-size: 16px;\"> Sympy </span><br/>\n",
    "            <span style=\"font-style: italic; font-size: 12px;\">Image générée par DALL·E 3, 2024 </span>\n",
    "        </p>\n",
    "    </div>\n",
    "</div>"
   ]
  },
  {
   "cell_type": "markdown",
   "id": "e2fc5143",
   "metadata": {},
   "source": [
    "## Mise en contexte:\n",
    "\n",
    "SymPy est une bibliothèque Python pour les mathématiques symboliques. Contrairement aux calculs numériques, où les valeurs sont représentées par des nombres, les mathématiques symboliques manipulent des fonctions mathématiques de manière exacte, en conservant les symboles tels quels.\n",
    "\n",
    "Comme à l'habitude, nous importons d'abors la librairie:\n",
    "\n",
    "```python\n",
    "import sympy as sp \n",
    "```\n",
    "\n",
    "Les variables doivent être instanciées de la manière suivante:\n",
    "\n",
    "```python\n",
    "x, y, a, b = sp.symbols('x y a b')\n",
    "```\n",
    "\n",
    "Ici, les variables x, y, a et b seront donc traités symboliquement.\n",
    "\n",
    "## Référence:\n",
    "\n",
    "https://docs.sympy.org/latest/index.html\n"
   ]
  },
  {
   "cell_type": "markdown",
   "id": "b72522bb-5303-415e-9e38-a27c63e4070a",
   "metadata": {},
   "source": [
    "# Opérations de base"
   ]
  },
  {
   "cell_type": "markdown",
   "id": "8d96fb5c-9a80-40a9-bdeb-05335ac8e63f",
   "metadata": {},
   "source": [
    "## Déclaration des variables et des fonctions"
   ]
  },
  {
   "cell_type": "code",
   "execution_count": 1,
   "id": "8c4f4f49",
   "metadata": {},
   "outputs": [
    {
     "data": {
      "text/latex": [
       "$\\displaystyle x$"
      ],
      "text/plain": [
       "x"
      ]
     },
     "metadata": {},
     "output_type": "display_data"
    },
    {
     "data": {
      "text/latex": [
       "$\\displaystyle f_{1}{\\left(x \\right)}$"
      ],
      "text/plain": [
       "f1(x)"
      ]
     },
     "metadata": {},
     "output_type": "display_data"
    },
    {
     "data": {
      "text/latex": [
       "$\\displaystyle f_{1}{\\left(x \\right)}$"
      ],
      "text/plain": [
       "f1(x)"
      ]
     },
     "metadata": {},
     "output_type": "display_data"
    },
    {
     "data": {
      "text/latex": [
       "$\\displaystyle x^{2} + y^{2}$"
      ],
      "text/plain": [
       "x**2 + y**2"
      ]
     },
     "execution_count": 1,
     "metadata": {},
     "output_type": "execute_result"
    }
   ],
   "source": [
    "import sympy as sp\n",
    "# L'équivalent d'un print pour un affichage symbolique dans Jupyter est la  display de IPython.display\n",
    "from IPython.display import display\n",
    "\n",
    "# Définition des variables\n",
    "x, y, a, b = sp.symbols('x y a b')\n",
    "\n",
    "# Définition d'une  à une variable: f1(x) \n",
    "_f1 = sp.Function('f1')(x)\n",
    "\n",
    "# Définition d'une  à deux variable: f2(x, y) \n",
    "_f2 = sp.Function('f2')(x, y)\n",
    "\n",
    "# Définition d'une  à deux variable: f2(x, y) \n",
    "_f2 = sp.Function('f2')(x, y)\n",
    "\n",
    "# Définition d'une  algébrique de base:\n",
    "expr1 = x**2 + y**2\n",
    "\n",
    "display(x)\n",
    "display(_f1)\n",
    "display(_f1)\n",
    "\n",
    "#Le dernier élément d'une cellule n'a pas besoin d'un display\n",
    "expr1"
   ]
  },
  {
   "cell_type": "markdown",
   "id": "7667d634-c86a-4330-869c-2ee8140ddb7c",
   "metadata": {},
   "source": [
    "## Addition, soustraction, multiplication, division"
   ]
  },
  {
   "cell_type": "code",
   "execution_count": 2,
   "id": "ec36d204-e4b2-46ad-8bac-1883e730ae60",
   "metadata": {},
   "outputs": [
    {
     "data": {
      "text/latex": [
       "$\\displaystyle x^{3} + x^{2} + y^{3} + y^{2}$"
      ],
      "text/plain": [
       "x**3 + x**2 + y**3 + y**2"
      ]
     },
     "metadata": {},
     "output_type": "display_data"
    },
    {
     "data": {
      "text/latex": [
       "$\\displaystyle - x^{3} + x^{2} - y^{3} + y^{2}$"
      ],
      "text/plain": [
       "-x**3 + x**2 - y**3 + y**2"
      ]
     },
     "metadata": {},
     "output_type": "display_data"
    },
    {
     "data": {
      "text/latex": [
       "$\\displaystyle \\left(x^{2} + y^{2}\\right) \\left(x^{3} + y^{3}\\right)$"
      ],
      "text/plain": [
       "(x**2 + y**2)*(x**3 + y**3)"
      ]
     },
     "metadata": {},
     "output_type": "display_data"
    },
    {
     "data": {
      "text/latex": [
       "$\\displaystyle \\frac{x^{2} + y^{2}}{x^{3} + y^{3}}$"
      ],
      "text/plain": [
       "(x**2 + y**2)/(x**3 + y**3)"
      ]
     },
     "metadata": {},
     "output_type": "display_data"
    }
   ],
   "source": [
    "expr1 = x**2 + y**2\n",
    "expr2 = x**3 + y**3\n",
    "\n",
    "result_addition = sp.Add(expr1, expr2)\n",
    "result_substraction = sp.Add(expr1, -expr2)\n",
    "result_multiplication = sp.Mul(expr1, expr2)\n",
    "result_division = sp.Mul(expr1, 1/expr2)\n",
    "\n",
    "display(result_addition)\n",
    "display(result_substraction)\n",
    "display(result_multiplication)\n",
    "display(result_division)"
   ]
  },
  {
   "cell_type": "markdown",
   "id": "9c4875d3-1c29-4f31-a19b-a7b6b72ffa7b",
   "metadata": {},
   "source": [
    "## Substitution"
   ]
  },
  {
   "cell_type": "code",
   "execution_count": 3,
   "id": "149f9732-dbe3-431c-af8a-f35205ca571d",
   "metadata": {},
   "outputs": [
    {
     "data": {
      "text/latex": [
       "$\\displaystyle f{\\left(b + x \\right)}$"
      ],
      "text/plain": [
       "f(b + x)"
      ]
     },
     "metadata": {},
     "output_type": "display_data"
    },
    {
     "data": {
      "text/latex": [
       "$\\displaystyle \\cos{\\left(a^{2} - 200 \\right)} + 1$"
      ],
      "text/plain": [
       "cos(a**2 - 200) + 1"
      ]
     },
     "metadata": {},
     "output_type": "display_data"
    }
   ],
   "source": [
    "# Définition d'une  à une variable: f(x) \n",
    "_f = sp.Function('f')(x)\n",
    "# Création de l'fonction f(x + a)\n",
    "_foff = _f.subs(x, x + b)\n",
    "\n",
    "expr = sp.cos(x) + 1\n",
    "expr2 = expr.subs(x, 200-a**2)\n",
    "\n",
    "display(_foff)\n",
    "display(expr2 )"
   ]
  },
  {
   "cell_type": "markdown",
   "id": "b0627838-9193-40bd-bbf9-feb512e5dd4a",
   "metadata": {},
   "source": [
    "## Expand"
   ]
  },
  {
   "cell_type": "code",
   "execution_count": 4,
   "id": "41a336a1-8a42-4618-b418-fe3a63339b1c",
   "metadata": {},
   "outputs": [
    {
     "name": "stdout",
     "output_type": "stream",
     "text": [
      "fonction:\n"
     ]
    },
    {
     "data": {
      "text/latex": [
       "$\\displaystyle \\left(x + 2 y\\right)^{4}$"
      ],
      "text/plain": [
       "(x + 2*y)**4"
      ]
     },
     "metadata": {},
     "output_type": "display_data"
    },
    {
     "name": "stdout",
     "output_type": "stream",
     "text": [
      "fonction développée:\n"
     ]
    },
    {
     "data": {
      "text/latex": [
       "$\\displaystyle x^{4} + 8 x^{3} y + 24 x^{2} y^{2} + 32 x y^{3} + 16 y^{4}$"
      ],
      "text/plain": [
       "x**4 + 8*x**3*y + 24*x**2*y**2 + 32*x*y**3 + 16*y**4"
      ]
     },
     "metadata": {},
     "output_type": "display_data"
    }
   ],
   "source": [
    "# Définir une fonction\n",
    "expr = (x + 2*y)**4\n",
    "\n",
    "# Expansion de la fonction\n",
    "expr_expand = sp.expand(expr)\n",
    "\n",
    "# Affichage des résultats\n",
    "print(\"fonction:\")\n",
    "display(expr)\n",
    "print(\"fonction développée:\")\n",
    "display(expr_expand)\n"
   ]
  },
  {
   "cell_type": "markdown",
   "id": "7b686b0c-9b10-45af-93bc-2d589d1f3724",
   "metadata": {},
   "source": [
    "## Factor"
   ]
  },
  {
   "cell_type": "code",
   "execution_count": 5,
   "id": "ba92610a-4c74-48c9-8d08-0a8f552c8f5c",
   "metadata": {},
   "outputs": [
    {
     "name": "stdout",
     "output_type": "stream",
     "text": [
      "fonction:\n"
     ]
    },
    {
     "data": {
      "text/latex": [
       "$\\displaystyle 16 x^{4} + 96 x^{3} + 216 x^{2} + 216 x + 81$"
      ],
      "text/plain": [
       "16*x**4 + 96*x**3 + 216*x**2 + 216*x + 81"
      ]
     },
     "metadata": {},
     "output_type": "display_data"
    },
    {
     "name": "stdout",
     "output_type": "stream",
     "text": [
      "fonction factorisée:\n"
     ]
    },
    {
     "data": {
      "text/latex": [
       "$\\displaystyle \\left(2 x + 3\\right)^{4}$"
      ],
      "text/plain": [
       "(2*x + 3)**4"
      ]
     },
     "metadata": {},
     "output_type": "display_data"
    },
    {
     "name": "stdout",
     "output_type": "stream",
     "text": [
      "fonction factorisée:\n"
     ]
    },
    {
     "data": {
      "text/latex": [
       "$\\displaystyle \\left(2 x + 3\\right)^{4}$"
      ],
      "text/plain": [
       "(2*x + 3)**4"
      ]
     },
     "execution_count": 5,
     "metadata": {},
     "output_type": "execute_result"
    }
   ],
   "source": [
    "# Définir une fonction\n",
    "expr = 16*x**4 + 96*x**3 + 216*x**2 + 216*x + 81\n",
    "\n",
    "# Factorisation de fonction\n",
    "expr_factor = sp.factor(expr)\n",
    "\n",
    "# Affichage des résultats\n",
    "print(\"fonction:\")\n",
    "display(expr)\n",
    "print(\"fonction factorisée:\")\n",
    "display(expr_factor)\n",
    "\n",
    "# On obtient le même résultat avec une écriture plus simple:\n",
    "print(\"fonction factorisée:\")\n",
    "expr.factor()"
   ]
  },
  {
   "cell_type": "markdown",
   "id": "bde28226-4c6b-47f5-9bd6-04d117378e2a",
   "metadata": {},
   "source": [
    "## Simplify"
   ]
  },
  {
   "cell_type": "code",
   "execution_count": 33,
   "id": "806adaa0-b71e-41c2-823d-6d23c549621d",
   "metadata": {},
   "outputs": [
    {
     "name": "stdout",
     "output_type": "stream",
     "text": [
      "fonction :\n"
     ]
    },
    {
     "data": {
      "text/latex": [
       "$\\displaystyle \\frac{x^{2} + 2 x + 1}{x + 1}$"
      ],
      "text/plain": [
       "(x**2 + 2*x + 1)/(x + 1)"
      ]
     },
     "metadata": {},
     "output_type": "display_data"
    },
    {
     "name": "stdout",
     "output_type": "stream",
     "text": [
      "fonction simplifiée:\n"
     ]
    },
    {
     "data": {
      "text/latex": [
       "$\\displaystyle x + 1$"
      ],
      "text/plain": [
       "x + 1"
      ]
     },
     "metadata": {},
     "output_type": "display_data"
    }
   ],
   "source": [
    "# fonction à simplifier\n",
    "expr = (x**2 + 2*x + 1) / (x + 1)\n",
    "\n",
    "# Simplification de la fonction\n",
    "expr_simple = sp.simplify(expr)\n",
    "\n",
    "# On obtient le même résultat avec une écriture plus simple:\n",
    "print(\"fonction :\")\n",
    "display(expr)\n",
    "print(\"fonction simplifiée:\")\n",
    "display(expr_simple)"
   ]
  },
  {
   "cell_type": "markdown",
   "id": "b4dfa651-5bf7-4730-971e-d9653dc72d04",
   "metadata": {},
   "source": [
    "## Output avec Latex"
   ]
  },
  {
   "cell_type": "code",
   "execution_count": 128,
   "id": "3459284b-08b0-4c00-a428-eab2b152527e",
   "metadata": {},
   "outputs": [
    {
     "name": "stdout",
     "output_type": "stream",
     "text": [
      "--------------------------------------------------\n",
      "Exemple 1:\n",
      "\n",
      "Sympy form:\n"
     ]
    },
    {
     "data": {
      "text/latex": [
       "$\\displaystyle 16 x^{4} + 96 x^{3} + 216 x^{2} + 216 x + 81$"
      ],
      "text/plain": [
       "16*x**4 + 96*x**3 + 216*x**2 + 216*x + 81"
      ]
     },
     "metadata": {},
     "output_type": "display_data"
    },
    {
     "name": "stdout",
     "output_type": "stream",
     "text": [
      "Latex form:\n",
      "16 x^{4} + 96 x^{3} + 216 x^{2} + 216 x + 81\n",
      "--------------------------------------------------\n",
      "Exemple 2:\n",
      "\n",
      "Sympy form:\n"
     ]
    },
    {
     "data": {
      "text/latex": [
       "$\\displaystyle x + 2 y$"
      ],
      "text/plain": [
       "x + 2*y"
      ]
     },
     "metadata": {},
     "output_type": "display_data"
    },
    {
     "name": "stdout",
     "output_type": "stream",
     "text": [
      "Latex form:\n",
      "x + 2 y\n",
      "--------------------------------------------------\n",
      "Exemple 3:\n",
      "\n",
      "Sympy form:\n"
     ]
    },
    {
     "data": {
      "text/latex": [
       "$\\displaystyle x \\cos{\\left(x^{3} \\right)} + 2 y + \\frac{f{\\left(b + x \\right)}}{\\log{\\left(x y \\right)}}$"
      ],
      "text/plain": [
       "x*cos(x**3) + 2*y + f(b + x)/log(x*y)"
      ]
     },
     "metadata": {},
     "output_type": "display_data"
    },
    {
     "name": "stdout",
     "output_type": "stream",
     "text": [
      "Latex form:\n",
      "x \\cos{\\left(x^{3} \\right)} + 2 y + \\frac{f{\\left(b + x \\right)}}{\\log{\\left(x y \\right)}}\n"
     ]
    }
   ],
   "source": [
    "# Exemple 1:\n",
    "expr = 16*x**4 + 96*x**3 + 216*x**2 + 216*x + 81\n",
    "expr_in_latex = sp.latex(expr)\n",
    "\n",
    "print('-'*50+'\\n'+'Exemple 1:\\n')\n",
    "print('Sympy form:')\n",
    "display(expr)\n",
    "print('Latex form:')\n",
    "print(expr_in_latex)\n",
    "\n",
    "# Exemple 2:\n",
    "expr = 16*x**4 + 96*x**3 + 216*x**2 + 216*x + 81\n",
    "expr_in_latex = sp.latex(expr)\n",
    "\n",
    "expr = (x + 2*y)\n",
    "expr_in_latex = sp.latex(expr)\n",
    "print('-'*50+'\\n'+'Exemple 2:\\n')\n",
    "print('Sympy form:')\n",
    "display(expr)\n",
    "print('Latex form:')\n",
    "print(expr_in_latex)\n",
    "\n",
    "# Exemple 2:\n",
    "expr = 16*x**4 + 96*x**3 + 216*x**2 + 216*x + 81\n",
    "expr_in_latex = sp.latex(expr)\n",
    "\n",
    "expr = (x*sp.cos(x**3) + 2*y)+ _foff/sp.ln(x*y)\n",
    "expr_in_latex = sp.latex(expr)\n",
    "print('-'*50+'\\n'+'Exemple 3:\\n')\n",
    "print('Sympy form:')\n",
    "display(expr)\n",
    "print('Latex form:')\n",
    "print(expr_in_latex)"
   ]
  },
  {
   "cell_type": "code",
   "execution_count": null,
   "id": "8931e4a4",
   "metadata": {},
   "outputs": [],
   "source": []
  },
  {
   "cell_type": "code",
   "execution_count": null,
   "id": "7edb6dd3-330b-46d1-b6b5-f2fd69a68acf",
   "metadata": {},
   "outputs": [],
   "source": [
    "\n"
   ]
  },
  {
   "cell_type": "markdown",
   "id": "a62af8e6-063d-40f1-9ea4-ef5e06d88006",
   "metadata": {},
   "source": [
    "# Calcul différentiel et intégral"
   ]
  },
  {
   "cell_type": "markdown",
   "id": "f816a2eb-a586-4455-b16a-6aeacd9c068a",
   "metadata": {},
   "source": [
    "## fonction à une variable"
   ]
  },
  {
   "cell_type": "code",
   "execution_count": 106,
   "id": "fb7b484e",
   "metadata": {},
   "outputs": [
    {
     "data": {
      "text/latex": [
       "$\\displaystyle \\frac{d}{d x} f{\\left(x \\right)}$"
      ],
      "text/plain": [
       "Derivative(f(x), x)"
      ]
     },
     "metadata": {},
     "output_type": "display_data"
    },
    {
     "data": {
      "text/latex": [
       "$\\displaystyle \\int f{\\left(x \\right)}\\, dx$"
      ],
      "text/plain": [
       "Integral(f(x), x)"
      ]
     },
     "metadata": {},
     "output_type": "display_data"
    },
    {
     "data": {
      "text/latex": [
       "$\\displaystyle \\int\\limits_{a}^{b} f{\\left(x \\right)}\\, dx$"
      ],
      "text/plain": [
       "Integral(f(x), (x, a, b))"
      ]
     },
     "metadata": {},
     "output_type": "display_data"
    }
   ],
   "source": [
    "# Définition des variables et fonctions\n",
    "x, a, b= sp.symbols('x, a ,b')\n",
    "f = sp.Function('f')(x)\n",
    "\n",
    "# Calcul de la dérivée\n",
    "derivee_f = sp.diff(f, x)\n",
    "\n",
    "# Calcul de l'intégrale indéfinie\n",
    "integrale_f = sp.integrate(f, x)\n",
    "\n",
    "# Calcul de l'intégrale définie\n",
    "integrale_def_f = sp.integrate(f, (x,a,b))\n",
    "\n",
    "display(derivee_f)\n",
    "display(integrale_f)\n",
    "display(integrale_def_f)"
   ]
  },
  {
   "cell_type": "code",
   "execution_count": 109,
   "id": "6a9d31a2-c02f-4c62-9dcf-ddbf40ce67ca",
   "metadata": {},
   "outputs": [
    {
     "name": "stdout",
     "output_type": "stream",
     "text": [
      "--------------------------------------------------\n",
      "Fonction :\n"
     ]
    },
    {
     "data": {
      "text/latex": [
       "$\\displaystyle f{\\left(x \\right)} = \\sin{\\left(x \\right)} + \\frac{\\log{\\left(x^{2} \\right)}}{x^{2}}$"
      ],
      "text/plain": [
       "Eq(f(x), sin(x) + log(x**2)/x**2)"
      ]
     },
     "metadata": {},
     "output_type": "display_data"
    },
    {
     "name": "stdout",
     "output_type": "stream",
     "text": [
      "--------------------------------------------------\n",
      "Dérivée:\n"
     ]
    },
    {
     "data": {
      "text/latex": [
       "$\\displaystyle \\frac{d}{d x} f{\\left(x \\right)} = \\cos{\\left(x \\right)} - \\frac{2 \\log{\\left(x^{2} \\right)}}{x^{3}} + \\frac{2}{x^{3}}$"
      ],
      "text/plain": [
       "Eq(Derivative(f(x), x), cos(x) - 2*log(x**2)/x**3 + 2/x**3)"
      ]
     },
     "metadata": {},
     "output_type": "display_data"
    },
    {
     "name": "stdout",
     "output_type": "stream",
     "text": [
      "--------------------------------------------------\n",
      "Intégrale indéfinie:\n"
     ]
    },
    {
     "data": {
      "text/latex": [
       "$\\displaystyle \\int f{\\left(x \\right)}\\, dx = - \\cos{\\left(x \\right)} - \\frac{\\log{\\left(x^{2} \\right)}}{x} - \\frac{2}{x}$"
      ],
      "text/plain": [
       "Eq(Integral(f(x), x), -cos(x) - log(x**2)/x - 2/x)"
      ]
     },
     "metadata": {},
     "output_type": "display_data"
    },
    {
     "name": "stdout",
     "output_type": "stream",
     "text": [
      "--------------------------------------------------\n",
      "Intégrale définie sur [a,b]:\n"
     ]
    },
    {
     "data": {
      "text/latex": [
       "$\\displaystyle \\int\\limits_{a}^{b} f{\\left(x \\right)}\\, dx = \\cos{\\left(a \\right)} - \\cos{\\left(b \\right)} - \\frac{\\log{\\left(b^{2} \\right)}}{b} - \\frac{2}{b} + \\frac{\\log{\\left(a^{2} \\right)}}{a} + \\frac{2}{a}$"
      ],
      "text/plain": [
       "Eq(Integral(f(x), (x, a, b)), cos(a) - cos(b) - log(b**2)/b - 2/b + log(a**2)/a + 2/a)"
      ]
     },
     "metadata": {},
     "output_type": "display_data"
    },
    {
     "name": "stdout",
     "output_type": "stream",
     "text": [
      "--------------------------------------------------\n",
      "Intégrale définie sur [2,4]:\n"
     ]
    },
    {
     "data": {
      "text/latex": [
       "$\\displaystyle \\int\\limits_{2}^{4} f{\\left(x \\right)}\\, dx = - \\frac{\\log{\\left(16 \\right)}}{4} + \\cos{\\left(2 \\right)} + \\frac{1}{2} - \\cos{\\left(4 \\right)} + \\frac{\\log{\\left(4 \\right)}}{2}$"
      ],
      "text/plain": [
       "Eq(Integral(f(x), (x, 2, 4)), -log(16)/4 + cos(2) + 1/2 - cos(4) + log(4)/2)"
      ]
     },
     "metadata": {},
     "output_type": "display_data"
    },
    {
     "name": "stdout",
     "output_type": "stream",
     "text": [
      "--------------------------------------------------\n",
      "Intégrale définie sur [1,oo]:\n"
     ]
    },
    {
     "data": {
      "text/latex": [
       "$\\displaystyle \\int\\limits_{1}^{\\infty} f{\\left(x \\right)}\\, dx = -\\infty$"
      ],
      "text/plain": [
       "Eq(Integral(f(x), (x, 1, oo)), -oo)"
      ]
     },
     "metadata": {},
     "output_type": "display_data"
    }
   ],
   "source": [
    "# Fonction:\n",
    "expr = sp.sin(x) + sp.ln(x**2) / (x**2)\n",
    "\n",
    "# Dérivée \n",
    "derivee_expr = sp.diff(expr, x)\n",
    "# Intégrale indéfinie\n",
    "integrale_expr = sp.integrate(expr, x)\n",
    "# Intégrale définie\n",
    "integrale_def1_expr = sp.integrate(expr, (x, a, b))\n",
    "# Intégrale définie\n",
    "integrale_def2_expr = sp.integrate(expr, (x, 2, 4))\n",
    "# Intégrale définie\n",
    "integrale_def3_expr = sp.integrate(expr, (x, 0, sp.oo))\n",
    "\n",
    "print('-'*50+'\\n'+\"Fonction :\")\n",
    "display(sp.Eq(f,expr))\n",
    "print('-'*50+'\\n'+\"Dérivée:\")\n",
    "display(sp.Eq(f.diff(x),derivee_expr))\n",
    "print('-'*50+'\\n'+\"Intégrale indéfinie:\")\n",
    "display(sp.Eq(f.integrate(x),integrale_expr))\n",
    "print('-'*50+'\\n'+\"Intégrale définie sur [a,b]:\")\n",
    "display(sp.Eq(f.integrate((x, a, b)),integrale_def1_expr))\n",
    "print('-'*50+'\\n'+\"Intégrale définie sur [2,4]:\")\n",
    "display(sp.Eq(f.integrate((x, 2, 4)),integrale_def2_expr))\n",
    "print('-'*50+'\\n'+\"Intégrale définie sur [1,oo]:\")\n",
    "display(sp.Eq(f.integrate((x, 1, sp.oo)),integrale_def3_expr))"
   ]
  },
  {
   "cell_type": "markdown",
   "id": "4604480c-92fa-4631-8ba1-a416741e28ef",
   "metadata": {},
   "source": [
    "## Théorème fondamental de l'analyse"
   ]
  },
  {
   "cell_type": "code",
   "execution_count": 111,
   "id": "af7352b3",
   "metadata": {
    "lines_to_next_cell": 2
   },
   "outputs": [
    {
     "data": {
      "text/latex": [
       "$\\displaystyle \\int\\limits_{a}^{b} f{\\left(x \\right)}\\, dx = - F{\\left(a \\right)} + F{\\left(b \\right)}$"
      ],
      "text/plain": [
       "Eq(Integral(f(x), (x, a, b)), -F(a) + F(b))"
      ]
     },
     "execution_count": 111,
     "metadata": {},
     "output_type": "execute_result"
    }
   ],
   "source": [
    "F = sp.Function('F')(x)\n",
    "integral_eq = sp.Eq(sp.integrate(f, (x, a, b)), F.subs(x, b) - F.subs(x, a))\n",
    "integral_eq"
   ]
  },
  {
   "cell_type": "markdown",
   "id": "38dd53a6-d8d2-4730-8d19-ed68a56028a6",
   "metadata": {},
   "source": [
    "## fonction à plusieurs variables"
   ]
  },
  {
   "cell_type": "code",
   "execution_count": 127,
   "id": "f5374506",
   "metadata": {
    "lines_to_next_cell": 2
   },
   "outputs": [
    {
     "name": "stdout",
     "output_type": "stream",
     "text": [
      "--------------------------------------------------\n",
      "fonction :\n"
     ]
    },
    {
     "data": {
      "text/latex": [
       "$\\displaystyle f{\\left(x,y,z \\right)} = \\sin{\\left(x \\right)} + \\frac{e^{z^{2}}}{x^{2} + y^{2}}$"
      ],
      "text/plain": [
       "Eq(f(x, y, z), sin(x) + exp(z**2)/(x**2 + y**2))"
      ]
     },
     "metadata": {},
     "output_type": "display_data"
    },
    {
     "name": "stdout",
     "output_type": "stream",
     "text": [
      "--------------------------------------------------\n",
      "Dérivée partielle:\n"
     ]
    },
    {
     "data": {
      "text/latex": [
       "$\\displaystyle \\frac{\\partial}{\\partial x} f{\\left(x,y,z \\right)} = - \\frac{2 x e^{z^{2}}}{\\left(x^{2} + y^{2}\\right)^{2}} + \\cos{\\left(x \\right)}$"
      ],
      "text/plain": [
       "Eq(Derivative(f(x, y, z), x), -2*x*exp(z**2)/(x**2 + y**2)**2 + cos(x))"
      ]
     },
     "metadata": {},
     "output_type": "display_data"
    },
    {
     "name": "stdout",
     "output_type": "stream",
     "text": [
      "--------------------------------------------------\n",
      "Dérivée partielle:\n"
     ]
    },
    {
     "data": {
      "text/latex": [
       "$\\displaystyle \\frac{\\partial}{\\partial y} f{\\left(x,y,z \\right)} = - \\frac{2 y e^{z^{2}}}{\\left(x^{2} + y^{2}\\right)^{2}}$"
      ],
      "text/plain": [
       "Eq(Derivative(f(x, y, z), y), -2*y*exp(z**2)/(x**2 + y**2)**2)"
      ]
     },
     "metadata": {},
     "output_type": "display_data"
    },
    {
     "name": "stdout",
     "output_type": "stream",
     "text": [
      "--------------------------------------------------\n",
      "Dérivée partielle:\n"
     ]
    },
    {
     "data": {
      "text/latex": [
       "$\\displaystyle \\frac{\\partial}{\\partial z} f{\\left(x,y,z \\right)} = \\frac{2 z e^{z^{2}}}{x^{2} + y^{2}}$"
      ],
      "text/plain": [
       "Eq(Derivative(f(x, y, z), z), 2*z*exp(z**2)/(x**2 + y**2))"
      ]
     },
     "metadata": {},
     "output_type": "display_data"
    },
    {
     "name": "stdout",
     "output_type": "stream",
     "text": [
      "--------------------------------------------------\n",
      "Dérivée partielle:\n"
     ]
    },
    {
     "data": {
      "text/latex": [
       "$\\displaystyle \\frac{\\partial^{2}}{\\partial y\\partial x} f{\\left(x,y,z \\right)} = \\frac{8 x y e^{z^{2}}}{\\left(x^{2} + y^{2}\\right)^{3}}$"
      ],
      "text/plain": [
       "Eq(Derivative(f(x, y, z), x, y), 8*x*y*exp(z**2)/(x**2 + y**2)**3)"
      ]
     },
     "metadata": {},
     "output_type": "display_data"
    },
    {
     "name": "stdout",
     "output_type": "stream",
     "text": [
      "--------------------------------------------------\n",
      "Dérivée partielle:\n"
     ]
    },
    {
     "data": {
      "text/latex": [
       "$\\displaystyle \\frac{\\partial^{2}}{\\partial z\\partial y} f{\\left(x,y,z \\right)} = - \\frac{4 y z e^{z^{2}}}{\\left(x^{2} + y^{2}\\right)^{2}}$"
      ],
      "text/plain": [
       "Eq(Derivative(f(x, y, z), y, z), -4*y*z*exp(z**2)/(x**2 + y**2)**2)"
      ]
     },
     "metadata": {},
     "output_type": "display_data"
    },
    {
     "name": "stdout",
     "output_type": "stream",
     "text": [
      "--------------------------------------------------\n",
      "Dérivée partielle:\n"
     ]
    },
    {
     "data": {
      "text/latex": [
       "$\\displaystyle \\frac{\\partial^{2}}{\\partial z\\partial x} f{\\left(x,y,z \\right)} = - \\frac{4 x z e^{z^{2}}}{\\left(x^{2} + y^{2}\\right)^{2}}$"
      ],
      "text/plain": [
       "Eq(Derivative(f(x, y, z), x, z), -4*x*z*exp(z**2)/(x**2 + y**2)**2)"
      ]
     },
     "metadata": {},
     "output_type": "display_data"
    },
    {
     "name": "stdout",
     "output_type": "stream",
     "text": [
      "--------------------------------------------------\n",
      "Dérivée partielle:\n"
     ]
    },
    {
     "data": {
      "text/latex": [
       "$\\displaystyle \\frac{\\partial^{3}}{\\partial z\\partial y\\partial x} f{\\left(x,y,z \\right)} = \\frac{16 x y z e^{z^{2}}}{\\left(x^{2} + y^{2}\\right)^{3}}$"
      ],
      "text/plain": [
       "Eq(Derivative(f(x, y, z), x, y, z), 16*x*y*z*exp(z**2)/(x**2 + y**2)**3)"
      ]
     },
     "metadata": {},
     "output_type": "display_data"
    },
    {
     "name": "stdout",
     "output_type": "stream",
     "text": [
      "--------------------------------------------------\n",
      "Integrale:\n"
     ]
    },
    {
     "data": {
      "text/latex": [
       "$\\displaystyle \\int f{\\left(x,y,z \\right)}\\, dx = - \\cos{\\left(x \\right)} + \\frac{\\left(- \\frac{i \\log{\\left(x - i y \\right)}}{2} + \\frac{i \\log{\\left(x + i y \\right)}}{2}\\right) e^{z^{2}}}{y}$"
      ],
      "text/plain": [
       "Eq(Integral(f(x, y, z), x), -cos(x) + (-I*log(x - I*y)/2 + I*log(x + I*y)/2)*exp(z**2)/y)"
      ]
     },
     "metadata": {},
     "output_type": "display_data"
    },
    {
     "name": "stdout",
     "output_type": "stream",
     "text": [
      "--------------------------------------------------\n",
      "Integrale:\n"
     ]
    },
    {
     "data": {
      "text/latex": [
       "$\\displaystyle \\int f{\\left(x,y,z \\right)}\\, dy = y \\sin{\\left(x \\right)} + \\frac{\\left(- \\frac{i \\log{\\left(- i x + y \\right)}}{2} + \\frac{i \\log{\\left(i x + y \\right)}}{2}\\right) e^{z^{2}}}{x}$"
      ],
      "text/plain": [
       "Eq(Integral(f(x, y, z), y), y*sin(x) + (-I*log(-I*x + y)/2 + I*log(I*x + y)/2)*exp(z**2)/x)"
      ]
     },
     "metadata": {},
     "output_type": "display_data"
    },
    {
     "name": "stdout",
     "output_type": "stream",
     "text": [
      "--------------------------------------------------\n",
      "Integrale:\n"
     ]
    },
    {
     "data": {
      "text/latex": [
       "$\\displaystyle \\int f{\\left(x,y,z \\right)}\\, dz = z \\sin{\\left(x \\right)} + \\frac{\\sqrt{\\pi} \\operatorname{erfi}{\\left(z \\right)}}{2 \\left(x^{2} + y^{2}\\right)}$"
      ],
      "text/plain": [
       "Eq(Integral(f(x, y, z), z), z*sin(x) + sqrt(pi)*erfi(z)/(2*(x**2 + y**2)))"
      ]
     },
     "metadata": {},
     "output_type": "display_data"
    },
    {
     "name": "stdout",
     "output_type": "stream",
     "text": [
      "--------------------------------------------------\n",
      "Integrale:\n"
     ]
    },
    {
     "data": {
      "text/latex": [
       "$\\displaystyle \\iint f{\\left(x,y,z \\right)}\\, dx\\, dy = - \\frac{\\int \\frac{i e^{z^{2}} \\log{\\left(x - i y \\right)}}{y}\\, dy + \\int \\left(- \\frac{i e^{z^{2}} \\log{\\left(x + i y \\right)}}{y}\\right)\\, dy + \\int 2 \\cos{\\left(x \\right)}\\, dy}{2}$"
      ],
      "text/plain": [
       "Eq(Integral(f(x, y, z), x, y), -(Integral(I*exp(z**2)*log(x - I*y)/y, y) + Integral(-I*exp(z**2)*log(x + I*y)/y, y) + Integral(2*cos(x), y))/2)"
      ]
     },
     "metadata": {},
     "output_type": "display_data"
    },
    {
     "name": "stdout",
     "output_type": "stream",
     "text": [
      "--------------------------------------------------\n",
      "Integrale:\n"
     ]
    },
    {
     "data": {
      "text/latex": [
       "$\\displaystyle \\iint f{\\left(x,y,z \\right)}\\, dy\\, dz = y z \\sin{\\left(x \\right)} + \\frac{\\sqrt{\\pi} \\left(- \\frac{i \\log{\\left(- i x + y \\right)}}{2} + \\frac{i \\log{\\left(i x + y \\right)}}{2}\\right) \\operatorname{erfi}{\\left(z \\right)}}{2 x}$"
      ],
      "text/plain": [
       "Eq(Integral(f(x, y, z), y, z), y*z*sin(x) + sqrt(pi)*(-I*log(-I*x + y)/2 + I*log(I*x + y)/2)*erfi(z)/(2*x))"
      ]
     },
     "metadata": {},
     "output_type": "display_data"
    },
    {
     "name": "stdout",
     "output_type": "stream",
     "text": [
      "--------------------------------------------------\n",
      "Integrale:\n"
     ]
    },
    {
     "data": {
      "text/latex": [
       "$\\displaystyle \\iint f{\\left(x,y,z \\right)}\\, dz\\, dx = - z \\cos{\\left(x \\right)} + \\frac{\\sqrt{\\pi} \\left(- \\frac{i \\log{\\left(x - i y \\right)}}{2} + \\frac{i \\log{\\left(x + i y \\right)}}{2}\\right) \\operatorname{erfi}{\\left(z \\right)}}{2 y}$"
      ],
      "text/plain": [
       "Eq(Integral(f(x, y, z), z, x), -z*cos(x) + sqrt(pi)*(-I*log(x - I*y)/2 + I*log(x + I*y)/2)*erfi(z)/(2*y))"
      ]
     },
     "metadata": {},
     "output_type": "display_data"
    },
    {
     "name": "stdout",
     "output_type": "stream",
     "text": [
      "--------------------------------------------------\n",
      "Integrale:\n"
     ]
    },
    {
     "data": {
      "text/latex": [
       "$\\displaystyle \\iiint f{\\left(x,y,z \\right)}\\, dx\\, dy\\, dz = \\begin{cases} - y z \\cos{\\left(x \\right)} + \\frac{i \\sqrt{\\pi} \\operatorname{erfi}{\\left(z \\right)} \\operatorname{Li}_{2}\\left(\\frac{y e^{\\frac{i \\pi}{2}}}{x}\\right)}{4} - \\frac{i \\sqrt{\\pi} \\operatorname{erfi}{\\left(z \\right)} \\operatorname{Li}_{2}\\left(\\frac{y e^{\\frac{3 i \\pi}{2}}}{x}\\right)}{4} & \\text{for}\\: \\left(\\left(y > -\\infty \\wedge y < -1\\right) \\vee \\left(y > 1 \\wedge y < \\infty\\right)\\right) \\wedge y > -1 \\wedge y < 1 \\\\- y z \\cos{\\left(x \\right)} - \\frac{i \\sqrt{\\pi} \\left(\\log{\\left(x \\right)} \\log{\\left(y \\right)} - \\operatorname{Li}_{2}\\left(\\frac{y e^{\\frac{i \\pi}{2}}}{x}\\right)\\right) \\operatorname{erfi}{\\left(z \\right)}}{4} + \\frac{i \\sqrt{\\pi} \\left(\\log{\\left(x \\right)} \\log{\\left(y \\right)} - \\operatorname{Li}_{2}\\left(\\frac{y e^{\\frac{3 i \\pi}{2}}}{x}\\right)\\right) \\operatorname{erfi}{\\left(z \\right)}}{4} & \\text{for}\\: y > -1 \\wedge y < 1 \\\\- y z \\cos{\\left(x \\right)} - \\frac{i \\sqrt{\\pi} \\left(- \\log{\\left(x \\right)} \\log{\\left(\\frac{1}{y} \\right)} - \\operatorname{Li}_{2}\\left(\\frac{y e^{\\frac{i \\pi}{2}}}{x}\\right)\\right) \\operatorname{erfi}{\\left(z \\right)}}{4} + \\frac{i \\sqrt{\\pi} \\left(- \\log{\\left(x \\right)} \\log{\\left(\\frac{1}{y} \\right)} - \\operatorname{Li}_{2}\\left(\\frac{y e^{\\frac{3 i \\pi}{2}}}{x}\\right)\\right) \\operatorname{erfi}{\\left(z \\right)}}{4} & \\text{for}\\: \\left(y > -\\infty \\wedge y < -1\\right) \\vee \\left(y > 1 \\wedge y < \\infty\\right) \\\\- y z \\cos{\\left(x \\right)} - \\frac{i \\sqrt{\\pi} \\left(- {G_{2, 2}^{2, 0}\\left(\\begin{matrix}  & 1, 1 \\\\0, 0 &  \\end{matrix} \\middle| {y} \\right)} \\log{\\left(x \\right)} + {G_{2, 2}^{0, 2}\\left(\\begin{matrix} 1, 1 &  \\\\ & 0, 0 \\end{matrix} \\middle| {y} \\right)} \\log{\\left(x \\right)} - \\operatorname{Li}_{2}\\left(\\frac{y e^{\\frac{i \\pi}{2}}}{x}\\right)\\right) \\operatorname{erfi}{\\left(z \\right)}}{4} + \\frac{i \\sqrt{\\pi} \\left(- {G_{2, 2}^{2, 0}\\left(\\begin{matrix}  & 1, 1 \\\\0, 0 &  \\end{matrix} \\middle| {y} \\right)} \\log{\\left(x \\right)} + {G_{2, 2}^{0, 2}\\left(\\begin{matrix} 1, 1 &  \\\\ & 0, 0 \\end{matrix} \\middle| {y} \\right)} \\log{\\left(x \\right)} - \\operatorname{Li}_{2}\\left(\\frac{y e^{\\frac{3 i \\pi}{2}}}{x}\\right)\\right) \\operatorname{erfi}{\\left(z \\right)}}{4} & \\text{otherwise} \\end{cases}$"
      ],
      "text/plain": [
       "Eq(Integral(f(x, y, z), x, y, z), Piecewise((-y*z*cos(x) + I*sqrt(pi)*erfi(z)*polylog(2, y*exp_polar(I*pi/2)/x)/4 - I*sqrt(pi)*erfi(z)*polylog(2, y*exp_polar(3*I*pi/2)/x)/4, (y > -1) & (y < 1) & (((y > -oo) & (y < -1)) | ((y > 1) & (y < oo)))), (-y*z*cos(x) - I*sqrt(pi)*(log(x)*log(y) - polylog(2, y*exp_polar(I*pi/2)/x))*erfi(z)/4 + I*sqrt(pi)*(log(x)*log(y) - polylog(2, y*exp_polar(3*I*pi/2)/x))*erfi(z)/4, (y > -1) & (y < 1)), (-y*z*cos(x) - I*sqrt(pi)*(-log(x)*log(1/y) - polylog(2, y*exp_polar(I*pi/2)/x))*erfi(z)/4 + I*sqrt(pi)*(-log(x)*log(1/y) - polylog(2, y*exp_polar(3*I*pi/2)/x))*erfi(z)/4, ((y > -oo) & (y < -1)) | ((y > 1) & (y < oo))), (-y*z*cos(x) - I*sqrt(pi)*(-meijerg(((), (1, 1)), ((0, 0), ()), y)*log(x) + meijerg(((1, 1), ()), ((), (0, 0)), y)*log(x) - polylog(2, y*exp_polar(I*pi/2)/x))*erfi(z)/4 + I*sqrt(pi)*(-meijerg(((), (1, 1)), ((0, 0), ()), y)*log(x) + meijerg(((1, 1), ()), ((), (0, 0)), y)*log(x) - polylog(2, y*exp_polar(3*I*pi/2)/x))*erfi(z)/4, True)))"
      ]
     },
     "metadata": {},
     "output_type": "display_data"
    }
   ],
   "source": [
    "# Définition des variables et fonctions\n",
    "x, y, z = sp.symbols('x y z')\n",
    "f = sp.Function('f')(x,y,z)\n",
    "\n",
    "# Fonction:\n",
    "expr = sp.sin(x) + sp.exp(z**2) / (x**2 + y**2)\n",
    "\n",
    "# Dérivée partielle\n",
    "expr_derivee_x = sp.diff(expr, x)\n",
    "expr_derivee_y = sp.diff(expr, y)\n",
    "expr_derivee_z = sp.diff(expr, z)\n",
    "expr_derivee_xy = sp.diff(expr, x, y)\n",
    "expr_derivee_yz = sp.diff(expr, y, z)\n",
    "expr_derivee_zx = sp.diff(expr, z, x)\n",
    "expr_derivee_xyz = sp.diff(expr, x, y, z)\n",
    "\n",
    "# Integrale:\n",
    "expr_integrale_x = sp.integrate(expr, x)\n",
    "expr_integrale_y = sp.integrate(expr, y)\n",
    "expr_integrale_z = sp.integrate(expr, z)\n",
    "expr_integrale_xy = sp.integrate(expr, x,y)\n",
    "expr_integrale_yz = sp.integrate(expr, y,z)\n",
    "expr_integrale_zx = sp.integrate(expr, z,x)\n",
    "expr_integrale_xyz = sp.integrate(expr, x, y, z)\n",
    "\n",
    "print('-'*50+'\\n'+\"fonction :\")\n",
    "display(sp.Eq(f,expr))\n",
    "print('-'*50+'\\n'+\"Dérivée partielle:\")\n",
    "display(sp.Eq(f.diff(x),expr_derivee_x))\n",
    "print('-'*50+'\\n'+\"Dérivée partielle:\")\n",
    "display(sp.Eq(f.diff(y),expr_derivee_y))\n",
    "print('-'*50+'\\n'+\"Dérivée partielle:\")\n",
    "display(sp.Eq(f.diff(z),expr_derivee_z))\n",
    "print('-'*50+'\\n'+\"Dérivée partielle:\")\n",
    "display(sp.Eq(f.diff(x,y),expr_derivee_xy))\n",
    "print('-'*50+'\\n'+\"Dérivée partielle:\")\n",
    "display(sp.Eq(f.diff(y,z),expr_derivee_yz))\n",
    "print('-'*50+'\\n'+\"Dérivée partielle:\")\n",
    "display(sp.Eq(f.diff(z,x),expr_derivee_zx))\n",
    "print('-'*50+'\\n'+\"Dérivée partielle:\")\n",
    "display(sp.Eq(f.diff(x,y,z),expr_derivee_xyz))\n",
    "\n",
    "print('-'*50+'\\n'+\"Integrale:\")\n",
    "display(sp.Eq(f.integrate(x),expr_integrale_x))\n",
    "print('-'*50+'\\n'+\"Integrale:\")\n",
    "display(sp.Eq(f.integrate(y),expr_integrale_y))\n",
    "print('-'*50+'\\n'+\"Integrale:\")\n",
    "display(sp.Eq(f.integrate(z),expr_integrale_z))\n",
    "print('-'*50+'\\n'+\"Integrale:\")\n",
    "display(sp.Eq(f.integrate(x,y),expr_integrale_xy))\n",
    "print('-'*50+'\\n'+\"Integrale:\")\n",
    "display(sp.Eq(f.integrate(y,z),expr_integrale_yz))\n",
    "print('-'*50+'\\n'+\"Integrale:\")\n",
    "display(sp.Eq(f.integrate(z,x),expr_integrale_zx))\n",
    "print('-'*50+'\\n'+\"Integrale:\")\n",
    "display(sp.Eq(f.integrate(x,y,z),expr_integrale_xyz))\n"
   ]
  },
  {
   "cell_type": "code",
   "execution_count": null,
   "id": "433aeb22",
   "metadata": {
    "lines_to_next_cell": 2
   },
   "outputs": [],
   "source": [
    "# Equation symbolique\n",
    "equation = sp.Eq(x**2 + 2*x, 0)\n",
    "\n",
    "# Résolution de l'équation\n",
    "solutions = sp.solve(equation, x)\n",
    "\n",
    "print(\"Solutions de l'équation:\", solutions)"
   ]
  },
  {
   "cell_type": "code",
   "execution_count": null,
   "id": "3eec0347",
   "metadata": {
    "lines_to_next_cell": 2
   },
   "outputs": [],
   "source": []
  },
  {
   "cell_type": "code",
   "execution_count": null,
   "id": "d10f5ff3",
   "metadata": {
    "lines_to_next_cell": 2
   },
   "outputs": [],
   "source": [
    "# Simplification d'une fonction trigonométrique\n",
    "expr_trig = sp.sin(x)**2 + sp.cos(x)**2\n",
    "\n",
    "simplified_trig_expr = sp.simplify(expr_trig)\n",
    "\n",
    "print(\"fonction trigonométrique simplifiée:\", simplified_trig_expr)"
   ]
  },
  {
   "cell_type": "code",
   "execution_count": null,
   "id": "c50f49df-bf36-491f-a14f-767fd010701a",
   "metadata": {},
   "outputs": [],
   "source": []
  },
  {
   "cell_type": "code",
   "execution_count": null,
   "id": "5f97db8b-6a20-488f-a760-1621210a51cb",
   "metadata": {},
   "outputs": [],
   "source": []
  },
  {
   "cell_type": "code",
   "execution_count": null,
   "id": "9c08ec36-3756-4939-a72d-da7eec461de5",
   "metadata": {},
   "outputs": [],
   "source": []
  },
  {
   "cell_type": "code",
   "execution_count": null,
   "id": "bec219e0-b811-4467-bf3c-10b5ccdb950e",
   "metadata": {},
   "outputs": [],
   "source": []
  },
  {
   "cell_type": "code",
   "execution_count": null,
   "id": "491b1d1b-a37d-4a95-b64c-3877d36c3d20",
   "metadata": {},
   "outputs": [],
   "source": []
  },
  {
   "cell_type": "code",
   "execution_count": null,
   "id": "f69c288d-e795-4c0c-ba06-5fccdcbdf94f",
   "metadata": {},
   "outputs": [],
   "source": [
    "#\n",
    "polynomial_degre_4 = 10*x**4 + 96*x**3 + 216*x**2 + 216*x + 81\n",
    "# Calcul des racines du polynôme\n",
    "racines = sp.roots(polynomial_degre_4)\n",
    "racines"
   ]
  },
  {
   "cell_type": "code",
   "execution_count": null,
   "id": "638d93b5-9d02-4584-b3a3-213c55cee90b",
   "metadata": {},
   "outputs": [],
   "source": [
    "# Définition des variables\n",
    "x, y = sp.symbols('x y')\n",
    "\n",
    "# Equation à résoudre\n",
    "equation1 = x**2 - 4\n",
    "equation2 = y - x\n",
    "\n",
    "# Résolution d'un système d'équations\n",
    "solution_system = sp.solve((equation1, equation2), (x, y))\n",
    "print(\"Solution du système d'équations :\", solution_system)\n",
    "\n",
    "# Résolution d'une équation\n",
    "solution_equation = sp.solveset(x**2 - 4, x)\n",
    "print(\"Solution de l'équation :\", solution_equation)\n",
    "\n",
    "# Résolution d'un système linéaire\n",
    "system = [x + y - 1, 2*x - y - 3]\n",
    "solution_linsolve = sp.linsolve(system, x, y)\n",
    "print(\"Solution du système linéaire :\", solution_linsolve)\n",
    "display(solution_linsolve)"
   ]
  },
  {
   "cell_type": "code",
   "execution_count": null,
   "id": "e818384b",
   "metadata": {},
   "outputs": [],
   "source": [
    "expr = sp.cos(2*x)\n",
    "expr.evalf(subs={x: 2.4})"
   ]
  },
  {
   "cell_type": "code",
   "execution_count": null,
   "id": "95bdd8f4",
   "metadata": {
    "lines_to_next_cell": 2
   },
   "outputs": [],
   "source": [
    "import numpy as np\n",
    "from scipy.integrate import solve_ivp\n",
    "import matplotlib.pyplot as plt\n",
    "\n",
    "# Définir l'équation différentielle : dy/dt = -2y\n",
    "def model(t, y):\n",
    "    return -2 * y\n",
    "\n",
    "# Conditions initiales et intervalle de temps\n",
    "t_span = (0, 5)\n",
    "y0 = [1]\n",
    "\n",
    "# Résolution de l'EDO\n",
    "sol = solve_ivp(model, t_span, y0, t_eval=np.linspace(0, 5, 100))\n",
    "\n",
    "# Affichage du résultat\n",
    "plt.plot(sol.t, sol.y[0])\n",
    "plt.xlabel('Temps')\n",
    "plt.ylabel('y(t)')\n",
    "plt.title('Solution de l\\'équation différentielle')\n",
    "plt.grid(True)\n",
    "plt.show()"
   ]
  },
  {
   "cell_type": "code",
   "execution_count": null,
   "id": "a3e7e695",
   "metadata": {},
   "outputs": [],
   "source": [
    "print(sol)"
   ]
  },
  {
   "cell_type": "code",
   "execution_count": null,
   "id": "2431b12f",
   "metadata": {
    "lines_to_next_cell": 2
   },
   "outputs": [],
   "source": [
    "from scipy.interpolate import interp1d\n",
    "import numpy as np\n",
    "import matplotlib.pyplot as plt\n",
    "\n",
    "# Données initiales\n",
    "x = np.linspace(0, 10, 10)\n",
    "y = np.cos(x)\n",
    "\n",
    "# Interpolation linéaire\n",
    "f_linear = interp1d(x, y)\n",
    "x_new = np.linspace(0, 10, 100)\n",
    "y_new_linear = f_linear(x_new)\n",
    "\n",
    "# Interpolation cubique\n",
    "f_cubic = interp1d(x, y, kind='cubic')\n",
    "y_new_cubic = f_cubic(x_new)\n",
    "\n",
    "# Affichage des résultats\n",
    "plt.plot(x, y, 'o', label='Données initiales')\n",
    "plt.plot(x_new, y_new_linear, '-', label='Interpolation linéaire')\n",
    "plt.plot(x_new, y_new_cubic, '--', label='Interpolation cubique')\n",
    "plt.legend()\n",
    "plt.title('Interpolation de données')\n",
    "plt.xlabel('x')\n",
    "plt.ylabel('y')\n",
    "plt.grid(True)\n",
    "plt.show()"
   ]
  },
  {
   "cell_type": "code",
   "execution_count": null,
   "id": "fa394a81",
   "metadata": {
    "lines_to_next_cell": 2
   },
   "outputs": [],
   "source": [
    "import sympy as sp\n",
    "\n",
    "# Définition des symboles\n",
    "x, y = sp.symbols('x y')\n",
    "\n",
    "# fonction à simplifier\n",
    "expr = (x**2 + 2*x + 1) / (x + 1)\n",
    "\n",
    "# Simplification de l'fonction\n",
    "simplified_expr = sp.simplify(expr)\n",
    "\n",
    "# Affichage en LaTeX\n",
    "sp.latex(simplified_expr)"
   ]
  },
  {
   "cell_type": "code",
   "execution_count": null,
   "id": "1f8ff10d",
   "metadata": {
    "lines_to_next_cell": 2
   },
   "outputs": [],
   "source": [
    "# Définition d'une  symbolique\n",
    "f = sp.Function('f')(x)\n",
    "\n",
    "# Calcul de la dérivée\n",
    "derivative = sp.diff(f, x)\n",
    "\n",
    "# Affichage en LaTeX\n",
    "mip = sp.latex(derivative)\n",
    "\n",
    "from IPython.display import display, Math\n",
    "display(Math(mip))"
   ]
  },
  {
   "cell_type": "code",
   "execution_count": null,
   "id": "282e5843",
   "metadata": {},
   "outputs": [],
   "source": []
  },
  {
   "cell_type": "code",
   "execution_count": null,
   "id": "e002ca1f-498d-4883-8552-684c10bb57e6",
   "metadata": {},
   "outputs": [],
   "source": []
  },
  {
   "cell_type": "code",
   "execution_count": null,
   "id": "49d8e4e1-07ea-4a08-a6cf-e659185bb55d",
   "metadata": {},
   "outputs": [],
   "source": []
  },
  {
   "cell_type": "code",
   "execution_count": null,
   "id": "0f172c16-65e4-4197-98b0-2aed2154dd1d",
   "metadata": {},
   "outputs": [],
   "source": []
  }
 ],
 "metadata": {
  "kernelspec": {
   "display_name": "Python 3 (ipykernel)",
   "language": "python",
   "name": "python3"
  },
  "language_info": {
   "codemirror_mode": {
    "name": "ipython",
    "version": 3
   },
   "file_extension": ".py",
   "mimetype": "text/x-python",
   "name": "python",
   "nbconvert_exporter": "python",
   "pygments_lexer": "ipython3",
   "version": "3.12.0"
  }
 },
 "nbformat": 4,
 "nbformat_minor": 5
}
