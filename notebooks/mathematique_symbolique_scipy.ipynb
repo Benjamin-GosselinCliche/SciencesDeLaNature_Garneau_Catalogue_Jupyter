{
 "cells": [
  {
   "cell_type": "markdown",
   "id": "34419965",
   "metadata": {},
   "source": [
    "# Démonstration des mathématiques symboliques avec SymPy\n",
    "---\n",
    "\n",
    "<div style=\"text-align: center;\">\n",
    "    <div style=\"display: inline-block; position: relative; width: 350px;\">\n",
    "        <img src=\"../img/_f260286f-3f4a-48cb-9dee-93d38a5b43d2.jpeg\" alt=\"Dessin\" style=\"width: 100%;\"/>\n",
    "        <p style=\"text-align: center; margin-top: 5px;\">\n",
    "            <span style=\"font-style: italic; font-size: 16px;\"> SymPy </span><br/>\n",
    "            <span style=\"font-style: italic; font-size: 12px;\">Image générée par DALL·E 3, 2024 </span>\n",
    "        </p>\n",
    "    </div>\n",
    "</div>"
   ]
  },
  {
   "cell_type": "markdown",
   "id": "e2fc5143",
   "metadata": {},
   "source": [
    "## Mise en contexte:\n",
    "\n",
    "SymPy est une bibliothèque Python pour les mathématiques symboliques. Contrairement aux calculs numériques, où les valeurs sont représentées par des nombres, les mathématiques symboliques manipulent des fonctions mathématiques de manière analytique, en conservant les symboles tels quels.\n",
    "\n",
    "Nous importons d'abors la librairie:\n",
    "\n",
    "```python\n",
    "import sympy as sp \n",
    "```\n",
    "\n",
    "Les variables doivent être instanciées de la manière suivante:\n",
    "\n",
    "```python\n",
    "x, y, a, b = sp.symbols('x y a b')\n",
    "```\n",
    "Ici, les variables x, y, a et b sont donc traités symboliquement.\n",
    "\n",
    "Concernant les fonctions, nous pouvons utiliser l'approche fonction/expression suivante:\n",
    "\n",
    "1. Nous déclarons la fonction pure $f(x)$:\n",
    "\n",
    "```python\n",
    "f = sp.Function('f')(x)\n",
    "```\n",
    "\n",
    "2. Nous déclarons son expression particulière, par exemple $x^2 + \\cos(4y)$:\n",
    "\n",
    "```python\n",
    "expr = x**2 + sp.cos(4*y)\n",
    "```\n",
    "\n",
    "3. L'équation $f(x) = x^2 + \\cos(4y)$ s'écrit alors:\n",
    "\n",
    "```python\n",
    "sp.Eq(f,expr)\n",
    "```\n",
    "\n",
    "\n",
    "\n",
    "## Référence:\n",
    "\n",
    "https://docs.sympy.org/latest/index.html\n"
   ]
  },
  {
   "cell_type": "markdown",
   "id": "b72522bb-5303-415e-9e38-a27c63e4070a",
   "metadata": {},
   "source": [
    "# Opérations de base"
   ]
  },
  {
   "cell_type": "markdown",
   "id": "8d96fb5c-9a80-40a9-bdeb-05335ac8e63f",
   "metadata": {},
   "source": [
    "## Déclaration des variables et des fonctions\n",
    "\n",
    "Définir des variables et des fonctions symboliques dans SymPy."
   ]
  },
  {
   "cell_type": "code",
   "execution_count": 1,
   "id": "8c4f4f49",
   "metadata": {},
   "outputs": [
    {
     "data": {
      "text/latex": [
       "$\\displaystyle x$"
      ],
      "text/plain": [
       "x"
      ]
     },
     "metadata": {},
     "output_type": "display_data"
    },
    {
     "data": {
      "text/latex": [
       "$\\displaystyle f_{1}{\\left(x \\right)}$"
      ],
      "text/plain": [
       "f1(x)"
      ]
     },
     "metadata": {},
     "output_type": "display_data"
    },
    {
     "data": {
      "text/latex": [
       "$\\displaystyle f_{2}{\\left(y \\right)}$"
      ],
      "text/plain": [
       "f2(y)"
      ]
     },
     "metadata": {},
     "output_type": "display_data"
    },
    {
     "data": {
      "text/latex": [
       "$\\displaystyle f{\\left(x,y \\right)}$"
      ],
      "text/plain": [
       "f(x, y)"
      ]
     },
     "metadata": {},
     "output_type": "display_data"
    },
    {
     "data": {
      "text/latex": [
       "$\\displaystyle f{\\left(x,y \\right)} = x^{2} + y^{2}$"
      ],
      "text/plain": [
       "Eq(f(x, y), x**2 + y**2)"
      ]
     },
     "metadata": {},
     "output_type": "display_data"
    }
   ],
   "source": [
    "import sympy as sp\n",
    "# L'équivalent d'un print pour un affichage symbolique dans Jupyter est la  display de IPython.display\n",
    "from IPython.display import display\n",
    "\n",
    "# Définition des variables\n",
    "x, y, a, b = sp.symbols('x y a b')\n",
    "\n",
    "# Définition d'une fonction à une variable: f1(x) \n",
    "f1 = sp.Function('f1')(x)\n",
    "\n",
    "# Définition d'une fonction à une variable: f2(x) \n",
    "f2 = sp.Function('f2')(y)\n",
    "\n",
    "# Définition d'une fonction à deux variable: f(x, y) \n",
    "f3 = sp.Function('f')(x, y)\n",
    "\n",
    "# Définition d'une expression algébrique de base:\n",
    "expr1 = x**2 + y**2\n",
    "\n",
    "display(x)\n",
    "display(f1)\n",
    "display(f2)\n",
    "display(f3)\n",
    "\n",
    "#On peut écrire une équation comportant le signe = avec la technique suivante:\n",
    "display(sp.Eq(f3,expr1))"
   ]
  },
  {
   "cell_type": "markdown",
   "id": "7667d634-c86a-4330-869c-2ee8140ddb7c",
   "metadata": {},
   "source": [
    "## Addition, soustraction, multiplication, division\n",
    "\n",
    "Effectuer ces opérations arithmétiques de base sur des expressions symboliques."
   ]
  },
  {
   "cell_type": "code",
   "execution_count": 2,
   "id": "ec36d204-e4b2-46ad-8bac-1883e730ae60",
   "metadata": {},
   "outputs": [
    {
     "name": "stdout",
     "output_type": "stream",
     "text": [
      "fonction:\n"
     ]
    },
    {
     "data": {
      "text/latex": [
       "$\\displaystyle f_{1}{\\left(x,y \\right)} = x^{2} + 2 y$"
      ],
      "text/plain": [
       "Eq(f1(x, y), x**2 + 2*y)"
      ]
     },
     "metadata": {},
     "output_type": "display_data"
    },
    {
     "data": {
      "text/latex": [
       "$\\displaystyle f_{2}{\\left(x,y \\right)} = a x^{3} + y^{3}$"
      ],
      "text/plain": [
       "Eq(f2(x, y), a*x**3 + y**3)"
      ]
     },
     "metadata": {},
     "output_type": "display_data"
    },
    {
     "name": "stdout",
     "output_type": "stream",
     "text": [
      "\n",
      "Addition:\n"
     ]
    },
    {
     "data": {
      "text/latex": [
       "$\\displaystyle f_{1}{\\left(x,y \\right)} + f_{2}{\\left(x,y \\right)} = a x^{3} + x^{2} + y^{3} + 2 y$"
      ],
      "text/plain": [
       "Eq(f1(x, y) + f2(x, y), a*x**3 + x**2 + y**3 + 2*y)"
      ]
     },
     "metadata": {},
     "output_type": "display_data"
    },
    {
     "name": "stdout",
     "output_type": "stream",
     "text": [
      "\n",
      "Soustraction:\n"
     ]
    },
    {
     "data": {
      "text/latex": [
       "$\\displaystyle f_{1}{\\left(x,y \\right)} - f_{2}{\\left(x,y \\right)} = - a x^{3} + x^{2} - y^{3} + 2 y$"
      ],
      "text/plain": [
       "Eq(f1(x, y) - f2(x, y), -a*x**3 + x**2 - y**3 + 2*y)"
      ]
     },
     "metadata": {},
     "output_type": "display_data"
    },
    {
     "name": "stdout",
     "output_type": "stream",
     "text": [
      "\n",
      "Multiplication:\n"
     ]
    },
    {
     "data": {
      "text/latex": [
       "$\\displaystyle f_{1}{\\left(x,y \\right)} f_{2}{\\left(x,y \\right)} = \\left(x^{2} + 2 y\\right) \\left(a x^{3} + y^{3}\\right)$"
      ],
      "text/plain": [
       "Eq(f1(x, y)*f2(x, y), (x**2 + 2*y)*(a*x**3 + y**3))"
      ]
     },
     "metadata": {},
     "output_type": "display_data"
    },
    {
     "name": "stdout",
     "output_type": "stream",
     "text": [
      "\n",
      "Division:\n"
     ]
    },
    {
     "data": {
      "text/latex": [
       "$\\displaystyle \\frac{f_{1}{\\left(x,y \\right)}}{f_{2}{\\left(x,y \\right)}} = \\frac{x^{2} + 2 y}{a x^{3} + y^{3}}$"
      ],
      "text/plain": [
       "Eq(f1(x, y)/f2(x, y), (x**2 + 2*y)/(a*x**3 + y**3))"
      ]
     },
     "metadata": {},
     "output_type": "display_data"
    }
   ],
   "source": [
    "# Définition des fonctions\n",
    "f1 = sp.Function('f1')(x, y)\n",
    "f2 = sp.Function('f2')(x, y)\n",
    "expr1 = x**2 + y*2\n",
    "expr2 = a*x**3 + y**3\n",
    "\n",
    "result_addition = sp.Add(expr1, expr2)\n",
    "result_substraction = sp.Add(expr1, -expr2)\n",
    "result_multiplication = sp.Mul(expr1, expr2)\n",
    "result_division = sp.Mul(expr1, 1/expr2)\n",
    "\n",
    "# Affichage des résultats\n",
    "print(\"fonction:\")\n",
    "display(sp.Eq(f1,expr1))\n",
    "display(sp.Eq(f2,expr2))\n",
    "print('\\n'+\"Addition:\")\n",
    "display(sp.Eq(sp.Add(f1, f2),result_addition))\n",
    "print('\\n'+\"Soustraction:\")\n",
    "display(sp.Eq(sp.Add(f1, -f2),result_substraction))\n",
    "print('\\n'+\"Multiplication:\")\n",
    "display(sp.Eq(sp.Mul(f1, f2),result_multiplication))\n",
    "print('\\n'+\"Division:\")\n",
    "display(sp.Eq(sp.Mul(f1, 1/f2),result_division))"
   ]
  },
  {
   "cell_type": "markdown",
   "id": "9c4875d3-1c29-4f31-a19b-a7b6b72ffa7b",
   "metadata": {},
   "source": [
    "## Substitution\n",
    "\n",
    "Substituer des valeurs symboliques ou numériques dans une expression symbolique."
   ]
  },
  {
   "cell_type": "code",
   "execution_count": 3,
   "id": "149f9732-dbe3-431c-af8a-f35205ca571d",
   "metadata": {},
   "outputs": [
    {
     "data": {
      "text/latex": [
       "$\\displaystyle f{\\left(a + x \\right)}$"
      ],
      "text/plain": [
       "f(a + x)"
      ]
     },
     "metadata": {},
     "output_type": "display_data"
    },
    {
     "data": {
      "text/latex": [
       "$\\displaystyle \\cos{\\left(a^{2} - 200 \\right)} + 1$"
      ],
      "text/plain": [
       "cos(a**2 - 200) + 1"
      ]
     },
     "metadata": {},
     "output_type": "display_data"
    }
   ],
   "source": [
    "# Fonction\n",
    "f = sp.Function('f')(x)\n",
    "# Substitution x = x + a\n",
    "foff = f.subs(x, x + a)\n",
    "\n",
    "# Fonction\n",
    "f2 = sp.cos(x) + 1\n",
    "# Substitution x = 200-a**2\n",
    "f2off = f2.subs(x, 200-a**2)\n",
    "\n",
    "display(foff)\n",
    "display(f2off)"
   ]
  },
  {
   "cell_type": "markdown",
   "id": "b0627838-9193-40bd-bbf9-feb512e5dd4a",
   "metadata": {},
   "source": [
    "## Expand\n",
    "\n",
    "Développer des expressions symboliques, c'est-à-dire pour les écrire sous une forme étendue."
   ]
  },
  {
   "cell_type": "code",
   "execution_count": 4,
   "id": "41a336a1-8a42-4618-b418-fe3a63339b1c",
   "metadata": {},
   "outputs": [
    {
     "name": "stdout",
     "output_type": "stream",
     "text": [
      "fonction:\n"
     ]
    },
    {
     "data": {
      "text/latex": [
       "$\\displaystyle f{\\left(x \\right)} = \\left(x \\cos{\\left(x \\right)} + 2 y\\right)^{4}$"
      ],
      "text/plain": [
       "Eq(f(x), (x*cos(x) + 2*y)**4)"
      ]
     },
     "metadata": {},
     "output_type": "display_data"
    },
    {
     "name": "stdout",
     "output_type": "stream",
     "text": [
      "\n",
      "fonction développée:\n"
     ]
    },
    {
     "data": {
      "text/latex": [
       "$\\displaystyle f{\\left(x \\right)} = x^{4} \\cos^{4}{\\left(x \\right)} + 8 x^{3} y \\cos^{3}{\\left(x \\right)} + 24 x^{2} y^{2} \\cos^{2}{\\left(x \\right)} + 32 x y^{3} \\cos{\\left(x \\right)} + 16 y^{4}$"
      ],
      "text/plain": [
       "Eq(f(x), x**4*cos(x)**4 + 8*x**3*y*cos(x)**3 + 24*x**2*y**2*cos(x)**2 + 32*x*y**3*cos(x) + 16*y**4)"
      ]
     },
     "metadata": {},
     "output_type": "display_data"
    }
   ],
   "source": [
    "# Définir une fonction\n",
    "f = sp.Function('f')(x)\n",
    "expr = (x*sp.cos(x) + 2*y)**4\n",
    "\n",
    "# Expansion de la fonction\n",
    "expr_expand = sp.expand(expr)\n",
    "\n",
    "# Affichage des résultats\n",
    "print(\"fonction:\")\n",
    "display(sp.Eq(f,expr))\n",
    "print('\\n'+\"fonction développée:\")\n",
    "display(sp.Eq(f,expr_expand))\n"
   ]
  },
  {
   "cell_type": "markdown",
   "id": "7b686b0c-9b10-45af-93bc-2d589d1f3724",
   "metadata": {},
   "source": [
    "## Factor\n",
    "\n",
    "Factoriser des expressions en leurs facteurs irréductibles."
   ]
  },
  {
   "cell_type": "code",
   "execution_count": 5,
   "id": "ba92610a-4c74-48c9-8d08-0a8f552c8f5c",
   "metadata": {},
   "outputs": [
    {
     "name": "stdout",
     "output_type": "stream",
     "text": [
      "fonction :\n"
     ]
    },
    {
     "data": {
      "text/latex": [
       "$\\displaystyle f{\\left(x \\right)} = 16 x^{4} + 96 x^{3} + 216 x^{2} + 216 x + 81$"
      ],
      "text/plain": [
       "Eq(f(x), 16*x**4 + 96*x**3 + 216*x**2 + 216*x + 81)"
      ]
     },
     "metadata": {},
     "output_type": "display_data"
    },
    {
     "name": "stdout",
     "output_type": "stream",
     "text": [
      "\n",
      "fonction factorisée:\n"
     ]
    },
    {
     "data": {
      "text/latex": [
       "$\\displaystyle f{\\left(x \\right)} = \\left(2 x + 3\\right)^{4}$"
      ],
      "text/plain": [
       "Eq(f(x), (2*x + 3)**4)"
      ]
     },
     "metadata": {},
     "output_type": "display_data"
    }
   ],
   "source": [
    "# Définir une fonction\n",
    "f = sp.Function('f')(x)\n",
    "expr = 16*x**4 + 96*x**3 + 216*x**2 + 216*x + 81\n",
    "# Factorisation de fonction\n",
    "expr_factor = sp.factor(expr)\n",
    "\n",
    "# Affichage des résultats\n",
    "print(\"fonction :\")\n",
    "display(sp.Eq(f,expr))\n",
    "print('\\n'+\"fonction factorisée:\")\n",
    "display(sp.Eq(f,expr_factor))"
   ]
  },
  {
   "cell_type": "markdown",
   "id": "bde28226-4c6b-47f5-9bd6-04d117378e2a",
   "metadata": {},
   "source": [
    "## Simplify\n",
    "\n",
    "Simplifier des expressions en les réduisant à une forme plus simple, si possible."
   ]
  },
  {
   "cell_type": "code",
   "execution_count": 6,
   "id": "806adaa0-b71e-41c2-823d-6d23c549621d",
   "metadata": {},
   "outputs": [
    {
     "name": "stdout",
     "output_type": "stream",
     "text": [
      "fonction :\n"
     ]
    },
    {
     "data": {
      "text/latex": [
       "$\\displaystyle f{\\left(x \\right)} = \\frac{x^{2} + 2 x + 1}{x + 1}$"
      ],
      "text/plain": [
       "Eq(f(x), (x**2 + 2*x + 1)/(x + 1))"
      ]
     },
     "metadata": {},
     "output_type": "display_data"
    },
    {
     "name": "stdout",
     "output_type": "stream",
     "text": [
      "\n",
      "fonction simplifiée:\n"
     ]
    },
    {
     "data": {
      "text/latex": [
       "$\\displaystyle f{\\left(x \\right)} = x + 1$"
      ],
      "text/plain": [
       "Eq(f(x), x + 1)"
      ]
     },
     "metadata": {},
     "output_type": "display_data"
    }
   ],
   "source": [
    "# Définir une fonction\n",
    "f = sp.Function('f')(x)\n",
    "expr = (x**2 + 2*x + 1) / (x + 1)\n",
    "\n",
    "# Simplification de la fonction\n",
    "expr_simple = sp.simplify(expr)\n",
    "\n",
    "# Affichage des résultats\n",
    "print(\"fonction :\")\n",
    "display(sp.Eq(f,expr))\n",
    "print('\\n'+\"fonction simplifiée:\")\n",
    "display(sp.Eq(f,expr_simple))"
   ]
  },
  {
   "cell_type": "markdown",
   "id": "b4dfa651-5bf7-4730-971e-d9653dc72d04",
   "metadata": {},
   "source": [
    "## Output avec Latex\n",
    "\n",
    "Générer des sorties au format LaTeX à partir d'expressions symboliques, ce qui est utile pour l'écriture de documents LaTeX."
   ]
  },
  {
   "cell_type": "code",
   "execution_count": 7,
   "id": "3459284b-08b0-4c00-a428-eab2b152527e",
   "metadata": {},
   "outputs": [
    {
     "name": "stdout",
     "output_type": "stream",
     "text": [
      "--------------------------------------------------\n",
      "Exemple 1:\n",
      "\n",
      "Sympy form:\n"
     ]
    },
    {
     "data": {
      "text/latex": [
       "$\\displaystyle 16 x^{4} + 96 x^{3} + 216 x^{2} + 216 x + 81$"
      ],
      "text/plain": [
       "16*x**4 + 96*x**3 + 216*x**2 + 216*x + 81"
      ]
     },
     "metadata": {},
     "output_type": "display_data"
    },
    {
     "name": "stdout",
     "output_type": "stream",
     "text": [
      "Latex form:\n",
      "16 x^{4} + 96 x^{3} + 216 x^{2} + 216 x + 81\n",
      "--------------------------------------------------\n",
      "Exemple 2:\n",
      "\n",
      "Sympy form:\n"
     ]
    },
    {
     "data": {
      "text/latex": [
       "$\\displaystyle x + 2 y$"
      ],
      "text/plain": [
       "x + 2*y"
      ]
     },
     "metadata": {},
     "output_type": "display_data"
    },
    {
     "name": "stdout",
     "output_type": "stream",
     "text": [
      "Latex form:\n",
      "x + 2 y\n",
      "--------------------------------------------------\n",
      "Exemple 3:\n",
      "\n",
      "Sympy form:\n"
     ]
    },
    {
     "data": {
      "text/latex": [
       "$\\displaystyle x \\cos{\\left(x^{3} \\right)} + 2 y + \\frac{f{\\left(a + x \\right)}}{\\log{\\left(x y \\right)}}$"
      ],
      "text/plain": [
       "x*cos(x**3) + 2*y + f(a + x)/log(x*y)"
      ]
     },
     "metadata": {},
     "output_type": "display_data"
    },
    {
     "name": "stdout",
     "output_type": "stream",
     "text": [
      "Latex form:\n",
      "x \\cos{\\left(x^{3} \\right)} + 2 y + \\frac{f{\\left(a + x \\right)}}{\\log{\\left(x y \\right)}}\n"
     ]
    }
   ],
   "source": [
    "# Exemple 1:\n",
    "expr = 16*x**4 + 96*x**3 + 216*x**2 + 216*x + 81\n",
    "expr_in_latex = sp.latex(expr)\n",
    "\n",
    "print('-'*50+'\\n'+'Exemple 1:\\n')\n",
    "print('Sympy form:')\n",
    "display(expr)\n",
    "print('Latex form:')\n",
    "print(expr_in_latex)\n",
    "\n",
    "# Exemple 2:\n",
    "expr = 16*x**4 + 96*x**3 + 216*x**2 + 216*x + 81\n",
    "expr_in_latex = sp.latex(expr)\n",
    "\n",
    "expr = (x + 2*y)\n",
    "expr_in_latex = sp.latex(expr)\n",
    "print('-'*50+'\\n'+'Exemple 2:\\n')\n",
    "print('Sympy form:')\n",
    "display(expr)\n",
    "print('Latex form:')\n",
    "print(expr_in_latex)\n",
    "\n",
    "# Exemple 2:\n",
    "expr = 16*x**4 + 96*x**3 + 216*x**2 + 216*x + 81\n",
    "expr_in_latex = sp.latex(expr)\n",
    "\n",
    "expr = (x*sp.cos(x**3) + 2*y)+ foff/sp.ln(x*y)\n",
    "expr_in_latex = sp.latex(expr)\n",
    "print('-'*50+'\\n'+'Exemple 3:\\n')\n",
    "print('Sympy form:')\n",
    "display(expr)\n",
    "print('Latex form:')\n",
    "print(expr_in_latex)"
   ]
  },
  {
   "cell_type": "markdown",
   "id": "a62af8e6-063d-40f1-9ea4-ef5e06d88006",
   "metadata": {},
   "source": [
    "# Calcul différentiel et intégral"
   ]
  },
  {
   "cell_type": "markdown",
   "id": "f816a2eb-a586-4455-b16a-6aeacd9c068a",
   "metadata": {},
   "source": [
    "## Fonctions à une variable\n",
    "\n",
    "Calculer les dérivées et les intégrales pour les fonctions d'une seule variable."
   ]
  },
  {
   "cell_type": "code",
   "execution_count": 8,
   "id": "fb7b484e",
   "metadata": {},
   "outputs": [
    {
     "data": {
      "text/latex": [
       "$\\displaystyle \\frac{d}{d x} f{\\left(x \\right)}$"
      ],
      "text/plain": [
       "Derivative(f(x), x)"
      ]
     },
     "metadata": {},
     "output_type": "display_data"
    },
    {
     "data": {
      "text/latex": [
       "$\\displaystyle \\int f{\\left(x \\right)}\\, dx$"
      ],
      "text/plain": [
       "Integral(f(x), x)"
      ]
     },
     "metadata": {},
     "output_type": "display_data"
    },
    {
     "data": {
      "text/latex": [
       "$\\displaystyle \\int\\limits_{a}^{b} f{\\left(x \\right)}\\, dx$"
      ],
      "text/plain": [
       "Integral(f(x), (x, a, b))"
      ]
     },
     "metadata": {},
     "output_type": "display_data"
    }
   ],
   "source": [
    "# Définition des variables et fonctions\n",
    "x, a, b= sp.symbols('x, a ,b')\n",
    "f = sp.Function('f')(x)\n",
    "\n",
    "# Calcul de la dérivée\n",
    "derivee_f = sp.diff(f, x)\n",
    "\n",
    "# Calcul de l'intégrale indéfinie\n",
    "integrale_f = sp.integrate(f, x)\n",
    "\n",
    "# Calcul de l'intégrale définie\n",
    "integrale_def_f = sp.integrate(f, (x,a,b))\n",
    "\n",
    "display(derivee_f)\n",
    "display(integrale_f)\n",
    "display(integrale_def_f)"
   ]
  },
  {
   "cell_type": "code",
   "execution_count": 9,
   "id": "6a9d31a2-c02f-4c62-9dcf-ddbf40ce67ca",
   "metadata": {},
   "outputs": [
    {
     "name": "stdout",
     "output_type": "stream",
     "text": [
      "--------------------------------------------------\n",
      "Fonction :\n"
     ]
    },
    {
     "data": {
      "text/latex": [
       "$\\displaystyle f{\\left(x \\right)} = \\sin{\\left(x \\right)} + \\frac{\\log{\\left(x^{2} \\right)}}{x^{2}}$"
      ],
      "text/plain": [
       "Eq(f(x), sin(x) + log(x**2)/x**2)"
      ]
     },
     "metadata": {},
     "output_type": "display_data"
    },
    {
     "name": "stdout",
     "output_type": "stream",
     "text": [
      "--------------------------------------------------\n",
      "Dérivée:\n"
     ]
    },
    {
     "data": {
      "text/latex": [
       "$\\displaystyle \\frac{d}{d x} f{\\left(x \\right)} = \\cos{\\left(x \\right)} - \\frac{2 \\log{\\left(x^{2} \\right)}}{x^{3}} + \\frac{2}{x^{3}}$"
      ],
      "text/plain": [
       "Eq(Derivative(f(x), x), cos(x) - 2*log(x**2)/x**3 + 2/x**3)"
      ]
     },
     "metadata": {},
     "output_type": "display_data"
    },
    {
     "name": "stdout",
     "output_type": "stream",
     "text": [
      "--------------------------------------------------\n",
      "Intégrale indéfinie:\n"
     ]
    },
    {
     "data": {
      "text/latex": [
       "$\\displaystyle \\int f{\\left(x \\right)}\\, dx = - \\cos{\\left(x \\right)} - \\frac{\\log{\\left(x^{2} \\right)}}{x} - \\frac{2}{x}$"
      ],
      "text/plain": [
       "Eq(Integral(f(x), x), -cos(x) - log(x**2)/x - 2/x)"
      ]
     },
     "metadata": {},
     "output_type": "display_data"
    },
    {
     "name": "stdout",
     "output_type": "stream",
     "text": [
      "--------------------------------------------------\n",
      "Intégrale définie sur [a,b]:\n"
     ]
    },
    {
     "data": {
      "text/latex": [
       "$\\displaystyle \\int\\limits_{a}^{b} f{\\left(x \\right)}\\, dx = \\cos{\\left(a \\right)} - \\cos{\\left(b \\right)} - \\frac{\\log{\\left(b^{2} \\right)}}{b} - \\frac{2}{b} + \\frac{\\log{\\left(a^{2} \\right)}}{a} + \\frac{2}{a}$"
      ],
      "text/plain": [
       "Eq(Integral(f(x), (x, a, b)), cos(a) - cos(b) - log(b**2)/b - 2/b + log(a**2)/a + 2/a)"
      ]
     },
     "metadata": {},
     "output_type": "display_data"
    },
    {
     "name": "stdout",
     "output_type": "stream",
     "text": [
      "--------------------------------------------------\n",
      "Intégrale définie sur [2,4]:\n"
     ]
    },
    {
     "data": {
      "text/latex": [
       "$\\displaystyle \\int\\limits_{2}^{4} f{\\left(x \\right)}\\, dx = - \\frac{\\log{\\left(16 \\right)}}{4} + \\cos{\\left(2 \\right)} + \\frac{1}{2} - \\cos{\\left(4 \\right)} + \\frac{\\log{\\left(4 \\right)}}{2}$"
      ],
      "text/plain": [
       "Eq(Integral(f(x), (x, 2, 4)), -log(16)/4 + cos(2) + 1/2 - cos(4) + log(4)/2)"
      ]
     },
     "metadata": {},
     "output_type": "display_data"
    },
    {
     "name": "stdout",
     "output_type": "stream",
     "text": [
      "--------------------------------------------------\n",
      "Intégrale définie sur [1,oo]:\n"
     ]
    },
    {
     "data": {
      "text/latex": [
       "$\\displaystyle \\int\\limits_{1}^{\\infty} f{\\left(x \\right)}\\, dx = -\\infty$"
      ],
      "text/plain": [
       "Eq(Integral(f(x), (x, 1, oo)), -oo)"
      ]
     },
     "metadata": {},
     "output_type": "display_data"
    }
   ],
   "source": [
    "# Définir une fonction\n",
    "f = sp.Function('f')(x)\n",
    "expr = sp.sin(x) + sp.ln(x**2) / (x**2)\n",
    "\n",
    "# Dérivée \n",
    "derivee_expr = sp.diff(expr, x)\n",
    "# Intégrale indéfinie\n",
    "integrale_expr = sp.integrate(expr, x)\n",
    "# Intégrale définie\n",
    "integrale_def1_expr = sp.integrate(expr, (x, a, b))\n",
    "# Intégrale définie\n",
    "integrale_def2_expr = sp.integrate(expr, (x, 2, 4))\n",
    "# Intégrale définie\n",
    "integrale_def3_expr = sp.integrate(expr, (x, 0, sp.oo))\n",
    "\n",
    "print('-'*50+'\\n'+\"Fonction :\")\n",
    "display(sp.Eq(f,expr))\n",
    "print('-'*50+'\\n'+\"Dérivée:\")\n",
    "display(sp.Eq(f.diff(x),derivee_expr))\n",
    "print('-'*50+'\\n'+\"Intégrale indéfinie:\")\n",
    "display(sp.Eq(f.integrate(x),integrale_expr))\n",
    "print('-'*50+'\\n'+\"Intégrale définie sur [a,b]:\")\n",
    "display(sp.Eq(f.integrate((x, a, b)),integrale_def1_expr))\n",
    "print('-'*50+'\\n'+\"Intégrale définie sur [2,4]:\")\n",
    "display(sp.Eq(f.integrate((x, 2, 4)),integrale_def2_expr))\n",
    "print('-'*50+'\\n'+\"Intégrale définie sur [1,oo]:\")\n",
    "display(sp.Eq(f.integrate((x, 1, sp.oo)),integrale_def3_expr))"
   ]
  },
  {
   "cell_type": "markdown",
   "id": "4604480c-92fa-4631-8ba1-a416741e28ef",
   "metadata": {},
   "source": [
    "## Théorème fondamental de l'analyse\n",
    "\n",
    "Écriture du théorème fondamental de l'analyse "
   ]
  },
  {
   "cell_type": "code",
   "execution_count": 10,
   "id": "af7352b3",
   "metadata": {
    "lines_to_next_cell": 2
   },
   "outputs": [
    {
     "data": {
      "text/latex": [
       "$\\displaystyle \\int\\limits_{a}^{b} f{\\left(x \\right)}\\, dx = - F{\\left(a \\right)} + F{\\left(b \\right)}$"
      ],
      "text/plain": [
       "Eq(Integral(f(x), (x, a, b)), -F(a) + F(b))"
      ]
     },
     "execution_count": 10,
     "metadata": {},
     "output_type": "execute_result"
    }
   ],
   "source": [
    "F = sp.Function('F')(x)\n",
    "integral_eq = sp.Eq(sp.integrate(f, (x, a, b)), F.subs(x, b) - F.subs(x, a))\n",
    "integral_eq"
   ]
  },
  {
   "cell_type": "markdown",
   "id": "38dd53a6-d8d2-4730-8d19-ed68a56028a6",
   "metadata": {},
   "source": [
    "## Fonctions à plusieurs variables\n",
    "\n",
    "Dérivées partielles et des intégrales multiples pour les fonctions de plusieurs variables."
   ]
  },
  {
   "cell_type": "code",
   "execution_count": 11,
   "id": "f5374506",
   "metadata": {
    "lines_to_next_cell": 2
   },
   "outputs": [
    {
     "name": "stdout",
     "output_type": "stream",
     "text": [
      "--------------------------------------------------\n",
      "fonction :\n"
     ]
    },
    {
     "data": {
      "text/latex": [
       "$\\displaystyle f{\\left(x,y,z \\right)} = \\sin{\\left(x \\right)} + \\frac{e^{z^{2}}}{x^{2} + y^{2}}$"
      ],
      "text/plain": [
       "Eq(f(x, y, z), sin(x) + exp(z**2)/(x**2 + y**2))"
      ]
     },
     "metadata": {},
     "output_type": "display_data"
    },
    {
     "name": "stdout",
     "output_type": "stream",
     "text": [
      "--------------------------------------------------\n",
      "Dérivée partielle:\n"
     ]
    },
    {
     "data": {
      "text/latex": [
       "$\\displaystyle \\frac{\\partial}{\\partial x} f{\\left(x,y,z \\right)} = - \\frac{2 x e^{z^{2}}}{\\left(x^{2} + y^{2}\\right)^{2}} + \\cos{\\left(x \\right)}$"
      ],
      "text/plain": [
       "Eq(Derivative(f(x, y, z), x), -2*x*exp(z**2)/(x**2 + y**2)**2 + cos(x))"
      ]
     },
     "metadata": {},
     "output_type": "display_data"
    },
    {
     "name": "stdout",
     "output_type": "stream",
     "text": [
      "--------------------------------------------------\n",
      "Dérivée partielle:\n"
     ]
    },
    {
     "data": {
      "text/latex": [
       "$\\displaystyle \\frac{\\partial}{\\partial y} f{\\left(x,y,z \\right)} = - \\frac{2 y e^{z^{2}}}{\\left(x^{2} + y^{2}\\right)^{2}}$"
      ],
      "text/plain": [
       "Eq(Derivative(f(x, y, z), y), -2*y*exp(z**2)/(x**2 + y**2)**2)"
      ]
     },
     "metadata": {},
     "output_type": "display_data"
    },
    {
     "name": "stdout",
     "output_type": "stream",
     "text": [
      "--------------------------------------------------\n",
      "Dérivée partielle:\n"
     ]
    },
    {
     "data": {
      "text/latex": [
       "$\\displaystyle \\frac{\\partial}{\\partial z} f{\\left(x,y,z \\right)} = \\frac{2 z e^{z^{2}}}{x^{2} + y^{2}}$"
      ],
      "text/plain": [
       "Eq(Derivative(f(x, y, z), z), 2*z*exp(z**2)/(x**2 + y**2))"
      ]
     },
     "metadata": {},
     "output_type": "display_data"
    },
    {
     "name": "stdout",
     "output_type": "stream",
     "text": [
      "--------------------------------------------------\n",
      "Dérivée partielle:\n"
     ]
    },
    {
     "data": {
      "text/latex": [
       "$\\displaystyle \\frac{\\partial^{2}}{\\partial y\\partial x} f{\\left(x,y,z \\right)} = \\frac{8 x y e^{z^{2}}}{\\left(x^{2} + y^{2}\\right)^{3}}$"
      ],
      "text/plain": [
       "Eq(Derivative(f(x, y, z), x, y), 8*x*y*exp(z**2)/(x**2 + y**2)**3)"
      ]
     },
     "metadata": {},
     "output_type": "display_data"
    },
    {
     "name": "stdout",
     "output_type": "stream",
     "text": [
      "--------------------------------------------------\n",
      "Dérivée partielle:\n"
     ]
    },
    {
     "data": {
      "text/latex": [
       "$\\displaystyle \\frac{\\partial^{2}}{\\partial z\\partial y} f{\\left(x,y,z \\right)} = - \\frac{4 y z e^{z^{2}}}{\\left(x^{2} + y^{2}\\right)^{2}}$"
      ],
      "text/plain": [
       "Eq(Derivative(f(x, y, z), y, z), -4*y*z*exp(z**2)/(x**2 + y**2)**2)"
      ]
     },
     "metadata": {},
     "output_type": "display_data"
    },
    {
     "name": "stdout",
     "output_type": "stream",
     "text": [
      "--------------------------------------------------\n",
      "Dérivée partielle:\n"
     ]
    },
    {
     "data": {
      "text/latex": [
       "$\\displaystyle \\frac{\\partial^{2}}{\\partial z\\partial x} f{\\left(x,y,z \\right)} = - \\frac{4 x z e^{z^{2}}}{\\left(x^{2} + y^{2}\\right)^{2}}$"
      ],
      "text/plain": [
       "Eq(Derivative(f(x, y, z), x, z), -4*x*z*exp(z**2)/(x**2 + y**2)**2)"
      ]
     },
     "metadata": {},
     "output_type": "display_data"
    },
    {
     "name": "stdout",
     "output_type": "stream",
     "text": [
      "--------------------------------------------------\n",
      "Dérivée partielle:\n"
     ]
    },
    {
     "data": {
      "text/latex": [
       "$\\displaystyle \\frac{\\partial^{3}}{\\partial z\\partial y\\partial x} f{\\left(x,y,z \\right)} = \\frac{16 x y z e^{z^{2}}}{\\left(x^{2} + y^{2}\\right)^{3}}$"
      ],
      "text/plain": [
       "Eq(Derivative(f(x, y, z), x, y, z), 16*x*y*z*exp(z**2)/(x**2 + y**2)**3)"
      ]
     },
     "metadata": {},
     "output_type": "display_data"
    },
    {
     "name": "stdout",
     "output_type": "stream",
     "text": [
      "--------------------------------------------------\n",
      "Integrale:\n"
     ]
    },
    {
     "data": {
      "text/latex": [
       "$\\displaystyle \\int f{\\left(x,y,z \\right)}\\, dx = - \\cos{\\left(x \\right)} + \\frac{\\left(- \\frac{i \\log{\\left(x - i y \\right)}}{2} + \\frac{i \\log{\\left(x + i y \\right)}}{2}\\right) e^{z^{2}}}{y}$"
      ],
      "text/plain": [
       "Eq(Integral(f(x, y, z), x), -cos(x) + (-I*log(x - I*y)/2 + I*log(x + I*y)/2)*exp(z**2)/y)"
      ]
     },
     "metadata": {},
     "output_type": "display_data"
    },
    {
     "name": "stdout",
     "output_type": "stream",
     "text": [
      "--------------------------------------------------\n",
      "Integrale:\n"
     ]
    },
    {
     "data": {
      "text/latex": [
       "$\\displaystyle \\int f{\\left(x,y,z \\right)}\\, dy = y \\sin{\\left(x \\right)} + \\frac{\\left(- \\frac{i \\log{\\left(- i x + y \\right)}}{2} + \\frac{i \\log{\\left(i x + y \\right)}}{2}\\right) e^{z^{2}}}{x}$"
      ],
      "text/plain": [
       "Eq(Integral(f(x, y, z), y), y*sin(x) + (-I*log(-I*x + y)/2 + I*log(I*x + y)/2)*exp(z**2)/x)"
      ]
     },
     "metadata": {},
     "output_type": "display_data"
    },
    {
     "name": "stdout",
     "output_type": "stream",
     "text": [
      "--------------------------------------------------\n",
      "Integrale:\n"
     ]
    },
    {
     "data": {
      "text/latex": [
       "$\\displaystyle \\int f{\\left(x,y,z \\right)}\\, dz = z \\sin{\\left(x \\right)} + \\frac{\\sqrt{\\pi} \\operatorname{erfi}{\\left(z \\right)}}{2 \\left(x^{2} + y^{2}\\right)}$"
      ],
      "text/plain": [
       "Eq(Integral(f(x, y, z), z), z*sin(x) + sqrt(pi)*erfi(z)/(2*(x**2 + y**2)))"
      ]
     },
     "metadata": {},
     "output_type": "display_data"
    },
    {
     "name": "stdout",
     "output_type": "stream",
     "text": [
      "--------------------------------------------------\n",
      "Integrale:\n"
     ]
    },
    {
     "data": {
      "text/latex": [
       "$\\displaystyle \\iint f{\\left(x,y,z \\right)}\\, dx\\, dy = - y \\cos{\\left(x \\right)} + \\left(- \\frac{i \\left(\\begin{cases} - \\operatorname{Li}_{2}\\left(\\frac{y e^{\\frac{i \\pi}{2}}}{x}\\right) & \\text{for}\\: \\frac{1}{\\left|{y}\\right|} < 1 \\wedge \\left|{y}\\right| < 1 \\\\\\log{\\left(x \\right)} \\log{\\left(y \\right)} - \\operatorname{Li}_{2}\\left(\\frac{y e^{\\frac{i \\pi}{2}}}{x}\\right) & \\text{for}\\: \\left|{y}\\right| < 1 \\\\- \\log{\\left(x \\right)} \\log{\\left(\\frac{1}{y} \\right)} - \\operatorname{Li}_{2}\\left(\\frac{y e^{\\frac{i \\pi}{2}}}{x}\\right) & \\text{for}\\: \\frac{1}{\\left|{y}\\right|} < 1 \\\\- {G_{2, 2}^{2, 0}\\left(\\begin{matrix}  & 1, 1 \\\\0, 0 &  \\end{matrix} \\middle| {y} \\right)} \\log{\\left(x \\right)} + {G_{2, 2}^{0, 2}\\left(\\begin{matrix} 1, 1 &  \\\\ & 0, 0 \\end{matrix} \\middle| {y} \\right)} \\log{\\left(x \\right)} - \\operatorname{Li}_{2}\\left(\\frac{y e^{\\frac{i \\pi}{2}}}{x}\\right) & \\text{otherwise} \\end{cases}\\right)}{2} + \\frac{i \\left(\\begin{cases} - \\operatorname{Li}_{2}\\left(\\frac{y e^{\\frac{3 i \\pi}{2}}}{x}\\right) & \\text{for}\\: \\frac{1}{\\left|{y}\\right|} < 1 \\wedge \\left|{y}\\right| < 1 \\\\\\log{\\left(x \\right)} \\log{\\left(y \\right)} - \\operatorname{Li}_{2}\\left(\\frac{y e^{\\frac{3 i \\pi}{2}}}{x}\\right) & \\text{for}\\: \\left|{y}\\right| < 1 \\\\- \\log{\\left(x \\right)} \\log{\\left(\\frac{1}{y} \\right)} - \\operatorname{Li}_{2}\\left(\\frac{y e^{\\frac{3 i \\pi}{2}}}{x}\\right) & \\text{for}\\: \\frac{1}{\\left|{y}\\right|} < 1 \\\\- {G_{2, 2}^{2, 0}\\left(\\begin{matrix}  & 1, 1 \\\\0, 0 &  \\end{matrix} \\middle| {y} \\right)} \\log{\\left(x \\right)} + {G_{2, 2}^{0, 2}\\left(\\begin{matrix} 1, 1 &  \\\\ & 0, 0 \\end{matrix} \\middle| {y} \\right)} \\log{\\left(x \\right)} - \\operatorname{Li}_{2}\\left(\\frac{y e^{\\frac{3 i \\pi}{2}}}{x}\\right) & \\text{otherwise} \\end{cases}\\right)}{2}\\right) e^{z^{2}}$"
      ],
      "text/plain": [
       "Eq(Integral(f(x, y, z), x, y), -y*cos(x) + (-I*Piecewise((-polylog(2, y*exp_polar(I*pi/2)/x), (Abs(y) < 1) & (1/Abs(y) < 1)), (log(x)*log(y) - polylog(2, y*exp_polar(I*pi/2)/x), Abs(y) < 1), (-log(x)*log(1/y) - polylog(2, y*exp_polar(I*pi/2)/x), 1/Abs(y) < 1), (-meijerg(((), (1, 1)), ((0, 0), ()), y)*log(x) + meijerg(((1, 1), ()), ((), (0, 0)), y)*log(x) - polylog(2, y*exp_polar(I*pi/2)/x), True))/2 + I*Piecewise((-polylog(2, y*exp_polar(3*I*pi/2)/x), (Abs(y) < 1) & (1/Abs(y) < 1)), (log(x)*log(y) - polylog(2, y*exp_polar(3*I*pi/2)/x), Abs(y) < 1), (-log(x)*log(1/y) - polylog(2, y*exp_polar(3*I*pi/2)/x), 1/Abs(y) < 1), (-meijerg(((), (1, 1)), ((0, 0), ()), y)*log(x) + meijerg(((1, 1), ()), ((), (0, 0)), y)*log(x) - polylog(2, y*exp_polar(3*I*pi/2)/x), True))/2)*exp(z**2))"
      ]
     },
     "metadata": {},
     "output_type": "display_data"
    },
    {
     "name": "stdout",
     "output_type": "stream",
     "text": [
      "--------------------------------------------------\n",
      "Integrale:\n"
     ]
    },
    {
     "data": {
      "text/latex": [
       "$\\displaystyle \\iint f{\\left(x,y,z \\right)}\\, dy\\, dz = y z \\sin{\\left(x \\right)} + \\frac{\\sqrt{\\pi} \\left(- \\frac{i \\log{\\left(- i x + y \\right)}}{2} + \\frac{i \\log{\\left(i x + y \\right)}}{2}\\right) \\operatorname{erfi}{\\left(z \\right)}}{2 x}$"
      ],
      "text/plain": [
       "Eq(Integral(f(x, y, z), y, z), y*z*sin(x) + sqrt(pi)*(-I*log(-I*x + y)/2 + I*log(I*x + y)/2)*erfi(z)/(2*x))"
      ]
     },
     "metadata": {},
     "output_type": "display_data"
    },
    {
     "name": "stdout",
     "output_type": "stream",
     "text": [
      "--------------------------------------------------\n",
      "Integrale:\n"
     ]
    },
    {
     "data": {
      "text/latex": [
       "$\\displaystyle \\iint f{\\left(x,y,z \\right)}\\, dz\\, dx = - z \\cos{\\left(x \\right)} + \\frac{\\sqrt{\\pi} \\left(- \\frac{i \\log{\\left(x - i y \\right)}}{2} + \\frac{i \\log{\\left(x + i y \\right)}}{2}\\right) \\operatorname{erfi}{\\left(z \\right)}}{2 y}$"
      ],
      "text/plain": [
       "Eq(Integral(f(x, y, z), z, x), -z*cos(x) + sqrt(pi)*(-I*log(x - I*y)/2 + I*log(x + I*y)/2)*erfi(z)/(2*y))"
      ]
     },
     "metadata": {},
     "output_type": "display_data"
    },
    {
     "name": "stdout",
     "output_type": "stream",
     "text": [
      "--------------------------------------------------\n",
      "Integrale:\n"
     ]
    },
    {
     "data": {
      "text/latex": [
       "$\\displaystyle \\iiint f{\\left(x,y,z \\right)}\\, dx\\, dy\\, dz = \\begin{cases} - y z \\cos{\\left(x \\right)} + \\frac{\\sqrt{\\pi} \\left(\\frac{i \\operatorname{Li}_{2}\\left(\\frac{y e^{\\frac{i \\pi}{2}}}{x}\\right)}{2} - \\frac{i \\operatorname{Li}_{2}\\left(\\frac{y e^{\\frac{3 i \\pi}{2}}}{x}\\right)}{2}\\right) \\operatorname{erfi}{\\left(z \\right)}}{2} & \\text{for}\\: \\left(\\left(y > -\\infty \\wedge y < -1\\right) \\vee \\left(y > 1 \\wedge y < \\infty\\right)\\right) \\wedge y > -1 \\wedge y < 1 \\\\- y z \\cos{\\left(x \\right)} + \\frac{\\sqrt{\\pi} \\left(- \\frac{i \\left(\\log{\\left(x \\right)} \\log{\\left(y \\right)} - \\operatorname{Li}_{2}\\left(\\frac{y e^{\\frac{i \\pi}{2}}}{x}\\right)\\right)}{2} + \\frac{i \\left(\\log{\\left(x \\right)} \\log{\\left(y \\right)} - \\operatorname{Li}_{2}\\left(\\frac{y e^{\\frac{3 i \\pi}{2}}}{x}\\right)\\right)}{2}\\right) \\operatorname{erfi}{\\left(z \\right)}}{2} & \\text{for}\\: y > -1 \\wedge y < 1 \\\\- y z \\cos{\\left(x \\right)} + \\frac{\\sqrt{\\pi} \\left(- \\frac{i \\left(- \\log{\\left(x \\right)} \\log{\\left(\\frac{1}{y} \\right)} - \\operatorname{Li}_{2}\\left(\\frac{y e^{\\frac{i \\pi}{2}}}{x}\\right)\\right)}{2} + \\frac{i \\left(- \\log{\\left(x \\right)} \\log{\\left(\\frac{1}{y} \\right)} - \\operatorname{Li}_{2}\\left(\\frac{y e^{\\frac{3 i \\pi}{2}}}{x}\\right)\\right)}{2}\\right) \\operatorname{erfi}{\\left(z \\right)}}{2} & \\text{for}\\: \\left(y > -\\infty \\wedge y < -1\\right) \\vee \\left(y > 1 \\wedge y < \\infty\\right) \\\\- y z \\cos{\\left(x \\right)} + \\frac{\\sqrt{\\pi} \\left(- \\frac{i \\left(- {G_{2, 2}^{2, 0}\\left(\\begin{matrix}  & 1, 1 \\\\0, 0 &  \\end{matrix} \\middle| {y} \\right)} \\log{\\left(x \\right)} + {G_{2, 2}^{0, 2}\\left(\\begin{matrix} 1, 1 &  \\\\ & 0, 0 \\end{matrix} \\middle| {y} \\right)} \\log{\\left(x \\right)} - \\operatorname{Li}_{2}\\left(\\frac{y e^{\\frac{i \\pi}{2}}}{x}\\right)\\right)}{2} + \\frac{i \\left(- {G_{2, 2}^{2, 0}\\left(\\begin{matrix}  & 1, 1 \\\\0, 0 &  \\end{matrix} \\middle| {y} \\right)} \\log{\\left(x \\right)} + {G_{2, 2}^{0, 2}\\left(\\begin{matrix} 1, 1 &  \\\\ & 0, 0 \\end{matrix} \\middle| {y} \\right)} \\log{\\left(x \\right)} - \\operatorname{Li}_{2}\\left(\\frac{y e^{\\frac{3 i \\pi}{2}}}{x}\\right)\\right)}{2}\\right) \\operatorname{erfi}{\\left(z \\right)}}{2} & \\text{otherwise} \\end{cases}$"
      ],
      "text/plain": [
       "Eq(Integral(f(x, y, z), x, y, z), Piecewise((-y*z*cos(x) + sqrt(pi)*(I*polylog(2, y*exp_polar(I*pi/2)/x)/2 - I*polylog(2, y*exp_polar(3*I*pi/2)/x)/2)*erfi(z)/2, (y > -1) & (y < 1) & (((y > -oo) & (y < -1)) | ((y > 1) & (y < oo)))), (-y*z*cos(x) + sqrt(pi)*(-I*(log(x)*log(y) - polylog(2, y*exp_polar(I*pi/2)/x))/2 + I*(log(x)*log(y) - polylog(2, y*exp_polar(3*I*pi/2)/x))/2)*erfi(z)/2, (y > -1) & (y < 1)), (-y*z*cos(x) + sqrt(pi)*(-I*(-log(x)*log(1/y) - polylog(2, y*exp_polar(I*pi/2)/x))/2 + I*(-log(x)*log(1/y) - polylog(2, y*exp_polar(3*I*pi/2)/x))/2)*erfi(z)/2, ((y > -oo) & (y < -1)) | ((y > 1) & (y < oo))), (-y*z*cos(x) + sqrt(pi)*(-I*(-meijerg(((), (1, 1)), ((0, 0), ()), y)*log(x) + meijerg(((1, 1), ()), ((), (0, 0)), y)*log(x) - polylog(2, y*exp_polar(I*pi/2)/x))/2 + I*(-meijerg(((), (1, 1)), ((0, 0), ()), y)*log(x) + meijerg(((1, 1), ()), ((), (0, 0)), y)*log(x) - polylog(2, y*exp_polar(3*I*pi/2)/x))/2)*erfi(z)/2, True)))"
      ]
     },
     "metadata": {},
     "output_type": "display_data"
    }
   ],
   "source": [
    "# Définition des variables et fonctions\n",
    "x, y, z = sp.symbols('x y z')\n",
    "f = sp.Function('f')(x,y,z)\n",
    "expr = sp.sin(x) + sp.exp(z**2) / (x**2 + y**2)\n",
    "\n",
    "# Dérivée partielle\n",
    "expr_derivee_x = sp.diff(expr, x)\n",
    "expr_derivee_y = sp.diff(expr, y)\n",
    "expr_derivee_z = sp.diff(expr, z)\n",
    "expr_derivee_xy = sp.diff(expr, x, y)\n",
    "expr_derivee_yz = sp.diff(expr, y, z)\n",
    "expr_derivee_zx = sp.diff(expr, z, x)\n",
    "expr_derivee_xyz = sp.diff(expr, x, y, z)\n",
    "\n",
    "# Integrale:\n",
    "expr_integrale_x = sp.integrate(expr, x)\n",
    "expr_integrale_y = sp.integrate(expr, y)\n",
    "expr_integrale_z = sp.integrate(expr, z)\n",
    "expr_integrale_xy = sp.integrate(expr, x,y)\n",
    "expr_integrale_yz = sp.integrate(expr, y,z)\n",
    "expr_integrale_zx = sp.integrate(expr, z,x)\n",
    "expr_integrale_xyz = sp.integrate(expr, x, y, z)\n",
    "\n",
    "print('-'*50+'\\n'+\"fonction :\")\n",
    "display(sp.Eq(f,expr))\n",
    "print('-'*50+'\\n'+\"Dérivée partielle:\")\n",
    "display(sp.Eq(f.diff(x),expr_derivee_x))\n",
    "print('-'*50+'\\n'+\"Dérivée partielle:\")\n",
    "display(sp.Eq(f.diff(y),expr_derivee_y))\n",
    "print('-'*50+'\\n'+\"Dérivée partielle:\")\n",
    "display(sp.Eq(f.diff(z),expr_derivee_z))\n",
    "print('-'*50+'\\n'+\"Dérivée partielle:\")\n",
    "display(sp.Eq(f.diff(x,y),expr_derivee_xy))\n",
    "print('-'*50+'\\n'+\"Dérivée partielle:\")\n",
    "display(sp.Eq(f.diff(y,z),expr_derivee_yz))\n",
    "print('-'*50+'\\n'+\"Dérivée partielle:\")\n",
    "display(sp.Eq(f.diff(z,x),expr_derivee_zx))\n",
    "print('-'*50+'\\n'+\"Dérivée partielle:\")\n",
    "display(sp.Eq(f.diff(x,y,z),expr_derivee_xyz))\n",
    "\n",
    "print('-'*50+'\\n'+\"Integrale:\")\n",
    "display(sp.Eq(f.integrate(x),expr_integrale_x))\n",
    "print('-'*50+'\\n'+\"Integrale:\")\n",
    "display(sp.Eq(f.integrate(y),expr_integrale_y))\n",
    "print('-'*50+'\\n'+\"Integrale:\")\n",
    "display(sp.Eq(f.integrate(z),expr_integrale_z))\n",
    "print('-'*50+'\\n'+\"Integrale:\")\n",
    "display(sp.Eq(f.integrate(x,y),expr_integrale_xy))\n",
    "print('-'*50+'\\n'+\"Integrale:\")\n",
    "display(sp.Eq(f.integrate(y,z),expr_integrale_yz))\n",
    "print('-'*50+'\\n'+\"Integrale:\")\n",
    "display(sp.Eq(f.integrate(z,x),expr_integrale_zx))\n",
    "print('-'*50+'\\n'+\"Integrale:\")\n",
    "display(sp.Eq(f.integrate(x,y,z),expr_integrale_xyz))\n"
   ]
  },
  {
   "cell_type": "markdown",
   "id": "9346a089-4ad4-423b-8cac-fc7f413bc41e",
   "metadata": {},
   "source": [
    "# Développement en série de Taylor \n",
    "\n",
    "Développement en série de Taylor d'une fonction autour d'un point donné."
   ]
  },
  {
   "cell_type": "code",
   "execution_count": 12,
   "id": "433aeb22",
   "metadata": {
    "lines_to_next_cell": 2
   },
   "outputs": [
    {
     "name": "stdout",
     "output_type": "stream",
     "text": [
      "--------------------------------------------------\n",
      "Fonction:\n"
     ]
    },
    {
     "data": {
      "text/latex": [
       "$\\displaystyle f{\\left(x \\right)} = \\cos{\\left(x \\right)}$"
      ],
      "text/plain": [
       "Eq(f(x), cos(x))"
      ]
     },
     "metadata": {},
     "output_type": "display_data"
    },
    {
     "name": "stdout",
     "output_type": "stream",
     "text": [
      "\n",
      "Expression en série en Taylor:\n"
     ]
    },
    {
     "data": {
      "text/latex": [
       "$\\displaystyle f{\\left(x \\right)} = 1 - \\frac{x^{2}}{2} + \\frac{x^{4}}{24} + O\\left(x^{6}\\right)$"
      ],
      "text/plain": [
       "Eq(f(x), 1 - x**2/2 + x**4/24 + O(x**6))"
      ]
     },
     "metadata": {},
     "output_type": "display_data"
    },
    {
     "name": "stdout",
     "output_type": "stream",
     "text": [
      "--------------------------------------------------\n",
      "Fonction:\n"
     ]
    },
    {
     "data": {
      "text/latex": [
       "$\\displaystyle f{\\left(x \\right)} = e^{x}$"
      ],
      "text/plain": [
       "Eq(f(x), exp(x))"
      ]
     },
     "metadata": {},
     "output_type": "display_data"
    },
    {
     "name": "stdout",
     "output_type": "stream",
     "text": [
      "\n",
      "Expression en série en Taylor:\n"
     ]
    },
    {
     "data": {
      "text/latex": [
       "$\\displaystyle f{\\left(x \\right)} = 1 + x + \\frac{x^{2}}{2} + \\frac{x^{3}}{6} + \\frac{x^{4}}{24} + \\frac{x^{5}}{120} + O\\left(x^{6}\\right)$"
      ],
      "text/plain": [
       "Eq(f(x), 1 + x + x**2/2 + x**3/6 + x**4/24 + x**5/120 + O(x**6))"
      ]
     },
     "metadata": {},
     "output_type": "display_data"
    },
    {
     "name": "stdout",
     "output_type": "stream",
     "text": [
      "--------------------------------------------------\n",
      "Fonction:\n"
     ]
    },
    {
     "data": {
      "text/latex": [
       "$\\displaystyle f{\\left(x \\right)} = \\sin{\\left(x \\right)} + \\frac{e^{z^{2}}}{x^{2} + y^{2}}$"
      ],
      "text/plain": [
       "Eq(f(x), sin(x) + exp(z**2)/(x**2 + y**2))"
      ]
     },
     "metadata": {},
     "output_type": "display_data"
    },
    {
     "name": "stdout",
     "output_type": "stream",
     "text": [
      "\n",
      "Expression en série de Taylor:\n"
     ]
    },
    {
     "data": {
      "text/latex": [
       "$\\displaystyle f{\\left(x \\right)} = \\frac{e^{z^{2}}}{y^{2}} + x - \\frac{x^{2} e^{z^{2}}}{y^{4}} - \\frac{x^{3}}{6} + \\frac{x^{4} e^{z^{2}}}{y^{6}} + \\frac{x^{5}}{120} + O\\left(x^{6}\\right)$"
      ],
      "text/plain": [
       "Eq(f(x), exp(z**2)/y**2 + x - x**2*exp(z**2)/y**4 - x**3/6 + x**4*exp(z**2)/y**6 + x**5/120 + O(x**6))"
      ]
     },
     "metadata": {},
     "output_type": "display_data"
    }
   ],
   "source": [
    "# Fonction:\n",
    "f = sp.Function('f')(x)\n",
    "expr = sp.cos(x)\n",
    "\n",
    "# Développement en série de Taylor \n",
    "expr_serie_0 = expr.series(x, x0=0)\n",
    "\n",
    "print('-'*50+'\\n'+\"Fonction:\")\n",
    "display(sp.Eq(f,expr))\n",
    "print('\\n'+\"Expression en série en Taylor:\")\n",
    "display(sp.Eq(f,expr_serie_0))\n",
    "\n",
    "# Fonction:\n",
    "expr = sp.exp(x)\n",
    "expr_serie_1 = expr.series(x, x0=0)\n",
    "\n",
    "print('-'*50+'\\n'+\"Fonction:\")\n",
    "display(sp.Eq(f,expr))\n",
    "print('\\n'+\"Expression en série en Taylor:\")\n",
    "display(sp.Eq(f,expr_serie_1))\n",
    "\n",
    "# Fonction:\n",
    "expr = sp.sin(x) + sp.exp(z**2) / (x**2 + y**2)\n",
    "expr_serie_2 = expr.series(x, x0=0)\n",
    "\n",
    "print('-'*50+'\\n'+\"Fonction:\")\n",
    "display(sp.Eq(f,expr))\n",
    "print('\\n'+\"Expression en série de Taylor:\")\n",
    "display(sp.Eq(f,expr_serie_2))"
   ]
  },
  {
   "cell_type": "markdown",
   "id": "d852ab73-c4eb-489a-aca1-f333fe1db608",
   "metadata": {},
   "source": [
    "# Racines d'un polynôme\n",
    "\n",
    "Calcul des racines d'un polynôme."
   ]
  },
  {
   "cell_type": "code",
   "execution_count": 13,
   "id": "3eec0347",
   "metadata": {
    "lines_to_next_cell": 2
   },
   "outputs": [
    {
     "name": "stdout",
     "output_type": "stream",
     "text": [
      "Polynôme :\n"
     ]
    },
    {
     "data": {
      "text/latex": [
       "$\\displaystyle f{\\left(x \\right)} = 6 x^{4} + 96 x^{3} + 216 x^{2} + 216 x + 81$"
      ],
      "text/plain": [
       "Eq(f(x), 6*x**4 + 96*x**3 + 216*x**2 + 216*x + 81)"
      ]
     },
     "metadata": {},
     "output_type": "display_data"
    },
    {
     "name": "stdout",
     "output_type": "stream",
     "text": [
      "Racines du polynôme :\n"
     ]
    },
    {
     "data": {
      "text/plain": [
       "[-4 - sqrt(10) + sqrt(20 + 13*sqrt(10)/2),\n",
       " -4 + sqrt(10) - sqrt(20 - 13*sqrt(10)/2),\n",
       " -4 + sqrt(10) + sqrt(20 - 13*sqrt(10)/2),\n",
       " -sqrt(20 + 13*sqrt(10)/2) - 4 - sqrt(10)]"
      ]
     },
     "execution_count": 13,
     "metadata": {},
     "output_type": "execute_result"
    }
   ],
   "source": [
    "# Définition de la variable et du polynôme\n",
    "x = sp.symbols('x')\n",
    "f = sp.Function('f')(x)\n",
    "poly = 6*x**4 + 96*x**3 + 216*x**2 + 216*x + 81\n",
    "\n",
    "\n",
    "# Calcul des racines\n",
    "roots = sp.solve(poly, x)\n",
    "\n",
    "print(\"Polynôme :\")\n",
    "display(sp.Eq(f,poly))\n",
    "print(\"Racines du polynôme :\")\n",
    "roots"
   ]
  },
  {
   "cell_type": "markdown",
   "id": "cd6d161b-ad34-49fe-9aaa-464473aa6504",
   "metadata": {},
   "source": [
    "# Fonctions trigonométriques\n",
    "\n",
    "Simplification et expansion des expressions trigonométriques à l'aide des identités trigonométriques."
   ]
  },
  {
   "cell_type": "code",
   "execution_count": 14,
   "id": "d10f5ff3",
   "metadata": {
    "lines_to_next_cell": 2
   },
   "outputs": [
    {
     "name": "stdout",
     "output_type": "stream",
     "text": [
      "--------------------------------------------------\n",
      "Fonction:\n"
     ]
    },
    {
     "data": {
      "text/latex": [
       "$\\displaystyle \\sin^{2}{\\left(x \\right)} + \\cos^{2}{\\left(x \\right)}$"
      ],
      "text/plain": [
       "sin(x)**2 + cos(x)**2"
      ]
     },
     "metadata": {},
     "output_type": "display_data"
    },
    {
     "name": "stdout",
     "output_type": "stream",
     "text": [
      "\n",
      "Expression simplifiée :\n"
     ]
    },
    {
     "data": {
      "text/latex": [
       "$\\displaystyle 1$"
      ],
      "text/plain": [
       "1"
      ]
     },
     "metadata": {},
     "output_type": "display_data"
    },
    {
     "name": "stdout",
     "output_type": "stream",
     "text": [
      "--------------------------------------------------\n",
      "Fonction:\n"
     ]
    },
    {
     "data": {
      "text/latex": [
       "$\\displaystyle \\sin{\\left(x + y \\right)}$"
      ],
      "text/plain": [
       "sin(x + y)"
      ]
     },
     "metadata": {},
     "output_type": "display_data"
    },
    {
     "name": "stdout",
     "output_type": "stream",
     "text": [
      "\n",
      "Expression développée :\n"
     ]
    },
    {
     "data": {
      "text/latex": [
       "$\\displaystyle \\sin{\\left(x \\right)} \\cos{\\left(y \\right)} + \\sin{\\left(y \\right)} \\cos{\\left(x \\right)}$"
      ],
      "text/plain": [
       "sin(x)*cos(y) + sin(y)*cos(x)"
      ]
     },
     "metadata": {},
     "output_type": "display_data"
    },
    {
     "name": "stdout",
     "output_type": "stream",
     "text": [
      "--------------------------------------------------\n",
      "Fonction:\n"
     ]
    },
    {
     "data": {
      "text/latex": [
       "$\\displaystyle \\cos{\\left(x + y \\right)}$"
      ],
      "text/plain": [
       "cos(x + y)"
      ]
     },
     "metadata": {},
     "output_type": "display_data"
    },
    {
     "name": "stdout",
     "output_type": "stream",
     "text": [
      "\n",
      "Expression développée :\n"
     ]
    },
    {
     "data": {
      "text/latex": [
       "$\\displaystyle - \\sin{\\left(x \\right)} \\sin{\\left(y \\right)} + \\cos{\\left(x \\right)} \\cos{\\left(y \\right)}$"
      ],
      "text/plain": [
       "-sin(x)*sin(y) + cos(x)*cos(y)"
      ]
     },
     "metadata": {},
     "output_type": "display_data"
    },
    {
     "name": "stdout",
     "output_type": "stream",
     "text": [
      "--------------------------------------------------\n",
      "Fonction:\n"
     ]
    },
    {
     "data": {
      "text/latex": [
       "$\\displaystyle \\tan{\\left(x + y \\right)}$"
      ],
      "text/plain": [
       "tan(x + y)"
      ]
     },
     "metadata": {},
     "output_type": "display_data"
    },
    {
     "name": "stdout",
     "output_type": "stream",
     "text": [
      "\n",
      "Expression développée :\n"
     ]
    },
    {
     "data": {
      "text/latex": [
       "$\\displaystyle \\frac{\\tan{\\left(x \\right)} + \\tan{\\left(y \\right)}}{- \\tan{\\left(x \\right)} \\tan{\\left(y \\right)} + 1}$"
      ],
      "text/plain": [
       "(tan(x) + tan(y))/(-tan(x)*tan(y) + 1)"
      ]
     },
     "metadata": {},
     "output_type": "display_data"
    }
   ],
   "source": [
    "# Définition des variables\n",
    "x, y = sp.symbols('x y')\n",
    "\n",
    "# Définition d'expressions trigonométriques\n",
    "expr1 = sp.sin(x) ** 2 + sp.cos(x) ** 2\n",
    "expr2 = sp.sin(x + y)\n",
    "expr3 = sp.cos(x + y)\n",
    "expr4 = sp.tan(x + y)\n",
    "\n",
    "# Simplification\n",
    "simplify_expr1 = sp.simplify(expr1)\n",
    "\n",
    "print('-'*50+'\\n'+\"Fonction:\")\n",
    "display(expr1)\n",
    "print('\\n'+\"Expression simplifiée :\")\n",
    "display(simplify_expr1)\n",
    "\n",
    "# Utilisation des identités trigonométriques\n",
    "expand_expr2 = sp.expand_trig(expr2)\n",
    "expand_expr3 = sp.expand_trig(expr3)\n",
    "expand_expr4 = sp.expand_trig(expr4)\n",
    "\n",
    "print('-'*50+'\\n'+\"Fonction:\")\n",
    "display(expr2)\n",
    "print('\\n'+\"Expression développée :\")\n",
    "display(expand_expr2)\n",
    "print('-'*50+'\\n'+\"Fonction:\")\n",
    "display(expr3)\n",
    "print('\\n'+\"Expression développée :\")\n",
    "display(expand_expr3)\n",
    "print('-'*50+'\\n'+\"Fonction:\")\n",
    "display(expr4)\n",
    "print('\\n'+\"Expression développée :\")\n",
    "display(expand_expr4)\n"
   ]
  },
  {
   "cell_type": "markdown",
   "id": "fb6e4d68-e2fb-4e03-918b-2817e660e557",
   "metadata": {},
   "source": [
    "# Calcul matriciel\n",
    "\n",
    "Effectuer des opérations matricielles telles que l'inversion, la transposition, la multiplication et le calcul du déterminant."
   ]
  },
  {
   "cell_type": "code",
   "execution_count": 15,
   "id": "5f97db8b-6a20-488f-a760-1621210a51cb",
   "metadata": {},
   "outputs": [
    {
     "name": "stdout",
     "output_type": "stream",
     "text": [
      "Matrices de base :\n",
      "\n",
      "Matrice A :\n"
     ]
    },
    {
     "data": {
      "text/latex": [
       "$\\displaystyle \\left[\\begin{matrix}1 & 2\\\\3 & 4\\end{matrix}\\right]$"
      ],
      "text/plain": [
       "Matrix([\n",
       "[1, 2],\n",
       "[3, 4]])"
      ]
     },
     "metadata": {},
     "output_type": "display_data"
    },
    {
     "name": "stdout",
     "output_type": "stream",
     "text": [
      "\n",
      "Matrice B :\n"
     ]
    },
    {
     "data": {
      "text/latex": [
       "$\\displaystyle \\left[\\begin{matrix}1 & 0 & 0\\\\0 & 1 & 0\\\\0 & 0 & 1\\end{matrix}\\right]$"
      ],
      "text/plain": [
       "Matrix([\n",
       "[1, 0, 0],\n",
       "[0, 1, 0],\n",
       "[0, 0, 1]])"
      ]
     },
     "metadata": {},
     "output_type": "display_data"
    },
    {
     "name": "stdout",
     "output_type": "stream",
     "text": [
      "\n",
      "Matrice C :\n"
     ]
    },
    {
     "data": {
      "text/latex": [
       "$\\displaystyle \\left[\\begin{matrix}0 & 0 & 0\\\\0 & 0 & 0\\end{matrix}\\right]$"
      ],
      "text/plain": [
       "Matrix([\n",
       "[0, 0, 0],\n",
       "[0, 0, 0]])"
      ]
     },
     "metadata": {},
     "output_type": "display_data"
    },
    {
     "name": "stdout",
     "output_type": "stream",
     "text": [
      "\n",
      "Matrice D :\n"
     ]
    },
    {
     "data": {
      "text/latex": [
       "$\\displaystyle \\left[\\begin{matrix}1 & 1\\\\1 & 1\\\\1 & 1\\end{matrix}\\right]$"
      ],
      "text/plain": [
       "Matrix([\n",
       "[1, 1],\n",
       "[1, 1],\n",
       "[1, 1]])"
      ]
     },
     "metadata": {},
     "output_type": "display_data"
    },
    {
     "name": "stdout",
     "output_type": "stream",
     "text": [
      "\n",
      "Matrice E :\n"
     ]
    },
    {
     "data": {
      "text/latex": [
       "$\\displaystyle \\left[\\begin{matrix}e_{00} & e_{10}\\\\e_{01} & e_{11}\\end{matrix}\\right]$"
      ],
      "text/plain": [
       "Matrix([\n",
       "[e00, e10],\n",
       "[e01, e11]])"
      ]
     },
     "metadata": {},
     "output_type": "display_data"
    },
    {
     "name": "stdout",
     "output_type": "stream",
     "text": [
      "--------------------------------------------------\n",
      "Inverse de A :\n"
     ]
    },
    {
     "data": {
      "text/latex": [
       "$\\displaystyle \\left[\\begin{matrix}-2 & 1\\\\\\frac{3}{2} & - \\frac{1}{2}\\end{matrix}\\right]$"
      ],
      "text/plain": [
       "Matrix([\n",
       "[ -2,    1],\n",
       "[3/2, -1/2]])"
      ]
     },
     "metadata": {},
     "output_type": "display_data"
    },
    {
     "name": "stdout",
     "output_type": "stream",
     "text": [
      "--------------------------------------------------\n",
      "Déterminant de A :\n"
     ]
    },
    {
     "data": {
      "text/latex": [
       "$\\displaystyle -2$"
      ],
      "text/plain": [
       "-2"
      ]
     },
     "metadata": {},
     "output_type": "display_data"
    },
    {
     "name": "stdout",
     "output_type": "stream",
     "text": [
      "--------------------------------------------------\n",
      "Transposition de A :\n"
     ]
    },
    {
     "data": {
      "text/latex": [
       "$\\displaystyle \\left[\\begin{matrix}1 & 3\\\\2 & 4\\end{matrix}\\right]$"
      ],
      "text/plain": [
       "Matrix([\n",
       "[1, 3],\n",
       "[2, 4]])"
      ]
     },
     "metadata": {},
     "output_type": "display_data"
    },
    {
     "name": "stdout",
     "output_type": "stream",
     "text": [
      "--------------------------------------------------\n",
      "Multiplication A * E:\n"
     ]
    },
    {
     "data": {
      "text/latex": [
       "$\\displaystyle \\left[\\begin{matrix}e_{00} + 2 e_{01} & e_{10} + 2 e_{11}\\\\3 e_{00} + 4 e_{01} & 3 e_{10} + 4 e_{11}\\end{matrix}\\right]$"
      ],
      "text/plain": [
       "Matrix([\n",
       "[  e00 + 2*e01,   e10 + 2*e11],\n",
       "[3*e00 + 4*e01, 3*e10 + 4*e11]])"
      ]
     },
     "metadata": {},
     "output_type": "display_data"
    }
   ],
   "source": [
    "# Variables\n",
    "e00, e10, e01, e11 = sp.symbols('e00, e10, e01, e11')\n",
    "\n",
    "# Création de matrices\n",
    "A = sp.Matrix([[1, 2], [3, 4]])\n",
    "B = sp.eye(3)  # Matrice identité de taille 3x3\n",
    "C = sp.zeros(2, 3)  # Matrice de zéros de taille 2x3\n",
    "D = sp.ones(3, 2)  # Matrice de uns de taille 3x2\n",
    "E = sp.Matrix([[e00, e10], [e01, e11]])\n",
    "\n",
    "print(\"Matrices de base :\")\n",
    "print(\"\\nMatrice A :\")\n",
    "display(A)\n",
    "print(\"\\nMatrice B :\")\n",
    "display(B)\n",
    "print(\"\\nMatrice C :\")\n",
    "display(C)\n",
    "print(\"\\nMatrice D :\")\n",
    "display(D)\n",
    "print(\"\\nMatrice E :\")\n",
    "display(E)\n",
    "\n",
    "# Inversion de matrice\n",
    "A_inv = A.inv()\n",
    "print('-'*50+\"\\nInverse de A :\")\n",
    "display(A_inv)\n",
    "\n",
    "# Déterminant de matrice\n",
    "A_det = A.det()\n",
    "print('-'*50+\"\\nDéterminant de A :\")\n",
    "display(A_det)\n",
    "\n",
    "# Transposition de matrice\n",
    "A_transpose = A.T\n",
    "print('-'*50+\"\\nTransposition de A :\")\n",
    "display(A_transpose)\n",
    "\n",
    "# Multiplication de matrices\n",
    "A_E_mult = A * E\n",
    "print('-'*50+\"\\nMultiplication A * E:\")\n",
    "display(A_E_mult)"
   ]
  },
  {
   "cell_type": "code",
   "execution_count": 19,
   "id": "9c08ec36-3756-4939-a72d-da7eec461de5",
   "metadata": {},
   "outputs": [
    {
     "name": "stdout",
     "output_type": "stream",
     "text": [
      "--------------------------------------------------\n",
      "Fonctions:\n"
     ]
    },
    {
     "data": {
      "text/latex": [
       "$\\displaystyle f_{1}{\\left(x,y,z \\right)} = x^{2} + y^{2} + z^{2}$"
      ],
      "text/plain": [
       "Eq(f1(x, y, z), x**2 + y**2 + z**2)"
      ]
     },
     "metadata": {},
     "output_type": "display_data"
    },
    {
     "data": {
      "text/latex": [
       "$\\displaystyle f_{2}{\\left(x,y,z \\right)} = x y + x z + y z$"
      ],
      "text/plain": [
       "Eq(f2(x, y, z), x*y + x*z + y*z)"
      ]
     },
     "metadata": {},
     "output_type": "display_data"
    },
    {
     "data": {
      "text/latex": [
       "$\\displaystyle f_{3}{\\left(x,y,z \\right)} = e^{z} + \\sin{\\left(x \\right)} + \\cos{\\left(y \\right)}$"
      ],
      "text/plain": [
       "Eq(f3(x, y, z), exp(z) + sin(x) + cos(y))"
      ]
     },
     "metadata": {},
     "output_type": "display_data"
    },
    {
     "name": "stdout",
     "output_type": "stream",
     "text": [
      "--------------------------------------------------\n",
      "Matrice jacobienne:\n"
     ]
    },
    {
     "data": {
      "text/latex": [
       "$\\displaystyle \\left[\\begin{matrix}\\frac{\\partial}{\\partial x} f_{1}{\\left(x,y,z \\right)} & \\frac{\\partial}{\\partial y} f_{1}{\\left(x,y,z \\right)} & \\frac{\\partial}{\\partial z} f_{1}{\\left(x,y,z \\right)}\\\\\\frac{\\partial}{\\partial x} f_{2}{\\left(x,y,z \\right)} & \\frac{\\partial}{\\partial y} f_{2}{\\left(x,y,z \\right)} & \\frac{\\partial}{\\partial z} f_{2}{\\left(x,y,z \\right)}\\\\\\frac{\\partial}{\\partial x} f_{3}{\\left(x,y,z \\right)} & \\frac{\\partial}{\\partial y} f_{3}{\\left(x,y,z \\right)} & \\frac{\\partial}{\\partial z} f_{3}{\\left(x,y,z \\right)}\\end{matrix}\\right]$"
      ],
      "text/plain": [
       "Matrix([\n",
       "[Derivative(f1(x, y, z), x), Derivative(f1(x, y, z), y), Derivative(f1(x, y, z), z)],\n",
       "[Derivative(f2(x, y, z), x), Derivative(f2(x, y, z), y), Derivative(f2(x, y, z), z)],\n",
       "[Derivative(f3(x, y, z), x), Derivative(f3(x, y, z), y), Derivative(f3(x, y, z), z)]])"
      ]
     },
     "metadata": {},
     "output_type": "display_data"
    },
    {
     "name": "stdout",
     "output_type": "stream",
     "text": [
      "=\n"
     ]
    },
    {
     "data": {
      "text/latex": [
       "$\\displaystyle \\left[\\begin{matrix}2 x & 2 y & 2 z\\\\y + z & x + z & x + y\\\\\\cos{\\left(x \\right)} & - \\sin{\\left(y \\right)} & e^{z}\\end{matrix}\\right]$"
      ],
      "text/plain": [
       "Matrix([\n",
       "[   2*x,     2*y,    2*z],\n",
       "[ y + z,   x + z,  x + y],\n",
       "[cos(x), -sin(y), exp(z)]])"
      ]
     },
     "metadata": {},
     "output_type": "display_data"
    }
   ],
   "source": [
    "# Matrice Jacobienne\n",
    "# Déclaration des variables\n",
    "x, y, z = sp.symbols('x y z')\n",
    "\n",
    "# Déclaration des fonctions\n",
    "f1 = sp.Function('f1')(x,y,z)\n",
    "f2 = sp.Function('f2')(x,y,z)\n",
    "f3 = sp.Function('f3')(x,y,z)\n",
    "expr1 = x**2 + y**2 + z**2\n",
    "expr2 = x*y + y*z + z*x\n",
    "expr3 = sp.sin(x) + sp.cos(y) + sp.exp(z)\n",
    "\n",
    "# Matrice jacobienne générale\n",
    "# Vecteur de fonctions\n",
    "F = sp.Matrix([f1, f2, f3])\n",
    "# Vecteur de variables\n",
    "Var = sp.Matrix([x, y, z])\n",
    "# Calcul de la matrice jacobienne\n",
    "J = F.jacobian(Var)\n",
    "\n",
    "# Matrice jacobienne calculée\n",
    "# Vecteur de fonctions\n",
    "Expr = sp.Matrix([expr1, expr2, expr3])\n",
    "# Vecteur de variables\n",
    "Var = sp.Matrix([x, y, z])\n",
    "# Calcul de la matrice jacobienne\n",
    "Jexpr = Expr.jacobian(Var)\n",
    "\n",
    "# Affichage des fonctions\n",
    "print('-'*50+\"\\nFonctions:\")\n",
    "display(sp.Eq(f1, expr1))\n",
    "display(sp.Eq(f2, expr2))\n",
    "display(sp.Eq(f3, expr3))\n",
    "\n",
    "# Affichage de la matrice jacobienne\n",
    "print('-'*50+\"\\nMatrice jacobienne:\")\n",
    "display(J)\n",
    "print('=')\n",
    "display(Jexpr)"
   ]
  },
  {
   "cell_type": "markdown",
   "id": "7c654257-8a11-4c09-8ecf-a37bb7320280",
   "metadata": {},
   "source": [
    "# Résolution d'équations\n",
    "\n",
    "Résoudre différents types d'équations symboliques: les équations algébriques et les équations différentielles.\n",
    "\n",
    "## Équations algébriques\n",
    "\n"
   ]
  },
  {
   "cell_type": "code",
   "execution_count": 17,
   "id": "638d93b5-9d02-4584-b3a3-213c55cee90b",
   "metadata": {},
   "outputs": [
    {
     "name": "stdout",
     "output_type": "stream",
     "text": [
      "--------------------------------------------------\n",
      "Fonctions:\n"
     ]
    },
    {
     "data": {
      "text/latex": [
       "$\\displaystyle f_{1}{\\left(x \\right)} = 2 x^{2} - 3$"
      ],
      "text/plain": [
       "Eq(f1(x), 2*x**2 - 3)"
      ]
     },
     "metadata": {},
     "output_type": "display_data"
    },
    {
     "data": {
      "text/latex": [
       "$\\displaystyle f_{2}{\\left(x,y \\right)} = x + y - 1$"
      ],
      "text/plain": [
       "Eq(f2(x, y), x + y - 1)"
      ]
     },
     "metadata": {},
     "output_type": "display_data"
    },
    {
     "data": {
      "text/latex": [
       "$\\displaystyle f_{3}{\\left(x,y \\right)} = 2 x - y - 3$"
      ],
      "text/plain": [
       "Eq(f3(x, y), 2*x - y - 3)"
      ]
     },
     "metadata": {},
     "output_type": "display_data"
    },
    {
     "name": "stdout",
     "output_type": "stream",
     "text": [
      "--------------------------------------------------\n",
      "Solution équation 1 selon x :\n",
      "x = {-sqrt(6)/2, sqrt(6)/2}\n",
      "--------------------------------------------------\n",
      "Solution équation 3 selon x :\n",
      "x = {y/2 + 3/2}\n",
      "--------------------------------------------------\n",
      "Solution équation 3 selon y :\n",
      "y = {2*x - 3}\n",
      "--------------------------------------------------\n",
      "Solution du système d'équations expr1 + expr2 :\n",
      "[x,y] = [(-sqrt(6)/2, 1 + sqrt(6)/2), (sqrt(6)/2, 1 - sqrt(6)/2)]\n",
      "--------------------------------------------------\n",
      "Solution du système linéaire expr2 + expr3 :\n",
      "[x,y] = {(4/3, -1/3)}\n"
     ]
    }
   ],
   "source": [
    "# Définition des variables\n",
    "x, y = sp.symbols('x y')\n",
    "\n",
    "# Fonction\n",
    "f1 = sp.Function('f1')(x)\n",
    "f2 = sp.Function('f2')(x,y)\n",
    "f3 = sp.Function('f3')(x,y)\n",
    "expr1 = 2*x**2 - 3\n",
    "expr2 = x + y - 1\n",
    "expr3 = 2*x - y - 3\n",
    "\n",
    "# Résolution d'une équation\n",
    "solution_expr1_x = sp.solveset(expr1, x)\n",
    "solution_expr3_x = sp.solveset(expr3, x)\n",
    "solution_expr3_y = sp.solveset(expr3, y)\n",
    "\n",
    "# Résolution d'un système d'équations\n",
    "solution_system = sp.solve((expr1, expr2), (x, y))\n",
    "\n",
    "# Résolution d'un système linéaire\n",
    "solution_linsolve = sp.linsolve([expr2, expr3], x, y)\n",
    "\n",
    "\n",
    "# Affichage des résultats:\n",
    "print('-'*50+\"\\nFonctions:\")\n",
    "display(sp.Eq(f1, expr1))\n",
    "display(sp.Eq(f2, expr2))\n",
    "display(sp.Eq(f3, expr3))\n",
    "\n",
    "print('-'*50+\"\\nSolution équation 1 selon x :\")\n",
    "print(f'x = {solution_expr1_x}')\n",
    "print('-'*50+\"\\nSolution équation 3 selon x :\")\n",
    "print(f'x = {solution_expr3_x}')\n",
    "print('-'*50+\"\\nSolution équation 3 selon y :\")\n",
    "print(f'y = {solution_expr3_y}')\n",
    "print('-'*50+\"\\nSolution du système d'équations expr1 + expr2 :\")\n",
    "print(f'[x,y] = {solution_system}')\n",
    "print('-'*50+\"\\nSolution du système linéaire expr2 + expr3 :\")\n",
    "print(f'[x,y] = {solution_linsolve}')"
   ]
  },
  {
   "cell_type": "markdown",
   "id": "98d6af88-0ced-4508-9d04-2a3ab2c866f8",
   "metadata": {},
   "source": [
    "## Équations différentielles"
   ]
  },
  {
   "cell_type": "code",
   "execution_count": 18,
   "id": "95bdd8f4",
   "metadata": {
    "lines_to_next_cell": 2
   },
   "outputs": [
    {
     "name": "stdout",
     "output_type": "stream",
     "text": [
      "--------------------------------------------------\n",
      "Équation différentielle:\n"
     ]
    },
    {
     "data": {
      "text/latex": [
       "$\\displaystyle e^{t} = y{\\left(t \\right)} - 2 \\frac{d}{d t} y{\\left(t \\right)} + \\frac{d^{2}}{d t^{2}} y{\\left(t \\right)}$"
      ],
      "text/plain": [
       "Eq(exp(t), y(t) - 2*Derivative(y(t), t) + Derivative(y(t), (t, 2)))"
      ]
     },
     "metadata": {},
     "output_type": "display_data"
    },
    {
     "name": "stdout",
     "output_type": "stream",
     "text": [
      "\n",
      "Solution:\n"
     ]
    },
    {
     "data": {
      "text/latex": [
       "$\\displaystyle y{\\left(t \\right)} = \\left(C_{1} + t \\left(C_{2} + \\frac{t}{2}\\right)\\right) e^{t}$"
      ],
      "text/plain": [
       "Eq(y(t), (C1 + t*(C2 + t/2))*exp(t))"
      ]
     },
     "metadata": {},
     "output_type": "display_data"
    }
   ],
   "source": [
    "# Variables et fonctions\n",
    "t = sp.symbols('t')\n",
    "y = sp.Function('y')(t)\n",
    "\n",
    "# Déclaration de l'équation différentielle\n",
    "ode = sp.Eq(y.diff(t, t) - 2 * y.diff(t) + y, sp.exp(t))\n",
    "\n",
    "# Résolution de l'équation différentielle\n",
    "sol = sp.dsolve(ode)\n",
    "\n",
    "# Affichage:\n",
    "print('-'*50+\"\\nÉquation différentielle:\")\n",
    "display(sp.Eq(ode.rhs,ode.lhs))\n",
    "print(\"\\nSolution:\")\n",
    "display(sol)"
   ]
  }
 ],
 "metadata": {
  "kernelspec": {
   "display_name": "Python 3 (ipykernel)",
   "language": "python",
   "name": "python3"
  },
  "language_info": {
   "codemirror_mode": {
    "name": "ipython",
    "version": 3
   },
   "file_extension": ".py",
   "mimetype": "text/x-python",
   "name": "python",
   "nbconvert_exporter": "python",
   "pygments_lexer": "ipython3",
   "version": "3.12.0"
  }
 },
 "nbformat": 4,
 "nbformat_minor": 5
}
