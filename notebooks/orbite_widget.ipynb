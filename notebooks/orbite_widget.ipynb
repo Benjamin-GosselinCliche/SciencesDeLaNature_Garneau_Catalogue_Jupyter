{
 "cells": [
  {
   "cell_type": "markdown",
   "id": "244fcc60-53ce-4b83-afa6-839c89ed3cac",
   "metadata": {},
   "source": [
    "---\n",
    "# Jupyter Widget\n",
    "\n",
    "<div style=\"text-align: center;\">\n",
    "    <div style=\"display: inline-block; position: relative; width: 350px;\">\n",
    "        <img src=\"../img/_b21780d5-6e0b-4d4b-8388-89e3197acf13.jpeg\" alt=\"Dessin\" style=\"width: 100%;\"/>\n",
    "        <p style=\"text-align: center; margin-top: 5px;\">\n",
    "            <span style=\"font-style: italic; font-size: 16px;\"> Eurêka! </span><br/>\n",
    "            <span style=\"font-style: italic; font-size: 12px;\">Image générée par DALL·E 3, 2024 </span>\n",
    "        </p>\n",
    "    </div>\n",
    "</div>\n",
    "\n",
    "\n",
    "Le terme *widgets* peut être traduit en français par \"éléments interactifs\" ou \"composants interactifs\". Un widget est un objet utilisé dans le contexte des interfaces utilisateur pour désigner des éléments graphiques ou interactifs tels que des boutons, des curseurs, des cases à cocher, etc. C'est ce type d'objet qui permettent à l'utilisateur d'interagir avec une application ou un système informatique. Les utilisateurs peuvent donc explorer, analyser et visualiser des données de manière dynamique. \n",
    "\n",
    "Les widgets permettent aux utilisateurs d'interagir avec le code en temps réel, en ajustant les paramètres ou en sélectionnant des options, ce qui a pour effet de modifier les extrants. Au fond, il s'agit d'une expression particulière du principe fondamental de l'interaction entre le *frontend* (interface utilisateur côté client) et le *backend* (code côté serveur) qui se cache dans la construction de tous les sites web et les applications. \n",
    "\n",
    "Dans le contexte de *Jupyter Widget*, un exemple d'utilisation très utile se rapportent aux fonctions mathématiques. En effet, leur visualisation dynamique permettent de mieux les comprendre.\n"
   ]
  },
  {
   "cell_type": "code",
   "execution_count": 1,
   "id": "a1bda54e-20b1-417b-88da-397fe5247f94",
   "metadata": {},
   "outputs": [],
   "source": [
    "# Importation de la librairie:\n",
    "import ipywidgets as widgets"
   ]
  },
  {
   "cell_type": "markdown",
   "id": "98aa2210-5beb-488b-a8f6-a9f2d5ba9f20",
   "metadata": {},
   "source": [
    "---\n",
    "# Widgets de base:\n",
    "\n",
    "Il en existent de nombreux. Les plus importants (numériques, booléens, sélection, texte)  sont listés ci-dessous.  "
   ]
  },
  {
   "cell_type": "markdown",
   "id": "8762fab6-7039-44fb-9930-1b4d47ab4c1f",
   "metadata": {},
   "source": [
    "\n",
    "## Widgets numériques :\n",
    "\n",
    "Il s'agit des widgets relatifs valeurs numériques `int` et `float`.\n",
    "\n",
    "Les options des curseurs sont:\n",
    "- `value`: La valeur initiale du curseur. \n",
    "- `min`: La valeur minimale autorisée pour le curseur.\n",
    "- `max`: La valeur maximale autorisée pour le curseur. \n",
    "- `step`: L'incrément par lequel la valeur du curseur change à chaque étape. \n",
    "- `description`: La description affichée à côté du curseur. \n",
    "- `disabled`: Indique si le curseur est activé ou désactivé. Si la valeur est `True`, le curseur est désactivé et ne peut pas être modifié par l'utilisateur. Par défaut: `False`.\n",
    "- `continuous_update`: Contrôle si la mise à jour du curseur se produit en temps réel ou seulement lorsque l'utilisateur relâche le curseur. Si la valeur est `True`, la mise à jour est continue pendant que le curseur est déplacé. Par défaut: `False`.\n",
    "- `orientation`: L'orientation du curseur. Les options sont 'horizontal' ou 'vertical'. Par défaut: `'horizontal'`.\n",
    "- `readout`: Indique si la valeur actuelle du curseur est affichée. Si la valeur est `True`, une lecture de la valeur actuelle est affichée à côté du curseur. Par défaut: `True`.\n",
    "- `readout_format`: Le format de la lecture de la valeur du curseur. Pour afficher un nombre entier, le format est : `'d'`. Pour afficher un nombre réel en spécifiant le nombre de décimale, par exemple 2, le format est : `'.2f'`. "
   ]
  },
  {
   "cell_type": "code",
   "execution_count": 2,
   "id": "2ff1850a-9dd4-4790-9d71-88b821db694a",
   "metadata": {},
   "outputs": [
    {
     "data": {
      "application/vnd.jupyter.widget-view+json": {
       "model_id": "502eda57fbb54dbebf3456beddb20d22",
       "version_major": 2,
       "version_minor": 0
      },
      "text/plain": [
       "IntSlider(value=7, description='a = ', max=10)"
      ]
     },
     "metadata": {},
     "output_type": "display_data"
    },
    {
     "data": {
      "application/vnd.jupyter.widget-view+json": {
       "model_id": "9b310b559af7471a973e7accc815032a",
       "version_major": 2,
       "version_minor": 0
      },
      "text/plain": [
       "FloatSlider(value=7.0, description='b = ', max=10.0, readout_format='.3f')"
      ]
     },
     "metadata": {},
     "output_type": "display_data"
    }
   ],
   "source": [
    "a = widgets.IntSlider(value=7, min=0, max=10, step=1, description='a = ')\n",
    "b = widgets.FloatSlider(value=7, min=0, max=10, step=.1, description='b = ', readout_format='.3f')\n",
    "display(a)\n",
    "display(b)"
   ]
  },
  {
   "cell_type": "code",
   "execution_count": 3,
   "id": "d4e8d4d5-343a-4601-8784-fe04612c7b8c",
   "metadata": {},
   "outputs": [
    {
     "data": {
      "application/vnd.jupyter.widget-view+json": {
       "model_id": "6f422f115a384728be544de1c8d72a73",
       "version_major": 2,
       "version_minor": 0
      },
      "text/plain": [
       "IntRangeSlider(value=(6, 8), description='Pairs-Int:', max=10, step=2)"
      ]
     },
     "metadata": {},
     "output_type": "display_data"
    },
    {
     "data": {
      "application/vnd.jupyter.widget-view+json": {
       "model_id": "66d14ccc57144867abf661b43ecc3e43",
       "version_major": 2,
       "version_minor": 0
      },
      "text/plain": [
       "FloatRangeSlider(value=(5.0, 7.0), description='Domaine:', max=10.0, step=0.2)"
      ]
     },
     "metadata": {},
     "output_type": "display_data"
    }
   ],
   "source": [
    "w1 = widgets.IntRangeSlider(value=[6, 8], min=0, max=10, step=2, description='Pairs-Int:')\n",
    "w2 = widgets.FloatRangeSlider(value=[5, 7], min=0, max=10, step=.2, description='Domaine:')\n",
    "display(w1)\n",
    "display(w2)"
   ]
  },
  {
   "cell_type": "code",
   "execution_count": 4,
   "id": "5b1e6749-4104-489f-9a8e-2028e22b0e0a",
   "metadata": {},
   "outputs": [
    {
     "data": {
      "application/vnd.jupyter.widget-view+json": {
       "model_id": "a87873ab306b4c4890ea1ce34429ff36",
       "version_major": 2,
       "version_minor": 0
      },
      "text/plain": [
       "BoundedIntText(value=7, description='a = ', max=10)"
      ]
     },
     "metadata": {},
     "output_type": "display_data"
    },
    {
     "data": {
      "application/vnd.jupyter.widget-view+json": {
       "model_id": "d44b409469624851b9703d1b3d24fd9f",
       "version_major": 2,
       "version_minor": 0
      },
      "text/plain": [
       "BoundedFloatText(value=7.0, description='b = ', max=10.0, step=0.01)"
      ]
     },
     "metadata": {},
     "output_type": "display_data"
    }
   ],
   "source": [
    "a = widgets.BoundedIntText(value=7, min=0, max=10, step=1, description='a = ')\n",
    "b = widgets.BoundedFloatText(value=7, min=0, max=10, step=.01, description='b = ')\n",
    "display(a)\n",
    "display(b)"
   ]
  },
  {
   "cell_type": "markdown",
   "id": "39b40e31-63b4-4379-b168-3fdf94aa556a",
   "metadata": {},
   "source": [
    "---\n",
    "## Widgets booléens :\n",
    "\n",
    "Il s'agit des widgets relatifs valeurs booléennes. Ces widgets change l'état d'une variable `True` ou `False`."
   ]
  },
  {
   "cell_type": "code",
   "execution_count": 5,
   "id": "a845e668-1a2b-4d6e-b7de-e0bece731dda",
   "metadata": {},
   "outputs": [
    {
     "data": {
      "application/vnd.jupyter.widget-view+json": {
       "model_id": "f7bbbfc4ed6f4238b70ba7b5ebf30ca6",
       "version_major": 2,
       "version_minor": 0
      },
      "text/plain": [
       "ToggleButton(value=False, description='Cliquez', icon='check', tooltip='Description')"
      ]
     },
     "execution_count": 5,
     "metadata": {},
     "output_type": "execute_result"
    }
   ],
   "source": [
    "widgets.ToggleButton(\n",
    "    value=False,\n",
    "    description='Cliquez',\n",
    "    disabled=False,\n",
    "    button_style='', # 'success', 'info', 'warning', 'danger' or ''\n",
    "    tooltip='Description',\n",
    "    icon='check' # (FontAwesome names without the `fa-` prefix)\n",
    ")"
   ]
  },
  {
   "cell_type": "code",
   "execution_count": 6,
   "id": "7107eaeb-8f03-4ea2-9136-c94840a01c75",
   "metadata": {},
   "outputs": [
    {
     "data": {
      "application/vnd.jupyter.widget-view+json": {
       "model_id": "0286082a875945f98f376aeafb7eb477",
       "version_major": 2,
       "version_minor": 0
      },
      "text/plain": [
       "Checkbox(value=False, description='Cochez', indent=False)"
      ]
     },
     "execution_count": 6,
     "metadata": {},
     "output_type": "execute_result"
    }
   ],
   "source": [
    "widgets.Checkbox(\n",
    "    value=False,\n",
    "    description='Cochez',\n",
    "    disabled=False,\n",
    "    indent=False\n",
    ")"
   ]
  },
  {
   "cell_type": "markdown",
   "id": "b48b7fbb-e41d-4fa8-905e-bcedbadde14e",
   "metadata": {},
   "source": [
    "---\n",
    "## Widgets de sélection :\n",
    "\n",
    "Il s'agit des wigdets qui permettent de sélectionner des valeurs catégorielles."
   ]
  },
  {
   "cell_type": "code",
   "execution_count": 7,
   "id": "521b75ba-05e5-4648-b577-6367d71f8bf4",
   "metadata": {},
   "outputs": [
    {
     "data": {
      "application/vnd.jupyter.widget-view+json": {
       "model_id": "f98dd8136d814d84957ac66cac5eed1e",
       "version_major": 2,
       "version_minor": 0
      },
      "text/plain": [
       "RadioButtons(description='Operating System:', options=('Linux', 'MacOs', 'Windows'), value='Linux')"
      ]
     },
     "execution_count": 7,
     "metadata": {},
     "output_type": "execute_result"
    }
   ],
   "source": [
    "widgets.RadioButtons(\n",
    "    options=['Linux', 'MacOs', 'Windows'],\n",
    "    description='Operating System:',\n",
    "    disabled=False\n",
    ")"
   ]
  },
  {
   "cell_type": "code",
   "execution_count": 8,
   "id": "1f50c9f0-e784-4c0e-a035-d4af29bb6f6a",
   "metadata": {},
   "outputs": [
    {
     "data": {
      "application/vnd.jupyter.widget-view+json": {
       "model_id": "2b2415d959fa4c3dab12d9c870f060ae",
       "version_major": 2,
       "version_minor": 0
      },
      "text/plain": [
       "Dropdown(description='OS:', index=1, options=(('Linux', 1), ('MacOs', 2), ('Windows', 3)), value=2)"
      ]
     },
     "execution_count": 8,
     "metadata": {},
     "output_type": "execute_result"
    }
   ],
   "source": [
    "widgets.Dropdown(\n",
    "    options=[('Linux', 1), ('MacOs', 2), ('Windows', 3)],\n",
    "    value=2,\n",
    "    description='OS:',\n",
    ")"
   ]
  },
  {
   "cell_type": "code",
   "execution_count": 9,
   "id": "ad43a7ba-64a4-442f-a685-78ca622cceec",
   "metadata": {},
   "outputs": [
    {
     "data": {
      "application/vnd.jupyter.widget-view+json": {
       "model_id": "c3241d74889c4073a05ef4317e4ba837",
       "version_major": 2,
       "version_minor": 0
      },
      "text/plain": [
       "ToggleButtons(button_style='info', options=('Linux', 'MacOs', 'Windows'), tooltips=('open-source et polyvalent…"
      ]
     },
     "execution_count": 9,
     "metadata": {},
     "output_type": "execute_result"
    }
   ],
   "source": [
    "widgets.ToggleButtons(\n",
    "    options=['Linux', 'MacOs', 'Windows'],\n",
    "    description='',\n",
    "    disabled=False,\n",
    "    button_style='info',# 'success', 'info', 'warning', 'danger' or ''\n",
    "    tooltips=['open-source et polyvalent', 'performant avec un design robuste basé sur unix', 'nécessite une mise à jour chaque fois qu\\'il pleut'],\n",
    "#     icons=['check'] * 3\n",
    ")"
   ]
  },
  {
   "cell_type": "markdown",
   "id": "3ce448f5-9ca2-4561-bb1b-5eccffd5bd39",
   "metadata": {},
   "source": [
    "---\n",
    "## Widgets de texte :\n",
    "\n",
    "Il s'agit de widgets qui permettent d'afficher une variable `str` ou de modifier sa valeur. "
   ]
  },
  {
   "cell_type": "code",
   "execution_count": 10,
   "id": "50969020-520a-41ca-b23d-cd4ddd623c97",
   "metadata": {},
   "outputs": [
    {
     "data": {
      "application/vnd.jupyter.widget-view+json": {
       "model_id": "b52a26c2c118429f958777839ff841d2",
       "version_major": 2,
       "version_minor": 0
      },
      "text/plain": [
       "Text(value='Hello World', description='String:', placeholder='')"
      ]
     },
     "execution_count": 10,
     "metadata": {},
     "output_type": "execute_result"
    }
   ],
   "source": [
    "widgets.Text(\n",
    "    value='Hello World',\n",
    "    placeholder='',\n",
    "    description='String:',\n",
    "    disabled=False   \n",
    ")"
   ]
  },
  {
   "cell_type": "code",
   "execution_count": 11,
   "id": "800c4ac3-d7b7-4f5e-8ab3-c4c9426ca8d9",
   "metadata": {},
   "outputs": [
    {
     "data": {
      "application/vnd.jupyter.widget-view+json": {
       "model_id": "0b3cc6f38a74488face31389450745a2",
       "version_major": 2,
       "version_minor": 0
      },
      "text/plain": [
       "Textarea(value='Hello World', description='String:', placeholder='')"
      ]
     },
     "execution_count": 11,
     "metadata": {},
     "output_type": "execute_result"
    }
   ],
   "source": [
    "widgets.Textarea(\n",
    "    value='Hello World',\n",
    "    placeholder='',\n",
    "    description='String:',\n",
    "    disabled=False\n",
    ")"
   ]
  },
  {
   "cell_type": "markdown",
   "id": "69663a95-29a0-4558-b0c2-41943d50f3f4",
   "metadata": {},
   "source": [
    "---\n",
    "# Interact:\n",
    "\n",
    "`interact` est la fonction centrale dans la bibliothèque ipywidgets qui permet de créer des interfaces interactives en liant les variables widgets aux arguments d'une fonction. C'est ici que les widgets prennent tous leur sens.\n",
    "\n",
    "## Exemple 1: fonction linéaire et état\n",
    "\n",
    "Ce code définit une fonction appelée `fonction` qui prend quatre paramètres : `x`, `a`, `b`, et `etat`. Cette fonction calcule une valeur `y` en fonction des paramètres `x`, `a`, et `b`, puis retourne un tuple contenant la valeur de `etat` et la valeur `y`. Ensuite, des widgets interactifs sont créés pour chaque paramètre de la fonction. Il y a trois curseurs pour les paramètres `x`, `a`, et `b`, et une case à cocher pour le paramètre `etat`. Enfin, une interface interactive est créée en utilisant la fonction `interact` du module `widgets`. "
   ]
  },
  {
   "cell_type": "code",
   "execution_count": 12,
   "id": "8bb46167-ccf1-4ace-b596-4eab86772fe7",
   "metadata": {},
   "outputs": [
    {
     "data": {
      "application/vnd.jupyter.widget-view+json": {
       "model_id": "d084f5c66ee640ca96e2761bb83d71af",
       "version_major": 2,
       "version_minor": 0
      },
      "text/plain": [
       "interactive(children=(FloatSlider(value=1.0, description='x:', max=10.0, min=-10.0), FloatSlider(value=1.0, de…"
      ]
     },
     "metadata": {},
     "output_type": "display_data"
    }
   ],
   "source": [
    "# Définition de la fonction qui calcule une valeur en fonction des paramètres\n",
    "def fonction(x, a, b, etat):\n",
    "    y = a * x + b  # Calcul de la valeur y en fonction de x, a et b\n",
    "    return (etat, y)  # Retourne un tuple contenant la valeur etat et la valeur y\n",
    "\n",
    "# Création des widgets pour les paramètres\n",
    "x_widget = widgets.FloatSlider(min=-10, max=10, step=0.1, value=1, description='x:')  # Curseur pour la valeur de x\n",
    "a_widget = widgets.FloatSlider(min=-5,  max=5, step=0.1, value=1, description='a:')   # Curseur pour la valeur de a\n",
    "b_widget = widgets.FloatSlider(min=-10, max=10, step=0.1, value=0, description='b:')  # Curseur pour la valeur de b\n",
    "etat_widget =widgets.Checkbox(value=True, description='Etat')  # Case à cocher pour l'état\n",
    "\n",
    "# Création de l'interface interactive en utilisant interact\n",
    "out = widgets.interact(fonction, x=x_widget, a=a_widget, b=b_widget, etat=etat_widget);"
   ]
  },
  {
   "cell_type": "markdown",
   "id": "b0e56670-a4ae-422e-bb89-cb984c66a745",
   "metadata": {},
   "source": [
    "## Exemple 2: onde sinusoïdale progressive\n",
    "\n",
    "Ce code crée une fonction appelée `plot_sine_wave` qui trace une onde sinusoïdale progressive en fonction de différents paramètres. La fonction prend en entrée la fréquence $f$ (Hz), la longueur d'onde $\\lambda$ (m), l'amplitude $A$ (m), la phase initiale $\\phi_0$ (rad) et le temps $t$ (s).\n",
    "\n",
    "À l'intérieur de la fonction `plot_sine_wave`, on génère d'abord une série de valeurs `x` allant de 0 à 20 avec une résolution de 1000 points. Ensuite, on calcule la fréquence angulaire $\\omega = 2\\pi f$ et le nombre d'onde $k = 2\\pi/\\lambda$. La fonction onde sinusoïdale progressive est alors:\n",
    "\n",
    "$$\n",
    "y(x,t,\\omega,k,\\phi_0) = A \\sin\\left(k x - \\omega t + \\phi_0\\right)\n",
    "$$\n",
    "\n",
    "Un widget de sortie est ajouté pour afficher la vitesse de l'onde: $v = \\lambda f$.\n"
   ]
  },
  {
   "cell_type": "code",
   "execution_count": 13,
   "id": "51527fbf-7afb-4144-9731-efc3f3c99fc0",
   "metadata": {},
   "outputs": [
    {
     "data": {
      "application/vnd.jupyter.widget-view+json": {
       "model_id": "0d85293828de4d8a95b88accfc539c00",
       "version_major": 2,
       "version_minor": 0
      },
      "text/plain": [
       "interactive(children=(FloatSlider(value=1.0, description='f (Hz):', max=10.0, min=0.1), FloatSlider(value=5.0,…"
      ]
     },
     "metadata": {},
     "output_type": "display_data"
    },
    {
     "data": {
      "application/vnd.jupyter.widget-view+json": {
       "model_id": "df7340eaec7344468a65965d2485efac",
       "version_major": 2,
       "version_minor": 0
      },
      "text/plain": [
       "Output()"
      ]
     },
     "metadata": {},
     "output_type": "display_data"
    }
   ],
   "source": [
    "import numpy as np\n",
    "import math\n",
    "import matplotlib.pyplot as plt\n",
    "from ipywidgets import interact, widgets\n",
    "from IPython.display import display, clear_output\n",
    "\n",
    "def plot_sine_wave(f, l, A, phi_0, t):\n",
    "    x = np.linspace(0, 20, 1000)\n",
    "    omega = 2*np.pi*f\n",
    "    k = 2*np.pi/l\n",
    "    y = A * np.sin(k*x - omega*t + phi_0)\n",
    "    plt.plot(x, y)\n",
    "    plt.title('Onde sinusoïdale progressive')\n",
    "    plt.xlabel('x (m)')\n",
    "    plt.ylabel('y (m)')\n",
    "    plt.ylim(-5, 5) \n",
    "    plt.xlim(0, 20)\n",
    "    plt.grid(True)\n",
    "    plt.show()\n",
    "\n",
    "    # Calcul de la vitesse de l'onde\n",
    "    v = l * f\n",
    "    with output_widget:\n",
    "        clear_output(wait=True)\n",
    "        print(f'Vitesse de l\\'onde (m/s) : {v:.3f}')\n",
    "\n",
    "# Création des widgets pour les paramètres d'entrée\n",
    "f_widget = widgets.FloatSlider(min=0.1, max=10, step=0.1, value=1, description='f (Hz):')\n",
    "l_widget = widgets.FloatSlider(min=0.1, max=10, step=0.1, value=5, description='lambda (m):')\n",
    "A_widget = widgets.FloatSlider(min=0.1, max=5, step=0.1, value=1, description='A (m):')\n",
    "phi_0_widget = widgets.FloatSlider(min=0, max=2*np.pi, step=0.1, value=0, description='phi_0 (rad):')\n",
    "t_widget = widgets.FloatSlider(min=0, max=2, step=0.01, value=0, description='Temps (s):')\n",
    "\n",
    "# Création du widget pour le paramètre de sortie\n",
    "output_widget = widgets.Output()\n",
    "\n",
    "# Création de l'interface interactive\n",
    "widgets.interact(plot_sine_wave, f=f_widget, l=l_widget, A=A_widget, phi_0=phi_0_widget, t=t_widget);\n",
    "display(output_widget)"
   ]
  },
  {
   "cell_type": "markdown",
   "id": "6bcb4089-7b72-4666-a437-141f9befe1ed",
   "metadata": {},
   "source": [
    "## Exemple 3: mécanique orbitale"
   ]
  },
  {
   "cell_type": "code",
   "execution_count": 14,
   "id": "042433ee-6c1b-4dea-aa19-8d94e517a114",
   "metadata": {},
   "outputs": [
    {
     "name": "stdout",
     "output_type": "stream",
     "text": [
      "Échelle de distance: (10^6 m)\n",
      "Échelle de vitesse: (10^3 m/s)\n"
     ]
    },
    {
     "data": {
      "application/vnd.jupyter.widget-view+json": {
       "model_id": "003bdce42c8b43008a107f9408069d9d",
       "version_major": 2,
       "version_minor": 0
      },
      "text/plain": [
       "interactive(children=(FloatSlider(value=2.0, description='r0x :', max=2.0, min=-2.0), FloatSlider(value=0.0, d…"
      ]
     },
     "metadata": {},
     "output_type": "display_data"
    }
   ],
   "source": [
    "import cmath\n",
    "import numpy as np\n",
    "import math\n",
    "import matplotlib.pyplot as plt\n",
    "from ipywidgets import interact, widgets\n",
    "from IPython.display import display, clear_output\n",
    "\n",
    "# Constante de gravitation universelle (m^3/kg/s^2)\n",
    "G = 6.6743 * 10**-11\n",
    "\n",
    "# Masse de la Terre (kg)\n",
    "M = 6 * 10**24\n",
    "# Rayon de la Terre (m)\n",
    "RT = 6.371 * 10**6\n",
    "\n",
    "factorR = 10**7\n",
    "factorV = 10**3\n",
    "\n",
    "# Masse de l'objet en orbite (kg)\n",
    "m = 1\n",
    "\n",
    "r0x_widget = widgets.FloatSlider(min=-2, max=2, step=0.1, value=2, description='r0x :')\n",
    "r0y_widget = widgets.FloatSlider(min=-2, max=2, step=0.1, value=0, description='r0y :')\n",
    "v0x_widget = widgets.FloatSlider(min=-8, max=8, step=.1, value=0, description='v0x :')\n",
    "v0y_widget = widgets.FloatSlider(min=-8, max=8, step=.1, value=5, description='v0y :')\n",
    "\n",
    "def norm(vector):\n",
    "    return math.sqrt(sum(component**2 for component in vector))\n",
    "    \n",
    "def orbital_parameters(r0, v0, M, m):\n",
    "    # \n",
    "    k = G * M * m\n",
    "    p0 = [m*v0[0], m*v0[1], 0]\n",
    "    L0 = [r0[1] * p0[2] - r0[2] * p0[1],\n",
    "          r0[2] * p0[0] - r0[0] * p0[2],\n",
    "          r0[0] * p0[1] - r0[1] * p0[0]]\n",
    "\n",
    "    norm_r0 = norm(r0)\n",
    "    norm_L0 = norm(L0)\n",
    "    \n",
    "    RungeLenzVector = [p0[1] * L0[2] - p0[2] * L0[1] - m * k * r0[0] / norm_r0,\n",
    "                       p0[2] * L0[0] - p0[0] * L0[2] - m * k * r0[1] / norm_r0,\n",
    "                       p0[0] * L0[1] - p0[1] * L0[0] - m * k * r0[2] / norm_r0]\n",
    "\n",
    "    norm_RungeLenzVector = norm(RungeLenzVector)\n",
    "\n",
    "    # RungeLenzVector2d\n",
    "    RungeLenzVector2d = RungeLenzVector[:2]\n",
    "    \n",
    "    # UnitApseV\n",
    "    UnitApseV = [component / norm_RungeLenzVector for component in RungeLenzVector2d]\n",
    "    \n",
    "    # e (excentricité)\n",
    "    e = norm_RungeLenzVector / (m * k)\n",
    "    # p (semi-latus)\n",
    "    p = norm_L0**2 / (m * k)\n",
    "    # h\n",
    "    h = p / e\n",
    "    if e!=1:\n",
    "        # a\n",
    "        a = p / (e**2 - 1)\n",
    "        # b\n",
    "        b = p / (2 * cmath.sqrt(e**2 - 1))\n",
    "        # c\n",
    "        c = (e * p) / (e**2 - 1)\n",
    "        # f\n",
    "        f = h / (e**2 - 1)\n",
    "    else:\n",
    "        espilon = 10**-9\n",
    "        # a\n",
    "        a = p / espilon\n",
    "        # b\n",
    "        b = p / (2 * cmath.sqrt(espilon))\n",
    "        # c\n",
    "        c = (e * p) / espilon\n",
    "        # f\n",
    "        f = h / espilon    \n",
    "        \n",
    "    \n",
    "    theta_orb = math.atan2(RungeLenzVector2d[1], RungeLenzVector2d[0])\n",
    "\n",
    "    return p, e, a, b, c, f, h, theta_orb, UnitApseV\n",
    "\n",
    "def polar_orbite(p, e, theta, theta_orb):\n",
    "    return p / (e * np.cos(theta-theta_orb) - 1)\n",
    "    \n",
    "def plot_orbite(r0x, r0y, v0x, v0y, M, m):\n",
    "\n",
    "    r0 = np.array([factorR*r0x, factorR*r0y, 0])\n",
    "    v0 = np.array([factorV*v0x, factorV*v0y, 0])\n",
    "\n",
    "    theta_min, theta_max = 0, 2*np.pi\n",
    "    p, e, a, b, c, f, h, theta_orb, UnitApseV = orbital_parameters(r0, v0, M, m)\n",
    "\n",
    "    type = type_conique(e)\n",
    "    # \n",
    "    if type==\"Hyperbole\":\n",
    "        expr = -((4 * a * b) / (a**2 - 4 * b**2))\n",
    "        theta_bound = math.pi - abs(cmath.atan(expr)) if math.copysign(1, expr.real) == 1 else abs(cmath.atan(expr))\n",
    "        epsilon_theta = 0.000000000001\n",
    "        theta_min = (theta_orb + abs(theta_bound) / 2 + epsilon_theta)\n",
    "        theta_max = (theta_orb - abs(theta_bound) / 2 - epsilon_theta) + 2 * math.pi\n",
    "\n",
    "        theta_range = np.linspace(theta_min, theta_max, 1000)\n",
    "    else:\n",
    "        theta_min = 0\n",
    "        theta_max = 2 * math.pi\n",
    "        theta_range = np.linspace(theta_min, theta_max, 1000)\n",
    "\n",
    "    r = polar_orbite(p, e, theta_range, theta_orb)\n",
    "\n",
    "    x = r * np.cos(theta_range)\n",
    "    y = r * np.sin(theta_range)\n",
    "    \n",
    "    plt.figure(figsize=(4, 4))\n",
    "    plt.plot(x, y)\n",
    "\n",
    "    # Ajout de la Terre (cercle de rayon RT)\n",
    "    circle = plt.Circle((0, 0), RT, color='black', fill=False)\n",
    "    plt.gca().add_patch(circle)\n",
    "    \n",
    "    # Ajout du vecteur vitesse\n",
    "    plt.quiver(r0[0], r0[1], 10**4*v0[0], 10**4*v0[1], \n",
    "               angles='xy', scale_units='xy', scale=1, color='g')\n",
    "\n",
    "    # Ajout du vecteur position\n",
    "    plt.quiver( 0, 0, r0[0], r0[1],\n",
    "               angles='xy', scale_units='xy', scale=1, color='k')\n",
    "\n",
    "    \n",
    "    # Ajout du point position\n",
    "    plt.plot(factorR*r0x, factorR*r0y, 'ko', markersize=3, label='Position orbitale')\n",
    "\n",
    "    # Périaspide\n",
    "    plt.plot((c - a)*UnitApseV[0], (c - a)*UnitApseV[1], 'ro', markersize=2, label='Position orbitale')\n",
    "    if type==\"Hyperbole\":\n",
    "        # Ligne des Aspides\n",
    "        plt.plot([(c - a)*UnitApseV[0], -10**9*UnitApseV[0]], [(c - a)*UnitApseV[1], -10**9*UnitApseV[1]],'r--', linewidth=1, label='Ligne du momentum')\n",
    "    else:\n",
    "        # Apoaspide\n",
    "        plt.plot((c + a)*UnitApseV[0], (c + a)*UnitApseV[1], 'ro', markersize=2, label='Position orbitale')\n",
    "        # Ligne des Aspides\n",
    "        plt.plot([(c - a)*UnitApseV[0], (c + a)*UnitApseV[0]], [(c - a)*UnitApseV[1], (c + a)*UnitApseV[1]],'r--', linewidth=1, label='Ligne des apsides')\n",
    "\n",
    "\n",
    "    if type==\"Hyperbole\":\n",
    "        # Générer les valeurs de x\n",
    "        x = np.linspace(-factorR * RT, factorR * RT, 1000)\n",
    "        # Tracer les asymptotes\n",
    "        plt.plot(x, -((2 * b * c - 2 * b * x * np.cos(theta_orb) + a * x * np.sin(-theta_orb)) /\n",
    "             (a * np.cos(theta_orb) + 2 * b * np.sin(-theta_orb))), 'b--',linewidth=1)\n",
    "        plt.plot(x, ((2 * b * c - 2 * b * x * np.cos(theta_orb) + a * x * np.sin(theta_orb)) /\n",
    "             (a * np.cos(theta_orb) + 2 * b * np.sin(theta_orb))), 'b--',linewidth=1)\n",
    "        \n",
    "\n",
    "    # Calcul des points de la ligne du momentum\n",
    "    point1 = r0 + 10**6 * v0\n",
    "    point2 = r0 - 10**6 * v0\n",
    "    # Ajout de la ligne du momentum\n",
    "    plt.plot([point1[0], point2[0]], [point1[1], point2[1]],'g--', linewidth=1, label='Ligne du momentum')\n",
    "\n",
    "    plt.title(f'Type d\\'orbite: {type}')\n",
    "    plt.xlabel('x')\n",
    "    plt.ylabel('y')\n",
    "    plt.xlim(-10*factorR, 10*factorR)\n",
    "    plt.ylim(-10*factorR, 10*factorR)\n",
    "    plt.grid(True)\n",
    "    plt.gca().set_aspect('equal')\n",
    "    plt.show()\n",
    "\n",
    "def type_conique(e):\n",
    "    return {\n",
    "        e == 0 : \"Cercle\",\n",
    "        0 < e < 1: \"Ellipse\",\n",
    "        e == 1: \"Parabole\",\n",
    "        e > 1: \"Hyperbole\" \n",
    "    }[True]\n",
    "\n",
    "print(f'Échelle de distance: (10^6 m)\\nÉchelle de vitesse: (10^3 m/s)')\n",
    "widgets.interact(plot_orbite, r0x=r0x_widget, r0y=r0y_widget, v0x=v0x_widget, v0y=v0y_widget, M=widgets.fixed(M), m=widgets.fixed(m));\n"
   ]
  },
  {
   "cell_type": "markdown",
   "id": "a868eb5d-b4aa-42fd-9507-180cedf843e5",
   "metadata": {},
   "source": [
    "## Exemple 4: cartographie et données géospatiales\n",
    "\n",
    "Ce code crée une carte à l'aide du module ipyleaflet dans Jupyter Notebook. Ipyleaflet permet de créer des cartes interactives pour la visualisation des données géospatiales.\n",
    "\n",
    "Voici ce qui se passe dans chaque partie du code :\n",
    "\n",
    "1. Création de la carte interactive :\n",
    "   On crée une instance de la classe `Map` en spécifiant le centre de la carte (latitude et longitude) et le niveau de zoom initial. On utilise la basemap OpenStreetMap.Mapnik.\n",
    "\n",
    "2. Création des widgets pour contrôler la carte :\n",
    "   On crée des widgets interactifs pour contrôler la latitude, la longitude et le zoom de la carte. Il s'agit de curseurs (`FloatSlider` et `IntSlider`) pour les valeurs numériques.\n",
    "   \n",
    "3. Fonction de mise à jour de la carte :\n",
    "   On définit une fonction `update_map` qui prend en entrée les valeurs de latitude, longitude et zoom et met à jour la position et le niveau de zoom de la carte en fonction de ces valeurs.\n",
    "   \n",
    "4. Lien entre la fonction de mise à jour et les widgets :\n",
    "   On utilise la fonction `widgets.interactive` pour lier la fonction `update_map` aux widgets de contrôle de la carte. \n",
    "   \n",
    "5. Création des marqueurs pour représenter des points :\n",
    "   On définit une liste de coordonnées de points (latitude, longitude) pour les villes de Paris, Londres, New York et Sydney. Pour chaque point, on crée un marqueur à l'aide de la classe `Marker` du module ipyleaflet.\n",
    "   \n",
    "6. Ajout des marqueurs à la carte :\n",
    "   On ajoute chaque marqueur à la carte en utilisant la méthode `add_layer`.\n",
    "   \n",
    "7. Création d'un Checkbox pour afficher ou masquer les points :\n",
    "   On crée une case à cocher (`Checkbox`) avec la description \"Afficher les points\". Par défaut, elle est cochée (valeur `True`).\n",
    "   \n",
    "8. Fonction de mise à jour pour afficher ou masquer les points :\n",
    "   On définit une fonction `update_markers` qui prend en entrée un changement de valeur du checkbox. Elle parcourt tous les marqueurs et les rend visibles ou invisibles en fonction de la valeur de la case à cocher.\n",
    "   \n",
    "9. Lien entre la fonction de mise à jour et le changement de valeur du checkbox :\n",
    "   On utilise la méthode `observe` pour lier la fonction `update_markers` au changement de valeur du checkbox. Cela signifie que lorsque la case à cocher est cochée ou décochée, la fonction `update_markers` est appelée pour mettre à jour la visibilité des marqueurs en conséquence."
   ]
  },
  {
   "cell_type": "code",
   "execution_count": 17,
   "id": "139f87a9-7535-49a3-b96d-d099673d2565",
   "metadata": {},
   "outputs": [
    {
     "data": {
      "application/vnd.jupyter.widget-view+json": {
       "model_id": "c9ba849dd9024fb587e9b9092d6ab69d",
       "version_major": 2,
       "version_minor": 0
      },
      "text/plain": [
       "Map(center=[48.8566, 2.3522], controls=(ZoomControl(options=['position', 'zoom_in_text', 'zoom_in_title', 'zoo…"
      ]
     },
     "metadata": {},
     "output_type": "display_data"
    },
    {
     "data": {
      "application/vnd.jupyter.widget-view+json": {
       "model_id": "0555a558e2444083b8b87f3a401f1f24",
       "version_major": 2,
       "version_minor": 0
      },
      "text/plain": [
       "FloatSlider(value=48.8566, description='Latitude:', max=90.0, min=-90.0)"
      ]
     },
     "metadata": {},
     "output_type": "display_data"
    },
    {
     "data": {
      "application/vnd.jupyter.widget-view+json": {
       "model_id": "ddad1b6afd924de29ed4e549321c4319",
       "version_major": 2,
       "version_minor": 0
      },
      "text/plain": [
       "FloatSlider(value=2.3522, description='Longitude:', max=180.0, min=-180.0)"
      ]
     },
     "metadata": {},
     "output_type": "display_data"
    },
    {
     "data": {
      "application/vnd.jupyter.widget-view+json": {
       "model_id": "dd6516f9f93547b5838538b984de49dd",
       "version_major": 2,
       "version_minor": 0
      },
      "text/plain": [
       "IntSlider(value=4, description='Zoom:', max=18, min=1)"
      ]
     },
     "metadata": {},
     "output_type": "display_data"
    },
    {
     "data": {
      "application/vnd.jupyter.widget-view+json": {
       "model_id": "986c31b8dd3b440c8a50385dc13eb1d2",
       "version_major": 2,
       "version_minor": 0
      },
      "text/plain": [
       "Checkbox(value=True, description='Afficher les capitales')"
      ]
     },
     "metadata": {},
     "output_type": "display_data"
    }
   ],
   "source": [
    "import ipywidgets as widgets\n",
    "from ipyleaflet import Map, Marker, basemaps\n",
    "from IPython.display import display\n",
    "\n",
    "#---------------------------------------------------------------------------------------\n",
    "# Créer une carte interactive\n",
    "m = Map(center=(48.8566, 2.3522), zoom=10, basemap=basemaps.OpenStreetMap.Mapnik)\n",
    "\n",
    "#---------------------------------------------------------------------------------------\n",
    "# Créer des widgets pour contrôler la carte: la position et le zoom\n",
    "latitude = widgets.FloatSlider(value=48.8566, min=-90, max=90, description='Latitude:')\n",
    "longitude = widgets.FloatSlider(value=2.3522, min=-180, max=180, description='Longitude:')\n",
    "zoom = widgets.IntSlider(value=4, min=1, max=18, description='Zoom:')\n",
    "\n",
    "# Fonction de mise à jour de la carte en fonction des valeurs des widgets\n",
    "def update_map(latitude, longitude, zoom):\n",
    "    m.center = (latitude, longitude)\n",
    "    m.zoom = zoom\n",
    "\n",
    "# Lier la fonction de mise à jour aux widgets\n",
    "widgets.interactive(update_map, latitude=latitude, longitude=longitude, zoom=zoom)\n",
    "\n",
    "#---------------------------------------------------------------------------------------\n",
    "# Créer des marqueurs pour représenter des points\n",
    "points = [\n",
    "    (48.8566, 2.3522),  # Paris\n",
    "    (51.5074, -0.1278),  # Londres\n",
    "    (40.7128, -74.0060),  # New York\n",
    "    (-33.8688, 151.2093)  # Sydney\n",
    "]\n",
    "markers = [Marker(location=point) for point in points]\n",
    "\n",
    "# Ajouter les marqueurs à la carte\n",
    "for marker in markers:\n",
    "    m.add_layer(marker)\n",
    "\n",
    "# Créer un Checkbox pour afficher ou masquer les points\n",
    "checkbox = widgets.Checkbox(value=True, description='Afficher les capitales')\n",
    "\n",
    "# Fonction de mise à jour pour afficher ou masquer les points en fonction de la valeur du checkbox\n",
    "def update_markers(change):\n",
    "    for marker in markers:\n",
    "        marker.visible = change.new\n",
    "\n",
    "# Lier la fonction de mise à jour au changement de valeur du checkbox\n",
    "checkbox.observe(update_markers, 'value')\n",
    "\n",
    "#---------------------------------------------------------------------------------------\n",
    "# Afficher la carte et les widgets\n",
    "display(m)\n",
    "display(latitude)\n",
    "display(longitude)\n",
    "display(zoom)\n",
    "display(checkbox)"
   ]
  },
  {
   "cell_type": "code",
   "execution_count": null,
   "id": "d059d6d1-5a0e-41c9-ae7f-e81aabbbe66d",
   "metadata": {},
   "outputs": [],
   "source": []
  },
  {
   "cell_type": "code",
   "execution_count": null,
   "id": "4d0a9989-a4ad-4905-be2b-0f372142785e",
   "metadata": {},
   "outputs": [],
   "source": []
  }
 ],
 "metadata": {
  "kernelspec": {
   "display_name": "Python 3 (ipykernel)",
   "language": "python",
   "name": "python3"
  },
  "language_info": {
   "codemirror_mode": {
    "name": "ipython",
    "version": 3
   },
   "file_extension": ".py",
   "mimetype": "text/x-python",
   "name": "python",
   "nbconvert_exporter": "python",
   "pygments_lexer": "ipython3",
   "version": "3.11.5"
  }
 },
 "nbformat": 4,
 "nbformat_minor": 5
}
