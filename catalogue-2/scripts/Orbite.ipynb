{
 "cells": [
  {
   "cell_type": "markdown",
   "id": "244fcc60-53ce-4b83-afa6-839c89ed3cac",
   "metadata": {},
   "source": [
    "---\n",
    "# Jupyter Widget\n",
    "\n",
    "<div style=\"text-align: center;\">\n",
    "    <div style=\"display: inline-block; position: relative; width: 350px;\">\n",
    "        <img src=\"../img/_b21780d5-6e0b-4d4b-8388-89e3197acf13.jpeg\" alt=\"Dessin\" style=\"width: 100%;\"/>\n",
    "        <p style=\"text-align: center; margin-top: 5px;\">\n",
    "            <span style=\"font-style: italic; font-size: 16px;\"> Got it! </span><br/>\n",
    "            <span style=\"font-style: italic; font-size: 12px;\">Image générée par DALL·E 3, 2024 </span>\n",
    "        </p>\n",
    "    </div>\n",
    "</div>\n",
    "\n",
    "\n",
    "Le terme *widgets* peut être traduit en français par \"éléments interactifs\" ou \"composants interactifs\". Un widget est un objet utilisé dans le contexte des interfaces utilisateur pour désigner des éléments graphiques ou interactifs tels que des boutons, des curseurs, des cases à cocher, etc. C'est ce type d'objet qui permettent à l'utilisateur d'interagir avec une application ou un système informatique. Les utilisateurs peuvent donc explorer, analyser et visualiser des données de manière dynamique. \n",
    "\n",
    "Les widgets permettent aux utilisateurs d'interagir avec le code en temps réel, en ajustant les paramètres ou en sélectionnant des options, ce qui a pour effet de modifier les extrants. Au fond, il s'agit d'une expression particulière du principe fondamental de l'interaction entre le *frontend* (interface utilisateur côté client) et le *backend* (code côté serveur) qui se cache dans la construction de tous les sites web. \n",
    "\n",
    "Dans le contexte de *Jupyter Widget*, un exemple d'utilisation très utile se rapportent aux fonctions mathématiques. En effet, leur visualisation dynamique permettent de mieux les comprendre.\n"
   ]
  },
  {
   "cell_type": "code",
   "execution_count": 1,
   "id": "a1bda54e-20b1-417b-88da-397fe5247f94",
   "metadata": {},
   "outputs": [],
   "source": [
    "# Importation de la librairie:\n",
    "import ipywidgets as widgets"
   ]
  },
  {
   "cell_type": "markdown",
   "id": "98aa2210-5beb-488b-a8f6-a9f2d5ba9f20",
   "metadata": {},
   "source": [
    "---\n",
    "# Widgets de base:\n",
    "\n",
    "Il en existent de nombreux. Les plus importants (numériques, booléens, sélection, texte)  sont listés ci-dessous.  "
   ]
  },
  {
   "cell_type": "markdown",
   "id": "8762fab6-7039-44fb-9930-1b4d47ab4c1f",
   "metadata": {},
   "source": [
    "\n",
    "## Widgets numériques :\n",
    "\n",
    "Il s'agit des widgets relatifs valeurs numériques `int` et `float`.\n",
    "\n",
    "Les options des curseurs sont:\n",
    "- `value`: La valeur initiale du curseur. \n",
    "- `min`: La valeur minimale autorisée pour le curseur.\n",
    "- `max`: La valeur maximale autorisée pour le curseur. \n",
    "- `step`: L'incrément par lequel la valeur du curseur change à chaque étape. \n",
    "- `description`: La description affichée à côté du curseur. \n",
    "- `disabled`: Indique si le curseur est activé ou désactivé. Si la valeur est `True`, le curseur est désactivé et ne peut pas être modifié par l'utilisateur. Par défaut: `False`.\n",
    "- `continuous_update`: Contrôle si la mise à jour du curseur se produit en temps réel ou seulement lorsque l'utilisateur relâche le curseur. Si la valeur est `True`, la mise à jour est continue pendant que le curseur est déplacé. Par défaut: `False`.\n",
    "- `orientation`: L'orientation du curseur. Les options sont 'horizontal' ou 'vertical'. Par défaut: `'horizontal'`.\n",
    "- `readout`: Indique si la valeur actuelle du curseur est affichée. Si la valeur est `True`, une lecture de la valeur actuelle est affichée à côté du curseur. Par défaut: `True`.\n",
    "- `readout_format`: Le format de la lecture de la valeur du curseur. Pour afficher un nombre entier, le format est : `'d'`. Pour afficher un nombre réel en spécifiant le nombre de décimale, par exemple 2, le format est : `'.2f'`. "
   ]
  },
  {
   "cell_type": "code",
   "execution_count": 2,
   "id": "2ff1850a-9dd4-4790-9d71-88b821db694a",
   "metadata": {},
   "outputs": [
    {
     "data": {
      "application/vnd.jupyter.widget-view+json": {
       "model_id": "181b25d5d9ee45d3a5752c6b2a1d5d11",
       "version_major": 2,
       "version_minor": 0
      },
      "text/plain": [
       "IntSlider(value=7, description='a = ', max=10)"
      ]
     },
     "metadata": {},
     "output_type": "display_data"
    },
    {
     "data": {
      "application/vnd.jupyter.widget-view+json": {
       "model_id": "e86948fbad504f3e85a6b76d9d685376",
       "version_major": 2,
       "version_minor": 0
      },
      "text/plain": [
       "FloatSlider(value=7.0, description='b = ', max=10.0, readout_format='.3f')"
      ]
     },
     "metadata": {},
     "output_type": "display_data"
    }
   ],
   "source": [
    "a = widgets.IntSlider(value=7, min=0, max=10, step=1, description='a = ')\n",
    "b = widgets.FloatSlider(value=7, min=0, max=10, step=.1, description='b = ', readout_format='.3f')\n",
    "display(a)\n",
    "display(b)"
   ]
  },
  {
   "cell_type": "code",
   "execution_count": 3,
   "id": "d4e8d4d5-343a-4601-8784-fe04612c7b8c",
   "metadata": {},
   "outputs": [
    {
     "data": {
      "application/vnd.jupyter.widget-view+json": {
       "model_id": "61fa6004cc7c4c71b868b2092bc18f50",
       "version_major": 2,
       "version_minor": 0
      },
      "text/plain": [
       "IntRangeSlider(value=(6, 8), description='Pairs-Int:', max=10, step=2)"
      ]
     },
     "metadata": {},
     "output_type": "display_data"
    },
    {
     "data": {
      "application/vnd.jupyter.widget-view+json": {
       "model_id": "cee79071008e494590b43b1808f9948e",
       "version_major": 2,
       "version_minor": 0
      },
      "text/plain": [
       "FloatRangeSlider(value=(5.0, 7.0), description='Domaine:', max=10.0, step=0.2)"
      ]
     },
     "metadata": {},
     "output_type": "display_data"
    }
   ],
   "source": [
    "w1 = widgets.IntRangeSlider(value=[6, 8], min=0, max=10, step=2, description='Pairs-Int:')\n",
    "w2 = widgets.FloatRangeSlider(value=[5, 7], min=0, max=10, step=.2, description='Domaine:')\n",
    "display(w1)\n",
    "display(w2)"
   ]
  },
  {
   "cell_type": "code",
   "execution_count": 4,
   "id": "5b1e6749-4104-489f-9a8e-2028e22b0e0a",
   "metadata": {},
   "outputs": [
    {
     "data": {
      "application/vnd.jupyter.widget-view+json": {
       "model_id": "3c6ef0b8b1014cdc981c2fb898f3bf0b",
       "version_major": 2,
       "version_minor": 0
      },
      "text/plain": [
       "BoundedIntText(value=7, description='a = ', max=10)"
      ]
     },
     "metadata": {},
     "output_type": "display_data"
    },
    {
     "data": {
      "application/vnd.jupyter.widget-view+json": {
       "model_id": "5be59f72745f4ac089d27f4cfe54b283",
       "version_major": 2,
       "version_minor": 0
      },
      "text/plain": [
       "BoundedFloatText(value=7.0, description='b = ', max=10.0, step=0.01)"
      ]
     },
     "metadata": {},
     "output_type": "display_data"
    }
   ],
   "source": [
    "a = widgets.BoundedIntText(value=7, min=0, max=10, step=1, description='a = ')\n",
    "b = widgets.BoundedFloatText(value=7, min=0, max=10, step=.01, description='b = ')\n",
    "display(a)\n",
    "display(b)"
   ]
  },
  {
   "cell_type": "markdown",
   "id": "39b40e31-63b4-4379-b168-3fdf94aa556a",
   "metadata": {},
   "source": [
    "---\n",
    "## Widgets booléens :\n",
    "\n",
    "Il s'agit des widgets relatifs valeurs booléennes. Ces widgets change l'état d'une variable `True` ou `False`."
   ]
  },
  {
   "cell_type": "code",
   "execution_count": 21,
   "id": "a845e668-1a2b-4d6e-b7de-e0bece731dda",
   "metadata": {},
   "outputs": [
    {
     "data": {
      "application/vnd.jupyter.widget-view+json": {
       "model_id": "d49ee2cce4a846b8883e9030b2e04a7d",
       "version_major": 2,
       "version_minor": 0
      },
      "text/plain": [
       "ToggleButton(value=False, description='Cliquez', icon='check', tooltip='Description')"
      ]
     },
     "execution_count": 21,
     "metadata": {},
     "output_type": "execute_result"
    }
   ],
   "source": [
    "widgets.ToggleButton(\n",
    "    value=False,\n",
    "    description='Cliquez',\n",
    "    disabled=False,\n",
    "    button_style='', # 'success', 'info', 'warning', 'danger' or ''\n",
    "    tooltip='Description',\n",
    "    icon='check' # (FontAwesome names without the `fa-` prefix)\n",
    ")"
   ]
  },
  {
   "cell_type": "code",
   "execution_count": 22,
   "id": "7107eaeb-8f03-4ea2-9136-c94840a01c75",
   "metadata": {},
   "outputs": [
    {
     "data": {
      "application/vnd.jupyter.widget-view+json": {
       "model_id": "3e8f9efe3a7a4ae58b9c41f19baa44c9",
       "version_major": 2,
       "version_minor": 0
      },
      "text/plain": [
       "Checkbox(value=False, description='Cochez', indent=False)"
      ]
     },
     "execution_count": 22,
     "metadata": {},
     "output_type": "execute_result"
    }
   ],
   "source": [
    "widgets.Checkbox(\n",
    "    value=False,\n",
    "    description='Cochez',\n",
    "    disabled=False,\n",
    "    indent=False\n",
    ")"
   ]
  },
  {
   "cell_type": "markdown",
   "id": "b48b7fbb-e41d-4fa8-905e-bcedbadde14e",
   "metadata": {},
   "source": [
    "---\n",
    "## Widgets de sélection :\n",
    "\n",
    "Il s'agit des wigdets qui permettent de sélectionner des valeurs catégorielles."
   ]
  },
  {
   "cell_type": "code",
   "execution_count": 7,
   "id": "521b75ba-05e5-4648-b577-6367d71f8bf4",
   "metadata": {},
   "outputs": [
    {
     "data": {
      "application/vnd.jupyter.widget-view+json": {
       "model_id": "b8308bcf5cd84d48a4e0e069187c19ee",
       "version_major": 2,
       "version_minor": 0
      },
      "text/plain": [
       "RadioButtons(description='Operating System:', options=('Linux', 'MacOs', 'Windows'), value='Linux')"
      ]
     },
     "execution_count": 7,
     "metadata": {},
     "output_type": "execute_result"
    }
   ],
   "source": [
    "widgets.RadioButtons(\n",
    "    options=['Linux', 'MacOs', 'Windows'],\n",
    "    description='Operating System:',\n",
    "    disabled=False\n",
    ")"
   ]
  },
  {
   "cell_type": "code",
   "execution_count": 8,
   "id": "1f50c9f0-e784-4c0e-a035-d4af29bb6f6a",
   "metadata": {},
   "outputs": [
    {
     "data": {
      "application/vnd.jupyter.widget-view+json": {
       "model_id": "ea60be21841c4b488cc2d61a4cb8cb5d",
       "version_major": 2,
       "version_minor": 0
      },
      "text/plain": [
       "Dropdown(description='OS:', index=1, options=(('Linux', 1), ('MacOs', 2), ('Windows', 3)), value=2)"
      ]
     },
     "execution_count": 8,
     "metadata": {},
     "output_type": "execute_result"
    }
   ],
   "source": [
    "widgets.Dropdown(\n",
    "    options=[('Linux', 1), ('MacOs', 2), ('Windows', 3)],\n",
    "    value=2,\n",
    "    description='OS:',\n",
    ")"
   ]
  },
  {
   "cell_type": "code",
   "execution_count": 9,
   "id": "ad43a7ba-64a4-442f-a685-78ca622cceec",
   "metadata": {},
   "outputs": [
    {
     "data": {
      "application/vnd.jupyter.widget-view+json": {
       "model_id": "8e29934aee034163a719a09d5a001fc3",
       "version_major": 2,
       "version_minor": 0
      },
      "text/plain": [
       "ToggleButtons(button_style='info', options=('Linux', 'MacOs', 'Windows'), tooltips=('open-source et polyvalent…"
      ]
     },
     "execution_count": 9,
     "metadata": {},
     "output_type": "execute_result"
    }
   ],
   "source": [
    "widgets.ToggleButtons(\n",
    "    options=['Linux', 'MacOs', 'Windows'],\n",
    "    description='',\n",
    "    disabled=False,\n",
    "    button_style='info',# 'success', 'info', 'warning', 'danger' or ''\n",
    "    tooltips=['open-source et polyvalent', 'performant avec un design robuste basé sur unix', 'nécessite une mise à jour chaque fois qu\\'il pleut'],\n",
    "#     icons=['check'] * 3\n",
    ")"
   ]
  },
  {
   "cell_type": "markdown",
   "id": "3ce448f5-9ca2-4561-bb1b-5eccffd5bd39",
   "metadata": {},
   "source": [
    "---\n",
    "## Widgets de texte :\n",
    "\n",
    "Il s'agit de widgets qui permettent d'afficher une variable `str` ou de modifier sa valeur. "
   ]
  },
  {
   "cell_type": "code",
   "execution_count": 26,
   "id": "50969020-520a-41ca-b23d-cd4ddd623c97",
   "metadata": {},
   "outputs": [
    {
     "data": {
      "application/vnd.jupyter.widget-view+json": {
       "model_id": "8022ac686c4d4469b95645ae9bce8b3f",
       "version_major": 2,
       "version_minor": 0
      },
      "text/plain": [
       "Text(value='Hello World', description='String:', placeholder='')"
      ]
     },
     "execution_count": 26,
     "metadata": {},
     "output_type": "execute_result"
    }
   ],
   "source": [
    "widgets.Text(\n",
    "    value='Hello World',\n",
    "    placeholder='',\n",
    "    description='String:',\n",
    "    disabled=False   \n",
    ")"
   ]
  },
  {
   "cell_type": "code",
   "execution_count": 25,
   "id": "800c4ac3-d7b7-4f5e-8ab3-c4c9426ca8d9",
   "metadata": {},
   "outputs": [
    {
     "data": {
      "application/vnd.jupyter.widget-view+json": {
       "model_id": "10efccfc6b724958a0eba1c328d0da94",
       "version_major": 2,
       "version_minor": 0
      },
      "text/plain": [
       "Textarea(value='Hello World', description='String:', placeholder='')"
      ]
     },
     "execution_count": 25,
     "metadata": {},
     "output_type": "execute_result"
    }
   ],
   "source": [
    "widgets.Textarea(\n",
    "    value='Hello World',\n",
    "    placeholder='',\n",
    "    description='String:',\n",
    "    disabled=False\n",
    ")"
   ]
  },
  {
   "cell_type": "markdown",
   "id": "69663a95-29a0-4558-b0c2-41943d50f3f4",
   "metadata": {},
   "source": [
    "---\n",
    "# Interact:\n",
    "\n",
    "`interact` est la fonction centrale dans la bibliothèque ipywidgets qui permet de créer des interfaces interactives en liant les variables widgets aux arguments d'une fonction. C'est ici que les widgets prennent tous leur sens."
   ]
  },
  {
   "cell_type": "code",
   "execution_count": 152,
   "id": "8bb46167-ccf1-4ace-b596-4eab86772fe7",
   "metadata": {},
   "outputs": [
    {
     "data": {
      "application/vnd.jupyter.widget-view+json": {
       "model_id": "f12f33eaf1554034841a5c2719a62eee",
       "version_major": 2,
       "version_minor": 0
      },
      "text/plain": [
       "interactive(children=(FloatSlider(value=1.0, description='x:', max=10.0, min=-10.0), FloatSlider(value=1.0, de…"
      ]
     },
     "metadata": {},
     "output_type": "display_data"
    }
   ],
   "source": [
    "# Définition de la fonction qui calcule une valeur en fonction des paramètres\n",
    "def fonction(x, a, b, etat):\n",
    "    y = a * x + b  # Calcul de la valeur y en fonction de x, a et b\n",
    "    return (etat, y)  # Retourne un tuple contenant la valeur etat et la valeur y\n",
    "\n",
    "# Création des widgets pour les paramètres\n",
    "x_widget = widgets.FloatSlider(min=-10, max=10, step=0.1, value=1, description='x:')  # Curseur pour la valeur de x\n",
    "a_widget = widgets.FloatSlider(min=-5,  max=5, step=0.1, value=1, description='a:')   # Curseur pour la valeur de a\n",
    "b_widget = widgets.FloatSlider(min=-10, max=10, step=0.1, value=0, description='b:')  # Curseur pour la valeur de b\n",
    "etat_widget =widgets.Checkbox(value=True, description='Etat')  # Case à cocher pour l'état\n",
    "\n",
    "# Création de l'interface interactive en utilisant interact\n",
    "out = widgets.interact(fonction, x=x_widget, a=a_widget, b=b_widget, etat=etat_widget);"
   ]
  },
  {
   "cell_type": "code",
   "execution_count": 128,
   "id": "cd0b8e2b-3083-41a0-9e9c-f846f67998c1",
   "metadata": {},
   "outputs": [
    {
     "data": {
      "application/vnd.jupyter.widget-view+json": {
       "model_id": "a25daafce16b4775b738653b2f8dfd20",
       "version_major": 2,
       "version_minor": 0
      },
      "text/plain": [
       "interactive(children=(FloatSlider(value=0.5, description='p:', max=1.0), FloatSlider(value=0.0, description='e…"
      ]
     },
     "metadata": {},
     "output_type": "display_data"
    },
    {
     "data": {
      "text/plain": [
       "<function __main__.plot_conique(p, e)>"
      ]
     },
     "execution_count": 128,
     "metadata": {},
     "output_type": "execute_result"
    }
   ],
   "source": [
    "import numpy as np\n",
    "import matplotlib.pyplot as plt\n",
    "\n",
    "theta_min, theta_max = 0, 2*np.pi\n",
    "\n",
    "def polarplot_conique(p, e):\n",
    "    theta = np.linspace(theta_min, theta_max, 1000)\n",
    "    r = p / (1 + e * np.cos(theta))\n",
    "    x = r * np.cos(theta)\n",
    "    y = r * np.sin(theta)\n",
    "    type = type_conique(e)\n",
    "    return x, y, type\n",
    "\n",
    "def type_conique(e):\n",
    "    return {\n",
    "        e == 0 : \"Cercle\",\n",
    "        0 < e < 1: \"Ellipse\",\n",
    "        e == 1: \"Parabole\",\n",
    "        e > 1: \"Hyperbole\"\n",
    "    }[True]\n",
    "\n",
    "def plot_conique(p, e):\n",
    "    x, y, type = polarplot_conique(p, e)\n",
    "    plt.figure(figsize=(4, 4))\n",
    "    plt.plot(x, y)\n",
    "    plt.title(f'Conique: {type}')\n",
    "    plt.xlabel('x')\n",
    "    plt.ylabel('y')\n",
    "    plt.xlim(-2, 2)\n",
    "    plt.ylim(-2, 2)\n",
    "    plt.grid(True)\n",
    "    plt.gca().set_aspect('equal')\n",
    "    plt.show()\n",
    "\n",
    "# Création des widgets pour les paramètres\n",
    "p_widget = widgets.FloatSlider(min=0, max=1, step=0.1, value=.5, description='p:')\n",
    "e_widget = widgets.FloatSlider(min=0, max=2, step=0.01, value=0, description='e:')\n",
    "\n",
    "# Création de l'interface interactive\n",
    "interact(plot_conique, p=p_widget, e=e_widget)"
   ]
  },
  {
   "cell_type": "code",
   "execution_count": 115,
   "id": "51527fbf-7afb-4144-9731-efc3f3c99fc0",
   "metadata": {},
   "outputs": [
    {
     "data": {
      "text/plain": [
       "[0, 6.283185307179586]"
      ]
     },
     "execution_count": 115,
     "metadata": {},
     "output_type": "execute_result"
    }
   ],
   "source": [
    "[0, 2*np.pi]"
   ]
  },
  {
   "cell_type": "code",
   "execution_count": 103,
   "id": "257e23a8-4edb-43bc-8795-611f8054d6e0",
   "metadata": {},
   "outputs": [
    {
     "data": {
      "application/vnd.jupyter.widget-view+json": {
       "model_id": "76834668f2484a4d8fecbeaca9c8033d",
       "version_major": 2,
       "version_minor": 0
      },
      "text/plain": [
       "FloatSlider(value=1.0, description='a:', max=5.0, min=-5.0)"
      ]
     },
     "metadata": {},
     "output_type": "display_data"
    },
    {
     "data": {
      "application/vnd.jupyter.widget-view+json": {
       "model_id": "b6781d0464aa46379dff944adac72a82",
       "version_major": 2,
       "version_minor": 0
      },
      "text/plain": [
       "Checkbox(value=True, description='Etat')"
      ]
     },
     "metadata": {},
     "output_type": "display_data"
    },
    {
     "data": {
      "application/vnd.jupyter.widget-view+json": {
       "model_id": "ae1bb89fbe0e4eabab4aedb7b5979742",
       "version_major": 2,
       "version_minor": 0
      },
      "text/plain": [
       "Output()"
      ]
     },
     "metadata": {},
     "output_type": "display_data"
    },
    {
     "data": {
      "application/vnd.jupyter.widget-view+json": {
       "model_id": "d75b998f79cc42b7b149cb788a873696",
       "version_major": 2,
       "version_minor": 0
      },
      "text/plain": [
       "Output()"
      ]
     },
     "metadata": {},
     "output_type": "display_data"
    }
   ],
   "source": [
    "def f1(a, etat):\n",
    "    display((etat,a))\n",
    "    \n",
    "def f2(a, etat):\n",
    "    display((etat,a*a))\n",
    "\n",
    "# Création des widgets pour les paramètres\n",
    "a_widget = widgets.FloatSlider(min=-5,  max=5, step=0.1, value=1, description='a:')   # Curseur pour la valeur de a\n",
    "etat_widget =widgets.Checkbox(value=True, description='Etat')  # Case à cocher pour l'état\n",
    "\n",
    "out1 = widgets.interactive_output(f1, {'a': a_widget,'etat': etat_widget})\n",
    "out2 = widgets.interactive_output(f2, {'a': a_widget,'etat': etat_widget})\n",
    "\n",
    "display(a_widget)\n",
    "display(etat_widget)\n",
    "display(out1)\n",
    "display(out2)"
   ]
  },
  {
   "cell_type": "code",
   "execution_count": null,
   "id": "18860bff-10c6-4fe7-bc78-77e6f4a2f514",
   "metadata": {},
   "outputs": [],
   "source": [
    "import ipywidgets as widgets\n",
    "from IPython.display import display\n",
    "\n",
    "# Création des widgets\n",
    "x_widget = widgets.FloatSlider(min=-10, max=10, step=0.1, value=0, description='x:')\n",
    "a_widget = widgets.FloatSlider(min=-5,  max=5, step=0.1, value=1, description='a:')\n",
    "b_widget = widgets.FloatSlider(min=-10, max=10, step=0.1, value=0, description='b:')\n",
    "\n",
    "# Définition des fonctions\n",
    "def fonction1(x, a, b):\n",
    "    return a * x + b\n",
    "\n",
    "def fonction2(x, a, b):\n",
    "    return a * x**2 + b\n",
    "\n",
    "# Affichage des widgets et des fonctions interactives\n",
    "out1 = widgets.interactive_output(fonction1, {'x': x_widget, 'a': a_widget, 'b': b_widget})\n",
    "out2 = widgets.interactive_output(fonction2, {'x': x_widget, 'a': a_widget, 'b': b_widget})\n",
    "\n",
    "display(x_widget, a_widget, b_widget)\n",
    "displayeout1"
   ]
  },
  {
   "cell_type": "code",
   "execution_count": 102,
   "id": "754f30c7-ffac-48d5-a548-1d290e696bca",
   "metadata": {},
   "outputs": [
    {
     "data": {
      "application/vnd.jupyter.widget-view+json": {
       "model_id": "8f1c25ab15f0475b98ca1fbacc3e2691",
       "version_major": 2,
       "version_minor": 0
      },
      "text/plain": [
       "FloatSlider(value=1.0, description='x:', max=10.0, min=-10.0)"
      ]
     },
     "metadata": {},
     "output_type": "display_data"
    },
    {
     "data": {
      "application/vnd.jupyter.widget-view+json": {
       "model_id": "733f9dd1389b4305bc7b356f5581a16e",
       "version_major": 2,
       "version_minor": 0
      },
      "text/plain": [
       "FloatSlider(value=1.0, description='a:', max=5.0, min=-5.0)"
      ]
     },
     "metadata": {},
     "output_type": "display_data"
    },
    {
     "data": {
      "application/vnd.jupyter.widget-view+json": {
       "model_id": "10f1288dbd7540f98181249ca62e8e9e",
       "version_major": 2,
       "version_minor": 0
      },
      "text/plain": [
       "FloatSlider(value=0.0, description='b:', max=10.0, min=-10.0)"
      ]
     },
     "metadata": {},
     "output_type": "display_data"
    },
    {
     "data": {
      "application/vnd.jupyter.widget-view+json": {
       "model_id": "bde9960873714c90bf399618c0e56071",
       "version_major": 2,
       "version_minor": 0
      },
      "text/plain": [
       "Textarea(value='', description='Résultats:', disabled=True)"
      ]
     },
     "metadata": {},
     "output_type": "display_data"
    }
   ],
   "source": [
    "import ipywidgets as widgets\n",
    "from IPython.display import display\n",
    "\n",
    "# Création des widgets\n",
    "x_widget = widgets.FloatSlider(min=-10, max=10, step=0.1, value=1, description='x:')\n",
    "a_widget = widgets.FloatSlider(min=-5,  max=5, step=0.1, value=1, description='a:')\n",
    "b_widget = widgets.FloatSlider(min=-10, max=10, step=0.1, value=0, description='b:')\n",
    "\n",
    "# Définition des fonctions\n",
    "def fonction1(x, a, b):\n",
    "    return a * x + b\n",
    "\n",
    "def fonction2(x, a, b):\n",
    "    return a * x**2 + b\n",
    "\n",
    "# Création du widget de texte pour afficher les sorties\n",
    "output_widget = widgets.Textarea(value='', description='Résultats:', disabled=True)\n",
    "\n",
    "# Fonction pour mettre à jour le widget de texte avec les résultats des fonctions\n",
    "def update_output(change):\n",
    "    result1 = fonction1(x_widget.value, a_widget.value, b_widget.value)\n",
    "    result2 = fonction2(x_widget.value, a_widget.value, b_widget.value)\n",
    "    output_widget.value = f'Fonction 1:\\n{result1}\\nFonction 2:\\n{result2}'\n",
    "\n",
    "# Lier la fonction de mise à jour aux changements de valeur des widgets\n",
    "x_widget.observe(update_output, 'value')\n",
    "a_widget.observe(update_output, 'value')\n",
    "b_widget.observe(update_output, 'value')\n",
    "\n",
    "# Affichage des widgets\n",
    "display(x_widget, a_widget, b_widget, output_widget)\n"
   ]
  },
  {
   "cell_type": "code",
   "execution_count": 151,
   "id": "383962a6-5ed2-4f4d-bff9-fde884c3da95",
   "metadata": {},
   "outputs": [
    {
     "data": {
      "application/vnd.jupyter.widget-view+json": {
       "model_id": "e3d4c76adaf14fe7bad56e7b60ffdaba",
       "version_major": 2,
       "version_minor": 0
      },
      "text/plain": [
       "interactive(children=(IntSlider(value=4, description='A_0', max=5, min=1), FloatSlider(value=0.5, description=…"
      ]
     },
     "metadata": {},
     "output_type": "display_data"
    }
   ],
   "source": [
    "import numpy as np\n",
    "import cmath\n",
    "import matplotlib.pyplot as plt\n",
    "from ipywidgets import interact, widgets\n",
    "\n",
    "# Fonction qui détermine le type d'amortissement en fonction de gamma et omega_0\n",
    "def type_amortissement(gamma, omega0):\n",
    "    if gamma < 2 * omega0:\n",
    "        return \"normal\"\n",
    "    elif gamma == 2 * omega0:\n",
    "        return \"critique\"\n",
    "    else:\n",
    "        return \"surcritique\"\n",
    "\n",
    "# Fonction pour calculer l'envellope de l'amplitude en fonction du temps:\n",
    "def A_envellope(t, A_0, gamma):\n",
    "    return A_0 * np.exp(-gamma / 2 * t)\n",
    "\n",
    "# Fonction pour calculer la mouvement harmonique amorti (MHA) en régime normal\n",
    "def MHA(t, omega, phi, A_0, gamma):\n",
    "    return A_envellope(t, A_0, gamma) * np.sin(omega * t + phi)\n",
    "\n",
    "# Fonction pour calculer la mouvement harmonique amorti (MHA) en régime d'amortissement surcritique\n",
    "def MHA_surcritique(t, omega, A_0, gamma):\n",
    "    return A_0 * np.exp(-t * gamma / 2) * cmath.cosh(omega)\n",
    "\n",
    "# Manipulate\n",
    "@interact(A_0=(1, 5), gamma=(0, 8, 0.1), m=(5, 10, 0.1), k=(0.05, 200, 0.1), phi=(np.pi / 2, 2 * np.pi, 0.01 * np.pi))\n",
    "def plot_MHA(A_0=4, gamma=0.5, m=6, k=60, phi=np.pi / 2):\n",
    "    omega_0 = np.sqrt(k / m)\n",
    "    omega = cmath.sqrt(omega_0**2 - (gamma / 2)**2)\n",
    "\n",
    "    if gamma < 2 * omega_0:\n",
    "        Title = f\"x(t) = {A_0:.2f} exp(-{gamma / 2:.2f}t) sin({omega.real:.2f} t {'-' if np.sign(phi) == -1 else '+'} {abs(phi / np.pi):.2f}π)\"\n",
    "    else:\n",
    "        Title = \"Amortissement surcritique\"\n",
    "\n",
    "    Trange = np.linspace(0, 10, int(10 / 0.01))\n",
    "\n",
    "    if gamma < 2 * omega_0:\n",
    "        G1 = plt.plot(Trange, MHA(Trange, omega, phi, A_0, gamma), linewidth=2)\n",
    "        G2 = plt.plot(Trange, A_envellope(Trange, A_0, gamma), 'k--', markersize=1)\n",
    "        G3 = plt.plot(Trange, -A_envellope(Trange, A_0, gamma), 'k--', markersize=1)\n",
    "    else:\n",
    "        T1 = np.linspace(0, 10, int(10 / 0.01))\n",
    "        G1 = plt.plot(T1, MHA_surcritique(Trange, omega, A_0, gamma), linewidth=2)\n",
    "\n",
    "    G4 = plt.text(6, -3, f\"type={type_amortissement(gamma, omega_0)}\", fontsize=12)\n",
    "\n",
    "    plt.xlabel('t [s]', fontsize=12)\n",
    "    plt.ylabel('x(t) [m]', fontsize=12)\n",
    "    plt.title(Title, fontsize=14)\n",
    "    plt.xlim(0, 10)\n",
    "    plt.ylim(-5, 5)\n",
    "    plt.grid(True)\n",
    "    plt.show()\n"
   ]
  },
  {
   "cell_type": "code",
   "execution_count": 153,
   "id": "ccb6b300-5c77-4a7c-b612-d1307b7f6a7d",
   "metadata": {},
   "outputs": [
    {
     "name": "stderr",
     "output_type": "stream",
     "text": [
      "/var/folders/qm/6p1s72nj2k3bg7q0b36nq2gc0000gn/T/ipykernel_57208/882693852.py:5: RuntimeWarning: divide by zero encountered in scalar divide\n",
      "  return Ae * omega0 / omega / np.sqrt((omega0 / omega - omega / omega0)**2 + 1/Q**2)\n",
      "/var/folders/qm/6p1s72nj2k3bg7q0b36nq2gc0000gn/T/ipykernel_57208/882693852.py:5: RuntimeWarning: invalid value encountered in scalar divide\n",
      "  return Ae * omega0 / omega / np.sqrt((omega0 / omega - omega / omega0)**2 + 1/Q**2)\n"
     ]
    },
    {
     "ename": "ValueError",
     "evalue": "x and y must have same first dimension, but have shapes (100,) and (1,)",
     "output_type": "error",
     "traceback": [
      "\u001b[0;31m---------------------------------------------------------------------------\u001b[0m",
      "\u001b[0;31mValueError\u001b[0m                                Traceback (most recent call last)",
      "Cell \u001b[0;32mIn[153], line 32\u001b[0m\n\u001b[1;32m     29\u001b[0m Ar \u001b[38;5;241m=\u001b[39m Arfct(Ae, Q)\n\u001b[1;32m     30\u001b[0m omega_r \u001b[38;5;241m=\u001b[39m omega_rfct(omega0, Q)\n\u001b[0;32m---> 32\u001b[0m G4 \u001b[38;5;241m=\u001b[39m [\u001b[43mplt\u001b[49m\u001b[38;5;241;43m.\u001b[39;49m\u001b[43mplot\u001b[49m\u001b[43m(\u001b[49m\u001b[43mnp\u001b[49m\u001b[38;5;241;43m.\u001b[39;49m\u001b[43mlinspace\u001b[49m\u001b[43m(\u001b[49m\u001b[38;5;241;43m0\u001b[39;49m\u001b[43m,\u001b[49m\u001b[43m \u001b[49m\u001b[38;5;241;43m8\u001b[39;49m\u001b[43m,\u001b[49m\u001b[43m \u001b[49m\u001b[38;5;241;43m100\u001b[39;49m\u001b[43m)\u001b[49m\u001b[43m,\u001b[49m\u001b[43m \u001b[49m\u001b[43mAfct\u001b[49m\u001b[43m(\u001b[49m\u001b[43mAe\u001b[49m\u001b[43m,\u001b[49m\u001b[43m \u001b[49m\u001b[43mQ\u001b[49m\u001b[43m,\u001b[49m\u001b[43m \u001b[49m\u001b[43momega0\u001b[49m\u001b[43m,\u001b[49m\u001b[43m \u001b[49m\u001b[43momega\u001b[49m\u001b[43m)\u001b[49m\u001b[43m,\u001b[49m\u001b[43m \u001b[49m\u001b[43mlinewidth\u001b[49m\u001b[38;5;241;43m=\u001b[39;49m\u001b[38;5;241;43m2\u001b[39;49m\u001b[43m)\u001b[49m[\u001b[38;5;241m0\u001b[39m] \u001b[38;5;28;01mfor\u001b[39;00m omega \u001b[38;5;129;01min\u001b[39;00m np\u001b[38;5;241m.\u001b[39mlinspace(\u001b[38;5;241m0\u001b[39m, \u001b[38;5;241m8\u001b[39m, \u001b[38;5;241m100\u001b[39m)]\n\u001b[1;32m     33\u001b[0m G[\u001b[38;5;241m0\u001b[39m] \u001b[38;5;241m=\u001b[39m {\u001b[38;5;124m'\u001b[39m\u001b[38;5;124mlinestyle\u001b[39m\u001b[38;5;124m'\u001b[39m: \u001b[38;5;124m'\u001b[39m\u001b[38;5;124mdashed\u001b[39m\u001b[38;5;124m'\u001b[39m, \u001b[38;5;124m'\u001b[39m\u001b[38;5;124mxdata\u001b[39m\u001b[38;5;124m'\u001b[39m: [omega_r, omega_r], \u001b[38;5;124m'\u001b[39m\u001b[38;5;124mydata\u001b[39m\u001b[38;5;124m'\u001b[39m: [\u001b[38;5;241m0\u001b[39m, Ar]}\n\u001b[1;32m     34\u001b[0m G[\u001b[38;5;241m3\u001b[39m] \u001b[38;5;241m=\u001b[39m {\u001b[38;5;124m'\u001b[39m\u001b[38;5;124mlinestyle\u001b[39m\u001b[38;5;124m'\u001b[39m: \u001b[38;5;124m'\u001b[39m\u001b[38;5;124mdashed\u001b[39m\u001b[38;5;124m'\u001b[39m, \u001b[38;5;124m'\u001b[39m\u001b[38;5;124mxdata\u001b[39m\u001b[38;5;124m'\u001b[39m: [omega0, omega0], \u001b[38;5;124m'\u001b[39m\u001b[38;5;124mydata\u001b[39m\u001b[38;5;124m'\u001b[39m: [\u001b[38;5;241m0\u001b[39m, Ae \u001b[38;5;241m*\u001b[39m Q]}\n",
      "File \u001b[0;32m~/Substancia/Projets/SciencesDeLaNature_Garneau_Catalogue_Jupyter/venv/lib/python3.12/site-packages/matplotlib/pyplot.py:3578\u001b[0m, in \u001b[0;36mplot\u001b[0;34m(scalex, scaley, data, *args, **kwargs)\u001b[0m\n\u001b[1;32m   3570\u001b[0m \u001b[38;5;129m@_copy_docstring_and_deprecators\u001b[39m(Axes\u001b[38;5;241m.\u001b[39mplot)\n\u001b[1;32m   3571\u001b[0m \u001b[38;5;28;01mdef\u001b[39;00m \u001b[38;5;21mplot\u001b[39m(\n\u001b[1;32m   3572\u001b[0m     \u001b[38;5;241m*\u001b[39margs: \u001b[38;5;28mfloat\u001b[39m \u001b[38;5;241m|\u001b[39m ArrayLike \u001b[38;5;241m|\u001b[39m \u001b[38;5;28mstr\u001b[39m,\n\u001b[0;32m   (...)\u001b[0m\n\u001b[1;32m   3576\u001b[0m     \u001b[38;5;241m*\u001b[39m\u001b[38;5;241m*\u001b[39mkwargs,\n\u001b[1;32m   3577\u001b[0m ) \u001b[38;5;241m-\u001b[39m\u001b[38;5;241m>\u001b[39m \u001b[38;5;28mlist\u001b[39m[Line2D]:\n\u001b[0;32m-> 3578\u001b[0m     \u001b[38;5;28;01mreturn\u001b[39;00m \u001b[43mgca\u001b[49m\u001b[43m(\u001b[49m\u001b[43m)\u001b[49m\u001b[38;5;241;43m.\u001b[39;49m\u001b[43mplot\u001b[49m\u001b[43m(\u001b[49m\n\u001b[1;32m   3579\u001b[0m \u001b[43m        \u001b[49m\u001b[38;5;241;43m*\u001b[39;49m\u001b[43margs\u001b[49m\u001b[43m,\u001b[49m\n\u001b[1;32m   3580\u001b[0m \u001b[43m        \u001b[49m\u001b[43mscalex\u001b[49m\u001b[38;5;241;43m=\u001b[39;49m\u001b[43mscalex\u001b[49m\u001b[43m,\u001b[49m\n\u001b[1;32m   3581\u001b[0m \u001b[43m        \u001b[49m\u001b[43mscaley\u001b[49m\u001b[38;5;241;43m=\u001b[39;49m\u001b[43mscaley\u001b[49m\u001b[43m,\u001b[49m\n\u001b[1;32m   3582\u001b[0m \u001b[43m        \u001b[49m\u001b[38;5;241;43m*\u001b[39;49m\u001b[38;5;241;43m*\u001b[39;49m\u001b[43m(\u001b[49m\u001b[43m{\u001b[49m\u001b[38;5;124;43m\"\u001b[39;49m\u001b[38;5;124;43mdata\u001b[39;49m\u001b[38;5;124;43m\"\u001b[39;49m\u001b[43m:\u001b[49m\u001b[43m \u001b[49m\u001b[43mdata\u001b[49m\u001b[43m}\u001b[49m\u001b[43m \u001b[49m\u001b[38;5;28;43;01mif\u001b[39;49;00m\u001b[43m \u001b[49m\u001b[43mdata\u001b[49m\u001b[43m \u001b[49m\u001b[38;5;129;43;01mis\u001b[39;49;00m\u001b[43m \u001b[49m\u001b[38;5;129;43;01mnot\u001b[39;49;00m\u001b[43m \u001b[49m\u001b[38;5;28;43;01mNone\u001b[39;49;00m\u001b[43m \u001b[49m\u001b[38;5;28;43;01melse\u001b[39;49;00m\u001b[43m \u001b[49m\u001b[43m{\u001b[49m\u001b[43m}\u001b[49m\u001b[43m)\u001b[49m\u001b[43m,\u001b[49m\n\u001b[1;32m   3583\u001b[0m \u001b[43m        \u001b[49m\u001b[38;5;241;43m*\u001b[39;49m\u001b[38;5;241;43m*\u001b[39;49m\u001b[43mkwargs\u001b[49m\u001b[43m,\u001b[49m\n\u001b[1;32m   3584\u001b[0m \u001b[43m    \u001b[49m\u001b[43m)\u001b[49m\n",
      "File \u001b[0;32m~/Substancia/Projets/SciencesDeLaNature_Garneau_Catalogue_Jupyter/venv/lib/python3.12/site-packages/matplotlib/axes/_axes.py:1721\u001b[0m, in \u001b[0;36mAxes.plot\u001b[0;34m(self, scalex, scaley, data, *args, **kwargs)\u001b[0m\n\u001b[1;32m   1478\u001b[0m \u001b[38;5;250m\u001b[39m\u001b[38;5;124;03m\"\"\"\u001b[39;00m\n\u001b[1;32m   1479\u001b[0m \u001b[38;5;124;03mPlot y versus x as lines and/or markers.\u001b[39;00m\n\u001b[1;32m   1480\u001b[0m \n\u001b[0;32m   (...)\u001b[0m\n\u001b[1;32m   1718\u001b[0m \u001b[38;5;124;03m(``'green'``) or hex strings (``'#008000'``).\u001b[39;00m\n\u001b[1;32m   1719\u001b[0m \u001b[38;5;124;03m\"\"\"\u001b[39;00m\n\u001b[1;32m   1720\u001b[0m kwargs \u001b[38;5;241m=\u001b[39m cbook\u001b[38;5;241m.\u001b[39mnormalize_kwargs(kwargs, mlines\u001b[38;5;241m.\u001b[39mLine2D)\n\u001b[0;32m-> 1721\u001b[0m lines \u001b[38;5;241m=\u001b[39m [\u001b[38;5;241m*\u001b[39m\u001b[38;5;28mself\u001b[39m\u001b[38;5;241m.\u001b[39m_get_lines(\u001b[38;5;28mself\u001b[39m, \u001b[38;5;241m*\u001b[39margs, data\u001b[38;5;241m=\u001b[39mdata, \u001b[38;5;241m*\u001b[39m\u001b[38;5;241m*\u001b[39mkwargs)]\n\u001b[1;32m   1722\u001b[0m \u001b[38;5;28;01mfor\u001b[39;00m line \u001b[38;5;129;01min\u001b[39;00m lines:\n\u001b[1;32m   1723\u001b[0m     \u001b[38;5;28mself\u001b[39m\u001b[38;5;241m.\u001b[39madd_line(line)\n",
      "File \u001b[0;32m~/Substancia/Projets/SciencesDeLaNature_Garneau_Catalogue_Jupyter/venv/lib/python3.12/site-packages/matplotlib/axes/_base.py:303\u001b[0m, in \u001b[0;36m_process_plot_var_args.__call__\u001b[0;34m(self, axes, data, *args, **kwargs)\u001b[0m\n\u001b[1;32m    301\u001b[0m     this \u001b[38;5;241m+\u001b[39m\u001b[38;5;241m=\u001b[39m args[\u001b[38;5;241m0\u001b[39m],\n\u001b[1;32m    302\u001b[0m     args \u001b[38;5;241m=\u001b[39m args[\u001b[38;5;241m1\u001b[39m:]\n\u001b[0;32m--> 303\u001b[0m \u001b[38;5;28;01myield from\u001b[39;00m \u001b[38;5;28;43mself\u001b[39;49m\u001b[38;5;241;43m.\u001b[39;49m\u001b[43m_plot_args\u001b[49m\u001b[43m(\u001b[49m\n\u001b[1;32m    304\u001b[0m \u001b[43m    \u001b[49m\u001b[43maxes\u001b[49m\u001b[43m,\u001b[49m\u001b[43m \u001b[49m\u001b[43mthis\u001b[49m\u001b[43m,\u001b[49m\u001b[43m \u001b[49m\u001b[43mkwargs\u001b[49m\u001b[43m,\u001b[49m\u001b[43m \u001b[49m\u001b[43mambiguous_fmt_datakey\u001b[49m\u001b[38;5;241;43m=\u001b[39;49m\u001b[43mambiguous_fmt_datakey\u001b[49m\u001b[43m)\u001b[49m\n",
      "File \u001b[0;32m~/Substancia/Projets/SciencesDeLaNature_Garneau_Catalogue_Jupyter/venv/lib/python3.12/site-packages/matplotlib/axes/_base.py:499\u001b[0m, in \u001b[0;36m_process_plot_var_args._plot_args\u001b[0;34m(self, axes, tup, kwargs, return_kwargs, ambiguous_fmt_datakey)\u001b[0m\n\u001b[1;32m    496\u001b[0m     axes\u001b[38;5;241m.\u001b[39myaxis\u001b[38;5;241m.\u001b[39mupdate_units(y)\n\u001b[1;32m    498\u001b[0m \u001b[38;5;28;01mif\u001b[39;00m x\u001b[38;5;241m.\u001b[39mshape[\u001b[38;5;241m0\u001b[39m] \u001b[38;5;241m!=\u001b[39m y\u001b[38;5;241m.\u001b[39mshape[\u001b[38;5;241m0\u001b[39m]:\n\u001b[0;32m--> 499\u001b[0m     \u001b[38;5;28;01mraise\u001b[39;00m \u001b[38;5;167;01mValueError\u001b[39;00m(\u001b[38;5;124mf\u001b[39m\u001b[38;5;124m\"\u001b[39m\u001b[38;5;124mx and y must have same first dimension, but \u001b[39m\u001b[38;5;124m\"\u001b[39m\n\u001b[1;32m    500\u001b[0m                      \u001b[38;5;124mf\u001b[39m\u001b[38;5;124m\"\u001b[39m\u001b[38;5;124mhave shapes \u001b[39m\u001b[38;5;132;01m{\u001b[39;00mx\u001b[38;5;241m.\u001b[39mshape\u001b[38;5;132;01m}\u001b[39;00m\u001b[38;5;124m and \u001b[39m\u001b[38;5;132;01m{\u001b[39;00my\u001b[38;5;241m.\u001b[39mshape\u001b[38;5;132;01m}\u001b[39;00m\u001b[38;5;124m\"\u001b[39m)\n\u001b[1;32m    501\u001b[0m \u001b[38;5;28;01mif\u001b[39;00m x\u001b[38;5;241m.\u001b[39mndim \u001b[38;5;241m>\u001b[39m \u001b[38;5;241m2\u001b[39m \u001b[38;5;129;01mor\u001b[39;00m y\u001b[38;5;241m.\u001b[39mndim \u001b[38;5;241m>\u001b[39m \u001b[38;5;241m2\u001b[39m:\n\u001b[1;32m    502\u001b[0m     \u001b[38;5;28;01mraise\u001b[39;00m \u001b[38;5;167;01mValueError\u001b[39;00m(\u001b[38;5;124mf\u001b[39m\u001b[38;5;124m\"\u001b[39m\u001b[38;5;124mx and y can be no greater than 2D, but have \u001b[39m\u001b[38;5;124m\"\u001b[39m\n\u001b[1;32m    503\u001b[0m                      \u001b[38;5;124mf\u001b[39m\u001b[38;5;124m\"\u001b[39m\u001b[38;5;124mshapes \u001b[39m\u001b[38;5;132;01m{\u001b[39;00mx\u001b[38;5;241m.\u001b[39mshape\u001b[38;5;132;01m}\u001b[39;00m\u001b[38;5;124m and \u001b[39m\u001b[38;5;132;01m{\u001b[39;00my\u001b[38;5;241m.\u001b[39mshape\u001b[38;5;132;01m}\u001b[39;00m\u001b[38;5;124m\"\u001b[39m)\n",
      "\u001b[0;31mValueError\u001b[0m: x and y must have same first dimension, but have shapes (100,) and (1,)"
     ]
    },
    {
     "data": {
      "image/png": "[encoded data removed]",
      "text/plain": [
       "<Figure size 640x480 with 1 Axes>"
      ]
     },
     "metadata": {},
     "output_type": "display_data"
    }
   ],
   "source": [
    "import numpy as np\n",
    "import matplotlib.pyplot as plt\n",
    "\n",
    "def Afct(Ae, Q, omega0, omega):\n",
    "    return Ae * omega0 / omega / np.sqrt((omega0 / omega - omega / omega0)**2 + 1/Q**2)\n",
    "\n",
    "\n",
    "ImageX = 800\n",
    "ImageY = 500\n",
    "ImX = ImageX\n",
    "ImY = ImageY\n",
    "prec = 2\n",
    "R = 1.2\n",
    "Bas = 25\n",
    "G = [[] for _ in range(10)]\n",
    "\n",
    "Q = 5\n",
    "omega0 = 4\n",
    "Ae = 4.2\n",
    "\n",
    "Ar = Arfct(Ae, Q)\n",
    "omega_r = omega_rfct(omega0, Q)\n",
    "\n",
    "G4 = [plt.plot(np.linspace(0, 8, 100), Afct(Ae, Q, omega0, omega), linewidth=2)[0] for omega in np.linspace(0, 8, 100)]\n",
    "G[0] = {'linestyle': 'dashed', 'xdata': [omega_r, omega_r], 'ydata': [0, Ar]}\n",
    "G[3] = {'linestyle': 'dashed', 'xdata': [omega0, omega0], 'ydata': [0, Ae * Q]}\n",
    "G[1] = {'text': f\"Q = {Q:.2f}; ω₀ = {omega0:.2f} rad/s; Ae = {Ae:.2f} cm;\", 'position': (5, 24)}\n",
    "G[2] = {'linestyle': 'dashed', 'xdata': [0, omega_r], 'ydata': [Ar, Ar]}\n",
    "\n",
    "plt.gca().set_prop_cycle(None)  # Reset color cycle\n",
    "\n",
    "for g in G:\n",
    "    if g:\n",
    "        plt.plot([], **g)\n",
    "\n",
    "plt.xlim(0, 8)\n",
    "plt.ylim(0, 25)\n",
    "plt.xlabel('ω (rad/s)')\n",
    "plt.ylabel('A (cm)')\n",
    "plt.title('Amplitude en fonction de la fréquence angulaire')\n",
    "plt.grid(True, linestyle='--')\n",
    "plt.legend(['Q = 5; ω₀ = 4 rad/s; Ae = 4.2 cm;'])\n",
    "plt.gca().set_aspect('auto')\n",
    "plt.show()\n"
   ]
  },
  {
   "cell_type": "code",
   "execution_count": 16,
   "id": "54fbaf09-e8b4-4a30-be41-ff2253d15e16",
   "metadata": {},
   "outputs": [
    {
     "data": {
      "application/vnd.jupyter.widget-view+json": {
       "model_id": "42660479183b44c4bdda3274e72b04db",
       "version_major": 2,
       "version_minor": 0
      },
      "text/plain": [
       "HBox(children=(VBox(children=(IntSlider(value=0, description='a'), IntSlider(value=0, description='b'), IntSli…"
      ]
     },
     "execution_count": 16,
     "metadata": {},
     "output_type": "execute_result"
    }
   ],
   "source": [
    "a = widgets.IntSlider(description='a')\n",
    "b = widgets.IntSlider(description='b')\n",
    "c = widgets.IntSlider(description='c')\n",
    "def f(a, b, c):\n",
    "    print('{}*{}*{}={}'.format(a, b, c, a*b*c))\n",
    "\n",
    "out = widgets.interactive_output(f, {'a': a, 'b': b, 'c': c})\n",
    "\n",
    "widgets.HBox([widgets.VBox([a, b, c]), out])"
   ]
  },
  {
   "cell_type": "code",
   "execution_count": 20,
   "id": "139f87a9-7535-49a3-b96d-d099673d2565",
   "metadata": {},
   "outputs": [
    {
     "data": {
      "application/vnd.jupyter.widget-view+json": {
       "model_id": "8d9163e4b21c40adbff16d9c786e164c",
       "version_major": 2,
       "version_minor": 0
      },
      "text/plain": [
       "Map(center=[48.8566, 2.3522], controls=(ZoomControl(options=['position', 'zoom_in_text', 'zoom_in_title', 'zoo…"
      ]
     },
     "metadata": {},
     "output_type": "display_data"
    },
    {
     "data": {
      "application/vnd.jupyter.widget-view+json": {
       "model_id": "6352f54a3b4d4703a5512b428c1658cf",
       "version_major": 2,
       "version_minor": 0
      },
      "text/plain": [
       "FloatSlider(value=48.8566, description='Latitude:', max=90.0, min=-90.0)"
      ]
     },
     "metadata": {},
     "output_type": "display_data"
    },
    {
     "data": {
      "application/vnd.jupyter.widget-view+json": {
       "model_id": "becb5e7804b4483081a2fd269bdaa635",
       "version_major": 2,
       "version_minor": 0
      },
      "text/plain": [
       "FloatSlider(value=2.3522, description='Longitude:', max=180.0, min=-180.0)"
      ]
     },
     "metadata": {},
     "output_type": "display_data"
    },
    {
     "data": {
      "application/vnd.jupyter.widget-view+json": {
       "model_id": "af2581b4de7f4afcb49519238a4993a2",
       "version_major": 2,
       "version_minor": 0
      },
      "text/plain": [
       "IntSlider(value=4, description='Zoom:', max=18, min=1)"
      ]
     },
     "metadata": {},
     "output_type": "display_data"
    },
    {
     "data": {
      "application/vnd.jupyter.widget-view+json": {
       "model_id": "d04b1582aba2481aa683f28278677570",
       "version_major": 2,
       "version_minor": 0
      },
      "text/plain": [
       "Checkbox(value=True, description='Afficher les points')"
      ]
     },
     "metadata": {},
     "output_type": "display_data"
    }
   ],
   "source": [
    "import ipywidgets as widgets\n",
    "from ipyleaflet import Map, Marker, basemaps\n",
    "from IPython.display import display\n",
    "\n",
    "#---------------------------------------------------------------------------------------\n",
    "# Créer une carte interactive\n",
    "m = Map(center=(48.8566, 2.3522), zoom=10, basemap=basemaps.OpenStreetMap.Mapnik)\n",
    "\n",
    "\n",
    "#---------------------------------------------------------------------------------------\n",
    "# Créer des widgets pour contrôler la carte: la position et le zoom\n",
    "latitude = widgets.FloatSlider(value=48.8566, min=-90, max=90, description='Latitude:')\n",
    "longitude = widgets.FloatSlider(value=2.3522, min=-180, max=180, description='Longitude:')\n",
    "zoom = widgets.IntSlider(value=4, min=1, max=18, description='Zoom:')\n",
    "\n",
    "# Fonction de mise à jour de la carte en fonction des valeurs des widgets\n",
    "def update_map(latitude, longitude, zoom):\n",
    "    m.center = (latitude, longitude)\n",
    "    m.zoom = zoom\n",
    "\n",
    "# Lier la fonction de mise à jour aux widgets\n",
    "widgets.interactive(update_map, latitude=latitude, longitude=longitude, zoom=zoom)\n",
    "\n",
    "#---------------------------------------------------------------------------------------\n",
    "# Créer des marqueurs pour représenter des points\n",
    "points = [\n",
    "    (48.8566, 2.3522),  # Paris\n",
    "    (51.5074, -0.1278),  # Londres\n",
    "    (40.7128, -74.0060),  # New York\n",
    "    (-33.8688, 151.2093)  # Sydney\n",
    "]\n",
    "markers = [Marker(location=point) for point in points]\n",
    "\n",
    "# Ajouter les marqueurs à la carte\n",
    "for marker in markers:\n",
    "    m.add_layer(marker)\n",
    "\n",
    "# Créer un Checkbox pour afficher ou masquer les points\n",
    "checkbox = widgets.Checkbox(value=True, description='Afficher les points')\n",
    "\n",
    "# Fonction de mise à jour pour afficher ou masquer les points en fonction de la valeur du checkbox\n",
    "def update_markers(change):\n",
    "    for marker in markers:\n",
    "        marker.visible = change.new\n",
    "\n",
    "# Lier la fonction de mise à jour au changement de valeur du checkbox\n",
    "checkbox.observe(update_markers, 'value')\n",
    "\n",
    "#---------------------------------------------------------------------------------------\n",
    "# Afficher la carte et les widgets\n",
    "display(m)\n",
    "display(latitude)\n",
    "display(longitude)\n",
    "display(zoom)\n",
    "display(checkbox)\n"
   ]
  },
  {
   "cell_type": "code",
   "execution_count": null,
   "id": "d059d6d1-5a0e-41c9-ae7f-e81aabbbe66d",
   "metadata": {},
   "outputs": [],
   "source": []
  }
 ],
 "metadata": {
  "kernelspec": {
   "display_name": "Python 3 (ipykernel)",
   "language": "python",
   "name": "python3"
  },
  "language_info": {
   "codemirror_mode": {
    "name": "ipython",
    "version": 3
   },
   "file_extension": ".py",
   "mimetype": "text/x-python",
   "name": "python",
   "nbconvert_exporter": "python",
   "pygments_lexer": "ipython3",
   "version": "3.12.0"
  }
 },
 "nbformat": 4,
 "nbformat_minor": 5
}
