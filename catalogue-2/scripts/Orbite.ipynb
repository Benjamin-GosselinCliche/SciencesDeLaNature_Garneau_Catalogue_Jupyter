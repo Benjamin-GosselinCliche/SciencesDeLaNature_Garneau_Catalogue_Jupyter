{
 "cells": [
  {
   "cell_type": "markdown",
   "id": "244fcc60-53ce-4b83-afa6-839c89ed3cac",
   "metadata": {},
   "source": [
    "---\n",
    "# Jupyter Widget\n",
    "\n",
    "<div style=\"text-align: center;\">\n",
    "    <div style=\"display: inline-block; position: relative; width: 350px;\">\n",
    "        <img src=\"../img/_b21780d5-6e0b-4d4b-8388-89e3197acf13.jpeg\" alt=\"Dessin\" style=\"width: 100%;\"/>\n",
    "        <p style=\"text-align: center; margin-top: 5px;\">\n",
    "            <span style=\"font-style: italic; font-size: 16px;\"> Got it! </span><br/>\n",
    "            <span style=\"font-style: italic; font-size: 12px;\">Image générée par DALL·E 3, 2024 </span>\n",
    "        </p>\n",
    "    </div>\n",
    "</div>\n",
    "\n",
    "\n",
    "Le terme *widgets* peut être traduit en français par \"éléments interactifs\" ou \"composants interactifs\". Un widget est un objet utilisé dans le contexte des interfaces utilisateur pour désigner des éléments graphiques ou interactifs tels que des boutons, des curseurs, des cases à cocher, etc. C'est ce type d'objet qui permettent à l'utilisateur d'interagir avec une application ou un système informatique. Les utilisateurs peuvent donc explorer, analyser et visualiser des données de manière dynamique. \n",
    "\n",
    "Les widgets permettent aux utilisateurs d'interagir avec le code en temps réel, en ajustant les paramètres ou en sélectionnant des options, ce qui a pour effet de modifier les extrants. Au fond, il s'agit d'une expression particulière du principe fondamental de l'interaction entre le *frontend* (interface utilisateur côté client) et le *backend* (code côté serveur) qui se cache dans la construction de tous les sites web et les applications. \n",
    "\n",
    "Dans le contexte de *Jupyter Widget*, un exemple d'utilisation très utile se rapportent aux fonctions mathématiques. En effet, leur visualisation dynamique permettent de mieux les comprendre.\n"
   ]
  },
  {
   "cell_type": "code",
   "execution_count": 1,
   "id": "a1bda54e-20b1-417b-88da-397fe5247f94",
   "metadata": {},
   "outputs": [],
   "source": [
    "# Importation de la librairie:\n",
    "import ipywidgets as widgets"
   ]
  },
  {
   "cell_type": "markdown",
   "id": "98aa2210-5beb-488b-a8f6-a9f2d5ba9f20",
   "metadata": {},
   "source": [
    "---\n",
    "# Widgets de base:\n",
    "\n",
    "Il en existent de nombreux. Les plus importants (numériques, booléens, sélection, texte)  sont listés ci-dessous.  "
   ]
  },
  {
   "cell_type": "markdown",
   "id": "8762fab6-7039-44fb-9930-1b4d47ab4c1f",
   "metadata": {},
   "source": [
    "\n",
    "## Widgets numériques :\n",
    "\n",
    "Il s'agit des widgets relatifs valeurs numériques `int` et `float`.\n",
    "\n",
    "Les options des curseurs sont:\n",
    "- `value`: La valeur initiale du curseur. \n",
    "- `min`: La valeur minimale autorisée pour le curseur.\n",
    "- `max`: La valeur maximale autorisée pour le curseur. \n",
    "- `step`: L'incrément par lequel la valeur du curseur change à chaque étape. \n",
    "- `description`: La description affichée à côté du curseur. \n",
    "- `disabled`: Indique si le curseur est activé ou désactivé. Si la valeur est `True`, le curseur est désactivé et ne peut pas être modifié par l'utilisateur. Par défaut: `False`.\n",
    "- `continuous_update`: Contrôle si la mise à jour du curseur se produit en temps réel ou seulement lorsque l'utilisateur relâche le curseur. Si la valeur est `True`, la mise à jour est continue pendant que le curseur est déplacé. Par défaut: `False`.\n",
    "- `orientation`: L'orientation du curseur. Les options sont 'horizontal' ou 'vertical'. Par défaut: `'horizontal'`.\n",
    "- `readout`: Indique si la valeur actuelle du curseur est affichée. Si la valeur est `True`, une lecture de la valeur actuelle est affichée à côté du curseur. Par défaut: `True`.\n",
    "- `readout_format`: Le format de la lecture de la valeur du curseur. Pour afficher un nombre entier, le format est : `'d'`. Pour afficher un nombre réel en spécifiant le nombre de décimale, par exemple 2, le format est : `'.2f'`. "
   ]
  },
  {
   "cell_type": "code",
   "execution_count": 2,
   "id": "2ff1850a-9dd4-4790-9d71-88b821db694a",
   "metadata": {},
   "outputs": [
    {
     "data": {
      "application/vnd.jupyter.widget-view+json": {
       "model_id": "e8440a3a6ee04820bab528a8a1506f57",
       "version_major": 2,
       "version_minor": 0
      },
      "text/plain": [
       "IntSlider(value=7, description='a = ', max=10)"
      ]
     },
     "metadata": {},
     "output_type": "display_data"
    },
    {
     "data": {
      "application/vnd.jupyter.widget-view+json": {
       "model_id": "f7e073a220e5447eb8a1f7e58c886194",
       "version_major": 2,
       "version_minor": 0
      },
      "text/plain": [
       "FloatSlider(value=7.0, description='b = ', max=10.0, readout_format='.3f')"
      ]
     },
     "metadata": {},
     "output_type": "display_data"
    }
   ],
   "source": [
    "a = widgets.IntSlider(value=7, min=0, max=10, step=1, description='a = ')\n",
    "b = widgets.FloatSlider(value=7, min=0, max=10, step=.1, description='b = ', readout_format='.3f')\n",
    "display(a)\n",
    "display(b)"
   ]
  },
  {
   "cell_type": "code",
   "execution_count": 3,
   "id": "d4e8d4d5-343a-4601-8784-fe04612c7b8c",
   "metadata": {},
   "outputs": [
    {
     "data": {
      "application/vnd.jupyter.widget-view+json": {
       "model_id": "3a3406d950554deb9c54ab3151843fb7",
       "version_major": 2,
       "version_minor": 0
      },
      "text/plain": [
       "IntRangeSlider(value=(6, 8), description='Pairs-Int:', max=10, step=2)"
      ]
     },
     "metadata": {},
     "output_type": "display_data"
    },
    {
     "data": {
      "application/vnd.jupyter.widget-view+json": {
       "model_id": "0d25fa719b264b7ba3c6306b307a8734",
       "version_major": 2,
       "version_minor": 0
      },
      "text/plain": [
       "FloatRangeSlider(value=(5.0, 7.0), description='Domaine:', max=10.0, step=0.2)"
      ]
     },
     "metadata": {},
     "output_type": "display_data"
    }
   ],
   "source": [
    "w1 = widgets.IntRangeSlider(value=[6, 8], min=0, max=10, step=2, description='Pairs-Int:')\n",
    "w2 = widgets.FloatRangeSlider(value=[5, 7], min=0, max=10, step=.2, description='Domaine:')\n",
    "display(w1)\n",
    "display(w2)"
   ]
  },
  {
   "cell_type": "code",
   "execution_count": 4,
   "id": "5b1e6749-4104-489f-9a8e-2028e22b0e0a",
   "metadata": {},
   "outputs": [
    {
     "data": {
      "application/vnd.jupyter.widget-view+json": {
       "model_id": "08c8922b599b4497b3c3212a674b97eb",
       "version_major": 2,
       "version_minor": 0
      },
      "text/plain": [
       "BoundedIntText(value=7, description='a = ', max=10)"
      ]
     },
     "metadata": {},
     "output_type": "display_data"
    },
    {
     "data": {
      "application/vnd.jupyter.widget-view+json": {
       "model_id": "7371463e084442ba97ccac1ba000907d",
       "version_major": 2,
       "version_minor": 0
      },
      "text/plain": [
       "BoundedFloatText(value=7.0, description='b = ', max=10.0, step=0.01)"
      ]
     },
     "metadata": {},
     "output_type": "display_data"
    }
   ],
   "source": [
    "a = widgets.BoundedIntText(value=7, min=0, max=10, step=1, description='a = ')\n",
    "b = widgets.BoundedFloatText(value=7, min=0, max=10, step=.01, description='b = ')\n",
    "display(a)\n",
    "display(b)"
   ]
  },
  {
   "cell_type": "markdown",
   "id": "39b40e31-63b4-4379-b168-3fdf94aa556a",
   "metadata": {},
   "source": [
    "---\n",
    "## Widgets booléens :\n",
    "\n",
    "Il s'agit des widgets relatifs valeurs booléennes. Ces widgets change l'état d'une variable `True` ou `False`."
   ]
  },
  {
   "cell_type": "code",
   "execution_count": 5,
   "id": "a845e668-1a2b-4d6e-b7de-e0bece731dda",
   "metadata": {},
   "outputs": [
    {
     "data": {
      "application/vnd.jupyter.widget-view+json": {
       "model_id": "33982d5fce094df4bb3f3cb751e89067",
       "version_major": 2,
       "version_minor": 0
      },
      "text/plain": [
       "ToggleButton(value=False, description='Cliquez', icon='check', tooltip='Description')"
      ]
     },
     "execution_count": 5,
     "metadata": {},
     "output_type": "execute_result"
    }
   ],
   "source": [
    "widgets.ToggleButton(\n",
    "    value=False,\n",
    "    description='Cliquez',\n",
    "    disabled=False,\n",
    "    button_style='', # 'success', 'info', 'warning', 'danger' or ''\n",
    "    tooltip='Description',\n",
    "    icon='check' # (FontAwesome names without the `fa-` prefix)\n",
    ")"
   ]
  },
  {
   "cell_type": "code",
   "execution_count": 6,
   "id": "7107eaeb-8f03-4ea2-9136-c94840a01c75",
   "metadata": {},
   "outputs": [
    {
     "data": {
      "application/vnd.jupyter.widget-view+json": {
       "model_id": "0048a007883f42568fa270b5bae44a86",
       "version_major": 2,
       "version_minor": 0
      },
      "text/plain": [
       "Checkbox(value=False, description='Cochez', indent=False)"
      ]
     },
     "execution_count": 6,
     "metadata": {},
     "output_type": "execute_result"
    }
   ],
   "source": [
    "widgets.Checkbox(\n",
    "    value=False,\n",
    "    description='Cochez',\n",
    "    disabled=False,\n",
    "    indent=False\n",
    ")"
   ]
  },
  {
   "cell_type": "markdown",
   "id": "b48b7fbb-e41d-4fa8-905e-bcedbadde14e",
   "metadata": {},
   "source": [
    "---\n",
    "## Widgets de sélection :\n",
    "\n",
    "Il s'agit des wigdets qui permettent de sélectionner des valeurs catégorielles."
   ]
  },
  {
   "cell_type": "code",
   "execution_count": 7,
   "id": "521b75ba-05e5-4648-b577-6367d71f8bf4",
   "metadata": {},
   "outputs": [
    {
     "data": {
      "application/vnd.jupyter.widget-view+json": {
       "model_id": "9b854ceed5c440e7b3020cfb39bd4286",
       "version_major": 2,
       "version_minor": 0
      },
      "text/plain": [
       "RadioButtons(description='Operating System:', options=('Linux', 'MacOs', 'Windows'), value='Linux')"
      ]
     },
     "execution_count": 7,
     "metadata": {},
     "output_type": "execute_result"
    }
   ],
   "source": [
    "widgets.RadioButtons(\n",
    "    options=['Linux', 'MacOs', 'Windows'],\n",
    "    description='Operating System:',\n",
    "    disabled=False\n",
    ")"
   ]
  },
  {
   "cell_type": "code",
   "execution_count": 8,
   "id": "1f50c9f0-e784-4c0e-a035-d4af29bb6f6a",
   "metadata": {},
   "outputs": [
    {
     "data": {
      "application/vnd.jupyter.widget-view+json": {
       "model_id": "bde3f46ac11441a48cc30f72a572c526",
       "version_major": 2,
       "version_minor": 0
      },
      "text/plain": [
       "Dropdown(description='OS:', index=1, options=(('Linux', 1), ('MacOs', 2), ('Windows', 3)), value=2)"
      ]
     },
     "execution_count": 8,
     "metadata": {},
     "output_type": "execute_result"
    }
   ],
   "source": [
    "widgets.Dropdown(\n",
    "    options=[('Linux', 1), ('MacOs', 2), ('Windows', 3)],\n",
    "    value=2,\n",
    "    description='OS:',\n",
    ")"
   ]
  },
  {
   "cell_type": "code",
   "execution_count": 9,
   "id": "ad43a7ba-64a4-442f-a685-78ca622cceec",
   "metadata": {},
   "outputs": [
    {
     "data": {
      "application/vnd.jupyter.widget-view+json": {
       "model_id": "b6a7402807dd4a279e792c0749816be3",
       "version_major": 2,
       "version_minor": 0
      },
      "text/plain": [
       "ToggleButtons(button_style='info', options=('Linux', 'MacOs', 'Windows'), tooltips=('open-source et polyvalent…"
      ]
     },
     "execution_count": 9,
     "metadata": {},
     "output_type": "execute_result"
    }
   ],
   "source": [
    "widgets.ToggleButtons(\n",
    "    options=['Linux', 'MacOs', 'Windows'],\n",
    "    description='',\n",
    "    disabled=False,\n",
    "    button_style='info',# 'success', 'info', 'warning', 'danger' or ''\n",
    "    tooltips=['open-source et polyvalent', 'performant avec un design robuste basé sur unix', 'nécessite une mise à jour chaque fois qu\\'il pleut'],\n",
    "#     icons=['check'] * 3\n",
    ")"
   ]
  },
  {
   "cell_type": "markdown",
   "id": "3ce448f5-9ca2-4561-bb1b-5eccffd5bd39",
   "metadata": {},
   "source": [
    "---\n",
    "## Widgets de texte :\n",
    "\n",
    "Il s'agit de widgets qui permettent d'afficher une variable `str` ou de modifier sa valeur. "
   ]
  },
  {
   "cell_type": "code",
   "execution_count": 10,
   "id": "50969020-520a-41ca-b23d-cd4ddd623c97",
   "metadata": {},
   "outputs": [
    {
     "data": {
      "application/vnd.jupyter.widget-view+json": {
       "model_id": "d145d1ba4c11432fabbd99fe62ee0bef",
       "version_major": 2,
       "version_minor": 0
      },
      "text/plain": [
       "Text(value='Hello World', description='String:', placeholder='')"
      ]
     },
     "execution_count": 10,
     "metadata": {},
     "output_type": "execute_result"
    }
   ],
   "source": [
    "widgets.Text(\n",
    "    value='Hello World',\n",
    "    placeholder='',\n",
    "    description='String:',\n",
    "    disabled=False   \n",
    ")"
   ]
  },
  {
   "cell_type": "code",
   "execution_count": 11,
   "id": "800c4ac3-d7b7-4f5e-8ab3-c4c9426ca8d9",
   "metadata": {},
   "outputs": [
    {
     "data": {
      "application/vnd.jupyter.widget-view+json": {
       "model_id": "6db1e14bd6ff4452abd2ea322cd28a86",
       "version_major": 2,
       "version_minor": 0
      },
      "text/plain": [
       "Textarea(value='Hello World', description='String:', placeholder='')"
      ]
     },
     "execution_count": 11,
     "metadata": {},
     "output_type": "execute_result"
    }
   ],
   "source": [
    "widgets.Textarea(\n",
    "    value='Hello World',\n",
    "    placeholder='',\n",
    "    description='String:',\n",
    "    disabled=False\n",
    ")"
   ]
  },
  {
   "cell_type": "markdown",
   "id": "69663a95-29a0-4558-b0c2-41943d50f3f4",
   "metadata": {},
   "source": [
    "---\n",
    "# Interact:\n",
    "\n",
    "`interact` est la fonction centrale dans la bibliothèque ipywidgets qui permet de créer des interfaces interactives en liant les variables widgets aux arguments d'une fonction. C'est ici que les widgets prennent tous leur sens.\n",
    "\n",
    "## Exemple 1: fonction linéaire et état\n",
    "\n",
    "Ce code définit une fonction appelée `fonction` qui prend quatre paramètres : `x`, `a`, `b`, et `etat`. Cette fonction calcule une valeur `y` en fonction des paramètres `x`, `a`, et `b`, puis retourne un tuple contenant la valeur de `etat` et la valeur `y`. Ensuite, des widgets interactifs sont créés pour chaque paramètre de la fonction. Il y a trois curseurs pour les paramètres `x`, `a`, et `b`, et une case à cocher pour le paramètre `etat`. Enfin, une interface interactive est créée en utilisant la fonction `interact` du module `widgets`. "
   ]
  },
  {
   "cell_type": "code",
   "execution_count": 12,
   "id": "8bb46167-ccf1-4ace-b596-4eab86772fe7",
   "metadata": {},
   "outputs": [
    {
     "data": {
      "application/vnd.jupyter.widget-view+json": {
       "model_id": "ad32822e2b694881bcd7b4c615bb1a0a",
       "version_major": 2,
       "version_minor": 0
      },
      "text/plain": [
       "interactive(children=(FloatSlider(value=1.0, description='x:', max=10.0, min=-10.0), FloatSlider(value=1.0, de…"
      ]
     },
     "metadata": {},
     "output_type": "display_data"
    }
   ],
   "source": [
    "# Définition de la fonction qui calcule une valeur en fonction des paramètres\n",
    "def fonction(x, a, b, etat):\n",
    "    y = a * x + b  # Calcul de la valeur y en fonction de x, a et b\n",
    "    return (etat, y)  # Retourne un tuple contenant la valeur etat et la valeur y\n",
    "\n",
    "# Création des widgets pour les paramètres\n",
    "x_widget = widgets.FloatSlider(min=-10, max=10, step=0.1, value=1, description='x:')  # Curseur pour la valeur de x\n",
    "a_widget = widgets.FloatSlider(min=-5,  max=5, step=0.1, value=1, description='a:')   # Curseur pour la valeur de a\n",
    "b_widget = widgets.FloatSlider(min=-10, max=10, step=0.1, value=0, description='b:')  # Curseur pour la valeur de b\n",
    "etat_widget =widgets.Checkbox(value=True, description='Etat')  # Case à cocher pour l'état\n",
    "\n",
    "# Création de l'interface interactive en utilisant interact\n",
    "out = widgets.interact(fonction, x=x_widget, a=a_widget, b=b_widget, etat=etat_widget);"
   ]
  },
  {
   "cell_type": "markdown",
   "id": "b0e56670-a4ae-422e-bb89-cb984c66a745",
   "metadata": {},
   "source": [
    "## Exemple 2: onde sinusoïdale progressive\n",
    "\n",
    "Ce code crée une fonction appelée `plot_sine_wave` qui trace une onde sinusoïdale progressive en fonction de différents paramètres. La fonction prend en entrée la fréquence $f$ (Hz), la longueur d'onde $\\lambda$ (m), l'amplitude $A$ (m), la phase initiale $\\phi_0$ (rad) et le temps $t$ (s).\n",
    "\n",
    "À l'intérieur de la fonction `plot_sine_wave`, on génère d'abord une série de valeurs `x` allant de 0 à 20 avec une résolution de 1000 points. Ensuite, on calcule la fréquence angulaire $\\omega = 2\\pi f$ et le nombre d'onde $k = 2\\pi/\\lambda$. La fonction onde sinusoïdale progressive est alors:\n",
    "\n",
    "$$\n",
    "y(x,t,\\omega,k,\\phi_0) = A \\sin\\left(k x - \\omega t + \\phi_0\\right)\n",
    "$$\n",
    "\n",
    "Un widget de sortie est ajouté pour afficher la vitesse de l'onde: $v = \\lambda f$.\n"
   ]
  },
  {
   "cell_type": "code",
   "execution_count": 96,
   "id": "51527fbf-7afb-4144-9731-efc3f3c99fc0",
   "metadata": {},
   "outputs": [
    {
     "data": {
      "application/vnd.jupyter.widget-view+json": {
       "model_id": "93dd003492124720972dcae1f247c2de",
       "version_major": 2,
       "version_minor": 0
      },
      "text/plain": [
       "interactive(children=(FloatSlider(value=1.0, description='f (Hz):', max=10.0, min=0.1), FloatSlider(value=5.0,…"
      ]
     },
     "metadata": {},
     "output_type": "display_data"
    },
    {
     "data": {
      "application/vnd.jupyter.widget-view+json": {
       "model_id": "970217de6e8a4696b261acf2162c20b5",
       "version_major": 2,
       "version_minor": 0
      },
      "text/plain": [
       "Output()"
      ]
     },
     "metadata": {},
     "output_type": "display_data"
    }
   ],
   "source": [
    "import numpy as np\n",
    "import matplotlib.pyplot as plt\n",
    "from ipywidgets import interact, widgets\n",
    "from IPython.display import display, clear_output\n",
    "\n",
    "def plot_sine_wave(f, l, A, phi_0, t):\n",
    "    x = np.linspace(0, 20, 1000)\n",
    "    omega = 2*np.pi*f\n",
    "    k = 2*np.pi/l\n",
    "    y = A * np.sin(k*x - omega*t + phi_0)\n",
    "    plt.plot(x, y)\n",
    "    plt.title('Onde sinusoïdale progressive')\n",
    "    plt.xlabel('x (m)')\n",
    "    plt.ylabel('y (m)')\n",
    "    plt.ylim(-5, 5) \n",
    "    plt.xlim(0, 20)\n",
    "    plt.grid(True)\n",
    "    plt.show()\n",
    "\n",
    "    # Calcul de la vitesse de l'onde\n",
    "    v = l * f\n",
    "    with output_widget:\n",
    "        clear_output(wait=True)\n",
    "        print(f'Vitesse de l\\'onde (m/s) : {v:.3f}')\n",
    "\n",
    "# Création des widgets pour les paramètres d'entrée\n",
    "f_widget = widgets.FloatSlider(min=0.1, max=10, step=0.1, value=1, description='f (Hz):')\n",
    "l_widget = widgets.FloatSlider(min=0.1, max=10, step=0.1, value=5, description='lambda (m):')\n",
    "A_widget = widgets.FloatSlider(min=0.1, max=5, step=0.1, value=1, description='A (m):')\n",
    "phi_0_widget = widgets.FloatSlider(min=0, max=2*np.pi, step=0.1, value=0, description='phi_0 (rad):')\n",
    "t_widget = widgets.FloatSlider(min=0, max=2, step=0.01, value=0, description='Temps (s):')\n",
    "\n",
    "# Création du widget pour le paramètre de sortie\n",
    "output_widget = widgets.Output()\n",
    "\n",
    "# Création de l'interface interactive\n",
    "widgets.interact(plot_sine_wave, f=f_widget, l=l_widget, A=A_widget, phi_0=phi_0_widget, t=t_widget);\n",
    "display(output_widget)"
   ]
  },
  {
   "cell_type": "markdown",
   "id": "6bcb4089-7b72-4666-a437-141f9befe1ed",
   "metadata": {},
   "source": [
    "## Exemple 3: mécanique orbitale"
   ]
  },
  {
   "cell_type": "code",
   "execution_count": 97,
   "id": "042433ee-6c1b-4dea-aa19-8d94e517a114",
   "metadata": {},
   "outputs": [],
   "source": [
    "# Constante de gravitation universelle (m^3/kg/s^2)\n",
    "G = 6.6743 * 10**-11\n",
    "\n",
    "# Masse de la Terre (kg)\n",
    "M = 6 * 10**24\n",
    "# Rayon de la Terre (m)\n",
    "RT = 6.371 * 10**6\n",
    "\n",
    "# Masse d'un objet en orbite (kg)\n",
    "m = 1\n",
    "\n",
    "# \n",
    "GM = G * M\n",
    "\n",
    "# \n",
    "k = G * M * m\n",
    "\n"
   ]
  },
  {
   "cell_type": "code",
   "execution_count": 98,
   "id": "cd0b8e2b-3083-41a0-9e9c-f846f67998c1",
   "metadata": {},
   "outputs": [
    {
     "data": {
      "application/vnd.jupyter.widget-view+json": {
       "model_id": "7b34c7fc597a405fb8d44b22a0bda07d",
       "version_major": 2,
       "version_minor": 0
      },
      "text/plain": [
       "interactive(children=(FloatSlider(value=0.5, description='p:', max=1.0), FloatSlider(value=0.0, description='e…"
      ]
     },
     "metadata": {},
     "output_type": "display_data"
    }
   ],
   "source": [
    "import numpy as np\n",
    "import matplotlib.pyplot as plt\n",
    "\n",
    "def type_conique(e):\n",
    "    return {\n",
    "        e == 0 : \"Cercle\",\n",
    "        0 < e < 1: \"Ellipse\",\n",
    "        e == 1: \"Parabole\",\n",
    "        e > 1: \"Hyperbole\"\n",
    "    }[True]\n",
    "    \n",
    "def polar_conique(p, e, theta, theta_orb):\n",
    "    return p / (epsilon * math.cos(theta - theta_orb)-1)\n",
    "\n",
    "def plot_orbite(p, e):\n",
    "    theta_orb = 0 \n",
    "    theta_min, theta_max = 0, 2*np.pi\n",
    "    theta = np.linspace(theta_min, theta_max, 1000)\n",
    "    r = p / (1 + e * np.cos(theta))\n",
    "    x = r * np.cos(theta)\n",
    "    y = r * np.sin(theta)\n",
    "    type = type_conique(e)\n",
    "    \n",
    "    plt.figure(figsize=(4, 4))\n",
    "    plt.plot(x, y)\n",
    "    plt.title(f'Conique: {type}')\n",
    "    plt.xlabel('x')\n",
    "    plt.ylabel('y')\n",
    "    plt.xlim(-2, 2)\n",
    "    plt.ylim(-2, 2)\n",
    "    plt.grid(True)\n",
    "    plt.gca().set_aspect('equal')\n",
    "    plt.show()\n",
    "\n",
    "# Création des widgets pour les paramètres\n",
    "p_widget = widgets.FloatSlider(min=0, max=1, step=0.1, value=.5, description='p:')\n",
    "e_widget = widgets.FloatSlider(min=0, max=2, step=0.01, value=0, description='e:')\n",
    "\n",
    "# Création de l'interface interactive\n",
    "widgets.interact(plot_orbite, p=p_widget, e=e_widget);"
   ]
  },
  {
   "cell_type": "markdown",
   "id": "a868eb5d-b4aa-42fd-9507-180cedf843e5",
   "metadata": {},
   "source": [
    "## Exemple 4: cartographie et données géospatiales\n",
    "\n",
    "Ce code crée une carte à l'aide du module ipyleaflet dans Jupyter Notebook. Ipyleaflet permet de créer des cartes interactives pour la visualisation des données géospatiales.\n",
    "\n",
    "Voici ce qui se passe dans chaque partie du code :\n",
    "\n",
    "1. Création de la carte interactive :\n",
    "   On crée une instance de la classe `Map` en spécifiant le centre de la carte (latitude et longitude) et le niveau de zoom initial. On utilise la basemap OpenStreetMap.Mapnik.\n",
    "\n",
    "2. Création des widgets pour contrôler la carte :\n",
    "   On crée des widgets interactifs pour contrôler la latitude, la longitude et le zoom de la carte. Il s'agit de curseurs (`FloatSlider` et `IntSlider`) pour les valeurs numériques.\n",
    "   \n",
    "3. Fonction de mise à jour de la carte :\n",
    "   On définit une fonction `update_map` qui prend en entrée les valeurs de latitude, longitude et zoom et met à jour la position et le niveau de zoom de la carte en fonction de ces valeurs.\n",
    "   \n",
    "4. Lien entre la fonction de mise à jour et les widgets :\n",
    "   On utilise la fonction `widgets.interactive` pour lier la fonction `update_map` aux widgets de contrôle de la carte. \n",
    "   \n",
    "5. Création des marqueurs pour représenter des points :\n",
    "   On définit une liste de coordonnées de points (latitude, longitude) pour les villes de Paris, Londres, New York et Sydney. Pour chaque point, on crée un marqueur à l'aide de la classe `Marker` du module ipyleaflet.\n",
    "   \n",
    "6. Ajout des marqueurs à la carte :\n",
    "   On ajoute chaque marqueur à la carte en utilisant la méthode `add_layer`.\n",
    "   \n",
    "7. Création d'un Checkbox pour afficher ou masquer les points :\n",
    "   On crée une case à cocher (`Checkbox`) avec la description \"Afficher les points\". Par défaut, elle est cochée (valeur `True`).\n",
    "   \n",
    "8. Fonction de mise à jour pour afficher ou masquer les points :\n",
    "   On définit une fonction `update_markers` qui prend en entrée un changement de valeur du checkbox. Elle parcourt tous les marqueurs et les rend visibles ou invisibles en fonction de la valeur de la case à cocher.\n",
    "   \n",
    "9. Lien entre la fonction de mise à jour et le changement de valeur du checkbox :\n",
    "   On utilise la méthode `observe` pour lier la fonction `update_markers` au changement de valeur du checkbox. Cela signifie que lorsque la case à cocher est cochée ou décochée, la fonction `update_markers` est appelée pour mettre à jour la visibilité des marqueurs en conséquence."
   ]
  },
  {
   "cell_type": "code",
   "execution_count": 99,
   "id": "139f87a9-7535-49a3-b96d-d099673d2565",
   "metadata": {},
   "outputs": [
    {
     "data": {
      "application/vnd.jupyter.widget-view+json": {
       "model_id": "4ae802dde3ed403cb7af4454f411537d",
       "version_major": 2,
       "version_minor": 0
      },
      "text/plain": [
       "Map(center=[48.8566, 2.3522], controls=(ZoomControl(options=['position', 'zoom_in_text', 'zoom_in_title', 'zoo…"
      ]
     },
     "metadata": {},
     "output_type": "display_data"
    },
    {
     "data": {
      "application/vnd.jupyter.widget-view+json": {
       "model_id": "dbda9c50aaaa49588e1ec02571a738de",
       "version_major": 2,
       "version_minor": 0
      },
      "text/plain": [
       "FloatSlider(value=48.8566, description='Latitude:', max=90.0, min=-90.0)"
      ]
     },
     "metadata": {},
     "output_type": "display_data"
    },
    {
     "data": {
      "application/vnd.jupyter.widget-view+json": {
       "model_id": "ebe540135c5147c2b1a223d73646b0e2",
       "version_major": 2,
       "version_minor": 0
      },
      "text/plain": [
       "FloatSlider(value=2.3522, description='Longitude:', max=180.0, min=-180.0)"
      ]
     },
     "metadata": {},
     "output_type": "display_data"
    },
    {
     "data": {
      "application/vnd.jupyter.widget-view+json": {
       "model_id": "5e6878f856044c06941fa8b58b98513c",
       "version_major": 2,
       "version_minor": 0
      },
      "text/plain": [
       "IntSlider(value=4, description='Zoom:', max=18, min=1)"
      ]
     },
     "metadata": {},
     "output_type": "display_data"
    },
    {
     "data": {
      "application/vnd.jupyter.widget-view+json": {
       "model_id": "fe6a55fb61474e39a6742107be9d2e6f",
       "version_major": 2,
       "version_minor": 0
      },
      "text/plain": [
       "Checkbox(value=True, description='Afficher les capitales')"
      ]
     },
     "metadata": {},
     "output_type": "display_data"
    }
   ],
   "source": [
    "import ipywidgets as widgets\n",
    "from ipyleaflet import Map, Marker, basemaps\n",
    "from IPython.display import display\n",
    "\n",
    "#---------------------------------------------------------------------------------------\n",
    "# Créer une carte interactive\n",
    "m = Map(center=(48.8566, 2.3522), zoom=10, basemap=basemaps.OpenStreetMap.Mapnik)\n",
    "\n",
    "#---------------------------------------------------------------------------------------\n",
    "# Créer des widgets pour contrôler la carte: la position et le zoom\n",
    "latitude = widgets.FloatSlider(value=48.8566, min=-90, max=90, description='Latitude:')\n",
    "longitude = widgets.FloatSlider(value=2.3522, min=-180, max=180, description='Longitude:')\n",
    "zoom = widgets.IntSlider(value=4, min=1, max=18, description='Zoom:')\n",
    "\n",
    "# Fonction de mise à jour de la carte en fonction des valeurs des widgets\n",
    "def update_map(latitude, longitude, zoom):\n",
    "    m.center = (latitude, longitude)\n",
    "    m.zoom = zoom\n",
    "\n",
    "# Lier la fonction de mise à jour aux widgets\n",
    "widgets.interactive(update_map, latitude=latitude, longitude=longitude, zoom=zoom)\n",
    "\n",
    "#---------------------------------------------------------------------------------------\n",
    "# Créer des marqueurs pour représenter des points\n",
    "points = [\n",
    "    (48.8566, 2.3522),  # Paris\n",
    "    (51.5074, -0.1278),  # Londres\n",
    "    (40.7128, -74.0060),  # New York\n",
    "    (-33.8688, 151.2093)  # Sydney\n",
    "]\n",
    "markers = [Marker(location=point) for point in points]\n",
    "\n",
    "# Ajouter les marqueurs à la carte\n",
    "for marker in markers:\n",
    "    m.add_layer(marker)\n",
    "\n",
    "# Créer un Checkbox pour afficher ou masquer les points\n",
    "checkbox = widgets.Checkbox(value=True, description='Afficher les capitales')\n",
    "\n",
    "# Fonction de mise à jour pour afficher ou masquer les points en fonction de la valeur du checkbox\n",
    "def update_markers(change):\n",
    "    for marker in markers:\n",
    "        marker.visible = change.new\n",
    "\n",
    "# Lier la fonction de mise à jour au changement de valeur du checkbox\n",
    "checkbox.observe(update_markers, 'value')\n",
    "\n",
    "#---------------------------------------------------------------------------------------\n",
    "# Afficher la carte et les widgets\n",
    "display(m)\n",
    "display(latitude)\n",
    "display(longitude)\n",
    "display(zoom)\n",
    "display(checkbox)\n"
   ]
  },
  {
   "cell_type": "code",
   "execution_count": null,
   "id": "d059d6d1-5a0e-41c9-ae7f-e81aabbbe66d",
   "metadata": {},
   "outputs": [],
   "source": []
  }
 ],
 "metadata": {
  "kernelspec": {
   "display_name": "Python 3 (ipykernel)",
   "language": "python",
   "name": "python3"
  },
  "language_info": {
   "codemirror_mode": {
    "name": "ipython",
    "version": 3
   },
   "file_extension": ".py",
   "mimetype": "text/x-python",
   "name": "python",
   "nbconvert_exporter": "python",
   "pygments_lexer": "ipython3",
   "version": "3.12.0"
  }
 },
 "nbformat": 4,
 "nbformat_minor": 5
}
