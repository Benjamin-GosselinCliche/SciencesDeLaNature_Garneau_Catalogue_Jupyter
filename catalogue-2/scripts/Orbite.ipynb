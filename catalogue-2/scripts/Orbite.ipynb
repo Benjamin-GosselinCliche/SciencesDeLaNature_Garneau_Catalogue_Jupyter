{
 "cells": [
  {
   "cell_type": "markdown",
   "id": "244fcc60-53ce-4b83-afa6-839c89ed3cac",
   "metadata": {},
   "source": [
    "# Jupyter Widget\n",
    "\n",
    "Le terme *widgets* peut être traduit en français par \"éléments interactifs\" ou \"composants interactifs\". Un widget est un objet utilisé dans le contexte des interfaces utilisateur pour désigner des éléments graphiques ou interactifs tels que des boutons, des curseurs, des cases à cocher, etc. C'est ce type d'objet qui permettent à l'utilisateur d'interagir avec une application ou un système informatique. Les utilisateurs peuvent donc explorer, analyser et visualiser des données de manière dynamique. \n",
    "\n",
    "Les widgets permettent aux utilisateurs d'interagir avec le code en temps réel, en ajustant les paramètres ou en sélectionnant des options, ce qui a pour effet de modifier les extrants. Au fond, il s'agit d'une expression particulière du principe fondamental de l'interaction entre le *frontend* (interface utilisateur côté client) et le *backend* (code côté serveur) qui se cache dans la construction de tous les sites web. \n",
    "\n",
    "Dans le contexte de *Jupyter Widget*, un exemple d'utilisation très utile se rapportent aux fonctions mathématiques. En effet, leur visualisation dynamique permettent de mieux les comprendre.\n"
   ]
  },
  {
   "cell_type": "markdown",
   "id": "0017e2b6-13b4-40b7-aa12-80b58a8a2112",
   "metadata": {},
   "source": [
    "## Widgets de base:"
   ]
  },
  {
   "cell_type": "code",
   "execution_count": 3,
   "id": "8bb46167-ccf1-4ace-b596-4eab86772fe7",
   "metadata": {},
   "outputs": [
    {
     "data": {
      "application/vnd.jupyter.widget-view+json": {
       "model_id": "e18176eef0694f44a9bd1fcb69595002",
       "version_major": 2,
       "version_minor": 0
      },
      "text/plain": [
       "interactive(children=(FloatSlider(value=0.0, description='x:', max=10.0, min=-10.0), FloatSlider(value=1.0, de…"
      ]
     },
     "metadata": {},
     "output_type": "display_data"
    },
    {
     "data": {
      "text/plain": [
       "<function __main__.fonction_interactive(x, a, b)>"
      ]
     },
     "execution_count": 3,
     "metadata": {},
     "output_type": "execute_result"
    }
   ],
   "source": [
    "from ipywidgets import interact, interactive, fixed, interact_manual\n",
    "import ipywidgets as widgets\n",
    "\n",
    "def fonction_interactive(x, a, b):\n",
    "    return a * x + b\n",
    "\n",
    "# Création des widgets pour les paramètres\n",
    "x_widget = widgets.FloatSlider(min=-10, max=10, step=0.1, value=0, description='x:')\n",
    "a_widget = widgets.FloatSlider(min=-5,  max=5, step=0.1, value=1, description='a:')\n",
    "b_widget = widgets.FloatSlider(min=-10, max=10, step=0.1, value=0, description='b:')\n",
    "\n",
    "# Création de l'interface interactive\n",
    "interact(fonction_interactive, x=x_widget, a=a_widget, b=b_widget)\n"
   ]
  },
  {
   "cell_type": "code",
   "execution_count": 20,
   "id": "3b53f69a-cd8b-4ed2-aa41-b163aacddd37",
   "metadata": {},
   "outputs": [
    {
     "data": {
      "application/vnd.jupyter.widget-view+json": {
       "model_id": "8b6e1fa7cc2849b696608c8afa886580",
       "version_major": 2,
       "version_minor": 0
      },
      "text/plain": [
       "interactive(children=(FloatSlider(value=1.0, description='p:', max=10.0, min=0.1), FloatSlider(value=0.5, desc…"
      ]
     },
     "metadata": {},
     "output_type": "display_data"
    },
    {
     "data": {
      "text/plain": [
       "<function __main__.plot_conique(p, e)>"
      ]
     },
     "execution_count": 20,
     "metadata": {},
     "output_type": "execute_result"
    }
   ],
   "source": [
    "import numpy as np\n",
    "import matplotlib.pyplot as plt\n",
    "\n",
    "def \n",
    "\n",
    "\n",
    "def plot_conique(p, e):\n",
    "    theta = np.linspace(0, 2*np.pi, 1000)\n",
    "    r = p / (1 + e * np.cos(theta))\n",
    "    x = r * np.cos(theta)\n",
    "    y = r * np.sin(theta)\n",
    "    plt.figure(figsize=(4, 4))\n",
    "    plt.plot(x, y)\n",
    "    plt.title(f'Ellipse avec p={p:.2f} et e={e:.2f}')\n",
    "    plt.xlabel('x')\n",
    "    plt.ylabel('y')\n",
    "    plt.xlim(-2, 2)\n",
    "    plt.ylim(-2, 2)\n",
    "    plt.grid(True)\n",
    "\n",
    "    plt.gca().set_aspect('equal')\n",
    "    plt.show()\n",
    "\n",
    "# Création des widgets pour les paramètres\n",
    "p_widget = widgets.FloatSlider(min=0.1, max=10, step=0.1, value=1, description='p:')\n",
    "e_widget = widgets.FloatSlider(min=0, max=1.99, step=0.01, value=0.5, description='e:')\n",
    "\n",
    "# Création de l'interface interactive\n",
    "interact(plot_conique, p=p_widget, e=e_widget)\n"
   ]
  },
  {
   "cell_type": "code",
   "execution_count": null,
   "id": "b2f55b12-c7e5-4244-a4a3-8316d8e7e4aa",
   "metadata": {},
   "outputs": [],
   "source": [
    "    # Ajout de la légende des paramètres p et e\n",
    "    # plt.annotate(f'p={p}, e={e}', xy=(0.05, 0.95), xycoords='axes fraction', fontsize=12, ha='left', va='top')\n",
    "    # Création de l'image avec les clés et les valeurs du dictionnaire\n",
    "    \n",
    "    # dictionary = {'Key1': 'Value1', 'Key2': 'Value2', 'Key3': 'Value3'}  # Remplacez ceci par votre propre dictionnaire\n",
    "    # plt.subplot(1, 2, 2)\n",
    "    # # plt.imshow([[0]], cmap='gray')  # Crée une image vide pour placer le texte\n",
    "    # plt.axis('off')  # Masque les axes pour l'image\n",
    "    \n",
    "    # # Affichage des clés et des valeurs du dictionnaire sous forme de grille\n",
    "    # for i, (key, value) in enumerate(dictionary.items()):\n",
    "    #     plt.text(0, i, f'{key}: {value}', fontsize=12, verticalalignment='top')\n",
    "    # plt.subplots_adjust(wspace=15)  # Ajustement de l'espacement entre les sous-graphiques\n",
    "  \n"
   ]
  },
  {
   "cell_type": "code",
   "execution_count": 23,
   "id": "383962a6-5ed2-4f4d-bff9-fde884c3da95",
   "metadata": {},
   "outputs": [
    {
     "data": {
      "application/vnd.jupyter.widget-view+json": {
       "model_id": "547e28b872644839a8b90f6e7303c5ba",
       "version_major": 2,
       "version_minor": 0
      },
      "text/plain": [
       "interactive(children=(FloatSlider(value=1.0, description='p:', max=10.0, min=0.1), FloatSlider(value=0.5, desc…"
      ]
     },
     "metadata": {},
     "output_type": "display_data"
    },
    {
     "data": {
      "text/plain": [
       "<function __main__.plot_conique(p, e, show_point=False, rx=0, ry=0)>"
      ]
     },
     "execution_count": 23,
     "metadata": {},
     "output_type": "execute_result"
    }
   ],
   "source": [
    "import numpy as np\n",
    "import matplotlib.pyplot as plt\n",
    "import ipywidgets as widgets\n",
    "from ipywidgets import interact\n",
    "\n",
    "def plot_conique(p, e, show_point=False, rx=0, ry=0):\n",
    "    theta = np.linspace(0, 2*np.pi, 1000)\n",
    "    r = p / (1 + e * np.cos(theta))\n",
    "    x = r * np.cos(theta)\n",
    "    y = r * np.sin(theta)\n",
    "    plt.figure(figsize=(6, 6))\n",
    "    plt.plot(x, y)\n",
    "    plt.title(f'Ellipse avec p={p:.2f} et e={e:.2f}')\n",
    "    plt.xlabel('x')\n",
    "    plt.ylabel('y')\n",
    "    plt.xlim(-2, 2)\n",
    "    plt.ylim(-2, 2)\n",
    "    plt.grid(True)\n",
    "    \n",
    "    if show_point:\n",
    "        plt.scatter(rx, ry, color='red', label=f'r0 = [{rx}, {ry}]')\n",
    "        plt.legend()\n",
    "        \n",
    "    plt.gca().set_aspect('equal')\n",
    "    plt.show()\n",
    "\n",
    "# Création des widgets pour les paramètres et la case à cocher pour afficher le point\n",
    "p_widget = widgets.FloatSlider(min=0.1, max=10, step=0.1, value=1, description='p:')\n",
    "e_widget = widgets.FloatSlider(min=0, max=1.99, step=0.01, value=0.5, description='e:')\n",
    "show_point_checkbox = widgets.Checkbox(value=False, description='Afficher le point')\n",
    "rx_widget = widgets.FloatSlider(min=-2, max=2, step=0.1, value=0, description='rx:')\n",
    "ry_widget = widgets.FloatSlider(min=-2, max=2, step=0.1, value=0, description='ry:')\n",
    "\n",
    "# Création de la fonction de mise à jour en fonction de la case à cocher\n",
    "def update_point_visibility(show_point):\n",
    "    rx_widget.disabled = not show_point\n",
    "    ry_widget.disabled = not show_point\n",
    "\n",
    "# Lier la fonction de mise à jour à la case à cocher\n",
    "show_point_checkbox.observe(update_point_visibility, 'value')\n",
    "\n",
    "# Création de l'interface interactive\n",
    "interact(plot_conique, p=p_widget, e=e_widget, show_point=show_point_checkbox, rx=rx_widget, ry=ry_widget)\n"
   ]
  },
  {
   "cell_type": "code",
   "execution_count": 28,
   "id": "54fbaf09-e8b4-4a30-be41-ff2253d15e16",
   "metadata": {},
   "outputs": [
    {
     "data": {
      "application/vnd.jupyter.widget-view+json": {
       "model_id": "cf8f465b1604425994a01b529b03fa3b",
       "version_major": 2,
       "version_minor": 0
      },
      "text/plain": [
       "HBox(children=(VBox(children=(IntSlider(value=0, description='a'), IntSlider(value=0, description='b'), IntSli…"
      ]
     },
     "execution_count": 28,
     "metadata": {},
     "output_type": "execute_result"
    }
   ],
   "source": [
    "a = widgets.IntSlider(description='a')\n",
    "b = widgets.IntSlider(description='b')\n",
    "c = widgets.IntSlider(description='c')\n",
    "def f(a, b, c):\n",
    "    print('{}*{}*{}={}'.format(a, b, c, a*b*c))\n",
    "\n",
    "out = widgets.interactive_output(f, {'a': a, 'b': b, 'c': c})\n",
    "\n",
    "widgets.HBox([widgets.VBox([a, b, c]), out])"
   ]
  },
  {
   "cell_type": "code",
   "execution_count": null,
   "id": "139f87a9-7535-49a3-b96d-d099673d2565",
   "metadata": {},
   "outputs": [],
   "source": []
  }
 ],
 "metadata": {
  "kernelspec": {
   "display_name": "Python 3 (ipykernel)",
   "language": "python",
   "name": "python3"
  },
  "language_info": {
   "codemirror_mode": {
    "name": "ipython",
    "version": 3
   },
   "file_extension": ".py",
   "mimetype": "text/x-python",
   "name": "python",
   "nbconvert_exporter": "python",
   "pygments_lexer": "ipython3",
   "version": "3.12.0"
  }
 },
 "nbformat": 4,
 "nbformat_minor": 5
}
