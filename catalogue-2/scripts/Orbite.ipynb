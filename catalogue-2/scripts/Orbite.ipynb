{
 "cells": [
  {
   "cell_type": "markdown",
   "id": "244fcc60-53ce-4b83-afa6-839c89ed3cac",
   "metadata": {},
   "source": [
    "---\n",
    "# Jupyter Widget\n",
    "\n",
    "<div style=\"text-align: center;\">\n",
    "    <div style=\"display: inline-block; position: relative; width: 350px;\">\n",
    "        <img src=\"../img/_b21780d5-6e0b-4d4b-8388-89e3197acf13.jpeg\" alt=\"Dessin\" style=\"width: 100%;\"/>\n",
    "        <p style=\"text-align: center; margin-top: 5px;\">\n",
    "            <span style=\"font-style: italic; font-size: 16px;\"> Eurêka! </span><br/>\n",
    "            <span style=\"font-style: italic; font-size: 12px;\">Image générée par DALL·E 3, 2024 </span>\n",
    "        </p>\n",
    "    </div>\n",
    "</div>\n",
    "\n",
    "\n",
    "Le terme *widgets* peut être traduit en français par \"éléments interactifs\" ou \"composants interactifs\". Un widget est un objet utilisé dans le contexte des interfaces utilisateur pour désigner des éléments graphiques ou interactifs tels que des boutons, des curseurs, des cases à cocher, etc. C'est ce type d'objet qui permettent à l'utilisateur d'interagir avec une application ou un système informatique. Les utilisateurs peuvent donc explorer, analyser et visualiser des données de manière dynamique. \n",
    "\n",
    "Les widgets permettent aux utilisateurs d'interagir avec le code en temps réel, en ajustant les paramètres ou en sélectionnant des options, ce qui a pour effet de modifier les extrants. Au fond, il s'agit d'une expression particulière du principe fondamental de l'interaction entre le *frontend* (interface utilisateur côté client) et le *backend* (code côté serveur) qui se cache dans la construction de tous les sites web et les applications. \n",
    "\n",
    "Dans le contexte de *Jupyter Widget*, un exemple d'utilisation très utile se rapportent aux fonctions mathématiques. En effet, leur visualisation dynamique permettent de mieux les comprendre.\n"
   ]
  },
  {
   "cell_type": "code",
   "execution_count": 4,
   "id": "a1bda54e-20b1-417b-88da-397fe5247f94",
   "metadata": {},
   "outputs": [],
   "source": [
    "# Importation de la librairie:\n",
    "import ipywidgets as widgets"
   ]
  },
  {
   "cell_type": "markdown",
   "id": "98aa2210-5beb-488b-a8f6-a9f2d5ba9f20",
   "metadata": {},
   "source": [
    "---\n",
    "# Widgets de base:\n",
    "\n",
    "Il en existent de nombreux. Les plus importants (numériques, booléens, sélection, texte)  sont listés ci-dessous.  "
   ]
  },
  {
   "cell_type": "markdown",
   "id": "8762fab6-7039-44fb-9930-1b4d47ab4c1f",
   "metadata": {},
   "source": [
    "\n",
    "## Widgets numériques :\n",
    "\n",
    "Il s'agit des widgets relatifs valeurs numériques `int` et `float`.\n",
    "\n",
    "Les options des curseurs sont:\n",
    "- `value`: La valeur initiale du curseur. \n",
    "- `min`: La valeur minimale autorisée pour le curseur.\n",
    "- `max`: La valeur maximale autorisée pour le curseur. \n",
    "- `step`: L'incrément par lequel la valeur du curseur change à chaque étape. \n",
    "- `description`: La description affichée à côté du curseur. \n",
    "- `disabled`: Indique si le curseur est activé ou désactivé. Si la valeur est `True`, le curseur est désactivé et ne peut pas être modifié par l'utilisateur. Par défaut: `False`.\n",
    "- `continuous_update`: Contrôle si la mise à jour du curseur se produit en temps réel ou seulement lorsque l'utilisateur relâche le curseur. Si la valeur est `True`, la mise à jour est continue pendant que le curseur est déplacé. Par défaut: `False`.\n",
    "- `orientation`: L'orientation du curseur. Les options sont 'horizontal' ou 'vertical'. Par défaut: `'horizontal'`.\n",
    "- `readout`: Indique si la valeur actuelle du curseur est affichée. Si la valeur est `True`, une lecture de la valeur actuelle est affichée à côté du curseur. Par défaut: `True`.\n",
    "- `readout_format`: Le format de la lecture de la valeur du curseur. Pour afficher un nombre entier, le format est : `'d'`. Pour afficher un nombre réel en spécifiant le nombre de décimale, par exemple 2, le format est : `'.2f'`. "
   ]
  },
  {
   "cell_type": "code",
   "execution_count": 5,
   "id": "2ff1850a-9dd4-4790-9d71-88b821db694a",
   "metadata": {},
   "outputs": [
    {
     "data": {
      "application/vnd.jupyter.widget-view+json": {
       "model_id": "34a160ee515b4c4f976dd5c26efbe5cd",
       "version_major": 2,
       "version_minor": 0
      },
      "text/plain": [
       "IntSlider(value=7, description='a = ', max=10)"
      ]
     },
     "metadata": {},
     "output_type": "display_data"
    },
    {
     "data": {
      "application/vnd.jupyter.widget-view+json": {
       "model_id": "9cf39800a92f47e4afab57a636e42dfd",
       "version_major": 2,
       "version_minor": 0
      },
      "text/plain": [
       "FloatSlider(value=7.0, description='b = ', max=10.0, readout_format='.3f')"
      ]
     },
     "metadata": {},
     "output_type": "display_data"
    }
   ],
   "source": [
    "a = widgets.IntSlider(value=7, min=0, max=10, step=1, description='a = ')\n",
    "b = widgets.FloatSlider(value=7, min=0, max=10, step=.1, description='b = ', readout_format='.3f')\n",
    "display(a)\n",
    "display(b)"
   ]
  },
  {
   "cell_type": "code",
   "execution_count": 6,
   "id": "d4e8d4d5-343a-4601-8784-fe04612c7b8c",
   "metadata": {},
   "outputs": [
    {
     "data": {
      "application/vnd.jupyter.widget-view+json": {
       "model_id": "9c21b105a2b74c78b6c08cfbcd5ec8b5",
       "version_major": 2,
       "version_minor": 0
      },
      "text/plain": [
       "IntRangeSlider(value=(6, 8), description='Pairs-Int:', max=10, step=2)"
      ]
     },
     "metadata": {},
     "output_type": "display_data"
    },
    {
     "data": {
      "application/vnd.jupyter.widget-view+json": {
       "model_id": "d08c7bca2d194016a54937f77a0acaf9",
       "version_major": 2,
       "version_minor": 0
      },
      "text/plain": [
       "FloatRangeSlider(value=(5.0, 7.0), description='Domaine:', max=10.0, step=0.2)"
      ]
     },
     "metadata": {},
     "output_type": "display_data"
    }
   ],
   "source": [
    "w1 = widgets.IntRangeSlider(value=[6, 8], min=0, max=10, step=2, description='Pairs-Int:')\n",
    "w2 = widgets.FloatRangeSlider(value=[5, 7], min=0, max=10, step=.2, description='Domaine:')\n",
    "display(w1)\n",
    "display(w2)"
   ]
  },
  {
   "cell_type": "code",
   "execution_count": 7,
   "id": "5b1e6749-4104-489f-9a8e-2028e22b0e0a",
   "metadata": {},
   "outputs": [
    {
     "data": {
      "application/vnd.jupyter.widget-view+json": {
       "model_id": "5c7c5c12663444869f8eda1424ecabbc",
       "version_major": 2,
       "version_minor": 0
      },
      "text/plain": [
       "BoundedIntText(value=7, description='a = ', max=10)"
      ]
     },
     "metadata": {},
     "output_type": "display_data"
    },
    {
     "data": {
      "application/vnd.jupyter.widget-view+json": {
       "model_id": "775cb12928904c07b6e7ab25ed9d77c1",
       "version_major": 2,
       "version_minor": 0
      },
      "text/plain": [
       "BoundedFloatText(value=7.0, description='b = ', max=10.0, step=0.01)"
      ]
     },
     "metadata": {},
     "output_type": "display_data"
    }
   ],
   "source": [
    "a = widgets.BoundedIntText(value=7, min=0, max=10, step=1, description='a = ')\n",
    "b = widgets.BoundedFloatText(value=7, min=0, max=10, step=.01, description='b = ')\n",
    "display(a)\n",
    "display(b)"
   ]
  },
  {
   "cell_type": "markdown",
   "id": "39b40e31-63b4-4379-b168-3fdf94aa556a",
   "metadata": {},
   "source": [
    "---\n",
    "## Widgets booléens :\n",
    "\n",
    "Il s'agit des widgets relatifs valeurs booléennes. Ces widgets change l'état d'une variable `True` ou `False`."
   ]
  },
  {
   "cell_type": "code",
   "execution_count": 8,
   "id": "a845e668-1a2b-4d6e-b7de-e0bece731dda",
   "metadata": {},
   "outputs": [
    {
     "data": {
      "application/vnd.jupyter.widget-view+json": {
       "model_id": "b792c569d51f4e0b8abe3d7b09c247db",
       "version_major": 2,
       "version_minor": 0
      },
      "text/plain": [
       "ToggleButton(value=False, description='Cliquez', icon='check', tooltip='Description')"
      ]
     },
     "execution_count": 8,
     "metadata": {},
     "output_type": "execute_result"
    }
   ],
   "source": [
    "widgets.ToggleButton(\n",
    "    value=False,\n",
    "    description='Cliquez',\n",
    "    disabled=False,\n",
    "    button_style='', # 'success', 'info', 'warning', 'danger' or ''\n",
    "    tooltip='Description',\n",
    "    icon='check' # (FontAwesome names without the `fa-` prefix)\n",
    ")"
   ]
  },
  {
   "cell_type": "code",
   "execution_count": 9,
   "id": "7107eaeb-8f03-4ea2-9136-c94840a01c75",
   "metadata": {},
   "outputs": [
    {
     "data": {
      "application/vnd.jupyter.widget-view+json": {
       "model_id": "b35ccb91553f47e6bb8b3f50013ff5b8",
       "version_major": 2,
       "version_minor": 0
      },
      "text/plain": [
       "Checkbox(value=False, description='Cochez', indent=False)"
      ]
     },
     "execution_count": 9,
     "metadata": {},
     "output_type": "execute_result"
    }
   ],
   "source": [
    "widgets.Checkbox(\n",
    "    value=False,\n",
    "    description='Cochez',\n",
    "    disabled=False,\n",
    "    indent=False\n",
    ")"
   ]
  },
  {
   "cell_type": "markdown",
   "id": "b48b7fbb-e41d-4fa8-905e-bcedbadde14e",
   "metadata": {},
   "source": [
    "---\n",
    "## Widgets de sélection :\n",
    "\n",
    "Il s'agit des wigdets qui permettent de sélectionner des valeurs catégorielles."
   ]
  },
  {
   "cell_type": "code",
   "execution_count": 10,
   "id": "521b75ba-05e5-4648-b577-6367d71f8bf4",
   "metadata": {},
   "outputs": [
    {
     "data": {
      "application/vnd.jupyter.widget-view+json": {
       "model_id": "07b498c884dd482dbe0fead782dab7ad",
       "version_major": 2,
       "version_minor": 0
      },
      "text/plain": [
       "RadioButtons(description='Operating System:', options=('Linux', 'MacOs', 'Windows'), value='Linux')"
      ]
     },
     "execution_count": 10,
     "metadata": {},
     "output_type": "execute_result"
    }
   ],
   "source": [
    "widgets.RadioButtons(\n",
    "    options=['Linux', 'MacOs', 'Windows'],\n",
    "    description='Operating System:',\n",
    "    disabled=False\n",
    ")"
   ]
  },
  {
   "cell_type": "code",
   "execution_count": 11,
   "id": "1f50c9f0-e784-4c0e-a035-d4af29bb6f6a",
   "metadata": {},
   "outputs": [
    {
     "data": {
      "application/vnd.jupyter.widget-view+json": {
       "model_id": "11c481688a6d4a679ad083c6365a38bb",
       "version_major": 2,
       "version_minor": 0
      },
      "text/plain": [
       "Dropdown(description='OS:', index=1, options=(('Linux', 1), ('MacOs', 2), ('Windows', 3)), value=2)"
      ]
     },
     "execution_count": 11,
     "metadata": {},
     "output_type": "execute_result"
    }
   ],
   "source": [
    "widgets.Dropdown(\n",
    "    options=[('Linux', 1), ('MacOs', 2), ('Windows', 3)],\n",
    "    value=2,\n",
    "    description='OS:',\n",
    ")"
   ]
  },
  {
   "cell_type": "code",
   "execution_count": 12,
   "id": "ad43a7ba-64a4-442f-a685-78ca622cceec",
   "metadata": {},
   "outputs": [
    {
     "data": {
      "application/vnd.jupyter.widget-view+json": {
       "model_id": "4fcbcc1adfed447a8a5ce1fcb54cd487",
       "version_major": 2,
       "version_minor": 0
      },
      "text/plain": [
       "ToggleButtons(button_style='info', options=('Linux', 'MacOs', 'Windows'), tooltips=('open-source et polyvalent…"
      ]
     },
     "execution_count": 12,
     "metadata": {},
     "output_type": "execute_result"
    }
   ],
   "source": [
    "widgets.ToggleButtons(\n",
    "    options=['Linux', 'MacOs', 'Windows'],\n",
    "    description='',\n",
    "    disabled=False,\n",
    "    button_style='info',# 'success', 'info', 'warning', 'danger' or ''\n",
    "    tooltips=['open-source et polyvalent', 'performant avec un design robuste basé sur unix', 'nécessite une mise à jour chaque fois qu\\'il pleut'],\n",
    "#     icons=['check'] * 3\n",
    ")"
   ]
  },
  {
   "cell_type": "markdown",
   "id": "3ce448f5-9ca2-4561-bb1b-5eccffd5bd39",
   "metadata": {},
   "source": [
    "---\n",
    "## Widgets de texte :\n",
    "\n",
    "Il s'agit de widgets qui permettent d'afficher une variable `str` ou de modifier sa valeur. "
   ]
  },
  {
   "cell_type": "code",
   "execution_count": 13,
   "id": "50969020-520a-41ca-b23d-cd4ddd623c97",
   "metadata": {},
   "outputs": [
    {
     "data": {
      "application/vnd.jupyter.widget-view+json": {
       "model_id": "55535ee210a448f8b0595b60a0cc2268",
       "version_major": 2,
       "version_minor": 0
      },
      "text/plain": [
       "Text(value='Hello World', description='String:', placeholder='')"
      ]
     },
     "execution_count": 13,
     "metadata": {},
     "output_type": "execute_result"
    }
   ],
   "source": [
    "widgets.Text(\n",
    "    value='Hello World',\n",
    "    placeholder='',\n",
    "    description='String:',\n",
    "    disabled=False   \n",
    ")"
   ]
  },
  {
   "cell_type": "code",
   "execution_count": 14,
   "id": "800c4ac3-d7b7-4f5e-8ab3-c4c9426ca8d9",
   "metadata": {},
   "outputs": [
    {
     "data": {
      "application/vnd.jupyter.widget-view+json": {
       "model_id": "d2d6dc7fc8da47f7a4e83dcf8f903668",
       "version_major": 2,
       "version_minor": 0
      },
      "text/plain": [
       "Textarea(value='Hello World', description='String:', placeholder='')"
      ]
     },
     "execution_count": 14,
     "metadata": {},
     "output_type": "execute_result"
    }
   ],
   "source": [
    "widgets.Textarea(\n",
    "    value='Hello World',\n",
    "    placeholder='',\n",
    "    description='String:',\n",
    "    disabled=False\n",
    ")"
   ]
  },
  {
   "cell_type": "markdown",
   "id": "69663a95-29a0-4558-b0c2-41943d50f3f4",
   "metadata": {},
   "source": [
    "---\n",
    "# Interact:\n",
    "\n",
    "`interact` est la fonction centrale dans la bibliothèque ipywidgets qui permet de créer des interfaces interactives en liant les variables widgets aux arguments d'une fonction. C'est ici que les widgets prennent tous leur sens.\n",
    "\n",
    "## Exemple 1: fonction linéaire et état\n",
    "\n",
    "Ce code définit une fonction appelée `fonction` qui prend quatre paramètres : `x`, `a`, `b`, et `etat`. Cette fonction calcule une valeur `y` en fonction des paramètres `x`, `a`, et `b`, puis retourne un tuple contenant la valeur de `etat` et la valeur `y`. Ensuite, des widgets interactifs sont créés pour chaque paramètre de la fonction. Il y a trois curseurs pour les paramètres `x`, `a`, et `b`, et une case à cocher pour le paramètre `etat`. Enfin, une interface interactive est créée en utilisant la fonction `interact` du module `widgets`. "
   ]
  },
  {
   "cell_type": "code",
   "execution_count": 15,
   "id": "8bb46167-ccf1-4ace-b596-4eab86772fe7",
   "metadata": {},
   "outputs": [
    {
     "data": {
      "application/vnd.jupyter.widget-view+json": {
       "model_id": "7c756c583faa45ed921ae0703da31c4e",
       "version_major": 2,
       "version_minor": 0
      },
      "text/plain": [
       "interactive(children=(FloatSlider(value=1.0, description='x:', max=10.0, min=-10.0), FloatSlider(value=1.0, de…"
      ]
     },
     "metadata": {},
     "output_type": "display_data"
    }
   ],
   "source": [
    "# Définition de la fonction qui calcule une valeur en fonction des paramètres\n",
    "def fonction(x, a, b, etat):\n",
    "    y = a * x + b  # Calcul de la valeur y en fonction de x, a et b\n",
    "    return (etat, y)  # Retourne un tuple contenant la valeur etat et la valeur y\n",
    "\n",
    "# Création des widgets pour les paramètres\n",
    "x_widget = widgets.FloatSlider(min=-10, max=10, step=0.1, value=1, description='x:')  # Curseur pour la valeur de x\n",
    "a_widget = widgets.FloatSlider(min=-5,  max=5, step=0.1, value=1, description='a:')   # Curseur pour la valeur de a\n",
    "b_widget = widgets.FloatSlider(min=-10, max=10, step=0.1, value=0, description='b:')  # Curseur pour la valeur de b\n",
    "etat_widget =widgets.Checkbox(value=True, description='Etat')  # Case à cocher pour l'état\n",
    "\n",
    "# Création de l'interface interactive en utilisant interact\n",
    "out = widgets.interact(fonction, x=x_widget, a=a_widget, b=b_widget, etat=etat_widget);"
   ]
  },
  {
   "cell_type": "markdown",
   "id": "b0e56670-a4ae-422e-bb89-cb984c66a745",
   "metadata": {},
   "source": [
    "## Exemple 2: onde sinusoïdale progressive\n",
    "\n",
    "Ce code crée une fonction appelée `plot_sine_wave` qui trace une onde sinusoïdale progressive en fonction de différents paramètres. La fonction prend en entrée la fréquence $f$ (Hz), la longueur d'onde $\\lambda$ (m), l'amplitude $A$ (m), la phase initiale $\\phi_0$ (rad) et le temps $t$ (s).\n",
    "\n",
    "À l'intérieur de la fonction `plot_sine_wave`, on génère d'abord une série de valeurs `x` allant de 0 à 20 avec une résolution de 1000 points. Ensuite, on calcule la fréquence angulaire $\\omega = 2\\pi f$ et le nombre d'onde $k = 2\\pi/\\lambda$. La fonction onde sinusoïdale progressive est alors:\n",
    "\n",
    "$$\n",
    "y(x,t,\\omega,k,\\phi_0) = A \\sin\\left(k x - \\omega t + \\phi_0\\right)\n",
    "$$\n",
    "\n",
    "Un widget de sortie est ajouté pour afficher la vitesse de l'onde: $v = \\lambda f$.\n"
   ]
  },
  {
   "cell_type": "code",
   "execution_count": 16,
   "id": "51527fbf-7afb-4144-9731-efc3f3c99fc0",
   "metadata": {},
   "outputs": [
    {
     "data": {
      "application/vnd.jupyter.widget-view+json": {
       "model_id": "2c8dfef486f44f21ae3832d1b87a2c96",
       "version_major": 2,
       "version_minor": 0
      },
      "text/plain": [
       "interactive(children=(FloatSlider(value=1.0, description='f (Hz):', max=10.0, min=0.1), FloatSlider(value=5.0,…"
      ]
     },
     "metadata": {},
     "output_type": "display_data"
    },
    {
     "data": {
      "application/vnd.jupyter.widget-view+json": {
       "model_id": "51ef87750b824f12ba53c06f423c5bde",
       "version_major": 2,
       "version_minor": 0
      },
      "text/plain": [
       "Output()"
      ]
     },
     "metadata": {},
     "output_type": "display_data"
    }
   ],
   "source": [
    "import numpy as np\n",
    "import math\n",
    "import matplotlib.pyplot as plt\n",
    "from ipywidgets import interact, widgets\n",
    "from IPython.display import display, clear_output\n",
    "\n",
    "def plot_sine_wave(f, l, A, phi_0, t):\n",
    "    x = np.linspace(0, 20, 1000)\n",
    "    omega = 2*np.pi*f\n",
    "    k = 2*np.pi/l\n",
    "    y = A * np.sin(k*x - omega*t + phi_0)\n",
    "    plt.plot(x, y)\n",
    "    plt.title('Onde sinusoïdale progressive')\n",
    "    plt.xlabel('x (m)')\n",
    "    plt.ylabel('y (m)')\n",
    "    plt.ylim(-5, 5) \n",
    "    plt.xlim(0, 20)\n",
    "    plt.grid(True)\n",
    "    plt.show()\n",
    "\n",
    "    # Calcul de la vitesse de l'onde\n",
    "    v = l * f\n",
    "    with output_widget:\n",
    "        clear_output(wait=True)\n",
    "        print(f'Vitesse de l\\'onde (m/s) : {v:.3f}')\n",
    "\n",
    "# Création des widgets pour les paramètres d'entrée\n",
    "f_widget = widgets.FloatSlider(min=0.1, max=10, step=0.1, value=1, description='f (Hz):')\n",
    "l_widget = widgets.FloatSlider(min=0.1, max=10, step=0.1, value=5, description='lambda (m):')\n",
    "A_widget = widgets.FloatSlider(min=0.1, max=5, step=0.1, value=1, description='A (m):')\n",
    "phi_0_widget = widgets.FloatSlider(min=0, max=2*np.pi, step=0.1, value=0, description='phi_0 (rad):')\n",
    "t_widget = widgets.FloatSlider(min=0, max=2, step=0.01, value=0, description='Temps (s):')\n",
    "\n",
    "# Création du widget pour le paramètre de sortie\n",
    "output_widget = widgets.Output()\n",
    "\n",
    "# Création de l'interface interactive\n",
    "widgets.interact(plot_sine_wave, f=f_widget, l=l_widget, A=A_widget, phi_0=phi_0_widget, t=t_widget);\n",
    "display(output_widget)"
   ]
  },
  {
   "cell_type": "markdown",
   "id": "6bcb4089-7b72-4666-a437-141f9befe1ed",
   "metadata": {},
   "source": [
    "## Exemple 3: mécanique orbitale"
   ]
  },
  {
   "cell_type": "code",
   "execution_count": 17,
   "id": "042433ee-6c1b-4dea-aa19-8d94e517a114",
   "metadata": {},
   "outputs": [
    {
     "data": {
      "application/vnd.jupyter.widget-view+json": {
       "model_id": "83bf8b3899564bd995dd09d6dfb07763",
       "version_major": 2,
       "version_minor": 0
      },
      "text/plain": [
       "interactive(children=(FloatSlider(value=2.0, description='r0x (10^6 m):', max=10.0, min=-10.0), FloatSlider(va…"
      ]
     },
     "metadata": {},
     "output_type": "display_data"
    }
   ],
   "source": [
    "import cmath\n",
    "\n",
    "# Constante de gravitation universelle (m^3/kg/s^2)\n",
    "G = 6.6743 * 10**-11\n",
    "\n",
    "# Masse de la Terre (kg)\n",
    "M = 6 * 10**24\n",
    "# Rayon de la Terre (m)\n",
    "RT = 6.371 * 10**6\n",
    "\n",
    "factorR = 10**7\n",
    "factorV = 10**3\n",
    "\n",
    "# Masse de l'objet en orbite (kg)\n",
    "m = 1\n",
    "\n",
    "r0x_widget = widgets.FloatSlider(min=-10, max=10, step=0.1, value=2, description='r0x (10^6 m):')\n",
    "r0y_widget = widgets.FloatSlider(min=-10, max=10, step=0.1, value=0, description='r0y (10^6 m):')\n",
    "v0x_widget = widgets.FloatSlider(min=-10, max=10, step=.1, value=0, description='v0x (10^3 m/s):')\n",
    "v0y_widget = widgets.FloatSlider(min=-10, max=10, step=.1, value=5, description='v0y (10^3 m/s):')\n",
    "\n",
    "def norm(vector):\n",
    "    return math.sqrt(sum(component**2 for component in vector))\n",
    "    \n",
    "def orbital_parameters(r0x, r0y, v0x, v0y, M, m):\n",
    "    # \n",
    "    k = G * M * m\n",
    "    r0 = [factorR*r0x, factorR*r0y, 0]\n",
    "    v0 = [factorV*v0x, factorV*v0y, 0]\n",
    "    p0 = [m*v0[0], m*v0[1], 0]\n",
    "    L0 = [r0[1] * p0[2] - r0[2] * p0[1],\n",
    "          r0[2] * p0[0] - r0[0] * p0[2],\n",
    "          r0[0] * p0[1] - r0[1] * p0[0]]\n",
    "\n",
    "    norm_r0 = norm(r0)\n",
    "    norm_L0 = norm(L0)\n",
    "    \n",
    "    RungeLenzVector = [p0[1] * L0[2] - p0[2] * L0[1] - m * k * r0[0] / norm_r0,\n",
    "                       p0[2] * L0[0] - p0[0] * L0[2] - m * k * r0[1] / norm_r0,\n",
    "                       p0[0] * L0[1] - p0[1] * L0[0] - m * k * r0[2] / norm_r0]\n",
    "\n",
    "    norm_RungeLenzVector = norm(RungeLenzVector)\n",
    "\n",
    "    # RungeLenzVector2d\n",
    "    RungeLenzVector2d = RungeLenzVector[:2]\n",
    "    \n",
    "    # UnitApseV\n",
    "    UnitApseV = [component / norm_RungeLenzVector for component in RungeLenzVector2d]\n",
    "    \n",
    "    # e (excentricité)\n",
    "    e = norm_RungeLenzVector / (m * k)\n",
    "    # p (semi-latus)\n",
    "    p = norm_L0**2 / (m * k)\n",
    "    # h\n",
    "    h = p / e\n",
    "    # a\n",
    "    a = p / (e**2 - 1)\n",
    "    # b\n",
    "    b = p / (2 * cmath.sqrt(e**2 - 1))\n",
    "    # c\n",
    "    c = (e * p) / (e**2 - 1)\n",
    "    # f\n",
    "    f = h / (e**2 - 1)\n",
    "    \n",
    "    theta_orb = math.atan2(RungeLenzVector2d[1], RungeLenzVector2d[0])\n",
    "\n",
    "    return p, e, theta_orb\n",
    "\n",
    "def polar_orbite(p, e, theta, theta_orb):\n",
    "    return p / (e * np.cos(theta-theta_orb) - 1)\n",
    "    \n",
    "def plot_orbite(r0x, r0y, v0x, v0y, M, m):\n",
    "    \n",
    "    theta_min, theta_max = 0, 2*np.pi\n",
    "    p, e, theta_orb = orbital_parameters(r0x, r0y, v0x, v0y, M, m)\n",
    "    \n",
    "    theta = np.linspace(theta_min, theta_max, 1000)\n",
    "\n",
    "    r = polar_orbite(p, e, theta, theta_orb)\n",
    "\n",
    "    x = r * np.cos(theta)\n",
    "    y = r * np.sin(theta)\n",
    "    \n",
    "    type = type_conique(e)\n",
    "    \n",
    "    plt.figure(figsize=(4, 4))\n",
    "    plt.plot(x, y)\n",
    "    plt.title(f'Type d\\'orbite: {type}')\n",
    "    plt.xlabel('x')\n",
    "    plt.ylabel('y')\n",
    "    plt.xlim(-20*factorR, 20*factorR)\n",
    "    plt.ylim(-20*factorR, 20*factorR)\n",
    "    plt.grid(True)\n",
    "    plt.gca().set_aspect('equal')\n",
    "    plt.show()\n",
    "    \n",
    "widgets.interact(plot_orbite, r0x=r0x_widget, r0y=r0y_widget, v0x=v0x_widget, v0y=v0y_widget, M=widgets.fixed(M), m=widgets.fixed(m));\n"
   ]
  },
  {
   "cell_type": "code",
   "execution_count": 3,
   "id": "cd0b8e2b-3083-41a0-9e9c-f846f67998c1",
   "metadata": {},
   "outputs": [
    {
     "data": {
      "application/vnd.jupyter.widget-view+json": {
       "model_id": "c3af1e7e8c28411da575e9ebb5cab6b3",
       "version_major": 2,
       "version_minor": 0
      },
      "text/plain": [
       "interactive(children=(FloatSlider(value=0.5, description='p:', max=1.0), FloatSlider(value=0.0, description='e…"
      ]
     },
     "metadata": {},
     "output_type": "display_data"
    }
   ],
   "source": [
    "import numpy as np\n",
    "import matplotlib.pyplot as plt\n",
    "\n",
    "def type_conique(e):\n",
    "    return {\n",
    "        e == 0 : \"Cercle\",\n",
    "        0 < e < 1: \"Ellipse\",\n",
    "        e == 1: \"Parabole\",\n",
    "        e > 1: \"Hyperbole\"\n",
    "    }[True]\n",
    "    \n",
    "def polar_conique(p, e, theta, theta_orb):\n",
    "    return p / (epsilon * math.cos(theta - theta_orb)-1)\n",
    "\n",
    "def plot_orbite(p, e):\n",
    "    theta_orb = 0 \n",
    "    theta_min, theta_max = 0, 2*np.pi\n",
    "    theta = np.linspace(theta_min, theta_max, 1000)\n",
    "    r = p / (1 + e * np.cos(theta))\n",
    "    x = r * np.cos(theta)\n",
    "    y = r * np.sin(theta)\n",
    "    type = type_conique(e)\n",
    "    \n",
    "    plt.figure(figsize=(4, 4))\n",
    "    plt.plot(x, y)\n",
    "    plt.title(f'Conique: {type}')\n",
    "    plt.xlabel('x')\n",
    "    plt.ylabel('y')\n",
    "    plt.xlim(-2, 2)\n",
    "    plt.ylim(-2, 2)\n",
    "    plt.grid(True)\n",
    "    plt.gca().set_aspect('equal')\n",
    "    plt.show()\n",
    "\n",
    "# Création des widgets pour les paramètres\n",
    "p_widget = widgets.FloatSlider(min=0, max=1, step=0.1, value=.5, description='p:')\n",
    "e_widget = widgets.FloatSlider(min=0, max=2, step=0.01, value=0, description='e:')\n",
    "\n",
    "# Création de l'interface interactive\n",
    "widgets.interact(plot_orbite, p=p_widget, e=e_widget);"
   ]
  },
  {
   "cell_type": "markdown",
   "id": "a868eb5d-b4aa-42fd-9507-180cedf843e5",
   "metadata": {},
   "source": [
    "## Exemple 4: cartographie et données géospatiales\n",
    "\n",
    "Ce code crée une carte à l'aide du module ipyleaflet dans Jupyter Notebook. Ipyleaflet permet de créer des cartes interactives pour la visualisation des données géospatiales.\n",
    "\n",
    "Voici ce qui se passe dans chaque partie du code :\n",
    "\n",
    "1. Création de la carte interactive :\n",
    "   On crée une instance de la classe `Map` en spécifiant le centre de la carte (latitude et longitude) et le niveau de zoom initial. On utilise la basemap OpenStreetMap.Mapnik.\n",
    "\n",
    "2. Création des widgets pour contrôler la carte :\n",
    "   On crée des widgets interactifs pour contrôler la latitude, la longitude et le zoom de la carte. Il s'agit de curseurs (`FloatSlider` et `IntSlider`) pour les valeurs numériques.\n",
    "   \n",
    "3. Fonction de mise à jour de la carte :\n",
    "   On définit une fonction `update_map` qui prend en entrée les valeurs de latitude, longitude et zoom et met à jour la position et le niveau de zoom de la carte en fonction de ces valeurs.\n",
    "   \n",
    "4. Lien entre la fonction de mise à jour et les widgets :\n",
    "   On utilise la fonction `widgets.interactive` pour lier la fonction `update_map` aux widgets de contrôle de la carte. \n",
    "   \n",
    "5. Création des marqueurs pour représenter des points :\n",
    "   On définit une liste de coordonnées de points (latitude, longitude) pour les villes de Paris, Londres, New York et Sydney. Pour chaque point, on crée un marqueur à l'aide de la classe `Marker` du module ipyleaflet.\n",
    "   \n",
    "6. Ajout des marqueurs à la carte :\n",
    "   On ajoute chaque marqueur à la carte en utilisant la méthode `add_layer`.\n",
    "   \n",
    "7. Création d'un Checkbox pour afficher ou masquer les points :\n",
    "   On crée une case à cocher (`Checkbox`) avec la description \"Afficher les points\". Par défaut, elle est cochée (valeur `True`).\n",
    "   \n",
    "8. Fonction de mise à jour pour afficher ou masquer les points :\n",
    "   On définit une fonction `update_markers` qui prend en entrée un changement de valeur du checkbox. Elle parcourt tous les marqueurs et les rend visibles ou invisibles en fonction de la valeur de la case à cocher.\n",
    "   \n",
    "9. Lien entre la fonction de mise à jour et le changement de valeur du checkbox :\n",
    "   On utilise la méthode `observe` pour lier la fonction `update_markers` au changement de valeur du checkbox. Cela signifie que lorsque la case à cocher est cochée ou décochée, la fonction `update_markers` est appelée pour mettre à jour la visibilité des marqueurs en conséquence."
   ]
  },
  {
   "cell_type": "code",
   "execution_count": 18,
   "id": "139f87a9-7535-49a3-b96d-d099673d2565",
   "metadata": {},
   "outputs": [
    {
     "data": {
      "application/vnd.jupyter.widget-view+json": {
       "model_id": "109fba5206454cf29c447277dc238735",
       "version_major": 2,
       "version_minor": 0
      },
      "text/plain": [
       "Map(center=[48.8566, 2.3522], controls=(ZoomControl(options=['position', 'zoom_in_text', 'zoom_in_title', 'zoo…"
      ]
     },
     "metadata": {},
     "output_type": "display_data"
    },
    {
     "data": {
      "application/vnd.jupyter.widget-view+json": {
       "model_id": "55b5c3d3977e44368b069464e5625392",
       "version_major": 2,
       "version_minor": 0
      },
      "text/plain": [
       "FloatSlider(value=48.8566, description='Latitude:', max=90.0, min=-90.0)"
      ]
     },
     "metadata": {},
     "output_type": "display_data"
    },
    {
     "data": {
      "application/vnd.jupyter.widget-view+json": {
       "model_id": "46602c6aeee94e2ea78fca94607297db",
       "version_major": 2,
       "version_minor": 0
      },
      "text/plain": [
       "FloatSlider(value=2.3522, description='Longitude:', max=180.0, min=-180.0)"
      ]
     },
     "metadata": {},
     "output_type": "display_data"
    },
    {
     "data": {
      "application/vnd.jupyter.widget-view+json": {
       "model_id": "7af54ae8b31844e182fc2c18ae41ea7f",
       "version_major": 2,
       "version_minor": 0
      },
      "text/plain": [
       "IntSlider(value=4, description='Zoom:', max=18, min=1)"
      ]
     },
     "metadata": {},
     "output_type": "display_data"
    },
    {
     "data": {
      "application/vnd.jupyter.widget-view+json": {
       "model_id": "f0030c9795a342c58db64d43e9606c0c",
       "version_major": 2,
       "version_minor": 0
      },
      "text/plain": [
       "Checkbox(value=True, description='Afficher les capitales')"
      ]
     },
     "metadata": {},
     "output_type": "display_data"
    }
   ],
   "source": [
    "import ipywidgets as widgets\n",
    "from ipyleaflet import Map, Marker, basemaps\n",
    "from IPython.display import display\n",
    "\n",
    "#---------------------------------------------------------------------------------------\n",
    "# Créer une carte interactive\n",
    "m = Map(center=(48.8566, 2.3522), zoom=10, basemap=basemaps.OpenStreetMap.Mapnik)\n",
    "\n",
    "#---------------------------------------------------------------------------------------\n",
    "# Créer des widgets pour contrôler la carte: la position et le zoom\n",
    "latitude = widgets.FloatSlider(value=48.8566, min=-90, max=90, description='Latitude:')\n",
    "longitude = widgets.FloatSlider(value=2.3522, min=-180, max=180, description='Longitude:')\n",
    "zoom = widgets.IntSlider(value=4, min=1, max=18, description='Zoom:')\n",
    "\n",
    "# Fonction de mise à jour de la carte en fonction des valeurs des widgets\n",
    "def update_map(latitude, longitude, zoom):\n",
    "    m.center = (latitude, longitude)\n",
    "    m.zoom = zoom\n",
    "\n",
    "# Lier la fonction de mise à jour aux widgets\n",
    "widgets.interactive(update_map, latitude=latitude, longitude=longitude, zoom=zoom)\n",
    "\n",
    "#---------------------------------------------------------------------------------------\n",
    "# Créer des marqueurs pour représenter des points\n",
    "points = [\n",
    "    (48.8566, 2.3522),  # Paris\n",
    "    (51.5074, -0.1278),  # Londres\n",
    "    (40.7128, -74.0060),  # New York\n",
    "    (-33.8688, 151.2093)  # Sydney\n",
    "]\n",
    "markers = [Marker(location=point) for point in points]\n",
    "\n",
    "# Ajouter les marqueurs à la carte\n",
    "for marker in markers:\n",
    "    m.add_layer(marker)\n",
    "\n",
    "# Créer un Checkbox pour afficher ou masquer les points\n",
    "checkbox = widgets.Checkbox(value=True, description='Afficher les capitales')\n",
    "\n",
    "# Fonction de mise à jour pour afficher ou masquer les points en fonction de la valeur du checkbox\n",
    "def update_markers(change):\n",
    "    for marker in markers:\n",
    "        marker.visible = change.new\n",
    "\n",
    "# Lier la fonction de mise à jour au changement de valeur du checkbox\n",
    "checkbox.observe(update_markers, 'value')\n",
    "\n",
    "#---------------------------------------------------------------------------------------\n",
    "# Afficher la carte et les widgets\n",
    "display(m)\n",
    "display(latitude)\n",
    "display(longitude)\n",
    "display(zoom)\n",
    "display(checkbox)\n"
   ]
  },
  {
   "cell_type": "code",
   "execution_count": 142,
   "id": "d059d6d1-5a0e-41c9-ae7f-e81aabbbe66d",
   "metadata": {},
   "outputs": [
    {
     "data": {
      "text/plain": [
       "array([-2.00000000e+00, -1.99371053e+00, -1.98742105e+00, -1.98113158e+00,\n",
       "       -1.97484210e+00, -1.96855263e+00, -1.96226315e+00, -1.95597368e+00,\n",
       "       -1.94968420e+00, -1.94339473e+00, -1.93710525e+00, -1.93081578e+00,\n",
       "       -1.92452630e+00, -1.91823683e+00, -1.91194735e+00, -1.90565788e+00,\n",
       "       -1.89936840e+00, -1.89307893e+00, -1.88678945e+00, -1.88049998e+00,\n",
       "       -1.87421050e+00, -1.86792103e+00, -1.86163155e+00, -1.85534208e+00,\n",
       "       -1.84905261e+00, -1.84276313e+00, -1.83647366e+00, -1.83018418e+00,\n",
       "       -1.82389471e+00, -1.81760523e+00, -1.81131576e+00, -1.80502628e+00,\n",
       "       -1.79873681e+00, -1.79244733e+00, -1.78615786e+00, -1.77986838e+00,\n",
       "       -1.77357891e+00, -1.76728943e+00, -1.76099996e+00, -1.75471048e+00,\n",
       "       -1.74842101e+00, -1.74213153e+00, -1.73584206e+00, -1.72955258e+00,\n",
       "       -1.72326311e+00, -1.71697363e+00, -1.71068416e+00, -1.70439469e+00,\n",
       "       -1.69810521e+00, -1.69181574e+00, -1.68552626e+00, -1.67923679e+00,\n",
       "       -1.67294731e+00, -1.66665784e+00, -1.66036836e+00, -1.65407889e+00,\n",
       "       -1.64778941e+00, -1.64149994e+00, -1.63521046e+00, -1.62892099e+00,\n",
       "       -1.62263151e+00, -1.61634204e+00, -1.61005256e+00, -1.60376309e+00,\n",
       "       -1.59747361e+00, -1.59118414e+00, -1.58489466e+00, -1.57860519e+00,\n",
       "       -1.57231571e+00, -1.56602624e+00, -1.55973677e+00, -1.55344729e+00,\n",
       "       -1.54715782e+00, -1.54086834e+00, -1.53457887e+00, -1.52828939e+00,\n",
       "       -1.52199992e+00, -1.51571044e+00, -1.50942097e+00, -1.50313149e+00,\n",
       "       -1.49684202e+00, -1.49055254e+00, -1.48426307e+00, -1.47797359e+00,\n",
       "       -1.47168412e+00, -1.46539464e+00, -1.45910517e+00, -1.45281569e+00,\n",
       "       -1.44652622e+00, -1.44023674e+00, -1.43394727e+00, -1.42765779e+00,\n",
       "       -1.42136832e+00, -1.41507885e+00, -1.40878937e+00, -1.40249990e+00,\n",
       "       -1.39621042e+00, -1.38992095e+00, -1.38363147e+00, -1.37734200e+00,\n",
       "       -1.37105252e+00, -1.36476305e+00, -1.35847357e+00, -1.35218410e+00,\n",
       "       -1.34589462e+00, -1.33960515e+00, -1.33331567e+00, -1.32702620e+00,\n",
       "       -1.32073672e+00, -1.31444725e+00, -1.30815777e+00, -1.30186830e+00,\n",
       "       -1.29557882e+00, -1.28928935e+00, -1.28299987e+00, -1.27671040e+00,\n",
       "       -1.27042093e+00, -1.26413145e+00, -1.25784198e+00, -1.25155250e+00,\n",
       "       -1.24526303e+00, -1.23897355e+00, -1.23268408e+00, -1.22639460e+00,\n",
       "       -1.22010513e+00, -1.21381565e+00, -1.20752618e+00, -1.20123670e+00,\n",
       "       -1.19494723e+00, -1.18865775e+00, -1.18236828e+00, -1.17607880e+00,\n",
       "       -1.16978933e+00, -1.16349985e+00, -1.15721038e+00, -1.15092090e+00,\n",
       "       -1.14463143e+00, -1.13834195e+00, -1.13205248e+00, -1.12576301e+00,\n",
       "       -1.11947353e+00, -1.11318406e+00, -1.10689458e+00, -1.10060511e+00,\n",
       "       -1.09431563e+00, -1.08802616e+00, -1.08173668e+00, -1.07544721e+00,\n",
       "       -1.06915773e+00, -1.06286826e+00, -1.05657878e+00, -1.05028931e+00,\n",
       "       -1.04399983e+00, -1.03771036e+00, -1.03142088e+00, -1.02513141e+00,\n",
       "       -1.01884193e+00, -1.01255246e+00, -1.00626298e+00, -9.99973510e-01,\n",
       "       -9.93684035e-01, -9.87394560e-01, -9.81105085e-01, -9.74815611e-01,\n",
       "       -9.68526136e-01, -9.62236661e-01, -9.55947186e-01, -9.49657711e-01,\n",
       "       -9.43368237e-01, -9.37078762e-01, -9.30789287e-01, -9.24499812e-01,\n",
       "       -9.18210338e-01, -9.11920863e-01, -9.05631388e-01, -8.99341913e-01,\n",
       "       -8.93052438e-01, -8.86762964e-01, -8.80473489e-01, -8.74184014e-01,\n",
       "       -8.67894539e-01, -8.61605064e-01, -8.55315590e-01, -8.49026115e-01,\n",
       "       -8.42736640e-01, -8.36447165e-01, -8.30157691e-01, -8.23868216e-01,\n",
       "       -8.17578741e-01, -8.11289266e-01, -8.04999791e-01, -7.98710317e-01,\n",
       "       -7.92420842e-01, -7.86131367e-01, -7.79841892e-01, -7.73552418e-01,\n",
       "       -7.67262943e-01, -7.60973468e-01, -7.54683993e-01, -7.48394518e-01,\n",
       "       -7.42105044e-01, -7.35815569e-01, -7.29526094e-01, -7.23236619e-01,\n",
       "       -7.16947144e-01, -7.10657670e-01, -7.04368195e-01, -6.98078720e-01,\n",
       "       -6.91789245e-01, -6.85499771e-01, -6.79210296e-01, -6.72920821e-01,\n",
       "       -6.66631346e-01, -6.60341871e-01, -6.54052397e-01, -6.47762922e-01,\n",
       "       -6.41473447e-01, -6.35183972e-01, -6.28894498e-01, -6.22605023e-01,\n",
       "       -6.16315548e-01, -6.10026073e-01, -6.03736598e-01, -5.97447124e-01,\n",
       "       -5.91157649e-01, -5.84868174e-01, -5.78578699e-01, -5.72289224e-01,\n",
       "       -5.65999750e-01, -5.59710275e-01, -5.53420800e-01, -5.47131325e-01,\n",
       "       -5.40841851e-01, -5.34552376e-01, -5.28262901e-01, -5.21973426e-01,\n",
       "       -5.15683951e-01, -5.09394477e-01, -5.03105002e-01, -4.96815527e-01,\n",
       "       -4.90526052e-01, -4.84236578e-01, -4.77947103e-01, -4.71657628e-01,\n",
       "       -4.65368153e-01, -4.59078678e-01, -4.52789204e-01, -4.46499729e-01,\n",
       "       -4.40210254e-01, -4.33920779e-01, -4.27631305e-01, -4.21341830e-01,\n",
       "       -4.15052355e-01, -4.08762880e-01, -4.02473405e-01, -3.96183931e-01,\n",
       "       -3.89894456e-01, -3.83604981e-01, -3.77315506e-01, -3.71026031e-01,\n",
       "       -3.64736557e-01, -3.58447082e-01, -3.52157607e-01, -3.45868132e-01,\n",
       "       -3.39578658e-01, -3.33289183e-01, -3.26999708e-01, -3.20710233e-01,\n",
       "       -3.14420758e-01, -3.08131284e-01, -3.01841809e-01, -2.95552334e-01,\n",
       "       -2.89262859e-01, -2.82973385e-01, -2.76683910e-01, -2.70394435e-01,\n",
       "       -2.64104960e-01, -2.57815485e-01, -2.51526011e-01, -2.45236536e-01,\n",
       "       -2.38947061e-01, -2.32657586e-01, -2.26368111e-01, -2.20078637e-01,\n",
       "       -2.13789162e-01, -2.07499687e-01, -2.01210212e-01, -1.94920738e-01,\n",
       "       -1.88631263e-01, -1.82341788e-01, -1.76052313e-01, -1.69762838e-01,\n",
       "       -1.63473364e-01, -1.57183889e-01, -1.50894414e-01, -1.44604939e-01,\n",
       "       -1.38315465e-01, -1.32025990e-01, -1.25736515e-01, -1.19447040e-01,\n",
       "       -1.13157565e-01, -1.06868091e-01, -1.00578616e-01, -9.42891411e-02,\n",
       "       -8.79996663e-02, -8.17101915e-02, -7.54207167e-02, -6.91312419e-02,\n",
       "       -6.28417672e-02, -5.65522924e-02, -5.02628176e-02, -4.39733428e-02,\n",
       "       -3.76838680e-02, -3.13943932e-02, -2.51049185e-02, -1.88154437e-02,\n",
       "       -1.25259689e-02, -6.23649412e-03,  5.29806638e-05,  6.34245545e-03,\n",
       "        1.26319302e-02,  1.89214050e-02,  2.52108798e-02,  3.15003546e-02,\n",
       "        3.77898294e-02,  4.40793041e-02,  5.03687789e-02,  5.66582537e-02,\n",
       "        6.29477285e-02,  6.92372033e-02,  7.55266780e-02,  8.18161528e-02,\n",
       "        8.81056276e-02,  9.43951024e-02,  1.00684577e-01,  1.06974052e-01,\n",
       "        1.13263527e-01,  1.19553002e-01,  1.25842476e-01,  1.32131951e-01,\n",
       "        1.38421426e-01,  1.44710901e-01,  1.51000375e-01,  1.57289850e-01,\n",
       "        1.63579325e-01,  1.69868800e-01,  1.76158275e-01,  1.82447749e-01,\n",
       "        1.88737224e-01,  1.95026699e-01,  2.01316174e-01,  2.07605648e-01,\n",
       "        2.13895123e-01,  2.20184598e-01,  2.26474073e-01,  2.32763548e-01,\n",
       "        2.39053022e-01,  2.45342497e-01,  2.51631972e-01,  2.57921447e-01,\n",
       "        2.64210922e-01,  2.70500396e-01,  2.76789871e-01,  2.83079346e-01,\n",
       "        2.89368821e-01,  2.95658295e-01,  3.01947770e-01,  3.08237245e-01,\n",
       "        3.14526720e-01,  3.20816195e-01,  3.27105669e-01,  3.33395144e-01,\n",
       "        3.39684619e-01,  3.45974094e-01,  3.52263568e-01,  3.58553043e-01,\n",
       "        3.64842518e-01,  3.71131993e-01,  3.77421468e-01,  3.83710942e-01,\n",
       "        3.90000417e-01,  3.96289892e-01,  4.02579367e-01,  4.08868841e-01,\n",
       "        4.15158316e-01,  4.21447791e-01,  4.27737266e-01,  4.34026741e-01,\n",
       "        4.40316215e-01,  4.46605690e-01,  4.52895165e-01,  4.59184640e-01,\n",
       "        4.65474115e-01,  4.71763589e-01,  4.78053064e-01,  4.84342539e-01,\n",
       "        4.90632014e-01,  4.96921488e-01,  5.03210963e-01,  5.09500438e-01,\n",
       "        5.15789913e-01,  5.22079388e-01,  5.28368862e-01,  5.34658337e-01,\n",
       "        5.40947812e-01,  5.47237287e-01,  5.53526761e-01,  5.59816236e-01,\n",
       "        5.66105711e-01,  5.72395186e-01,  5.78684661e-01,  5.84974135e-01,\n",
       "        5.91263610e-01,  5.97553085e-01,  6.03842560e-01,  6.10132035e-01,\n",
       "        6.16421509e-01,  6.22710984e-01,  6.29000459e-01,  6.35289934e-01,\n",
       "        6.41579408e-01,  6.47868883e-01,  6.54158358e-01,  6.60447833e-01,\n",
       "        6.66737308e-01,  6.73026782e-01,  6.79316257e-01,  6.85605732e-01,\n",
       "        6.91895207e-01,  6.98184681e-01,  7.04474156e-01,  7.10763631e-01,\n",
       "        7.17053106e-01,  7.23342581e-01,  7.29632055e-01,  7.35921530e-01,\n",
       "        7.42211005e-01,  7.48500480e-01,  7.54789954e-01,  7.61079429e-01,\n",
       "        7.67368904e-01,  7.73658379e-01,  7.79947854e-01,  7.86237328e-01,\n",
       "        7.92526803e-01,  7.98816278e-01,  8.05105753e-01,  8.11395228e-01,\n",
       "        8.17684702e-01,  8.23974177e-01,  8.30263652e-01,  8.36553127e-01,\n",
       "        8.42842601e-01,  8.49132076e-01,  8.55421551e-01,  8.61711026e-01,\n",
       "        8.68000501e-01,  8.74289975e-01,  8.80579450e-01,  8.86868925e-01,\n",
       "        8.93158400e-01,  8.99447874e-01,  9.05737349e-01,  9.12026824e-01,\n",
       "        9.18316299e-01,  9.24605774e-01,  9.30895248e-01,  9.37184723e-01,\n",
       "        9.43474198e-01,  9.49763673e-01,  9.56053148e-01,  9.62342622e-01,\n",
       "        9.68632097e-01,  9.74921572e-01,  9.81211047e-01,  9.87500521e-01,\n",
       "        9.93789996e-01,  1.00007947e+00,  1.00636895e+00,  1.01265842e+00,\n",
       "        1.01894790e+00,  1.02523737e+00,  1.03152684e+00,  1.03781632e+00,\n",
       "        1.04410579e+00,  1.05039527e+00,  1.05668474e+00,  1.06297422e+00,\n",
       "        1.06926369e+00,  1.07555317e+00,  1.08184264e+00,  1.08813212e+00,\n",
       "        1.09442159e+00,  1.10071107e+00,  1.10700054e+00,  1.11329002e+00,\n",
       "        1.11957949e+00,  1.12586897e+00,  1.13215844e+00,  1.13844792e+00,\n",
       "        1.14473739e+00,  1.15102687e+00,  1.15731634e+00,  1.16360582e+00,\n",
       "        1.16989529e+00,  1.17618476e+00,  1.18247424e+00,  1.18876371e+00,\n",
       "        1.19505319e+00,  1.20134266e+00,  1.20763214e+00,  1.21392161e+00,\n",
       "        1.22021109e+00,  1.22650056e+00,  1.23279004e+00,  1.23907951e+00,\n",
       "        1.24536899e+00,  1.25165846e+00,  1.25794794e+00,  1.26423741e+00,\n",
       "        1.27052689e+00,  1.27681636e+00,  1.28310584e+00,  1.28939531e+00,\n",
       "        1.29568479e+00,  1.30197426e+00,  1.30826374e+00,  1.31455321e+00,\n",
       "        1.32084268e+00,  1.32713216e+00,  1.33342163e+00,  1.33971111e+00,\n",
       "        1.34600058e+00,  1.35229006e+00,  1.35857953e+00,  1.36486901e+00,\n",
       "        1.37115848e+00,  1.37744796e+00,  1.38373743e+00,  1.39002691e+00,\n",
       "        1.39631638e+00,  1.40260586e+00,  1.40889533e+00,  1.41518481e+00,\n",
       "        1.42147428e+00,  1.42776376e+00,  1.43405323e+00,  1.44034271e+00,\n",
       "        1.44663218e+00,  1.45292166e+00,  1.45921113e+00,  1.46550060e+00,\n",
       "        1.47179008e+00,  1.47807955e+00,  1.48436903e+00,  1.49065850e+00,\n",
       "        1.49694798e+00,  1.50323745e+00,  1.50952693e+00,  1.51581640e+00,\n",
       "        1.52210588e+00,  1.52839535e+00,  1.53468483e+00,  1.54097430e+00,\n",
       "        1.54726378e+00,  1.55355325e+00,  1.55984273e+00,  1.56613220e+00,\n",
       "        1.57242168e+00,  1.57871115e+00,  1.58500063e+00,  1.59129010e+00,\n",
       "        1.59757958e+00,  1.60386905e+00,  1.61015852e+00,  1.61644800e+00,\n",
       "        1.62273747e+00,  1.62902695e+00,  1.63531642e+00,  1.64160590e+00,\n",
       "        1.64789537e+00,  1.65418485e+00,  1.66047432e+00,  1.66676380e+00,\n",
       "        1.67305327e+00,  1.67934275e+00,  1.68563222e+00,  1.69192170e+00,\n",
       "        1.69821117e+00,  1.70450065e+00,  1.71079012e+00,  1.71707960e+00,\n",
       "        1.72336907e+00,  1.72965855e+00,  1.73594802e+00,  1.74223750e+00,\n",
       "        1.74852697e+00,  1.75481644e+00,  1.76110592e+00,  1.76739539e+00,\n",
       "        1.77368487e+00,  1.77997434e+00,  1.78626382e+00,  1.79255329e+00,\n",
       "        1.79884277e+00,  1.80513224e+00,  1.81142172e+00,  1.81771119e+00,\n",
       "        1.82400067e+00,  1.83029014e+00,  1.83657962e+00,  1.84286909e+00,\n",
       "        1.84915857e+00,  1.85544804e+00,  1.86173752e+00,  1.86802699e+00,\n",
       "        1.87431647e+00,  1.88060594e+00,  1.88689542e+00,  1.89318489e+00,\n",
       "        1.89947436e+00,  1.90576384e+00,  1.91205331e+00,  1.91834279e+00,\n",
       "        1.92463226e+00,  1.93092174e+00,  1.93721121e+00,  1.94350069e+00,\n",
       "        1.94979016e+00,  1.95607964e+00,  1.96236911e+00,  1.96865859e+00,\n",
       "        1.97494806e+00,  1.98123754e+00,  1.98752701e+00,  1.99381649e+00,\n",
       "        2.00010596e+00,  2.00639544e+00,  2.01268491e+00,  2.01897439e+00,\n",
       "        2.02526386e+00,  2.03155334e+00,  2.03784281e+00,  2.04413228e+00,\n",
       "        2.05042176e+00,  2.05671123e+00,  2.06300071e+00,  2.06929018e+00,\n",
       "        2.07557966e+00,  2.08186913e+00,  2.08815861e+00,  2.09444808e+00,\n",
       "        2.10073756e+00,  2.10702703e+00,  2.11331651e+00,  2.11960598e+00,\n",
       "        2.12589546e+00,  2.13218493e+00,  2.13847441e+00,  2.14476388e+00,\n",
       "        2.15105336e+00,  2.15734283e+00,  2.16363231e+00,  2.16992178e+00,\n",
       "        2.17621126e+00,  2.18250073e+00,  2.18879020e+00,  2.19507968e+00,\n",
       "        2.20136915e+00,  2.20765863e+00,  2.21394810e+00,  2.22023758e+00,\n",
       "        2.22652705e+00,  2.23281653e+00,  2.23910600e+00,  2.24539548e+00,\n",
       "        2.25168495e+00,  2.25797443e+00,  2.26426390e+00,  2.27055338e+00,\n",
       "        2.27684285e+00,  2.28313233e+00,  2.28942180e+00,  2.29571128e+00,\n",
       "        2.30200075e+00,  2.30829023e+00,  2.31457970e+00,  2.32086918e+00,\n",
       "        2.32715865e+00,  2.33344812e+00,  2.33973760e+00,  2.34602707e+00,\n",
       "        2.35231655e+00,  2.35860602e+00,  2.36489550e+00,  2.37118497e+00,\n",
       "        2.37747445e+00,  2.38376392e+00,  2.39005340e+00,  2.39634287e+00,\n",
       "        2.40263235e+00,  2.40892182e+00,  2.41521130e+00,  2.42150077e+00,\n",
       "        2.42779025e+00,  2.43407972e+00,  2.44036920e+00,  2.44665867e+00,\n",
       "        2.45294815e+00,  2.45923762e+00,  2.46552710e+00,  2.47181657e+00,\n",
       "        2.47810604e+00,  2.48439552e+00,  2.49068499e+00,  2.49697447e+00,\n",
       "        2.50326394e+00,  2.50955342e+00,  2.51584289e+00,  2.52213237e+00,\n",
       "        2.52842184e+00,  2.53471132e+00,  2.54100079e+00,  2.54729027e+00,\n",
       "        2.55357974e+00,  2.55986922e+00,  2.56615869e+00,  2.57244817e+00,\n",
       "        2.57873764e+00,  2.58502712e+00,  2.59131659e+00,  2.59760607e+00,\n",
       "        2.60389554e+00,  2.61018502e+00,  2.61647449e+00,  2.62276396e+00,\n",
       "        2.62905344e+00,  2.63534291e+00,  2.64163239e+00,  2.64792186e+00,\n",
       "        2.65421134e+00,  2.66050081e+00,  2.66679029e+00,  2.67307976e+00,\n",
       "        2.67936924e+00,  2.68565871e+00,  2.69194819e+00,  2.69823766e+00,\n",
       "        2.70452714e+00,  2.71081661e+00,  2.71710609e+00,  2.72339556e+00,\n",
       "        2.72968504e+00,  2.73597451e+00,  2.74226399e+00,  2.74855346e+00,\n",
       "        2.75484294e+00,  2.76113241e+00,  2.76742188e+00,  2.77371136e+00,\n",
       "        2.78000083e+00,  2.78629031e+00,  2.79257978e+00,  2.79886926e+00,\n",
       "        2.80515873e+00,  2.81144821e+00,  2.81773768e+00,  2.82402716e+00,\n",
       "        2.83031663e+00,  2.83660611e+00,  2.84289558e+00,  2.84918506e+00,\n",
       "        2.85547453e+00,  2.86176401e+00,  2.86805348e+00,  2.87434296e+00,\n",
       "        2.88063243e+00,  2.88692191e+00,  2.89321138e+00,  2.89950086e+00,\n",
       "        2.90579033e+00,  2.91207980e+00,  2.91836928e+00,  2.92465875e+00,\n",
       "        2.93094823e+00,  2.93723770e+00,  2.94352718e+00,  2.94981665e+00,\n",
       "        2.95610613e+00,  2.96239560e+00,  2.96868508e+00,  2.97497455e+00,\n",
       "        2.98126403e+00,  2.98755350e+00,  2.99384298e+00,  3.00013245e+00,\n",
       "        3.00642193e+00,  3.01271140e+00,  3.01900088e+00,  3.02529035e+00,\n",
       "        3.03157983e+00,  3.03786930e+00,  3.04415878e+00,  3.05044825e+00,\n",
       "        3.05673772e+00,  3.06302720e+00,  3.06931667e+00,  3.07560615e+00,\n",
       "        3.08189562e+00,  3.08818510e+00,  3.09447457e+00,  3.10076405e+00,\n",
       "        3.10705352e+00,  3.11334300e+00,  3.11963247e+00,  3.12592195e+00,\n",
       "        3.13221142e+00,  3.13850090e+00,  3.14479037e+00,  3.15107985e+00,\n",
       "        3.15736932e+00,  3.16365880e+00,  3.16994827e+00,  3.17623775e+00,\n",
       "        3.18252722e+00,  3.18881670e+00,  3.19510617e+00,  3.20139564e+00,\n",
       "        3.20768512e+00,  3.21397459e+00,  3.22026407e+00,  3.22655354e+00,\n",
       "        3.23284302e+00,  3.23913249e+00,  3.24542197e+00,  3.25171144e+00,\n",
       "        3.25800092e+00,  3.26429039e+00,  3.27057987e+00,  3.27686934e+00,\n",
       "        3.28315882e+00,  3.28944829e+00,  3.29573777e+00,  3.30202724e+00,\n",
       "        3.30831672e+00,  3.31460619e+00,  3.32089567e+00,  3.32718514e+00,\n",
       "        3.33347462e+00,  3.33976409e+00,  3.34605356e+00,  3.35234304e+00,\n",
       "        3.35863251e+00,  3.36492199e+00,  3.37121146e+00,  3.37750094e+00,\n",
       "        3.38379041e+00,  3.39007989e+00,  3.39636936e+00,  3.40265884e+00,\n",
       "        3.40894831e+00,  3.41523779e+00,  3.42152726e+00,  3.42781674e+00,\n",
       "        3.43410621e+00,  3.44039569e+00,  3.44668516e+00,  3.45297464e+00,\n",
       "        3.45926411e+00,  3.46555359e+00,  3.47184306e+00,  3.47813254e+00,\n",
       "        3.48442201e+00,  3.49071148e+00,  3.49700096e+00,  3.50329043e+00,\n",
       "        3.50957991e+00,  3.51586938e+00,  3.52215886e+00,  3.52844833e+00,\n",
       "        3.53473781e+00,  3.54102728e+00,  3.54731676e+00,  3.55360623e+00,\n",
       "        3.55989571e+00,  3.56618518e+00,  3.57247466e+00,  3.57876413e+00,\n",
       "        3.58505361e+00,  3.59134308e+00,  3.59763256e+00,  3.60392203e+00,\n",
       "        3.61021151e+00,  3.61650098e+00,  3.62279046e+00,  3.62907993e+00,\n",
       "        3.63536940e+00,  3.64165888e+00,  3.64794835e+00,  3.65423783e+00,\n",
       "        3.66052730e+00,  3.66681678e+00,  3.67310625e+00,  3.67939573e+00,\n",
       "        3.68568520e+00,  3.69197468e+00,  3.69826415e+00,  3.70455363e+00,\n",
       "        3.71084310e+00,  3.71713258e+00,  3.72342205e+00,  3.72971153e+00,\n",
       "        3.73600100e+00,  3.74229048e+00,  3.74857995e+00,  3.75486943e+00,\n",
       "        3.76115890e+00,  3.76744838e+00,  3.77373785e+00,  3.78002732e+00,\n",
       "        3.78631680e+00,  3.79260627e+00,  3.79889575e+00,  3.80518522e+00,\n",
       "        3.81147470e+00,  3.81776417e+00,  3.82405365e+00,  3.83034312e+00,\n",
       "        3.83663260e+00,  3.84292207e+00,  3.84921155e+00,  3.85550102e+00,\n",
       "        3.86179050e+00,  3.86807997e+00,  3.87436945e+00,  3.88065892e+00,\n",
       "        3.88694840e+00,  3.89323787e+00,  3.89952735e+00,  3.90581682e+00,\n",
       "        3.91210630e+00,  3.91839577e+00,  3.92468524e+00,  3.93097472e+00,\n",
       "        3.93726419e+00,  3.94355367e+00,  3.94984314e+00,  3.95613262e+00,\n",
       "        3.96242209e+00,  3.96871157e+00,  3.97500104e+00,  3.98129052e+00,\n",
       "        3.98757999e+00,  3.99386947e+00,  4.00015894e+00,  4.00644842e+00,\n",
       "        4.01273789e+00,  4.01902737e+00,  4.02531684e+00,  4.03160632e+00,\n",
       "        4.03789579e+00,  4.04418527e+00,  4.05047474e+00,  4.05676422e+00,\n",
       "        4.06305369e+00,  4.06934316e+00,  4.07563264e+00,  4.08192211e+00,\n",
       "        4.08821159e+00,  4.09450106e+00,  4.10079054e+00,  4.10708001e+00,\n",
       "        4.11336949e+00,  4.11965896e+00,  4.12594844e+00,  4.13223791e+00,\n",
       "        4.13852739e+00,  4.14481686e+00,  4.15110634e+00,  4.15739581e+00,\n",
       "        4.16368529e+00,  4.16997476e+00,  4.17626424e+00,  4.18255371e+00,\n",
       "        4.18884319e+00,  4.19513266e+00,  4.20142214e+00,  4.20771161e+00,\n",
       "        4.21400108e+00,  4.22029056e+00,  4.22658003e+00,  4.23286951e+00,\n",
       "        4.23915898e+00,  4.24544846e+00,  4.25173793e+00,  4.25802741e+00,\n",
       "        4.26431688e+00,  4.27060636e+00,  4.27689583e+00,  4.28318531e+00])"
      ]
     },
     "execution_count": 142,
     "metadata": {},
     "output_type": "execute_result"
    }
   ],
   "source": [
    "import math\n",
    "import numpy as np\n",
    "\n",
    "def polar_orbite(p, e, theta, theta_orb):\n",
    "    return p / (e * np.cos(theta-theta_orb) - 1)\n",
    "\n",
    "theta_min = 0\n",
    "theta_max = 2 * np.pi\n",
    "theta = np.linspace(theta_min, theta_max, 1000)\n",
    "\n",
    "theta_orb = 2\n",
    "\n",
    "r = polar_orbite(10, .5, theta, theta_orb)\n",
    "\n",
    "# theta-theta_orb"
   ]
  },
  {
   "cell_type": "code",
   "execution_count": null,
   "id": "4d0a9989-a4ad-4905-be2b-0f372142785e",
   "metadata": {},
   "outputs": [],
   "source": []
  }
 ],
 "metadata": {
  "kernelspec": {
   "display_name": "Python 3 (ipykernel)",
   "language": "python",
   "name": "python3"
  },
  "language_info": {
   "codemirror_mode": {
    "name": "ipython",
    "version": 3
   },
   "file_extension": ".py",
   "mimetype": "text/x-python",
   "name": "python",
   "nbconvert_exporter": "python",
   "pygments_lexer": "ipython3",
   "version": "3.11.5"
  }
 },
 "nbformat": 4,
 "nbformat_minor": 5
}
