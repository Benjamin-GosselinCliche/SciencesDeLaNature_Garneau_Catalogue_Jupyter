{
 "cells": [
  {
   "cell_type": "markdown",
   "id": "18d565d5-84d5-4401-ab6f-188f32eef301",
   "metadata": {},
   "source": [
    "# Démonstration Sympy<br>\n",
    "---\n",
    "<div style=\"text-align: center;\">\n",
    "    <img src=\"../img/_f260286f-3f4a-48cb-9dee-93d38a5b43d2.jpeg\" alt=\"Drawing\" style=\"width: 400px;\"/>\n",
    "</div>"
   ]
  },
  {
   "cell_type": "markdown",
   "id": "ded3b167-6515-4a0f-8640-8ac7ac78ed32",
   "metadata": {},
   "source": [
    "SymPy est une bibliothèque Python pour les mathématiques symboliques. Contrairement aux calculs numériques, où les valeurs sont représentées par des nombres, les mathématiques symboliques manipulent des expressions mathématiques de manière exacte, en conservant les symboles tels quels.\n",
    "\n",
    "Comme à l'habitude, nous importons d'abors la librairie:\n",
    "\n",
    "```python\n",
    "import sympy as sp \n",
    "```\n",
    "\n",
    "Les variables doivent être instanciées de la manière suivante:\n",
    "\n",
    "```python\n",
    "x, y, a, b = sp.symbols('x y a b')\n",
    "```\n",
    "\n",
    "Ici, les variables x, y, a et b seront donc traités symboliquement.\n",
    "\n",
    "\n"
   ]
  },
  {
   "cell_type": "code",
   "execution_count": 12,
   "id": "6efb691c-9f16-4ac7-b97e-76b979b88bfc",
   "metadata": {},
   "outputs": [
    {
     "data": {
      "text/latex": [
       "$\\displaystyle x$"
      ],
      "text/plain": [
       "x"
      ]
     },
     "metadata": {},
     "output_type": "display_data"
    },
    {
     "data": {
      "text/latex": [
       "$\\displaystyle f_{1}{\\left(x \\right)}$"
      ],
      "text/plain": [
       "f1(x)"
      ]
     },
     "metadata": {},
     "output_type": "display_data"
    },
    {
     "data": {
      "text/latex": [
       "$\\displaystyle f_{2}{\\left(x,y \\right)}$"
      ],
      "text/plain": [
       "f2(x, y)"
      ]
     },
     "execution_count": 12,
     "metadata": {},
     "output_type": "execute_result"
    }
   ],
   "source": [
    "import sympy as sp\n",
    "\n",
    "# Définition des variables\n",
    "x, y, a, b = sp.symbols('x y a b')\n",
    "\n",
    "# Définition d'une fonction à une variable: f1(x) \n",
    "fonction_f1 = sp.Function('f1')(x)\n",
    "\n",
    "# Définition d'une fonction à deux variable: f2(x, y) \n",
    "fonction_f2 = sp.Function('f2')(x, y)\n",
    "\n",
    "# L'équivalent d'un print pour un affichage symbolique dans Jupyter est la fonction display de IPython.display\n",
    "from IPython.display import display\n",
    "display(x)\n",
    "display(fonction_f1)\n",
    "\n",
    "#Le dernier élément d'une cellule n'a pas besoin d'un display\n",
    "fonction_f2"
   ]
  },
  {
   "cell_type": "code",
   "execution_count": 25,
   "id": "51e10568-88c7-4e4f-971e-07fa9fff87aa",
   "metadata": {},
   "outputs": [
    {
     "data": {
      "text/plain": [
       "{-3/2: 4}"
      ]
     },
     "execution_count": 25,
     "metadata": {},
     "output_type": "execute_result"
    }
   ],
   "source": [
    "#\n",
    "polynomial_degre_4 = 16*x**4 + 96*x**3 + 216*x**2 + 216*x + 81\n",
    "polynomial_degre_4\n",
    "racines = sp.roots(polynomial_degre_4)\n",
    "racines"
   ]
  },
  {
   "cell_type": "code",
   "execution_count": 20,
   "id": "8e8f677a-8b2b-4572-9531-8baa8dc25347",
   "metadata": {},
   "outputs": [
    {
     "data": {
      "text/latex": [
       "$\\displaystyle \\left(2 x + 3\\right)^{4}$"
      ],
      "text/plain": [
       "(2*x + 3)**4"
      ]
     },
     "execution_count": 20,
     "metadata": {},
     "output_type": "execute_result"
    }
   ],
   "source": [
    "polynomial_degre_4.factor()"
   ]
  },
  {
   "cell_type": "code",
   "execution_count": 24,
   "id": "7f32a8c8-30ce-41e3-958d-10ecfafca15b",
   "metadata": {},
   "outputs": [
    {
     "data": {
      "text/plain": [
       "{-12/5 + 3*sqrt(6)/5 - 3*sqrt(12/25 - 11*sqrt(6)/50): 1,\n",
       " -3*sqrt(12/25 + 11*sqrt(6)/50) - 12/5 - 3*sqrt(6)/5: 1,\n",
       " -12/5 - 3*sqrt(6)/5 + 3*sqrt(12/25 + 11*sqrt(6)/50): 1,\n",
       " -12/5 + 3*sqrt(6)/5 + 3*sqrt(12/25 - 11*sqrt(6)/50): 1}"
      ]
     },
     "execution_count": 24,
     "metadata": {},
     "output_type": "execute_result"
    }
   ],
   "source": [
    "#\n",
    "polynomial_degre_4 = 10*x**4 + 96*x**3 + 216*x**2 + 216*x + 81\n",
    "# Calcul des racines du polynôme\n",
    "racines = sp.roots(polynomial_degre_4)\n",
    "racines"
   ]
  },
  {
   "cell_type": "code",
   "execution_count": 2,
   "id": "784c9a02-cef5-4038-af2d-203880b625dd",
   "metadata": {},
   "outputs": [
    {
     "ename": "NameError",
     "evalue": "name 'Math' is not defined",
     "output_type": "error",
     "traceback": [
      "\u001b[0;31m---------------------------------------------------------------------------\u001b[0m",
      "\u001b[0;31mNameError\u001b[0m                                 Traceback (most recent call last)",
      "Cell \u001b[0;32mIn[2], line 6\u001b[0m\n\u001b[1;32m      2\u001b[0m \u001b[38;5;28;01mimport\u001b[39;00m \u001b[38;5;21;01msympy\u001b[39;00m \u001b[38;5;28;01mas\u001b[39;00m \u001b[38;5;21;01msp\u001b[39;00m\n\u001b[1;32m      4\u001b[0m ggg \u001b[38;5;241m=\u001b[39m \u001b[38;5;124mr\u001b[39m\u001b[38;5;124m'\u001b[39m\u001b[38;5;124mf(a)=\u001b[39m\u001b[38;5;124m\\\u001b[39m\u001b[38;5;124mint_\u001b[39m\u001b[38;5;124m\\\u001b[39m\u001b[38;5;124minfty^0 \u001b[39m\u001b[38;5;124m\\\u001b[39m\u001b[38;5;124mfrac\u001b[39m\u001b[38;5;132;01m{1}\u001b[39;00m\u001b[38;5;124m{\u001b[39m\u001b[38;5;124ma+2} \u001b[39m\u001b[38;5;124m\\\u001b[39m\u001b[38;5;124mmathrm\u001b[39m\u001b[38;5;132;01m{d}\u001b[39;00m\u001b[38;5;124ma\u001b[39m\u001b[38;5;124m'\u001b[39m\n\u001b[0;32m----> 6\u001b[0m display(\u001b[43mMath\u001b[49m(ggg))\n",
      "\u001b[0;31mNameError\u001b[0m: name 'Math' is not defined"
     ]
    }
   ],
   "source": [
    "## Les fonctions\n",
    "\n",
    "\n",
    "ggg = r'f(a)=\\int_\\infty^0 \\frac{1}{a+2} \\mathrm{d}a'\n",
    "\n",
    "display(Math(ggg))"
   ]
  },
  {
   "cell_type": "code",
   "execution_count": 9,
   "id": "ae59c6bd-bd06-4c06-aa01-b8cc019e9a34",
   "metadata": {},
   "outputs": [
    {
     "data": {
      "text/latex": [
       "$\\displaystyle f{\\left(b + x,a \\right)}$"
      ],
      "text/plain": [
       "f(b + x, a)"
      ]
     },
     "execution_count": 9,
     "metadata": {},
     "output_type": "execute_result"
    }
   ],
   "source": [
    "# Création de l'expression f(x + a)\n",
    "fonction_f_with_offset = fonction_f.subs(x, x + b)\n",
    "\n",
    "# Affichage de f(x + a)\n",
    "fonction_f_with_offset"
   ]
  },
  {
   "cell_type": "code",
   "execution_count": 3,
   "id": "6b9e21d4-b267-4ad1-ba2f-c60189e71d53",
   "metadata": {},
   "outputs": [
    {
     "data": {
      "text/latex": [
       "$\\displaystyle \\frac{d}{d x} f_{1}{\\left(x \\right)}$"
      ],
      "text/plain": [
       "Derivative(f1(x), x)"
      ]
     },
     "metadata": {},
     "output_type": "display_data"
    },
    {
     "data": {
      "text/latex": [
       "$\\displaystyle \\int f_{1}{\\left(x \\right)}\\, dx$"
      ],
      "text/plain": [
       "Integral(f1(x), x)"
      ]
     },
     "metadata": {},
     "output_type": "display_data"
    }
   ],
   "source": [
    "# Calcul de la dérivée\n",
    "derivative_f1 = sp.diff(fonction_f1, x)\n",
    "\n",
    "# Calcul de l'intégrale\n",
    "integral_f1 = sp.integrate(fonction_f1, x)\n",
    "\n",
    "display(derivative_f1)\n",
    "display(integral_f1)"
   ]
  },
  {
   "cell_type": "code",
   "execution_count": 13,
   "id": "40d45a66-4c82-42fd-80aa-d6372ce9d86b",
   "metadata": {},
   "outputs": [
    {
     "data": {
      "text/latex": [
       "$\\displaystyle \\text{True}$"
      ],
      "text/plain": [
       "True"
      ]
     },
     "execution_count": 13,
     "metadata": {},
     "output_type": "execute_result"
    }
   ],
   "source": [
    "import sympy as sp\n",
    "\n",
    "# Définition des symboles\n",
    "x, a, b = sp.symbols('x a b')\n",
    "\n",
    "# Définition de la fonction F(x)\n",
    "F = sp.Function('F')(x)\n",
    "\n",
    "# Définition de l'intégrale définie\n",
    "integral_eq = sp.Eq(sp.integrate(F.diff(x), (x, a, b)), F.subs(x, b) - F.subs(x, a))\n",
    "\n",
    "# Affichage de l'équation\n",
    "integral_eq\n"
   ]
  },
  {
   "cell_type": "code",
   "execution_count": 10,
   "id": "c9d8cf9c-7ef6-4728-8d38-610d377e2ebd",
   "metadata": {},
   "outputs": [
    {
     "name": "stdout",
     "output_type": "stream",
     "text": [
      "Expression simplifiée: x + 1\n"
     ]
    }
   ],
   "source": [
    "import sympy as sp\n",
    "\n",
    "# Définition des symboles\n",
    "x, y = sp.symbols('x y')\n",
    "\n",
    "# Expression à simplifier\n",
    "expr = (x**2 + 2*x + 1) / (x + 1)\n",
    "\n",
    "# Simplification de l'expression\n",
    "simplified_expr = sp.simplify(expr)\n",
    "\n",
    "print(\"Expression simplifiée:\", simplified_expr)\n"
   ]
  },
  {
   "cell_type": "code",
   "execution_count": 11,
   "id": "6d8bf493-e566-4366-87d3-48faf75b9f96",
   "metadata": {},
   "outputs": [
    {
     "name": "stdout",
     "output_type": "stream",
     "text": [
      "Solutions de l'équation: [-2, 0]\n"
     ]
    }
   ],
   "source": [
    "# Equation symbolique\n",
    "equation = sp.Eq(x**2 + 2*x, 0)\n",
    "\n",
    "# Résolution de l'équation\n",
    "solutions = sp.solve(equation, x)\n",
    "\n",
    "print(\"Solutions de l'équation:\", solutions)\n"
   ]
  },
  {
   "cell_type": "code",
   "execution_count": 12,
   "id": "914c4e7f-a36e-4b93-960f-20f81349d4c3",
   "metadata": {},
   "outputs": [
    {
     "name": "stdout",
     "output_type": "stream",
     "text": [
      "Dérivée de f par rapport à x: Derivative(f(x), x)\n",
      "Intégrale de f par rapport à x: Integral(f(x), x)\n"
     ]
    }
   ],
   "source": [
    "# Définition d'une fonction symbolique\n",
    "f = sp.Function('f')(x)\n",
    "\n",
    "# Calcul de la dérivée\n",
    "derivative = sp.diff(f, x)\n",
    "\n",
    "print(\"Dérivée de f par rapport à x:\", derivative)\n",
    "\n",
    "# Calcul de l'intégrale\n",
    "integral = sp.integrate(f, x)\n",
    "\n",
    "print(\"Intégrale de f par rapport à x:\", integral)\n"
   ]
  },
  {
   "cell_type": "code",
   "execution_count": 16,
   "id": "c54655cd-f03c-4164-bba0-7a70cdb536a2",
   "metadata": {},
   "outputs": [
    {
     "name": "stdout",
     "output_type": "stream",
     "text": [
      "Expression trigonométrique simplifiée: 1\n"
     ]
    }
   ],
   "source": [
    "# Simplification d'une expression trigonométrique\n",
    "expr_trig = sp.sin(x)**2 + sp.cos(x)**2\n",
    "\n",
    "simplified_trig_expr = sp.simplify(expr_trig)\n",
    "\n",
    "print(\"Expression trigonométrique simplifiée:\", simplified_trig_expr)\n"
   ]
  },
  {
   "cell_type": "code",
   "execution_count": 2,
   "id": "87e6709e-f656-4b83-bad4-4bf83573715e",
   "metadata": {},
   "outputs": [
    {
     "name": "stdout",
     "output_type": "stream",
     "text": [
      "Résultat de l'intégration : 0.33333333333333337\n"
     ]
    }
   ],
   "source": [
    "import scipy.integrate as spi\n",
    "\n",
    "# Définir la fonction à intégrer\n",
    "def f(x):\n",
    "    return x**2\n",
    "\n",
    "# Intégrer la fonction de 0 à 1\n",
    "result, error = spi.quad(f, 0, 1)\n",
    "print(\"Résultat de l'intégration :\", result)"
   ]
  },
  {
   "cell_type": "code",
   "execution_count": 6,
   "id": "c94428d0-1fc5-410d-879c-8f31f1f6b982",
   "metadata": {},
   "outputs": [
    {
     "data": {
      "image/png": "[encoded data removed]",
      "text/plain": [
       "<Figure size 640x480 with 1 Axes>"
      ]
     },
     "metadata": {},
     "output_type": "display_data"
    }
   ],
   "source": [
    "import numpy as np\n",
    "from scipy.integrate import solve_ivp\n",
    "import matplotlib.pyplot as plt\n",
    "\n",
    "# Définir l'équation différentielle : dy/dt = -2y\n",
    "def model(t, y):\n",
    "    return -2 * y\n",
    "\n",
    "# Conditions initiales et intervalle de temps\n",
    "t_span = (0, 5)\n",
    "y0 = [1]\n",
    "\n",
    "# Résolution de l'EDO\n",
    "sol = solve_ivp(model, t_span, y0, t_eval=np.linspace(0, 5, 100))\n",
    "\n",
    "# Affichage du résultat\n",
    "plt.plot(sol.t, sol.y[0])\n",
    "plt.xlabel('Temps')\n",
    "plt.ylabel('y(t)')\n",
    "plt.title('Solution de l\\'équation différentielle')\n",
    "plt.grid(True)\n",
    "plt.show()\n"
   ]
  },
  {
   "cell_type": "code",
   "execution_count": 7,
   "id": "5ac2cef8-a861-42e1-8e66-3ff97833f478",
   "metadata": {},
   "outputs": [
    {
     "name": "stdout",
     "output_type": "stream",
     "text": [
      "  message: The solver successfully reached the end of the integration interval.\n",
      "  success: True\n",
      "   status: 0\n",
      "        t: [ 0.000e+00  5.051e-02 ...  4.949e+00  5.000e+00]\n",
      "        y: [[ 1.000e+00  9.039e-01 ...  5.058e-05  4.572e-05]]\n",
      "      sol: None\n",
      " t_events: None\n",
      " y_events: None\n",
      "     nfev: 74\n",
      "     njev: 0\n",
      "      nlu: 0\n"
     ]
    }
   ],
   "source": [
    "print(sol)"
   ]
  },
  {
   "cell_type": "code",
   "execution_count": 8,
   "id": "e194c67c-1eeb-41e1-a9cc-50e5066c3d75",
   "metadata": {},
   "outputs": [
    {
     "data": {
      "image/png": "[encoded data removed]",
      "text/plain": [
       "<Figure size 640x480 with 1 Axes>"
      ]
     },
     "metadata": {},
     "output_type": "display_data"
    }
   ],
   "source": [
    "from scipy.interpolate import interp1d\n",
    "import numpy as np\n",
    "import matplotlib.pyplot as plt\n",
    "\n",
    "# Données initiales\n",
    "x = np.linspace(0, 10, 10)\n",
    "y = np.cos(x)\n",
    "\n",
    "# Interpolation linéaire\n",
    "f_linear = interp1d(x, y)\n",
    "x_new = np.linspace(0, 10, 100)\n",
    "y_new_linear = f_linear(x_new)\n",
    "\n",
    "# Interpolation cubique\n",
    "f_cubic = interp1d(x, y, kind='cubic')\n",
    "y_new_cubic = f_cubic(x_new)\n",
    "\n",
    "# Affichage des résultats\n",
    "plt.plot(x, y, 'o', label='Données initiales')\n",
    "plt.plot(x_new, y_new_linear, '-', label='Interpolation linéaire')\n",
    "plt.plot(x_new, y_new_cubic, '--', label='Interpolation cubique')\n",
    "plt.legend()\n",
    "plt.title('Interpolation de données')\n",
    "plt.xlabel('x')\n",
    "plt.ylabel('y')\n",
    "plt.grid(True)\n",
    "plt.show()\n"
   ]
  },
  {
   "cell_type": "code",
   "execution_count": 17,
   "id": "6486b512-ca10-4faa-aac5-1fd7bdeefed8",
   "metadata": {},
   "outputs": [
    {
     "data": {
      "text/plain": [
       "'x + 1'"
      ]
     },
     "execution_count": 17,
     "metadata": {},
     "output_type": "execute_result"
    }
   ],
   "source": [
    "import sympy as sp\n",
    "\n",
    "# Définition des symboles\n",
    "x, y = sp.symbols('x y')\n",
    "\n",
    "# Expression à simplifier\n",
    "expr = (x**2 + 2*x + 1) / (x + 1)\n",
    "\n",
    "# Simplification de l'expression\n",
    "simplified_expr = sp.simplify(expr)\n",
    "\n",
    "# Affichage en LaTeX\n",
    "sp.latex(simplified_expr)\n"
   ]
  },
  {
   "cell_type": "code",
   "execution_count": 25,
   "id": "471d4f17-16b6-4adf-b696-a5ee83bcc4b4",
   "metadata": {},
   "outputs": [
    {
     "data": {
      "text/latex": [
       "$\\displaystyle \\frac{d}{d x} f{\\left(x \\right)}$"
      ],
      "text/plain": [
       "<IPython.core.display.Math object>"
      ]
     },
     "metadata": {},
     "output_type": "display_data"
    }
   ],
   "source": [
    "# Définition d'une fonction symbolique\n",
    "f = sp.Function('f')(x)\n",
    "\n",
    "# Calcul de la dérivée\n",
    "derivative = sp.diff(f, x)\n",
    "\n",
    "# Affichage en LaTeX\n",
    "mip = sp.latex(derivative)\n",
    "\n",
    "from IPython.display import display, Math\n",
    "display(Math(mip))\n"
   ]
  },
  {
   "cell_type": "code",
   "execution_count": null,
   "id": "ccd8139b-5062-4a41-950b-c440b32b19d2",
   "metadata": {},
   "outputs": [],
   "source": []
  }
 ],
 "metadata": {
  "kernelspec": {
   "display_name": "Python 3 (ipykernel)",
   "language": "python",
   "name": "python3"
  },
  "language_info": {
   "codemirror_mode": {
    "name": "ipython",
    "version": 3
   },
   "file_extension": ".py",
   "mimetype": "text/x-python",
   "name": "python",
   "nbconvert_exporter": "python",
   "pygments_lexer": "ipython3",
   "version": "3.12.0"
  }
 },
 "nbformat": 4,
 "nbformat_minor": 5
}
