{
 "cells": [
  {
   "cell_type": "markdown",
   "id": "a246ee28",
   "metadata": {
    "jp-MarkdownHeadingCollapsed": true,
    "lines_to_next_cell": 2
   },
   "source": [
    "# Démonstration sur les boucles avec Python \n",
    "---\n",
    "<br>\n",
    "<div style=\"text-align: center;\">\n",
    "    <div style=\"display: inline-block; position: relative; width: 350px;\">\n",
    "        <img src=\"../img/banner.jpg\" alt=\"Dessin\" style=\"width: 100%;\"/>\n",
    "        <p style=\"text-align: center; margin-top: 5px;\">\n",
    "            <span style=\"font-style: italic; font-size: 16px;\"> Tant qu'il se doit </span><br/>\n",
    "            <span style=\"font-style: italic; font-size: 12px;\">Image générée par DALL·E 3, 2024 </span>\n",
    "        </p>\n",
    "    </div>\n",
    "</div>"
   ]
  },
  {
   "cell_type": "markdown",
   "id": "749e9a34",
   "metadata": {
    "lines_to_next_cell": 2
   },
   "source": [
    "---\n",
    "# Objectifs:\n",
    "- Utiliser les `Listes` \n",
    "- Utiliser les `Tuples`\n",
    "- Utiliser l'opérateur `continue` pour passer à l'itération suivante d'une boucle.\n",
    "- Utiliser la fonction `range` pour générer une séquence d'entiers. <br>\n",
    "Ce, afin de créer des programmes plus efficaces et modulaires.\n"
   ]
  },
  {
   "cell_type": "markdown",
   "id": "d4fe38bb",
   "metadata": {},
   "source": [
    "---\n",
    "# Boucle `for` (POUR)\n",
    "La boucle `for` est utilisée pour répéter un bloc de code un nombre spécifié de fois.          \n",
    "La syntaxe de base est la suivante: \n",
    "```python\n",
    "for variable in sequence:\n",
    "    # Bloc de code à répéter\n",
    "```\n",
    "On peut traduire la boucle `for` par \"POUR chaque élément de la séquence, exécutez le bloc de code\".  <br>\n",
    "Par exemple, pour effectuer 10 fois une tâche spécifique, on peut utiliser la boucle suivante:\n",
    "```python\n",
    "for i in range(10):\n",
    "    print(i)\n",
    "```\n",
    "Dans cet exemple, `i` est la variable d'itération et `range(10)` est la séquence d'entiers de 0 à 9.  <br>\n",
    "On peut également utiliser la boucle `for` pour répéter un bloc de code pour chaque élément d'une liste ou d'un tuple.  <br>\n",
    "Tant que la séquence est itérable, la boucle `for` peut être utilisée pour répéter un bloc de code sur ses éléments.  <br>  "
   ]
  },
  {
   "cell_type": "code",
   "execution_count": 1,
   "id": "b946fec6",
   "metadata": {
    "lines_to_next_cell": 0
   },
   "outputs": [
    {
     "name": "stdout",
     "output_type": "stream",
     "text": [
      "0\n",
      "1\n",
      "2\n",
      "3\n",
      "4\n",
      "5\n",
      "6\n",
      "7\n",
      "8\n",
      "9\n"
     ]
    }
   ],
   "source": [
    "# Afficher les entiers de 0 à 9\n",
    "for i in range(10):\n",
    "    print(i)  "
   ]
  },
  {
   "cell_type": "code",
   "execution_count": 2,
   "id": "0983fdc6",
   "metadata": {},
   "outputs": [
    {
     "name": "stdout",
     "output_type": "stream",
     "text": [
      "B\n",
      "o\n",
      "n\n",
      "j\n",
      "o\n",
      "u\n",
      "r\n"
     ]
    }
   ],
   "source": [
    "# Parcourir une chaîne de caractères et les afficher un par un\n",
    "string = \"Bonjour\"\n",
    "for char in string:\n",
    "    print(char)"
   ]
  },
  {
   "cell_type": "code",
   "execution_count": 3,
   "id": "735fb9e2",
   "metadata": {},
   "outputs": [
    {
     "name": "stdout",
     "output_type": "stream",
     "text": [
      "nom: Jean\n",
      "âge: 30\n",
      "ville: Paris\n"
     ]
    }
   ],
   "source": [
    "# Parcourir un dictionnaire et afficher les clés et les valeurs\n",
    "person = {'nom': 'Jean', 'âge': 30, 'ville': 'Paris'}\n",
    "for key, value in person.items():\n",
    "    print(key + ':', value)"
   ]
  },
  {
   "cell_type": "code",
   "execution_count": 4,
   "id": "3aa9612a",
   "metadata": {},
   "outputs": [
    {
     "name": "stdout",
     "output_type": "stream",
     "text": [
      "Index: 0 Fruit: pomme\n",
      "Index: 1 Fruit: banane\n",
      "Index: 2 Fruit: orange\n"
     ]
    }
   ],
   "source": [
    "# Parcourir une liste avec l'index des éléments (fonction enumerate)\n",
    "fruits = ['pomme', 'banane', 'orange']\n",
    "for index, fruit in enumerate(fruits):\n",
    "    print(\"Index:\", index, \"Fruit:\", fruit)"
   ]
  },
  {
   "cell_type": "code",
   "execution_count": 5,
   "id": "5c8f827b",
   "metadata": {},
   "outputs": [
    {
     "name": "stdout",
     "output_type": "stream",
     "text": [
      "0\n",
      "2\n",
      "4\n",
      "6\n",
      "8\n"
     ]
    }
   ],
   "source": [
    "# Parcourir une liste avec un pas spécifique\n",
    "for i in range(0, 10, 2):\n",
    "    print(i)"
   ]
  },
  {
   "cell_type": "code",
   "execution_count": 6,
   "id": "0b9a1f53",
   "metadata": {},
   "outputs": [
    {
     "name": "stdout",
     "output_type": "stream",
     "text": [
      "i = 0 ; j = 0\n",
      "i = 0 ; j = 1\n",
      "i = 0 ; j = 2\n",
      "i = 0 ; j = 3\n",
      "i = 0 ; j = 4\n",
      "i = 1 ; j = 0\n",
      "i = 1 ; j = 1\n",
      "i = 1 ; j = 2\n",
      "i = 1 ; j = 3\n",
      "i = 1 ; j = 4\n",
      "i = 2 ; j = 0\n",
      "i = 2 ; j = 1\n",
      "i = 2 ; j = 2\n",
      "i = 2 ; j = 3\n",
      "i = 2 ; j = 4\n"
     ]
    }
   ],
   "source": [
    "# Une boucle dans une boucle:\n",
    "for i in range(3):\n",
    "    for j in range(5):\n",
    "        print(f'i = {i} ; j = {j}')  "
   ]
  },
  {
   "cell_type": "markdown",
   "id": "07d89b3a",
   "metadata": {},
   "source": [
    "---\n",
    "# Boucle `while` (TANT QUE)\n",
    "La boucle `while` est utilisée pour répéter un bloc de code tant qu'une condition spécifiée est vraie.  <br>\n",
    "La syntaxe de base est la suivante:\n",
    "```python\n",
    "while condition:\n",
    "    # Bloc de code à répéter\n",
    "```\n",
    "On peut traduire la boucle `while` par \"TANT QUE la condition est vraie, exécutez le bloc de code\".  <br>\n",
    "La condition est une expression booléenne, cela signifie que le résultat de l'expression doit être `True` pour que le bloc de code soit exécuté.  <br>\n",
    "Par exemple, pour afficher les entiers de 0 à 9, on peut utiliser la boucle suivante:\n",
    "```python\n",
    "i = 0\n",
    "while i < 10:\n",
    "    print(i)\n",
    "    i += 1\n",
    "```\n",
    "Dans    cet exemple, `i` est la variable d'itération et `i < 10` est la condition.  <br>\n",
    "**Remarque: Il est important de s'assurer que la condition deviendra `False` à un moment donné pour éviter une boucle infinie non désirée.**  <br>"
   ]
  },
  {
   "cell_type": "code",
   "execution_count": 7,
   "id": "06b273e7",
   "metadata": {},
   "outputs": [
    {
     "name": "stdout",
     "output_type": "stream",
     "text": [
      "1\n",
      "2\n",
      "3\n",
      "4\n",
      "5\n"
     ]
    }
   ],
   "source": [
    "# Comptage jusqu'à 5 en utilisant une boucle while\n",
    "count = 1\n",
    "while count <= 5:\n",
    "    print(count)\n",
    "    count += 1"
   ]
  },
  {
   "cell_type": "code",
   "execution_count": 8,
   "id": "04802c20",
   "metadata": {},
   "outputs": [
    {
     "name": "stdout",
     "output_type": "stream",
     "text": [
      "1\n",
      "a\n",
      "3\n",
      "bd\n",
      "5\n"
     ]
    }
   ],
   "source": [
    "# Parcours d'une liste avec une boucle while (la fonction len() retourne la longueur de la liste)\n",
    "liste = [1, \"a\", 3, \"bd\", 5]\n",
    "index = 0\n",
    "while index < len(liste):\n",
    "    print(liste[index])\n",
    "    index += 1"
   ]
  },
  {
   "cell_type": "code",
   "execution_count": 9,
   "id": "6b9eb7f8",
   "metadata": {},
   "outputs": [
    {
     "name": "stdout",
     "output_type": "stream",
     "text": [
      "1\n",
      "2\n",
      "4\n",
      "8\n",
      "16\n",
      "32\n",
      "64\n"
     ]
    }
   ],
   "source": [
    "# Création d'une séquence de puissances de 2 jusqu'à ce qu'elles deviennent supérieures à 100\n",
    "power_of_two = 1\n",
    "while power_of_two <= 100:\n",
    "    print(power_of_two)\n",
    "    power_of_two *= 2"
   ]
  },
  {
   "cell_type": "code",
   "execution_count": 10,
   "id": "33be5918",
   "metadata": {
    "lines_to_next_cell": 2
   },
   "outputs": [],
   "source": [
    "# Création d'une boucle infinie\n",
    "# import time\n",
    "# import sys\n",
    "\n",
    "# i = 0\n",
    "# while True:\n",
    "#     # On fixe un délai de 1 seconde par itération pour ne pas surcharger la mémoire vive\n",
    "#     time.sleep(1)\n",
    "#     # On incrémente l'index\n",
    "#     i += 1\n",
    "#     print(f\"Secondes écoulées = {i} s. La boucle ne s'arrêtera jamais. Il faut gérer la mémoire vive en conséquence. (Pour arrêter le processus, cliquer sur le bouton stop - interrupt the kernel) \",end='\\r')"
   ]
  },
  {
   "cell_type": "markdown",
   "id": "a236658b",
   "metadata": {
    "lines_to_next_cell": 2
   },
   "source": [
    "---\n",
    "# Opération `break` (sortir de la boucle)\n",
    "Lorsque l'opération `break` est rencontrée, le programme sort de la boucle et exécute le code qui suit.  <br>\n",
    "L'opération `break` peut être utilisée dans les boucles `for` et `while`.  <br>"
   ]
  },
  {
   "cell_type": "code",
   "execution_count": 11,
   "id": "d84c159e",
   "metadata": {},
   "outputs": [
    {
     "name": "stdout",
     "output_type": "stream",
     "text": [
      "0\n",
      "1\n",
      "2\n"
     ]
    }
   ],
   "source": [
    "# Dans cet exemple, le programme affiche les entiers de 0 à 2, puis sort de la boucle lorsque `i` est égal à 3.\n",
    "for i in range(10):\n",
    "    if i == 3:\n",
    "        break\n",
    "    print(i)"
   ]
  },
  {
   "cell_type": "code",
   "execution_count": 12,
   "id": "aa4e52eb",
   "metadata": {},
   "outputs": [
    {
     "name": "stdout",
     "output_type": "stream",
     "text": [
      "Valeur actuelle de x : 10\n",
      "Valeur actuelle de x : 9\n",
      "Valeur actuelle de x : 8\n",
      "Valeur actuelle de x : 7\n",
      "Valeur actuelle de x : 6\n",
      "Valeur actuelle de x : 5\n",
      "Valeur actuelle de x : 4\n",
      "Valeur actuelle de x : 3\n",
      "Valeur actuelle de x : 2\n",
      "Valeur actuelle de x : 1\n",
      "Lift off!\n"
     ]
    }
   ],
   "source": [
    "# Boucle infinie avec une condition de sortie\n",
    "x = 10\n",
    "while True:\n",
    "    print(\"Valeur actuelle de x :\", x)\n",
    "    x -= 1\n",
    "    if x == 0:\n",
    "        print('Lift off!')\n",
    "        break"
   ]
  },
  {
   "cell_type": "markdown",
   "id": "c9ab569f",
   "metadata": {},
   "source": [
    "---\n",
    "# Opération `continue` (passer à l'itération suivante)\n",
    "Lorsque l'opération `continue` est rencontrée, le programme passe à l'itération suivante de la boucle sans exécuter le code qui suit.  <br>\n",
    "L'opération `continue` peut être utilisée dans les boucles `for` et `while`.  <br>"
   ]
  },
  {
   "cell_type": "code",
   "execution_count": 13,
   "id": "898411fa",
   "metadata": {},
   "outputs": [
    {
     "name": "stdout",
     "output_type": "stream",
     "text": [
      "0\n",
      "1\n",
      "2\n",
      "3\n",
      "4\n",
      "6\n",
      "7\n",
      "8\n",
      "9\n"
     ]
    }
   ],
   "source": [
    "# Dans cet exemple, le programme affiche les entiers de 0 à 9, sauf 5.\n",
    "for i in range(10):\n",
    "    if i == 5:\n",
    "        continue\n",
    "    print(i)"
   ]
  },
  {
   "cell_type": "code",
   "execution_count": 14,
   "id": "6f006b89",
   "metadata": {},
   "outputs": [
    {
     "name": "stdout",
     "output_type": "stream",
     "text": [
      "2\n",
      "4\n",
      "6\n",
      "8\n",
      "10\n"
     ]
    }
   ],
   "source": [
    "# Afficher uniquement les nombres pairs dans la plage de 1 à 10\n",
    "num = 0\n",
    "while num < 10:\n",
    "    num += 1\n",
    "    if num % 2 != 0:\n",
    "        continue\n",
    "    print(num)"
   ]
  },
  {
   "cell_type": "markdown",
   "id": "7a12e342",
   "metadata": {},
   "source": [
    "---\n",
    "# Exemples appliqués:"
   ]
  },
  {
   "cell_type": "markdown",
   "id": "11d0fd31",
   "metadata": {},
   "source": [
    "---\n",
    "## Exemple 1 : la température d'une serre\n",
    "Dans cet exemple, on simule un système de contrôle de température dans une serre. Un capteur (thermomètre numérique) mesure la température à chaque minutes de la journée. Un système de contrôle de température obéit au commande suivante: \n",
    "1) mode \"chauffage\" si T <= 14 °C ;\n",
    "2) mode \"refroidissement\" si T >= 28 °C ;\n",
    "3) mode \"inactif\" si  14 °C < T < 28 °C. \n",
    "\n",
    "Ainsi, une boucle `while` est utilisée pour que le processus fonctionne toute la journée. "
   ]
  },
  {
   "cell_type": "code",
   "execution_count": 15,
   "id": "17ee4fcc",
   "metadata": {},
   "outputs": [
    {
     "ename": "FileNotFoundError",
     "evalue": "[Errno 2] No such file or directory: 'data/donnees_temperature.csv'",
     "output_type": "error",
     "traceback": [
      "\u001b[1;31m---------------------------------------------------------------------------\u001b[0m",
      "\u001b[1;31mFileNotFoundError\u001b[0m                         Traceback (most recent call last)",
      "Cell \u001b[1;32mIn[15], line 8\u001b[0m\n\u001b[0;32m      5\u001b[0m \u001b[38;5;28;01mfrom\u001b[39;00m \u001b[38;5;21;01mIPython\u001b[39;00m\u001b[38;5;21;01m.\u001b[39;00m\u001b[38;5;21;01mdisplay\u001b[39;00m \u001b[38;5;28;01mimport\u001b[39;00m IFrame, clear_output\n\u001b[0;32m      7\u001b[0m \u001b[38;5;66;03m# Charger les données à partir du fichier CSV dans un DataFrame\u001b[39;00m\n\u001b[1;32m----> 8\u001b[0m df \u001b[38;5;241m=\u001b[39m \u001b[43mpd\u001b[49m\u001b[38;5;241;43m.\u001b[39;49m\u001b[43mread_csv\u001b[49m\u001b[43m(\u001b[49m\u001b[38;5;124;43m'\u001b[39;49m\u001b[38;5;124;43mdata/donnees_temperature.csv\u001b[39;49m\u001b[38;5;124;43m'\u001b[39;49m\u001b[43m)\u001b[49m\n\u001b[0;32m      9\u001b[0m \u001b[38;5;28mprint\u001b[39m(\u001b[38;5;124m\"\u001b[39m\u001b[38;5;124m-\u001b[39m\u001b[38;5;124m\"\u001b[39m\u001b[38;5;241m*\u001b[39m\u001b[38;5;241m50\u001b[39m)\n\u001b[0;32m     10\u001b[0m \u001b[38;5;28mprint\u001b[39m(\u001b[38;5;124m\"\u001b[39m\u001b[38;5;124mTableau de la température en fonction du temps:\u001b[39m\u001b[38;5;124m\"\u001b[39m)\n",
      "File \u001b[1;32m~\\AppData\\Local\\Programs\\Python\\Python311\\Lib\\site-packages\\pandas\\io\\parsers\\readers.py:948\u001b[0m, in \u001b[0;36mread_csv\u001b[1;34m(filepath_or_buffer, sep, delimiter, header, names, index_col, usecols, dtype, engine, converters, true_values, false_values, skipinitialspace, skiprows, skipfooter, nrows, na_values, keep_default_na, na_filter, verbose, skip_blank_lines, parse_dates, infer_datetime_format, keep_date_col, date_parser, date_format, dayfirst, cache_dates, iterator, chunksize, compression, thousands, decimal, lineterminator, quotechar, quoting, doublequote, escapechar, comment, encoding, encoding_errors, dialect, on_bad_lines, delim_whitespace, low_memory, memory_map, float_precision, storage_options, dtype_backend)\u001b[0m\n\u001b[0;32m    935\u001b[0m kwds_defaults \u001b[38;5;241m=\u001b[39m _refine_defaults_read(\n\u001b[0;32m    936\u001b[0m     dialect,\n\u001b[0;32m    937\u001b[0m     delimiter,\n\u001b[1;32m   (...)\u001b[0m\n\u001b[0;32m    944\u001b[0m     dtype_backend\u001b[38;5;241m=\u001b[39mdtype_backend,\n\u001b[0;32m    945\u001b[0m )\n\u001b[0;32m    946\u001b[0m kwds\u001b[38;5;241m.\u001b[39mupdate(kwds_defaults)\n\u001b[1;32m--> 948\u001b[0m \u001b[38;5;28;01mreturn\u001b[39;00m \u001b[43m_read\u001b[49m\u001b[43m(\u001b[49m\u001b[43mfilepath_or_buffer\u001b[49m\u001b[43m,\u001b[49m\u001b[43m \u001b[49m\u001b[43mkwds\u001b[49m\u001b[43m)\u001b[49m\n",
      "File \u001b[1;32m~\\AppData\\Local\\Programs\\Python\\Python311\\Lib\\site-packages\\pandas\\io\\parsers\\readers.py:611\u001b[0m, in \u001b[0;36m_read\u001b[1;34m(filepath_or_buffer, kwds)\u001b[0m\n\u001b[0;32m    608\u001b[0m _validate_names(kwds\u001b[38;5;241m.\u001b[39mget(\u001b[38;5;124m\"\u001b[39m\u001b[38;5;124mnames\u001b[39m\u001b[38;5;124m\"\u001b[39m, \u001b[38;5;28;01mNone\u001b[39;00m))\n\u001b[0;32m    610\u001b[0m \u001b[38;5;66;03m# Create the parser.\u001b[39;00m\n\u001b[1;32m--> 611\u001b[0m parser \u001b[38;5;241m=\u001b[39m \u001b[43mTextFileReader\u001b[49m\u001b[43m(\u001b[49m\u001b[43mfilepath_or_buffer\u001b[49m\u001b[43m,\u001b[49m\u001b[43m \u001b[49m\u001b[38;5;241;43m*\u001b[39;49m\u001b[38;5;241;43m*\u001b[39;49m\u001b[43mkwds\u001b[49m\u001b[43m)\u001b[49m\n\u001b[0;32m    613\u001b[0m \u001b[38;5;28;01mif\u001b[39;00m chunksize \u001b[38;5;129;01mor\u001b[39;00m iterator:\n\u001b[0;32m    614\u001b[0m     \u001b[38;5;28;01mreturn\u001b[39;00m parser\n",
      "File \u001b[1;32m~\\AppData\\Local\\Programs\\Python\\Python311\\Lib\\site-packages\\pandas\\io\\parsers\\readers.py:1448\u001b[0m, in \u001b[0;36mTextFileReader.__init__\u001b[1;34m(self, f, engine, **kwds)\u001b[0m\n\u001b[0;32m   1445\u001b[0m     \u001b[38;5;28mself\u001b[39m\u001b[38;5;241m.\u001b[39moptions[\u001b[38;5;124m\"\u001b[39m\u001b[38;5;124mhas_index_names\u001b[39m\u001b[38;5;124m\"\u001b[39m] \u001b[38;5;241m=\u001b[39m kwds[\u001b[38;5;124m\"\u001b[39m\u001b[38;5;124mhas_index_names\u001b[39m\u001b[38;5;124m\"\u001b[39m]\n\u001b[0;32m   1447\u001b[0m \u001b[38;5;28mself\u001b[39m\u001b[38;5;241m.\u001b[39mhandles: IOHandles \u001b[38;5;241m|\u001b[39m \u001b[38;5;28;01mNone\u001b[39;00m \u001b[38;5;241m=\u001b[39m \u001b[38;5;28;01mNone\u001b[39;00m\n\u001b[1;32m-> 1448\u001b[0m \u001b[38;5;28mself\u001b[39m\u001b[38;5;241m.\u001b[39m_engine \u001b[38;5;241m=\u001b[39m \u001b[38;5;28;43mself\u001b[39;49m\u001b[38;5;241;43m.\u001b[39;49m\u001b[43m_make_engine\u001b[49m\u001b[43m(\u001b[49m\u001b[43mf\u001b[49m\u001b[43m,\u001b[49m\u001b[43m \u001b[49m\u001b[38;5;28;43mself\u001b[39;49m\u001b[38;5;241;43m.\u001b[39;49m\u001b[43mengine\u001b[49m\u001b[43m)\u001b[49m\n",
      "File \u001b[1;32m~\\AppData\\Local\\Programs\\Python\\Python311\\Lib\\site-packages\\pandas\\io\\parsers\\readers.py:1705\u001b[0m, in \u001b[0;36mTextFileReader._make_engine\u001b[1;34m(self, f, engine)\u001b[0m\n\u001b[0;32m   1703\u001b[0m     \u001b[38;5;28;01mif\u001b[39;00m \u001b[38;5;124m\"\u001b[39m\u001b[38;5;124mb\u001b[39m\u001b[38;5;124m\"\u001b[39m \u001b[38;5;129;01mnot\u001b[39;00m \u001b[38;5;129;01min\u001b[39;00m mode:\n\u001b[0;32m   1704\u001b[0m         mode \u001b[38;5;241m+\u001b[39m\u001b[38;5;241m=\u001b[39m \u001b[38;5;124m\"\u001b[39m\u001b[38;5;124mb\u001b[39m\u001b[38;5;124m\"\u001b[39m\n\u001b[1;32m-> 1705\u001b[0m \u001b[38;5;28mself\u001b[39m\u001b[38;5;241m.\u001b[39mhandles \u001b[38;5;241m=\u001b[39m \u001b[43mget_handle\u001b[49m\u001b[43m(\u001b[49m\n\u001b[0;32m   1706\u001b[0m \u001b[43m    \u001b[49m\u001b[43mf\u001b[49m\u001b[43m,\u001b[49m\n\u001b[0;32m   1707\u001b[0m \u001b[43m    \u001b[49m\u001b[43mmode\u001b[49m\u001b[43m,\u001b[49m\n\u001b[0;32m   1708\u001b[0m \u001b[43m    \u001b[49m\u001b[43mencoding\u001b[49m\u001b[38;5;241;43m=\u001b[39;49m\u001b[38;5;28;43mself\u001b[39;49m\u001b[38;5;241;43m.\u001b[39;49m\u001b[43moptions\u001b[49m\u001b[38;5;241;43m.\u001b[39;49m\u001b[43mget\u001b[49m\u001b[43m(\u001b[49m\u001b[38;5;124;43m\"\u001b[39;49m\u001b[38;5;124;43mencoding\u001b[39;49m\u001b[38;5;124;43m\"\u001b[39;49m\u001b[43m,\u001b[49m\u001b[43m \u001b[49m\u001b[38;5;28;43;01mNone\u001b[39;49;00m\u001b[43m)\u001b[49m\u001b[43m,\u001b[49m\n\u001b[0;32m   1709\u001b[0m \u001b[43m    \u001b[49m\u001b[43mcompression\u001b[49m\u001b[38;5;241;43m=\u001b[39;49m\u001b[38;5;28;43mself\u001b[39;49m\u001b[38;5;241;43m.\u001b[39;49m\u001b[43moptions\u001b[49m\u001b[38;5;241;43m.\u001b[39;49m\u001b[43mget\u001b[49m\u001b[43m(\u001b[49m\u001b[38;5;124;43m\"\u001b[39;49m\u001b[38;5;124;43mcompression\u001b[39;49m\u001b[38;5;124;43m\"\u001b[39;49m\u001b[43m,\u001b[49m\u001b[43m \u001b[49m\u001b[38;5;28;43;01mNone\u001b[39;49;00m\u001b[43m)\u001b[49m\u001b[43m,\u001b[49m\n\u001b[0;32m   1710\u001b[0m \u001b[43m    \u001b[49m\u001b[43mmemory_map\u001b[49m\u001b[38;5;241;43m=\u001b[39;49m\u001b[38;5;28;43mself\u001b[39;49m\u001b[38;5;241;43m.\u001b[39;49m\u001b[43moptions\u001b[49m\u001b[38;5;241;43m.\u001b[39;49m\u001b[43mget\u001b[49m\u001b[43m(\u001b[49m\u001b[38;5;124;43m\"\u001b[39;49m\u001b[38;5;124;43mmemory_map\u001b[39;49m\u001b[38;5;124;43m\"\u001b[39;49m\u001b[43m,\u001b[49m\u001b[43m \u001b[49m\u001b[38;5;28;43;01mFalse\u001b[39;49;00m\u001b[43m)\u001b[49m\u001b[43m,\u001b[49m\n\u001b[0;32m   1711\u001b[0m \u001b[43m    \u001b[49m\u001b[43mis_text\u001b[49m\u001b[38;5;241;43m=\u001b[39;49m\u001b[43mis_text\u001b[49m\u001b[43m,\u001b[49m\n\u001b[0;32m   1712\u001b[0m \u001b[43m    \u001b[49m\u001b[43merrors\u001b[49m\u001b[38;5;241;43m=\u001b[39;49m\u001b[38;5;28;43mself\u001b[39;49m\u001b[38;5;241;43m.\u001b[39;49m\u001b[43moptions\u001b[49m\u001b[38;5;241;43m.\u001b[39;49m\u001b[43mget\u001b[49m\u001b[43m(\u001b[49m\u001b[38;5;124;43m\"\u001b[39;49m\u001b[38;5;124;43mencoding_errors\u001b[39;49m\u001b[38;5;124;43m\"\u001b[39;49m\u001b[43m,\u001b[49m\u001b[43m \u001b[49m\u001b[38;5;124;43m\"\u001b[39;49m\u001b[38;5;124;43mstrict\u001b[39;49m\u001b[38;5;124;43m\"\u001b[39;49m\u001b[43m)\u001b[49m\u001b[43m,\u001b[49m\n\u001b[0;32m   1713\u001b[0m \u001b[43m    \u001b[49m\u001b[43mstorage_options\u001b[49m\u001b[38;5;241;43m=\u001b[39;49m\u001b[38;5;28;43mself\u001b[39;49m\u001b[38;5;241;43m.\u001b[39;49m\u001b[43moptions\u001b[49m\u001b[38;5;241;43m.\u001b[39;49m\u001b[43mget\u001b[49m\u001b[43m(\u001b[49m\u001b[38;5;124;43m\"\u001b[39;49m\u001b[38;5;124;43mstorage_options\u001b[39;49m\u001b[38;5;124;43m\"\u001b[39;49m\u001b[43m,\u001b[49m\u001b[43m \u001b[49m\u001b[38;5;28;43;01mNone\u001b[39;49;00m\u001b[43m)\u001b[49m\u001b[43m,\u001b[49m\n\u001b[0;32m   1714\u001b[0m \u001b[43m\u001b[49m\u001b[43m)\u001b[49m\n\u001b[0;32m   1715\u001b[0m \u001b[38;5;28;01massert\u001b[39;00m \u001b[38;5;28mself\u001b[39m\u001b[38;5;241m.\u001b[39mhandles \u001b[38;5;129;01mis\u001b[39;00m \u001b[38;5;129;01mnot\u001b[39;00m \u001b[38;5;28;01mNone\u001b[39;00m\n\u001b[0;32m   1716\u001b[0m f \u001b[38;5;241m=\u001b[39m \u001b[38;5;28mself\u001b[39m\u001b[38;5;241m.\u001b[39mhandles\u001b[38;5;241m.\u001b[39mhandle\n",
      "File \u001b[1;32m~\\AppData\\Local\\Programs\\Python\\Python311\\Lib\\site-packages\\pandas\\io\\common.py:863\u001b[0m, in \u001b[0;36mget_handle\u001b[1;34m(path_or_buf, mode, encoding, compression, memory_map, is_text, errors, storage_options)\u001b[0m\n\u001b[0;32m    858\u001b[0m \u001b[38;5;28;01melif\u001b[39;00m \u001b[38;5;28misinstance\u001b[39m(handle, \u001b[38;5;28mstr\u001b[39m):\n\u001b[0;32m    859\u001b[0m     \u001b[38;5;66;03m# Check whether the filename is to be opened in binary mode.\u001b[39;00m\n\u001b[0;32m    860\u001b[0m     \u001b[38;5;66;03m# Binary mode does not support 'encoding' and 'newline'.\u001b[39;00m\n\u001b[0;32m    861\u001b[0m     \u001b[38;5;28;01mif\u001b[39;00m ioargs\u001b[38;5;241m.\u001b[39mencoding \u001b[38;5;129;01mand\u001b[39;00m \u001b[38;5;124m\"\u001b[39m\u001b[38;5;124mb\u001b[39m\u001b[38;5;124m\"\u001b[39m \u001b[38;5;129;01mnot\u001b[39;00m \u001b[38;5;129;01min\u001b[39;00m ioargs\u001b[38;5;241m.\u001b[39mmode:\n\u001b[0;32m    862\u001b[0m         \u001b[38;5;66;03m# Encoding\u001b[39;00m\n\u001b[1;32m--> 863\u001b[0m         handle \u001b[38;5;241m=\u001b[39m \u001b[38;5;28;43mopen\u001b[39;49m\u001b[43m(\u001b[49m\n\u001b[0;32m    864\u001b[0m \u001b[43m            \u001b[49m\u001b[43mhandle\u001b[49m\u001b[43m,\u001b[49m\n\u001b[0;32m    865\u001b[0m \u001b[43m            \u001b[49m\u001b[43mioargs\u001b[49m\u001b[38;5;241;43m.\u001b[39;49m\u001b[43mmode\u001b[49m\u001b[43m,\u001b[49m\n\u001b[0;32m    866\u001b[0m \u001b[43m            \u001b[49m\u001b[43mencoding\u001b[49m\u001b[38;5;241;43m=\u001b[39;49m\u001b[43mioargs\u001b[49m\u001b[38;5;241;43m.\u001b[39;49m\u001b[43mencoding\u001b[49m\u001b[43m,\u001b[49m\n\u001b[0;32m    867\u001b[0m \u001b[43m            \u001b[49m\u001b[43merrors\u001b[49m\u001b[38;5;241;43m=\u001b[39;49m\u001b[43merrors\u001b[49m\u001b[43m,\u001b[49m\n\u001b[0;32m    868\u001b[0m \u001b[43m            \u001b[49m\u001b[43mnewline\u001b[49m\u001b[38;5;241;43m=\u001b[39;49m\u001b[38;5;124;43m\"\u001b[39;49m\u001b[38;5;124;43m\"\u001b[39;49m\u001b[43m,\u001b[49m\n\u001b[0;32m    869\u001b[0m \u001b[43m        \u001b[49m\u001b[43m)\u001b[49m\n\u001b[0;32m    870\u001b[0m     \u001b[38;5;28;01melse\u001b[39;00m:\n\u001b[0;32m    871\u001b[0m         \u001b[38;5;66;03m# Binary mode\u001b[39;00m\n\u001b[0;32m    872\u001b[0m         handle \u001b[38;5;241m=\u001b[39m \u001b[38;5;28mopen\u001b[39m(handle, ioargs\u001b[38;5;241m.\u001b[39mmode)\n",
      "\u001b[1;31mFileNotFoundError\u001b[0m: [Errno 2] No such file or directory: 'data/donnees_temperature.csv'"
     ]
    }
   ],
   "source": [
    "#Dans cette cellule, on importe des données qui simulent la température en fonction du temps\n",
    "import pandas as pd\n",
    "import numpy as np\n",
    "import sys\n",
    "from IPython.display import IFrame, clear_output\n",
    "\n",
    "# Charger les données à partir du fichier CSV dans un DataFrame\n",
    "df = pd.read_csv('data/donnees_temperature.csv')\n",
    "print(\"-\"*50)\n",
    "print(\"Tableau de la température en fonction du temps:\")\n",
    "print(df)\n",
    "\n",
    "# Convertir le DataFrame en un tableau NumPy\n",
    "data = df.values\n",
    "\n",
    "# Afficher le fichier PDF\n",
    "print(\"-\"*50)\n",
    "print(\"Graphique:\")\n",
    "IFrame('img/variation_temperature.pdf', width=600, height=400)"
   ]
  },
  {
   "cell_type": "code",
   "execution_count": null,
   "id": "b19d8e40",
   "metadata": {
    "lines_to_next_cell": 2
   },
   "outputs": [],
   "source": [
    "#Dans cette cellule, on simule le processus du contrôle de température\n",
    "import time\n",
    "import matplotlib.pyplot as plt\n",
    "import numpy as np\n",
    "\n",
    "# Définition de la plage horaire (de minuit à minuit)\n",
    "start_time = 0\n",
    "end_time = 24 * 60  # Nombre de minutes dans une journée (1440 minutes)\n",
    "\n",
    "# Définition de l'index pour la boucle while:\n",
    "time_index = start_time\n",
    "\n",
    "# Variables pour compter le nombre de minutes pour chaque état du système de contrôle de température et pour l'estimation du coût total\n",
    "count_minute_chauffage = 0\n",
    "count_minute_inactif = 0\n",
    "count_minute_refroidissement = 0\n",
    "puissance_systeme = 20  #kW\n",
    "cout_kWh = 0.06 #$\n",
    "\n",
    "# La boucle while exécute un processus pour la journée entière\n",
    "while True:\n",
    "    # On simule la mesure de la température avec un capteur:\n",
    "    temperature_mesuree = data[time_index][1]\n",
    "\n",
    "    # On fixe l'état du système de contrôle de température en fonction de la température mesurée et on compte le nombre de minute dans l'état:\n",
    "    if temperature_mesuree <= 14:\n",
    "        etat_systeme_temperature_controle = \"chauffage\"\n",
    "        count_minute_chauffage += 1\n",
    "    elif 14 < temperature_mesuree < 28:\n",
    "        etat_systeme_temperature_controle = \"inactif\"\n",
    "        count_minute_inactif += 1\n",
    "    else:\n",
    "        etat_systeme_temperature_controle = \"refroidissement\"\n",
    "        count_minute_refroidissement += 1\n",
    "\n",
    "    # On affiche le démarrage du système\n",
    "    if time_index == 0:\n",
    "        print(f'Le système a démarré à {time_index} min.' + '\\n' + '-'*50)\n",
    "        \n",
    "\n",
    "    # On affiche dynamiquement le temps, la température mesurée et l'état du système de contrôle de température\n",
    "    print(f'Temps: {data[time_index][0]} min ; Température : {data[time_index][1]:.3f} degré celsius ;  État système contrôle température : {etat_systeme_temperature_controle}'+' '*100, end='\\r')\n",
    "\n",
    "    # On simule un écoulement du temps (met en pause l'exécution du programme pendant 0.01 seconde et incrémente time_index)\n",
    "    time.sleep(.01)\n",
    "    time_index += 1\n",
    "\n",
    "    # On affiche un message indiquant le rapport du système en fin de journée et on arrête l'exécution du programme:\n",
    "    if time_index == end_time:\n",
    "        #Calcul du cout d'utilisation\n",
    "        nb_kWh = puissance_systeme*(count_minute_chauffage + count_minute_refroidissement)/60\n",
    "        cout = cout_kWh*nb_kWh\n",
    "        \n",
    "        print(' '*100, end ='\\r')\n",
    "        print(f\"Le système s'est arrêté à {time_index} min.\" + '\\n' + '-'*50)\n",
    "        print(\"Rapport système:\")\n",
    "        print(\"Le système de contrôle de température a fonctionné sans interruption aujourd'hui!\")\n",
    "        print(f'Nombre de minutes utilisées en mode \"chauffage\": {count_minute_chauffage} min')\n",
    "        print(f'Nombre de minutes utilisées en mode \"refroidissement\": {count_minute_refroidissement} min')\n",
    "        print(f'Nombre de minutes en mode \"inactif\": {count_minute_inactif} min')\n",
    "        print(f'Énergie totale estimée: {nb_kWh:.2f} kWh')\n",
    "        print(f'Coût total de fonctionnement estimé: {cout:.2f} $')\n",
    "        # On termine la boucle. \n",
    "        break  "
   ]
  },
  {
   "cell_type": "markdown",
   "id": "627540f1",
   "metadata": {},
   "source": [
    "---\n",
    "## Exemple 2 : le triangle de Sierpinsky\n",
    "\n",
    "Le triangle de Sierpinski l'exemple classique d'une fractale. Les fractales sont des objets mathématiques ayant des formes géométriques complexes qui se répètent à différentes échelles (auto-similarité) et qui sont générées par itération. \n",
    "\n",
    "La création du triangle de Sierpinski implique :\n",
    "\n",
    "1) Étape initiale : Définition d'un triangle équilatéral qui sert de racine.\n",
    "\n",
    "2) Itération (ici une boucle `for`): À chaque itération, chaque triangle est divisé en trois triangles plus petits, et le processus se poursuit jusqu'à ce qu'on atteigne le niveau de détail souhaité (l'ordre du triangle).\n",
    "\n",
    "Le résultat est un motif fractal auto-similaire, où chaque partie de la figure ressemble à l'ensemble complet à une échelle plus petite. "
   ]
  },
  {
   "cell_type": "code",
   "execution_count": null,
   "id": "d3caacc1",
   "metadata": {
    "lines_to_next_cell": 2
   },
   "outputs": [],
   "source": [
    "import matplotlib.pyplot as plt\n",
    "import numpy as np\n",
    "import time\n",
    "\n",
    "def sierpinski_triangle(n_order):\n",
    "    #Sommets de départ du triangle\n",
    "    triangles_vertices = np.array([[[0, 0], [1, 0], [0.5, np.sqrt(3)/2]]])\n",
    "\n",
    "    #Boucle for pour générer le triangle de Sierpinski d'ordre n_order\n",
    "    for i in range(n_order):\n",
    "        # Liste pour stocker les nouveaux sommets des triangles d'ordre i formés par les points milieux des triangles d'ordre i-1\n",
    "        new_triangles_vertices = []\n",
    "        # Boucle for sur les sommets des triangles d'ordre i-1\n",
    "        for v0, v1, v2 in triangles_vertices:\n",
    "            # Calcul des points milieux\n",
    "            midpoints = [(v0 + v1) / 2, (v1 + v2) / 2, (v2 + v0) / 2]\n",
    "            # Ajout des sommets des triangles d'ordre i avec la fusion de liste extend\n",
    "            new_triangles_vertices.extend([(v0, midpoints[0], midpoints[2]), \n",
    "                                 (v1, midpoints[1], midpoints[0]), \n",
    "                                 (v2, midpoints[2], midpoints[1])])\n",
    "        # Remplacement des sommets des triangles d'ordre i-1 par les nouveaux sommets des triangles d'ordre i\n",
    "        triangles_vertices = new_triangles_vertices\n",
    "\n",
    "    #La fonction retourne les sommets des triangles d'ordre n_order\n",
    "    return triangles_vertices\n",
    "\n",
    "    \n",
    "def sierpinski_triangle_graph(n_order):\n",
    "\n",
    "    # On appelle la fonction sierpinski_triangle:\n",
    "    triangles_vertices = sierpinski_triangle(n_order)\n",
    "\n",
    "    #Création de la figure:\n",
    "    fig, ax = plt.subplots(figsize=(4, 4), dpi=120)\n",
    "    ax.set_title(f'Triangle de Sierpinski : ordre {n_order}')\n",
    "    ax.axis('equal')\n",
    "    ax.axis('off')\n",
    "    ax.set_xlim(-0.1, 1.1)\n",
    "    ax.set_ylim(-0.1, 0.9660254037844386)\n",
    "\n",
    "    #Boucle for pour tracer tous les triangles:\n",
    "    for v0, v1, v2 in triangles_vertices:\n",
    "        triangle = plt.Polygon([v0, v1, v2], closed=True, facecolor='black')\n",
    "        ax.add_patch(triangle)\n",
    "\n",
    "    plt.show()\n",
    "    \n",
    "\n",
    "# Appel de la fonction avec le nombre d'itérations (n_order) souhaité:\n",
    "for n_order in range(9):\n",
    "    sierpinski_triangle_graph(n_order)"
   ]
  },
  {
   "cell_type": "code",
   "execution_count": null,
   "id": "3a946069",
   "metadata": {},
   "outputs": [],
   "source": [
    "# Technique pour calculer le temps d'exécution d'une itération:\n",
    "# Appel de la fonction avec le nombre d'itérations (n_order) souhaité:\n",
    "for n_order in range(10):\n",
    "    t0 = time.time()\n",
    "    sierpinski_triangle_graph(n_order)\n",
    "    delta_time = time.time() - t0\n",
    "    print(f\"temps de calcul pour l'ordre {n_order} : {delta_time} s\" +'\\n'+'-'*50)"
   ]
  },
  {
   "cell_type": "code",
   "execution_count": null,
   "id": "09375c70",
   "metadata": {},
   "outputs": [],
   "source": []
  }
 ],
 "metadata": {
  "kernelspec": {
   "display_name": "Python 3 (ipykernel)",
   "language": "python",
   "name": "python3"
  },
  "language_info": {
   "codemirror_mode": {
    "name": "ipython",
    "version": 3
   },
   "file_extension": ".py",
   "mimetype": "text/x-python",
   "name": "python",
   "nbconvert_exporter": "python",
   "pygments_lexer": "ipython3",
   "version": "3.11.5"
  }
 },
 "nbformat": 4,
 "nbformat_minor": 5
}
