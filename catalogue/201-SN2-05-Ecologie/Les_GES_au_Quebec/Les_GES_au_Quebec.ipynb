{
 "cells": [
  {
   "cell_type": "markdown",
   "id": "069ec959",
   "metadata": {},
   "source": [
    "# Les gaz à effet de serre au Québec\n",
    "---"
   ]
  },
  {
   "cell_type": "markdown",
   "id": "aaf6f5e1-11b2-4233-a7a4-5643d7952f2f",
   "metadata": {},
   "source": [
    "<div style=\"text-align: center;\">\n",
    "    <img src=\"./img/_cc50555b-1857-4a03-a71b-744befcfb323.jpeg\" alt=\"Drawing\" style=\"width: 300px;\"/>\n",
    "</div>"
   ]
  },
  {
   "cell_type": "markdown",
   "id": "c4989607",
   "metadata": {},
   "source": [
    "Les données de l'inventaire québécois des émissions de gaz à effet de serre, sont disponibles chez [Données Québec](https://www.donneesquebec.ca/recherche/dataset/inventaire-quebecois-des-emissions-de-gaz-a-effet-de-serre \"https://www.donneesquebec.ca/recherche/dataset/inventaire-quebecois-des-emissions-de-gaz-a-effet-de-serre\"):\n",
    "\n",
    "> L’inventaire des émissions de gaz à effet de serre (GES) produits par l’activité humaine au Québec est tenu à jour annuellement depuis 1990 \n",
    "par le ministère de l’Environnement, de la Lutte contre les changements climatiques, de la Faune et des Parcs. Cet inventaire est établi à partir de données recueillies auprès d’entreprises et d’institutions et se base sur des données obtenues principalement de Statistique Canada, d’Environnement et Changement climatique Canada (ECCC) et de ministères et organismes du Québec. \n",
    "\n",
    "Dernière modification du jeux de données de ce notebook : 2022-12-21 "
   ]
  },
  {
   "cell_type": "markdown",
   "id": "9f4dea91-d224-4303-889a-90ab47d01d05",
   "metadata": {},
   "source": [
    "---\n",
    "## Objectif:\n",
    "\n",
    "L'objectif de ce notebook est d'utiliser la fonction groupby relative aux dataframes afin d'obtenir le total des GES émis par secteur d'activité."
   ]
  },
  {
   "cell_type": "markdown",
   "id": "9d8f40f1-ad16-449a-84a5-a6d90c354334",
   "metadata": {},
   "source": [
    "---\n",
    "## Importation des données"
   ]
  },
  {
   "cell_type": "markdown",
   "id": "c67efcbf",
   "metadata": {},
   "source": [
    "Afin de lire et d'explorer les données, nous utilisons la librairie pandas avec toutes les fonctionnalités des Dataframes."
   ]
  },
  {
   "cell_type": "code",
   "execution_count": 136,
   "id": "c9d5409d",
   "metadata": {},
   "outputs": [],
   "source": [
    "import pandas as pd"
   ]
  },
  {
   "cell_type": "markdown",
   "id": "2dfd3f49",
   "metadata": {
    "lines_to_next_cell": 0
   },
   "source": [
    "Le fichier csv (coma-separated-value) se nomme \"inventaire-ges.csv\" \n",
    "et les données sont séparées par des points-virgules (;)."
   ]
  },
  {
   "cell_type": "code",
   "execution_count": 137,
   "id": "2d62fab2",
   "metadata": {
    "lines_to_next_cell": 2
   },
   "outputs": [
    {
     "data": {
      "text/html": [
       "<div>\n",
       "<style scoped>\n",
       "    .dataframe tbody tr th:only-of-type {\n",
       "        vertical-align: middle;\n",
       "    }\n",
       "\n",
       "    .dataframe tbody tr th {\n",
       "        vertical-align: top;\n",
       "    }\n",
       "\n",
       "    .dataframe thead th {\n",
       "        text-align: right;\n",
       "    }\n",
       "</style>\n",
       "<table border=\"1\" class=\"dataframe\">\n",
       "  <thead>\n",
       "    <tr style=\"text-align: right;\">\n",
       "      <th></th>\n",
       "      <th>Annee</th>\n",
       "      <th>Secteur</th>\n",
       "      <th>Sous-secteur</th>\n",
       "      <th>Categorie</th>\n",
       "      <th>Emissions(t_eq_CO2)</th>\n",
       "    </tr>\n",
       "  </thead>\n",
       "  <tbody>\n",
       "    <tr>\n",
       "      <th>0</th>\n",
       "      <td>1990</td>\n",
       "      <td>Transports</td>\n",
       "      <td>Transport routier</td>\n",
       "      <td>Automobiles</td>\n",
       "      <td>1.085804e+07</td>\n",
       "    </tr>\n",
       "    <tr>\n",
       "      <th>1</th>\n",
       "      <td>1990</td>\n",
       "      <td>Transports</td>\n",
       "      <td>Transport routier</td>\n",
       "      <td>Camions légers</td>\n",
       "      <td>3.636960e+06</td>\n",
       "    </tr>\n",
       "    <tr>\n",
       "      <th>2</th>\n",
       "      <td>1990</td>\n",
       "      <td>Transports</td>\n",
       "      <td>Transport routier</td>\n",
       "      <td>Véhicules lourds</td>\n",
       "      <td>3.602432e+06</td>\n",
       "    </tr>\n",
       "    <tr>\n",
       "      <th>3</th>\n",
       "      <td>1990</td>\n",
       "      <td>Transports</td>\n",
       "      <td>Transport routier</td>\n",
       "      <td>Autres transports routiers</td>\n",
       "      <td>1.824648e+04</td>\n",
       "    </tr>\n",
       "    <tr>\n",
       "      <th>4</th>\n",
       "      <td>1990</td>\n",
       "      <td>Transports</td>\n",
       "      <td>Autres transports</td>\n",
       "      <td>Véhicules hors route - Agriculture et foresterie</td>\n",
       "      <td>9.985400e+05</td>\n",
       "    </tr>\n",
       "    <tr>\n",
       "      <th>...</th>\n",
       "      <td>...</td>\n",
       "      <td>...</td>\n",
       "      <td>...</td>\n",
       "      <td>...</td>\n",
       "      <td>...</td>\n",
       "    </tr>\n",
       "    <tr>\n",
       "      <th>1445</th>\n",
       "      <td>2020</td>\n",
       "      <td>Matières résiduelles</td>\n",
       "      <td>Lieux d'enfouissement réservés aux usines de p...</td>\n",
       "      <td>Lieux d'enfouissement réservés aux usines de p...</td>\n",
       "      <td>6.994292e+04</td>\n",
       "    </tr>\n",
       "    <tr>\n",
       "      <th>1446</th>\n",
       "      <td>2020</td>\n",
       "      <td>Matières résiduelles</td>\n",
       "      <td>Traitement biologique des matières résiduelles</td>\n",
       "      <td>Traitement biologique des matières résiduelles</td>\n",
       "      <td>7.126235e+04</td>\n",
       "    </tr>\n",
       "    <tr>\n",
       "      <th>1447</th>\n",
       "      <td>2020</td>\n",
       "      <td>Matières résiduelles</td>\n",
       "      <td>Traitement et rejet des eaux usées municipales</td>\n",
       "      <td>Traitement et rejet des eaux usées municipales</td>\n",
       "      <td>4.134772e+05</td>\n",
       "    </tr>\n",
       "    <tr>\n",
       "      <th>1448</th>\n",
       "      <td>2020</td>\n",
       "      <td>Matières résiduelles</td>\n",
       "      <td>Incinération des matières résiduelles</td>\n",
       "      <td>Incinération des matières résiduelles</td>\n",
       "      <td>2.124926e+05</td>\n",
       "    </tr>\n",
       "    <tr>\n",
       "      <th>1449</th>\n",
       "      <td>2020</td>\n",
       "      <td>Électricité</td>\n",
       "      <td>Électricité</td>\n",
       "      <td>Centrales thermiques publiques</td>\n",
       "      <td>2.290484e+05</td>\n",
       "    </tr>\n",
       "  </tbody>\n",
       "</table>\n",
       "<p>1450 rows × 5 columns</p>\n",
       "</div>"
      ],
      "text/plain": [
       "      Annee               Secteur  \\\n",
       "0      1990            Transports   \n",
       "1      1990            Transports   \n",
       "2      1990            Transports   \n",
       "3      1990            Transports   \n",
       "4      1990            Transports   \n",
       "...     ...                   ...   \n",
       "1445   2020  Matières résiduelles   \n",
       "1446   2020  Matières résiduelles   \n",
       "1447   2020  Matières résiduelles   \n",
       "1448   2020  Matières résiduelles   \n",
       "1449   2020           Électricité   \n",
       "\n",
       "                                           Sous-secteur  \\\n",
       "0                                     Transport routier   \n",
       "1                                     Transport routier   \n",
       "2                                     Transport routier   \n",
       "3                                     Transport routier   \n",
       "4                                     Autres transports   \n",
       "...                                                 ...   \n",
       "1445  Lieux d'enfouissement réservés aux usines de p...   \n",
       "1446     Traitement biologique des matières résiduelles   \n",
       "1447     Traitement et rejet des eaux usées municipales   \n",
       "1448              Incinération des matières résiduelles   \n",
       "1449                                        Électricité   \n",
       "\n",
       "                                              Categorie  Emissions(t_eq_CO2)  \n",
       "0                                           Automobiles         1.085804e+07  \n",
       "1                                        Camions légers         3.636960e+06  \n",
       "2                                      Véhicules lourds         3.602432e+06  \n",
       "3                            Autres transports routiers         1.824648e+04  \n",
       "4      Véhicules hors route - Agriculture et foresterie         9.985400e+05  \n",
       "...                                                 ...                  ...  \n",
       "1445  Lieux d'enfouissement réservés aux usines de p...         6.994292e+04  \n",
       "1446     Traitement biologique des matières résiduelles         7.126235e+04  \n",
       "1447     Traitement et rejet des eaux usées municipales         4.134772e+05  \n",
       "1448              Incinération des matières résiduelles         2.124926e+05  \n",
       "1449                     Centrales thermiques publiques         2.290484e+05  \n",
       "\n",
       "[1450 rows x 5 columns]"
      ]
     },
     "execution_count": 137,
     "metadata": {},
     "output_type": "execute_result"
    }
   ],
   "source": [
    "df = pd.read_csv('./fichiers_input/inventaire-ges.csv',sep = ';')\n",
    "df"
   ]
  },
  {
   "cell_type": "markdown",
   "id": "dffcc997",
   "metadata": {
    "lines_to_next_cell": 0
   },
   "source": [
    "---\n",
    "## Informations de base sur le jeu de données:\n",
    "\n",
    "Pour bien comprendre les données dans un DataFrame pandas, vous devez examiner plusieurs aspects clés pour en tirer le meilleur parti. Voici une liste d'informations de base à prendre en compte :\n",
    "\n",
    "1. La structure du DataFrame :\n",
    "   - Le nombre de lignes (observations) et de colonnes (variables) dans le DataFrame.\n",
    "   - Les noms des colonnes, qui représentent les différentes variables.\n",
    "\n",
    "\n",
    "2. Les types de données :\n",
    "   - Vérifiez les types de données de chaque colonne à l'aide de `dtypes` pour vous assurer qu'ils sont corrects.\n",
    "\n",
    "3. Les valeurs uniques :\n",
    "   - Pour comprendre la variabilité des données catégoriques, utilisez `unique()` pour obtenir les valeurs uniques d'une colonne.\n",
    "\n",
    "```python\n",
    "df['colonne'].unique()\n",
    "```\n",
    "\n",
    "4. Les données manquantes :\n",
    "   - Utilisez `isna()` ou `isnull()` pour identifier les données manquantes dans le DataFrame.\n",
    "\n",
    "```python\n",
    "df.isna().sum()\n",
    "```\n",
    "\n",
    "5. Les statistiques descriptives :\n",
    "   - Utilisez `describe()` pour obtenir des statistiques de base sur les données numériques, telles que la moyenne, l'écart-type, les quartiles, etc.\n",
    "  \n",
    "\n",
    "\n",
    "\n"
   ]
  },
  {
   "cell_type": "code",
   "execution_count": 140,
   "id": "aa1d58fb",
   "metadata": {
    "lines_to_next_cell": 2
   },
   "outputs": [
    {
     "data": {
      "text/plain": [
       "(1450, 5)"
      ]
     },
     "execution_count": 140,
     "metadata": {},
     "output_type": "execute_result"
    }
   ],
   "source": [
    "# Le nombre de ligne (rows) et de colonne (columns) est: \n",
    "df.shape"
   ]
  },
  {
   "cell_type": "code",
   "execution_count": 64,
   "id": "884cd17f",
   "metadata": {
    "lines_to_next_cell": 0
   },
   "outputs": [
    {
     "data": {
      "text/plain": [
       "Index(['Annee', 'Secteur', 'Sous-secteur', 'Categorie', 'Emissions(t_eq_CO2)'], dtype='object')"
      ]
     },
     "execution_count": 64,
     "metadata": {},
     "output_type": "execute_result"
    }
   ],
   "source": [
    "# Le nom des colonnes. Sous forme d'une array numpy. \n",
    "df.columns"
   ]
  },
  {
   "cell_type": "code",
   "execution_count": 78,
   "id": "d4b95e24",
   "metadata": {},
   "outputs": [
    {
     "data": {
      "text/plain": [
       "['Annee', 'Secteur', 'Sous-secteur', 'Categorie', 'Emissions(t_eq_CO2)']"
      ]
     },
     "execution_count": 78,
     "metadata": {},
     "output_type": "execute_result"
    }
   ],
   "source": [
    "# Le nom des colonnes. Sous forme d'une liste normale.\n",
    "df.columns.tolist()"
   ]
  },
  {
   "cell_type": "code",
   "execution_count": 87,
   "id": "99c86784-e116-429a-a11c-e512232e4f82",
   "metadata": {},
   "outputs": [
    {
     "data": {
      "text/plain": [
       "Annee                    int64\n",
       "Secteur                 object\n",
       "Sous-secteur            object\n",
       "Categorie               object\n",
       "Emissions(t_eq_CO2)    float64\n",
       "dtype: object"
      ]
     },
     "execution_count": 87,
     "metadata": {},
     "output_type": "execute_result"
    }
   ],
   "source": [
    "# Le types de variables dans chaque colonne: \n",
    "df.dtypes"
   ]
  },
  {
   "cell_type": "code",
   "execution_count": 88,
   "id": "c9f1b0d4-ce91-4982-b050-1e57efdf5b43",
   "metadata": {},
   "outputs": [
    {
     "data": {
      "text/plain": [
       "RangeIndex(start=0, stop=1450, step=1)"
      ]
     },
     "execution_count": 88,
     "metadata": {},
     "output_type": "execute_result"
    }
   ],
   "source": [
    "# L'index du dataframe: \n",
    "df.index"
   ]
  },
  {
   "cell_type": "code",
   "execution_count": 66,
   "id": "7910ee7e",
   "metadata": {
    "lines_to_next_cell": 2
   },
   "outputs": [],
   "source": [
    "# Pour travailler les éléments d'une seule colonne, il faut travailler avec les Séries:\n",
    "df['Annee'];"
   ]
  },
  {
   "cell_type": "code",
   "execution_count": 57,
   "id": "1cb2c66c",
   "metadata": {
    "lines_to_next_cell": 0
   },
   "outputs": [
    {
     "data": {
      "text/plain": [
       "['Transports',\n",
       " 'Industries',\n",
       " 'Résidentiel, commercial et institutionnel',\n",
       " 'Agriculture',\n",
       " 'Matières résiduelles',\n",
       " 'Électricité']"
      ]
     },
     "execution_count": 57,
     "metadata": {},
     "output_type": "execute_result"
    }
   ],
   "source": [
    "# Élements uniques de la colonne Secteur. Sous forme d'une liste normale.\n",
    "df['Secteur'].unique().tolist()"
   ]
  },
  {
   "cell_type": "code",
   "execution_count": 62,
   "id": "53bd0ef4",
   "metadata": {
    "lines_to_next_cell": 0
   },
   "outputs": [],
   "source": [
    "# Élements uniques de la colonne Sous-secteur. Sous forme d'une liste normale.\n",
    "df['Sous-secteur'].unique().tolist();"
   ]
  },
  {
   "cell_type": "code",
   "execution_count": 61,
   "id": "76d0136e",
   "metadata": {},
   "outputs": [],
   "source": [
    "# Élements uniques de la colonne 'Categorie'. Sous forme d'une liste normale.\n",
    "df['Categorie'].unique().tolist();"
   ]
  },
  {
   "cell_type": "code",
   "execution_count": 139,
   "id": "f7306b74-a39d-441f-b1da-c3dc68a7b454",
   "metadata": {},
   "outputs": [
    {
     "data": {
      "text/plain": [
       "Annee                  0\n",
       "Secteur                0\n",
       "Sous-secteur           0\n",
       "Categorie              0\n",
       "Emissions(t_eq_CO2)    0\n",
       "dtype: int64"
      ]
     },
     "execution_count": 139,
     "metadata": {},
     "output_type": "execute_result"
    }
   ],
   "source": [
    "df.isna().sum()"
   ]
  },
  {
   "cell_type": "markdown",
   "id": "984d13ae-498d-41b4-85e8-4d4cc344cb22",
   "metadata": {},
   "source": [
    "---\n",
    "## Sélection du secteur 'Transports'"
   ]
  },
  {
   "cell_type": "code",
   "execution_count": 128,
   "id": "9ce684d4-fc9e-4190-8c35-d3f887444ef6",
   "metadata": {},
   "outputs": [
    {
     "data": {
      "text/html": [
       "<div>\n",
       "<style scoped>\n",
       "    .dataframe tbody tr th:only-of-type {\n",
       "        vertical-align: middle;\n",
       "    }\n",
       "\n",
       "    .dataframe tbody tr th {\n",
       "        vertical-align: top;\n",
       "    }\n",
       "\n",
       "    .dataframe thead th {\n",
       "        text-align: right;\n",
       "    }\n",
       "</style>\n",
       "<table border=\"1\" class=\"dataframe\">\n",
       "  <thead>\n",
       "    <tr style=\"text-align: right;\">\n",
       "      <th></th>\n",
       "      <th>Annee</th>\n",
       "      <th>Secteur</th>\n",
       "      <th>Sous-secteur</th>\n",
       "      <th>Categorie</th>\n",
       "      <th>Emissions(t_eq_CO2)</th>\n",
       "    </tr>\n",
       "  </thead>\n",
       "  <tbody>\n",
       "    <tr>\n",
       "      <th>0</th>\n",
       "      <td>1990</td>\n",
       "      <td>Transports</td>\n",
       "      <td>Transport routier</td>\n",
       "      <td>Automobiles</td>\n",
       "      <td>1.085804e+07</td>\n",
       "    </tr>\n",
       "    <tr>\n",
       "      <th>1</th>\n",
       "      <td>1990</td>\n",
       "      <td>Transports</td>\n",
       "      <td>Transport routier</td>\n",
       "      <td>Camions légers</td>\n",
       "      <td>3.636960e+06</td>\n",
       "    </tr>\n",
       "    <tr>\n",
       "      <th>2</th>\n",
       "      <td>1990</td>\n",
       "      <td>Transports</td>\n",
       "      <td>Transport routier</td>\n",
       "      <td>Véhicules lourds</td>\n",
       "      <td>3.602432e+06</td>\n",
       "    </tr>\n",
       "    <tr>\n",
       "      <th>3</th>\n",
       "      <td>1990</td>\n",
       "      <td>Transports</td>\n",
       "      <td>Transport routier</td>\n",
       "      <td>Autres transports routiers</td>\n",
       "      <td>1.824648e+04</td>\n",
       "    </tr>\n",
       "    <tr>\n",
       "      <th>4</th>\n",
       "      <td>1990</td>\n",
       "      <td>Transports</td>\n",
       "      <td>Autres transports</td>\n",
       "      <td>Véhicules hors route - Agriculture et foresterie</td>\n",
       "      <td>9.985400e+05</td>\n",
       "    </tr>\n",
       "    <tr>\n",
       "      <th>...</th>\n",
       "      <td>...</td>\n",
       "      <td>...</td>\n",
       "      <td>...</td>\n",
       "      <td>...</td>\n",
       "      <td>...</td>\n",
       "    </tr>\n",
       "    <tr>\n",
       "      <th>1414</th>\n",
       "      <td>2020</td>\n",
       "      <td>Transports</td>\n",
       "      <td>Transport aérien</td>\n",
       "      <td>Transport aérien militaire</td>\n",
       "      <td>9.700063e+03</td>\n",
       "    </tr>\n",
       "    <tr>\n",
       "      <th>1415</th>\n",
       "      <td>2020</td>\n",
       "      <td>Transports</td>\n",
       "      <td>Transport ferroviaire</td>\n",
       "      <td>Transport ferroviaire</td>\n",
       "      <td>4.987667e+05</td>\n",
       "    </tr>\n",
       "    <tr>\n",
       "      <th>1416</th>\n",
       "      <td>2020</td>\n",
       "      <td>Transports</td>\n",
       "      <td>Transport maritime</td>\n",
       "      <td>Transport maritime intérieur</td>\n",
       "      <td>1.063726e+06</td>\n",
       "    </tr>\n",
       "    <tr>\n",
       "      <th>1417</th>\n",
       "      <td>2020</td>\n",
       "      <td>Transports</td>\n",
       "      <td>Transport maritime</td>\n",
       "      <td>Transport maritime pêcheries</td>\n",
       "      <td>1.336989e+04</td>\n",
       "    </tr>\n",
       "    <tr>\n",
       "      <th>1418</th>\n",
       "      <td>2020</td>\n",
       "      <td>Transports</td>\n",
       "      <td>Transport maritime</td>\n",
       "      <td>Transport maritime militaire</td>\n",
       "      <td>8.938407e+03</td>\n",
       "    </tr>\n",
       "  </tbody>\n",
       "</table>\n",
       "<p>496 rows × 5 columns</p>\n",
       "</div>"
      ],
      "text/plain": [
       "      Annee     Secteur           Sous-secteur  \\\n",
       "0      1990  Transports      Transport routier   \n",
       "1      1990  Transports      Transport routier   \n",
       "2      1990  Transports      Transport routier   \n",
       "3      1990  Transports      Transport routier   \n",
       "4      1990  Transports      Autres transports   \n",
       "...     ...         ...                    ...   \n",
       "1414   2020  Transports       Transport aérien   \n",
       "1415   2020  Transports  Transport ferroviaire   \n",
       "1416   2020  Transports     Transport maritime   \n",
       "1417   2020  Transports     Transport maritime   \n",
       "1418   2020  Transports     Transport maritime   \n",
       "\n",
       "                                             Categorie  Emissions(t_eq_CO2)  \n",
       "0                                          Automobiles         1.085804e+07  \n",
       "1                                       Camions légers         3.636960e+06  \n",
       "2                                     Véhicules lourds         3.602432e+06  \n",
       "3                           Autres transports routiers         1.824648e+04  \n",
       "4     Véhicules hors route - Agriculture et foresterie         9.985400e+05  \n",
       "...                                                ...                  ...  \n",
       "1414                        Transport aérien militaire         9.700063e+03  \n",
       "1415                             Transport ferroviaire         4.987667e+05  \n",
       "1416                      Transport maritime intérieur         1.063726e+06  \n",
       "1417                      Transport maritime pêcheries         1.336989e+04  \n",
       "1418                      Transport maritime militaire         8.938407e+03  \n",
       "\n",
       "[496 rows x 5 columns]"
      ]
     },
     "execution_count": 128,
     "metadata": {},
     "output_type": "execute_result"
    }
   ],
   "source": [
    "df_transports = df[df['Secteur']=='Transports']\n",
    "df_transports"
   ]
  },
  {
   "cell_type": "markdown",
   "id": "4d5f4ebd-8aa0-40d7-86c1-7532e23ed25f",
   "metadata": {},
   "source": [
    "---\n",
    "## Obtention du total par année:"
   ]
  },
  {
   "cell_type": "code",
   "execution_count": 107,
   "id": "ef690be2-b925-4af5-9652-73ae26970895",
   "metadata": {},
   "outputs": [
    {
     "data": {
      "text/html": [
       "<div>\n",
       "<style scoped>\n",
       "    .dataframe tbody tr th:only-of-type {\n",
       "        vertical-align: middle;\n",
       "    }\n",
       "\n",
       "    .dataframe tbody tr th {\n",
       "        vertical-align: top;\n",
       "    }\n",
       "\n",
       "    .dataframe thead th {\n",
       "        text-align: right;\n",
       "    }\n",
       "</style>\n",
       "<table border=\"1\" class=\"dataframe\">\n",
       "  <thead>\n",
       "    <tr style=\"text-align: right;\">\n",
       "      <th></th>\n",
       "      <th>Annee</th>\n",
       "      <th>Emissions(t_eq_CO2)</th>\n",
       "    </tr>\n",
       "  </thead>\n",
       "  <tbody>\n",
       "    <tr>\n",
       "      <th>0</th>\n",
       "      <td>1990</td>\n",
       "      <td>1.085804e+07</td>\n",
       "    </tr>\n",
       "    <tr>\n",
       "      <th>1</th>\n",
       "      <td>1990</td>\n",
       "      <td>3.636960e+06</td>\n",
       "    </tr>\n",
       "    <tr>\n",
       "      <th>2</th>\n",
       "      <td>1990</td>\n",
       "      <td>3.602432e+06</td>\n",
       "    </tr>\n",
       "    <tr>\n",
       "      <th>3</th>\n",
       "      <td>1990</td>\n",
       "      <td>1.824648e+04</td>\n",
       "    </tr>\n",
       "    <tr>\n",
       "      <th>4</th>\n",
       "      <td>1990</td>\n",
       "      <td>9.985400e+05</td>\n",
       "    </tr>\n",
       "    <tr>\n",
       "      <th>...</th>\n",
       "      <td>...</td>\n",
       "      <td>...</td>\n",
       "    </tr>\n",
       "    <tr>\n",
       "      <th>1445</th>\n",
       "      <td>2020</td>\n",
       "      <td>6.994292e+04</td>\n",
       "    </tr>\n",
       "    <tr>\n",
       "      <th>1446</th>\n",
       "      <td>2020</td>\n",
       "      <td>7.126235e+04</td>\n",
       "    </tr>\n",
       "    <tr>\n",
       "      <th>1447</th>\n",
       "      <td>2020</td>\n",
       "      <td>4.134772e+05</td>\n",
       "    </tr>\n",
       "    <tr>\n",
       "      <th>1448</th>\n",
       "      <td>2020</td>\n",
       "      <td>2.124926e+05</td>\n",
       "    </tr>\n",
       "    <tr>\n",
       "      <th>1449</th>\n",
       "      <td>2020</td>\n",
       "      <td>2.290484e+05</td>\n",
       "    </tr>\n",
       "  </tbody>\n",
       "</table>\n",
       "<p>1450 rows × 2 columns</p>\n",
       "</div>"
      ],
      "text/plain": [
       "      Annee  Emissions(t_eq_CO2)\n",
       "0      1990         1.085804e+07\n",
       "1      1990         3.636960e+06\n",
       "2      1990         3.602432e+06\n",
       "3      1990         1.824648e+04\n",
       "4      1990         9.985400e+05\n",
       "...     ...                  ...\n",
       "1445   2020         6.994292e+04\n",
       "1446   2020         7.126235e+04\n",
       "1447   2020         4.134772e+05\n",
       "1448   2020         2.124926e+05\n",
       "1449   2020         2.290484e+05\n",
       "\n",
       "[1450 rows x 2 columns]"
      ]
     },
     "execution_count": 107,
     "metadata": {},
     "output_type": "execute_result"
    }
   ],
   "source": [
    "df[['Annee','Emissions(t_eq_CO2)']]"
   ]
  },
  {
   "cell_type": "code",
   "execution_count": 108,
   "id": "d0774833-abbc-4e54-a140-86ec7a0581ee",
   "metadata": {},
   "outputs": [
    {
     "data": {
      "text/plain": [
       "<pandas.core.groupby.generic.DataFrameGroupBy object at 0x11f94da30>"
      ]
     },
     "execution_count": 108,
     "metadata": {},
     "output_type": "execute_result"
    }
   ],
   "source": [
    "df[['Annee','Emissions(t_eq_CO2)']].groupby('Annee')"
   ]
  },
  {
   "cell_type": "code",
   "execution_count": 131,
   "id": "9218e832-f8ed-4fe2-ad62-1dbd88971df2",
   "metadata": {},
   "outputs": [],
   "source": [
    "df_total1 = df[['Annee','Emissions(t_eq_CO2)']].groupby('Annee').sum()\n",
    "df_total1;"
   ]
  },
  {
   "cell_type": "code",
   "execution_count": 126,
   "id": "72841420-1f9a-487d-bb1c-c463524f1baa",
   "metadata": {},
   "outputs": [
    {
     "data": {
      "text/plain": [
       "Index(['Emissions(t_eq_CO2)'], dtype='object')"
      ]
     },
     "execution_count": 126,
     "metadata": {},
     "output_type": "execute_result"
    }
   ],
   "source": [
    "df_total1.columns"
   ]
  },
  {
   "cell_type": "code",
   "execution_count": 133,
   "id": "6f268315-e36c-4505-bcab-f8fde1ee67ff",
   "metadata": {},
   "outputs": [
    {
     "data": {
      "text/plain": [
       "<Axes: xlabel='Annee'>"
      ]
     },
     "execution_count": 133,
     "metadata": {},
     "output_type": "execute_result"
    },
    {
     "data": {
      "image/png": "[encoded data removed]",
      "text/plain": [
       "<Figure size 640x480 with 1 Axes>"
      ]
     },
     "metadata": {},
     "output_type": "display_data"
    }
   ],
   "source": [
    "df_total1.plot()"
   ]
  },
  {
   "cell_type": "code",
   "execution_count": 134,
   "id": "83de3a26",
   "metadata": {
    "lines_to_next_cell": 0
   },
   "outputs": [],
   "source": [
    "#Pour les transports seulement\n",
    "df_transports = df[df['Secteur']=='Transports']\n",
    "df_total2 = df_transports[['Annee','Emissions(t_eq_CO2)']].groupby('Annee').sum()\n",
    "df_total2;"
   ]
  },
  {
   "cell_type": "code",
   "execution_count": 135,
   "id": "e4bec8c9",
   "metadata": {
    "lines_to_next_cell": 0
   },
   "outputs": [],
   "source": [
    "result = pd.merge(df_total1, df_total2,on=[\"Annee\"])\n",
    "result;"
   ]
  },
  {
   "cell_type": "code",
   "execution_count": 130,
   "id": "0b799b09",
   "metadata": {
    "lines_to_next_cell": 0
   },
   "outputs": [
    {
     "data": {
      "text/plain": [
       "<Axes: xlabel='Annee'>"
      ]
     },
     "execution_count": 130,
     "metadata": {},
     "output_type": "execute_result"
    },
    {
     "data": {
      "image/png": "[encoded data removed]",
      "text/plain": [
       "<Figure size 640x480 with 1 Axes>"
      ]
     },
     "metadata": {},
     "output_type": "display_data"
    }
   ],
   "source": [
    "result = pd.merge(df_total1, df_total2, on=[\"Annee\"])\n",
    "result.plot()"
   ]
  },
  {
   "cell_type": "code",
   "execution_count": null,
   "id": "300d01c7",
   "metadata": {
    "lines_to_next_cell": 0
   },
   "outputs": [],
   "source": []
  },
  {
   "cell_type": "code",
   "execution_count": null,
   "id": "27a88b19",
   "metadata": {
    "lines_to_next_cell": 0
   },
   "outputs": [],
   "source": []
  },
  {
   "cell_type": "code",
   "execution_count": null,
   "id": "0ca0dcc0",
   "metadata": {
    "lines_to_next_cell": 0
   },
   "outputs": [],
   "source": []
  },
  {
   "cell_type": "code",
   "execution_count": null,
   "id": "e9f8550b",
   "metadata": {
    "lines_to_next_cell": 0
   },
   "outputs": [],
   "source": []
  },
  {
   "cell_type": "code",
   "execution_count": null,
   "id": "5f1da4ab",
   "metadata": {},
   "outputs": [],
   "source": [
    "\n",
    "\n"
   ]
  },
  {
   "cell_type": "markdown",
   "id": "3782dbd9",
   "metadata": {},
   "source": [
    "Texte explicatif image\n",
    "![title0](img/presentation.png)"
   ]
  },
  {
   "cell_type": "markdown",
   "id": "ca65f2e9",
   "metadata": {},
   "source": [
    "Le lien est le suivant [example.com](https://example.com/ \"https://example.com/\")."
   ]
  },
  {
   "cell_type": "code",
   "execution_count": null,
   "id": "4d62b9a0",
   "metadata": {
    "lines_to_next_cell": 3
   },
   "outputs": [],
   "source": [
    "# input 1"
   ]
  }
 ],
 "metadata": {
  "jupytext": {
   "formats": "py:percent,.//ipynb"
  },
  "kernelspec": {
   "display_name": "Python 3 (ipykernel)",
   "language": "python",
   "name": "python3"
  },
  "language_info": {
   "codemirror_mode": {
    "name": "ipython",
    "version": 3
   },
   "file_extension": ".py",
   "mimetype": "text/x-python",
   "name": "python",
   "nbconvert_exporter": "python",
   "pygments_lexer": "ipython3",
   "version": "3.12.0"
  }
 },
 "nbformat": 4,
 "nbformat_minor": 5
}
