{
 "cells": [
  {
   "cell_type": "markdown",
   "id": "44dbd6bc",
   "metadata": {},
   "source": [
    "# Les gaz à effet de serre au Québec\n",
    "---"
   ]
  },
  {
   "cell_type": "markdown",
   "id": "a9dbe2da",
   "metadata": {},
   "source": [
    "<div style=\"text-align: center;\">\n",
    "    <img src=\"./img/_cc50555b-1857-4a03-a71b-744befcfb323.jpeg\" alt=\"Drawing\" style=\"width: 300px;\"/>\n",
    "</div>"
   ]
  },
  {
   "cell_type": "markdown",
   "id": "46878be2",
   "metadata": {},
   "source": [
    "Les données de l'inventaire québécois des émissions de gaz à effet de serre, sont disponibles chez [Données Québec](https://www.donneesquebec.ca/recherche/dataset/inventaire-quebecois-des-emissions-de-gaz-a-effet-de-serre \"https://www.donneesquebec.ca/recherche/dataset/inventaire-quebecois-des-emissions-de-gaz-a-effet-de-serre\"):\n",
    "\n",
    "> \"L’inventaire des émissions de gaz à effet de serre (GES) produits par l’activité humaine au Québec est tenu à jour annuellement depuis 1990 \n",
    "par le ministère de l’Environnement, de la Lutte contre les changements climatiques, de la Faune et des Parcs. Cet inventaire est établi à partir de données recueillies auprès d’entreprises et d’institutions et se base sur des données obtenues principalement de Statistique Canada, d’Environnement et Changement climatique Canada (ECCC) et de ministères et organismes du Québec.\" \n",
    "\n",
    "Dernière modification du jeux de données pour ce notebook : 2022-12-21 "
   ]
  },
  {
   "cell_type": "markdown",
   "id": "b59f5f48",
   "metadata": {},
   "source": [
    "---\n",
    "# Objectifs:\n",
    "\n",
    "L'objectif de ce notebook est d'utiliser la méthode `groupby`\n",
    " relative aux dataframes afin d'obtenir le total des GES émis par secteur d'activité."
   ]
  },
  {
   "cell_type": "markdown",
   "id": "efcb079f",
   "metadata": {},
   "source": [
    "---\n",
    "# Importation des données"
   ]
  },
  {
   "cell_type": "markdown",
   "id": "a12d3fda",
   "metadata": {},
   "source": [
    "Afin de lire et d'explorer les données, nous utilisons la librairie pandas avec toutes les fonctionnalités des Dataframes. "
   ]
  },
  {
   "cell_type": "code",
   "execution_count": 1,
   "id": "5df6c367",
   "metadata": {},
   "outputs": [
    {
     "data": {
      "text/html": [
       "<div>\n",
       "<style scoped>\n",
       "    .dataframe tbody tr th:only-of-type {\n",
       "        vertical-align: middle;\n",
       "    }\n",
       "\n",
       "    .dataframe tbody tr th {\n",
       "        vertical-align: top;\n",
       "    }\n",
       "\n",
       "    .dataframe thead th {\n",
       "        text-align: right;\n",
       "    }\n",
       "</style>\n",
       "<table border=\"1\" class=\"dataframe\">\n",
       "  <thead>\n",
       "    <tr style=\"text-align: right;\">\n",
       "      <th></th>\n",
       "      <th>Annee</th>\n",
       "      <th>Secteur</th>\n",
       "      <th>Sous-secteur</th>\n",
       "      <th>Categorie</th>\n",
       "      <th>Emissions(t_eq_CO2)</th>\n",
       "    </tr>\n",
       "  </thead>\n",
       "  <tbody>\n",
       "    <tr>\n",
       "      <th>0</th>\n",
       "      <td>1990</td>\n",
       "      <td>Transports</td>\n",
       "      <td>Transport routier</td>\n",
       "      <td>Automobiles</td>\n",
       "      <td>1.085804e+07</td>\n",
       "    </tr>\n",
       "    <tr>\n",
       "      <th>1</th>\n",
       "      <td>1990</td>\n",
       "      <td>Transports</td>\n",
       "      <td>Transport routier</td>\n",
       "      <td>Camions légers</td>\n",
       "      <td>3.636960e+06</td>\n",
       "    </tr>\n",
       "    <tr>\n",
       "      <th>2</th>\n",
       "      <td>1990</td>\n",
       "      <td>Transports</td>\n",
       "      <td>Transport routier</td>\n",
       "      <td>Véhicules lourds</td>\n",
       "      <td>3.602432e+06</td>\n",
       "    </tr>\n",
       "    <tr>\n",
       "      <th>3</th>\n",
       "      <td>1990</td>\n",
       "      <td>Transports</td>\n",
       "      <td>Transport routier</td>\n",
       "      <td>Autres transports routiers</td>\n",
       "      <td>1.824648e+04</td>\n",
       "    </tr>\n",
       "    <tr>\n",
       "      <th>4</th>\n",
       "      <td>1990</td>\n",
       "      <td>Transports</td>\n",
       "      <td>Autres transports</td>\n",
       "      <td>Véhicules hors route - Agriculture et foresterie</td>\n",
       "      <td>9.985400e+05</td>\n",
       "    </tr>\n",
       "    <tr>\n",
       "      <th>...</th>\n",
       "      <td>...</td>\n",
       "      <td>...</td>\n",
       "      <td>...</td>\n",
       "      <td>...</td>\n",
       "      <td>...</td>\n",
       "    </tr>\n",
       "    <tr>\n",
       "      <th>1445</th>\n",
       "      <td>2020</td>\n",
       "      <td>Matières résiduelles</td>\n",
       "      <td>Lieux d'enfouissement réservés aux usines de p...</td>\n",
       "      <td>Lieux d'enfouissement réservés aux usines de p...</td>\n",
       "      <td>6.994292e+04</td>\n",
       "    </tr>\n",
       "    <tr>\n",
       "      <th>1446</th>\n",
       "      <td>2020</td>\n",
       "      <td>Matières résiduelles</td>\n",
       "      <td>Traitement biologique des matières résiduelles</td>\n",
       "      <td>Traitement biologique des matières résiduelles</td>\n",
       "      <td>7.126235e+04</td>\n",
       "    </tr>\n",
       "    <tr>\n",
       "      <th>1447</th>\n",
       "      <td>2020</td>\n",
       "      <td>Matières résiduelles</td>\n",
       "      <td>Traitement et rejet des eaux usées municipales</td>\n",
       "      <td>Traitement et rejet des eaux usées municipales</td>\n",
       "      <td>4.134772e+05</td>\n",
       "    </tr>\n",
       "    <tr>\n",
       "      <th>1448</th>\n",
       "      <td>2020</td>\n",
       "      <td>Matières résiduelles</td>\n",
       "      <td>Incinération des matières résiduelles</td>\n",
       "      <td>Incinération des matières résiduelles</td>\n",
       "      <td>2.124926e+05</td>\n",
       "    </tr>\n",
       "    <tr>\n",
       "      <th>1449</th>\n",
       "      <td>2020</td>\n",
       "      <td>Électricité</td>\n",
       "      <td>Électricité</td>\n",
       "      <td>Centrales thermiques publiques</td>\n",
       "      <td>2.290484e+05</td>\n",
       "    </tr>\n",
       "  </tbody>\n",
       "</table>\n",
       "<p>1450 rows × 5 columns</p>\n",
       "</div>"
      ],
      "text/plain": [
       "      Annee               Secteur  \\\n",
       "0      1990            Transports   \n",
       "1      1990            Transports   \n",
       "2      1990            Transports   \n",
       "3      1990            Transports   \n",
       "4      1990            Transports   \n",
       "...     ...                   ...   \n",
       "1445   2020  Matières résiduelles   \n",
       "1446   2020  Matières résiduelles   \n",
       "1447   2020  Matières résiduelles   \n",
       "1448   2020  Matières résiduelles   \n",
       "1449   2020           Électricité   \n",
       "\n",
       "                                           Sous-secteur  \\\n",
       "0                                     Transport routier   \n",
       "1                                     Transport routier   \n",
       "2                                     Transport routier   \n",
       "3                                     Transport routier   \n",
       "4                                     Autres transports   \n",
       "...                                                 ...   \n",
       "1445  Lieux d'enfouissement réservés aux usines de p...   \n",
       "1446     Traitement biologique des matières résiduelles   \n",
       "1447     Traitement et rejet des eaux usées municipales   \n",
       "1448              Incinération des matières résiduelles   \n",
       "1449                                        Électricité   \n",
       "\n",
       "                                              Categorie  Emissions(t_eq_CO2)  \n",
       "0                                           Automobiles         1.085804e+07  \n",
       "1                                        Camions légers         3.636960e+06  \n",
       "2                                      Véhicules lourds         3.602432e+06  \n",
       "3                            Autres transports routiers         1.824648e+04  \n",
       "4      Véhicules hors route - Agriculture et foresterie         9.985400e+05  \n",
       "...                                                 ...                  ...  \n",
       "1445  Lieux d'enfouissement réservés aux usines de p...         6.994292e+04  \n",
       "1446     Traitement biologique des matières résiduelles         7.126235e+04  \n",
       "1447     Traitement et rejet des eaux usées municipales         4.134772e+05  \n",
       "1448              Incinération des matières résiduelles         2.124926e+05  \n",
       "1449                     Centrales thermiques publiques         2.290484e+05  \n",
       "\n",
       "[1450 rows x 5 columns]"
      ]
     },
     "execution_count": 1,
     "metadata": {},
     "output_type": "execute_result"
    }
   ],
   "source": [
    "# Initialisation de la librairie Pandas.\n",
    "import pandas as pd\n",
    "\n",
    "# Importation des données. Le fichier csv (coma-separated-value) se nomme \"inventaire-ges.csv\" \n",
    "# et les données sont séparées par des points-virgules (;).\n",
    "df = pd.read_csv('./fichiers_input/inventaire-ges.csv',sep = ';')\n",
    "df"
   ]
  },
  {
   "cell_type": "code",
   "execution_count": null,
   "id": "47417ff2",
   "metadata": {
    "lines_to_next_cell": 2
   },
   "outputs": [],
   "source": [
    "# Le nombre de ligne (rows) et de colonne (columns) est: \n",
    "df.shape"
   ]
  },
  {
   "cell_type": "code",
   "execution_count": null,
   "id": "751e6556",
   "metadata": {
    "lines_to_next_cell": 0
   },
   "outputs": [],
   "source": [
    "# Le nom des colonnes, sous forme d'une array numpy. \n",
    "\n",
    "df.columns"
   ]
  },
  {
   "cell_type": "code",
   "execution_count": null,
   "id": "f5897eb2",
   "metadata": {},
   "outputs": [],
   "source": [
    "# Le nom des colonnes, sous forme d'une liste normale.\n",
    "\n",
    "df.columns.tolist()"
   ]
  },
  {
   "cell_type": "code",
   "execution_count": null,
   "id": "a579203b",
   "metadata": {},
   "outputs": [],
   "source": [
    "# Le types de variables dans chaque colonne: \n",
    "\n",
    "df.dtypes"
   ]
  },
  {
   "cell_type": "code",
   "execution_count": null,
   "id": "0c1b5382",
   "metadata": {},
   "outputs": [],
   "source": [
    "# L'index du dataframe: \n",
    "\n",
    "df.index"
   ]
  },
  {
   "cell_type": "code",
   "execution_count": null,
   "id": "6d89dc6c",
   "metadata": {
    "lines_to_next_cell": 2
   },
   "outputs": [],
   "source": [
    "# Pour travailler les éléments d'une seule colonne, il faut travailler avec les Séries:\n",
    "df['Annee'];"
   ]
  },
  {
   "cell_type": "code",
   "execution_count": null,
   "id": "c5f135e7",
   "metadata": {
    "lines_to_next_cell": 0
   },
   "outputs": [],
   "source": [
    "# Élements uniques de la colonne Secteur. Sous forme d'une liste normale.\n",
    "secteurs = df['Secteur'].unique().tolist()\n",
    "secteurs"
   ]
  },
  {
   "cell_type": "code",
   "execution_count": null,
   "id": "8df44e38",
   "metadata": {
    "lines_to_next_cell": 0
   },
   "outputs": [],
   "source": [
    "# Élements uniques de la colonne Sous-secteur. Sous forme d'une liste normale.\n",
    "df['Sous-secteur'].unique().tolist();"
   ]
  },
  {
   "cell_type": "code",
   "execution_count": null,
   "id": "f3eca0ce",
   "metadata": {},
   "outputs": [],
   "source": [
    "# Élements uniques de la colonne 'Categorie'. Sous forme d'une liste normale.\n",
    "df['Categorie'].unique().tolist();"
   ]
  },
  {
   "cell_type": "code",
   "execution_count": null,
   "id": "fc20100f",
   "metadata": {},
   "outputs": [],
   "source": [
    "# Élements absents\n",
    "df.isna().sum()"
   ]
  },
  {
   "cell_type": "code",
   "execution_count": null,
   "id": "fecd8030",
   "metadata": {},
   "outputs": [],
   "source": [
    "df.isnull().sum()"
   ]
  },
  {
   "cell_type": "markdown",
   "id": "da20d65c",
   "metadata": {},
   "source": [
    "---\n",
    "# Constructions de la nouvelle dataframe: \n",
    "\n",
    "Les étapes pour construire df_secteurs_total sont:"
   ]
  },
  {
   "cell_type": "markdown",
   "id": "e70d0889",
   "metadata": {},
   "source": [
    "---\n",
    "## Construction 1: obtention du total par année:"
   ]
  },
  {
   "cell_type": "code",
   "execution_count": null,
   "id": "feade8e2",
   "metadata": {},
   "outputs": [],
   "source": [
    "df[['Annee','Emissions(t_eq_CO2)']]"
   ]
  },
  {
   "cell_type": "code",
   "execution_count": null,
   "id": "915c5b52",
   "metadata": {},
   "outputs": [],
   "source": [
    "df[['Annee','Emissions(t_eq_CO2)']].groupby('Annee')"
   ]
  },
  {
   "cell_type": "code",
   "execution_count": null,
   "id": "3d38f22d",
   "metadata": {},
   "outputs": [],
   "source": [
    "df_total = df[['Annee','Emissions(t_eq_CO2)']].groupby('Annee').sum()\n",
    "df_total;"
   ]
  },
  {
   "cell_type": "code",
   "execution_count": null,
   "id": "492878a6",
   "metadata": {},
   "outputs": [],
   "source": [
    "df_total.columns"
   ]
  },
  {
   "cell_type": "code",
   "execution_count": null,
   "id": "8f2cf8a9",
   "metadata": {},
   "outputs": [],
   "source": [
    "df_total = df_total.rename(columns={\"Emissions(t_eq_CO2)\": \"Emissions(t_eq_CO2)-Total\"})"
   ]
  },
  {
   "cell_type": "code",
   "execution_count": null,
   "id": "a4275296",
   "metadata": {},
   "outputs": [],
   "source": [
    "df_total.describe()"
   ]
  },
  {
   "cell_type": "code",
   "execution_count": null,
   "id": "098fcf1d",
   "metadata": {},
   "outputs": [],
   "source": [
    "df_total.plot()"
   ]
  },
  {
   "cell_type": "markdown",
   "id": "ad426b6a",
   "metadata": {},
   "source": [
    "---\n",
    "## Construction 2: obtention du total par année pour le secteur 'Transports':"
   ]
  },
  {
   "cell_type": "code",
   "execution_count": null,
   "id": "d2c9cfdd",
   "metadata": {
    "lines_to_next_cell": 0
   },
   "outputs": [],
   "source": [
    "#Pour les transports seulement\n",
    "df_transports = df[df['Secteur']=='Transports']\n",
    "df_transports_total = df_transports[['Annee','Emissions(t_eq_CO2)']].groupby('Annee').sum()\n",
    "df_transports_total = df_transports_total.rename(columns={\"Emissions(t_eq_CO2)\": \"Emissions(t_eq_CO2)-Transports\"})\n",
    "df_transports_total;"
   ]
  },
  {
   "cell_type": "code",
   "execution_count": null,
   "id": "b0652989",
   "metadata": {
    "lines_to_next_cell": 0
   },
   "outputs": [],
   "source": [
    "df_merge = pd.merge(df_total, df_transports_total, on=[\"Annee\"])\n",
    "# df_merge"
   ]
  },
  {
   "cell_type": "code",
   "execution_count": null,
   "id": "0e6f8e03",
   "metadata": {},
   "outputs": [],
   "source": [
    "df_merge = df_total.merge(df_transports_total,on=[\"Annee\"])\n",
    "# df_merge"
   ]
  },
  {
   "cell_type": "markdown",
   "id": "c1c596a9",
   "metadata": {},
   "source": [
    "---\n",
    "## Construction 3: obtention du total par année pour tous les secteurs:"
   ]
  },
  {
   "cell_type": "code",
   "execution_count": null,
   "id": "130cb70e",
   "metadata": {},
   "outputs": [],
   "source": [
    "secteurs"
   ]
  },
  {
   "cell_type": "code",
   "execution_count": null,
   "id": "ae9b91c5",
   "metadata": {},
   "outputs": [],
   "source": [
    "# Initialisation du DataFrame résultant avec le premier DataFrame\n",
    "df_secteurs_total = df_total\n",
    "\n",
    "for secteur in secteurs:\n",
    "    df_secteur = df[df['Secteur']==secteur]\n",
    "    df_secteur_total = df_secteur[['Annee','Emissions(t_eq_CO2)']].groupby('Annee').sum()\n",
    "    df_secteur_total = df_secteur_total.rename(columns={\"Emissions(t_eq_CO2)\": f'Emissions(t_eq_CO2)-{secteur}'})\n",
    "    df_secteurs_total = df_secteurs_total.merge(df_secteur_total, on=[\"Annee\"])\n",
    "\n",
    "df_secteurs_total  "
   ]
  },
  {
   "cell_type": "code",
   "execution_count": null,
   "id": "5ae75840",
   "metadata": {},
   "outputs": [],
   "source": [
    "df_secteurs_total.plot()"
   ]
  },
  {
   "cell_type": "markdown",
   "id": "c8e8acee",
   "metadata": {
    "lines_to_next_cell": 0
   },
   "source": [
    "---\n",
    "# Exportation de la nouvelle dataframe:"
   ]
  },
  {
   "cell_type": "code",
   "execution_count": null,
   "id": "d3266bde",
   "metadata": {
    "lines_to_next_cell": 0
   },
   "outputs": [],
   "source": [
    "df_secteurs_total.to_excel(\"./fichiers_output/df_secteurs_total.xlsx\",sheet_name='Emissions(t_eq_CO2) par secteur') "
   ]
  },
  {
   "cell_type": "code",
   "execution_count": null,
   "id": "d0aef11d",
   "metadata": {
    "lines_to_next_cell": 2
   },
   "outputs": [],
   "source": [
    "df_secteurs_total.to_csv(\"./fichiers_output/df_secteurs_total.csv\") "
   ]
  },
  {
   "cell_type": "markdown",
   "id": "922c6adf",
   "metadata": {},
   "source": []
  },
  {
   "cell_type": "markdown",
   "id": "b37091d2",
   "metadata": {},
   "source": []
  },
  {
   "cell_type": "code",
   "execution_count": null,
   "id": "f0f9dbe5",
   "metadata": {
    "lines_to_next_cell": 3
   },
   "outputs": [],
   "source": []
  }
 ],
 "metadata": {
  "jupytext": {
   "formats": "py:percent,.//ipynb"
  },
  "kernelspec": {
   "display_name": "Python 3 (ipykernel)",
   "language": "python",
   "name": "python3"
  },
  "language_info": {
   "codemirror_mode": {
    "name": "ipython",
    "version": 3
   },
   "file_extension": ".py",
   "mimetype": "text/x-python",
   "name": "python",
   "nbconvert_exporter": "python",
   "pygments_lexer": "ipython3",
   "version": "3.12.0"
  }
 },
 "nbformat": 4,
 "nbformat_minor": 5
}
