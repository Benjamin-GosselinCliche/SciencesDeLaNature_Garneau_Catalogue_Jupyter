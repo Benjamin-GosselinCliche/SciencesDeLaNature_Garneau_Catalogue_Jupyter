{
 "cells": [
  {
   "cell_type": "markdown",
   "id": "069ec959",
   "metadata": {},
   "source": [
    "# Les gaz à effet de serre au Québec\n",
    "---"
   ]
  },
  {
   "cell_type": "markdown",
   "id": "aaf6f5e1-11b2-4233-a7a4-5643d7952f2f",
   "metadata": {},
   "source": [
    "<div style=\"text-align: center;\">\n",
    "    <img src=\"./img/_cc50555b-1857-4a03-a71b-744befcfb323.jpeg\" alt=\"Drawing\" style=\"width: 300px;\"/>\n",
    "</div>"
   ]
  },
  {
   "cell_type": "markdown",
   "id": "c4989607",
   "metadata": {},
   "source": [
    "Les données de l'inventaire québécois des émissions de gaz à effet de serre, sont disponibles chez [Données Québec](https://www.donneesquebec.ca/recherche/dataset/inventaire-quebecois-des-emissions-de-gaz-a-effet-de-serre \"https://www.donneesquebec.ca/recherche/dataset/inventaire-quebecois-des-emissions-de-gaz-a-effet-de-serre\"):\n",
    "\n",
    "> \"L’inventaire des émissions de gaz à effet de serre (GES) produits par l’activité humaine au Québec est tenu à jour annuellement depuis 1990 \n",
    "par le ministère de l’Environnement, de la Lutte contre les changements climatiques, de la Faune et des Parcs. Cet inventaire est établi à partir de données recueillies auprès d’entreprises et d’institutions et se base sur des données obtenues principalement de Statistique Canada, d’Environnement et Changement climatique Canada (ECCC) et de ministères et organismes du Québec.\" \n",
    "\n",
    "Dernière modification du jeux de données pour ce notebook : 2022-12-21 "
   ]
  },
  {
   "cell_type": "markdown",
   "id": "9f4dea91-d224-4303-889a-90ab47d01d05",
   "metadata": {},
   "source": [
    "---\n",
    "# Objectifs:\n",
    "\n",
    "L'objectif de ce notebook est d'utiliser la méthode `groupby`\n",
    " relative aux dataframes afin d'obtenir le total des GES émis par secteur d'activité."
   ]
  },
  {
   "cell_type": "markdown",
   "id": "9d8f40f1-ad16-449a-84a5-a6d90c354334",
   "metadata": {},
   "source": [
    "---\n",
    "# Importation des données"
   ]
  },
  {
   "cell_type": "markdown",
   "id": "c67efcbf",
   "metadata": {},
   "source": [
    "Afin de lire et d'explorer les données, nous utilisons la librairie pandas avec toutes les fonctionnalités des Dataframes. "
   ]
  },
  {
   "cell_type": "code",
   "execution_count": 218,
   "id": "c9d5409d",
   "metadata": {},
   "outputs": [
    {
     "data": {
      "text/html": [
       "<div>\n",
       "<style scoped>\n",
       "    .dataframe tbody tr th:only-of-type {\n",
       "        vertical-align: middle;\n",
       "    }\n",
       "\n",
       "    .dataframe tbody tr th {\n",
       "        vertical-align: top;\n",
       "    }\n",
       "\n",
       "    .dataframe thead th {\n",
       "        text-align: right;\n",
       "    }\n",
       "</style>\n",
       "<table border=\"1\" class=\"dataframe\">\n",
       "  <thead>\n",
       "    <tr style=\"text-align: right;\">\n",
       "      <th></th>\n",
       "      <th>Annee</th>\n",
       "      <th>Secteur</th>\n",
       "      <th>Sous-secteur</th>\n",
       "      <th>Categorie</th>\n",
       "      <th>Emissions(t_eq_CO2)</th>\n",
       "    </tr>\n",
       "  </thead>\n",
       "  <tbody>\n",
       "    <tr>\n",
       "      <th>0</th>\n",
       "      <td>1990</td>\n",
       "      <td>Transports</td>\n",
       "      <td>Transport routier</td>\n",
       "      <td>Automobiles</td>\n",
       "      <td>1.085804e+07</td>\n",
       "    </tr>\n",
       "    <tr>\n",
       "      <th>1</th>\n",
       "      <td>1990</td>\n",
       "      <td>Transports</td>\n",
       "      <td>Transport routier</td>\n",
       "      <td>Camions légers</td>\n",
       "      <td>3.636960e+06</td>\n",
       "    </tr>\n",
       "    <tr>\n",
       "      <th>2</th>\n",
       "      <td>1990</td>\n",
       "      <td>Transports</td>\n",
       "      <td>Transport routier</td>\n",
       "      <td>Véhicules lourds</td>\n",
       "      <td>3.602432e+06</td>\n",
       "    </tr>\n",
       "    <tr>\n",
       "      <th>3</th>\n",
       "      <td>1990</td>\n",
       "      <td>Transports</td>\n",
       "      <td>Transport routier</td>\n",
       "      <td>Autres transports routiers</td>\n",
       "      <td>1.824648e+04</td>\n",
       "    </tr>\n",
       "    <tr>\n",
       "      <th>4</th>\n",
       "      <td>1990</td>\n",
       "      <td>Transports</td>\n",
       "      <td>Autres transports</td>\n",
       "      <td>Véhicules hors route - Agriculture et foresterie</td>\n",
       "      <td>9.985400e+05</td>\n",
       "    </tr>\n",
       "    <tr>\n",
       "      <th>...</th>\n",
       "      <td>...</td>\n",
       "      <td>...</td>\n",
       "      <td>...</td>\n",
       "      <td>...</td>\n",
       "      <td>...</td>\n",
       "    </tr>\n",
       "    <tr>\n",
       "      <th>1445</th>\n",
       "      <td>2020</td>\n",
       "      <td>Matières résiduelles</td>\n",
       "      <td>Lieux d'enfouissement réservés aux usines de p...</td>\n",
       "      <td>Lieux d'enfouissement réservés aux usines de p...</td>\n",
       "      <td>6.994292e+04</td>\n",
       "    </tr>\n",
       "    <tr>\n",
       "      <th>1446</th>\n",
       "      <td>2020</td>\n",
       "      <td>Matières résiduelles</td>\n",
       "      <td>Traitement biologique des matières résiduelles</td>\n",
       "      <td>Traitement biologique des matières résiduelles</td>\n",
       "      <td>7.126235e+04</td>\n",
       "    </tr>\n",
       "    <tr>\n",
       "      <th>1447</th>\n",
       "      <td>2020</td>\n",
       "      <td>Matières résiduelles</td>\n",
       "      <td>Traitement et rejet des eaux usées municipales</td>\n",
       "      <td>Traitement et rejet des eaux usées municipales</td>\n",
       "      <td>4.134772e+05</td>\n",
       "    </tr>\n",
       "    <tr>\n",
       "      <th>1448</th>\n",
       "      <td>2020</td>\n",
       "      <td>Matières résiduelles</td>\n",
       "      <td>Incinération des matières résiduelles</td>\n",
       "      <td>Incinération des matières résiduelles</td>\n",
       "      <td>2.124926e+05</td>\n",
       "    </tr>\n",
       "    <tr>\n",
       "      <th>1449</th>\n",
       "      <td>2020</td>\n",
       "      <td>Électricité</td>\n",
       "      <td>Électricité</td>\n",
       "      <td>Centrales thermiques publiques</td>\n",
       "      <td>2.290484e+05</td>\n",
       "    </tr>\n",
       "  </tbody>\n",
       "</table>\n",
       "<p>1450 rows × 5 columns</p>\n",
       "</div>"
      ],
      "text/plain": [
       "      Annee               Secteur  \\\n",
       "0      1990            Transports   \n",
       "1      1990            Transports   \n",
       "2      1990            Transports   \n",
       "3      1990            Transports   \n",
       "4      1990            Transports   \n",
       "...     ...                   ...   \n",
       "1445   2020  Matières résiduelles   \n",
       "1446   2020  Matières résiduelles   \n",
       "1447   2020  Matières résiduelles   \n",
       "1448   2020  Matières résiduelles   \n",
       "1449   2020           Électricité   \n",
       "\n",
       "                                           Sous-secteur  \\\n",
       "0                                     Transport routier   \n",
       "1                                     Transport routier   \n",
       "2                                     Transport routier   \n",
       "3                                     Transport routier   \n",
       "4                                     Autres transports   \n",
       "...                                                 ...   \n",
       "1445  Lieux d'enfouissement réservés aux usines de p...   \n",
       "1446     Traitement biologique des matières résiduelles   \n",
       "1447     Traitement et rejet des eaux usées municipales   \n",
       "1448              Incinération des matières résiduelles   \n",
       "1449                                        Électricité   \n",
       "\n",
       "                                              Categorie  Emissions(t_eq_CO2)  \n",
       "0                                           Automobiles         1.085804e+07  \n",
       "1                                        Camions légers         3.636960e+06  \n",
       "2                                      Véhicules lourds         3.602432e+06  \n",
       "3                            Autres transports routiers         1.824648e+04  \n",
       "4      Véhicules hors route - Agriculture et foresterie         9.985400e+05  \n",
       "...                                                 ...                  ...  \n",
       "1445  Lieux d'enfouissement réservés aux usines de p...         6.994292e+04  \n",
       "1446     Traitement biologique des matières résiduelles         7.126235e+04  \n",
       "1447     Traitement et rejet des eaux usées municipales         4.134772e+05  \n",
       "1448              Incinération des matières résiduelles         2.124926e+05  \n",
       "1449                     Centrales thermiques publiques         2.290484e+05  \n",
       "\n",
       "[1450 rows x 5 columns]"
      ]
     },
     "execution_count": 218,
     "metadata": {},
     "output_type": "execute_result"
    }
   ],
   "source": [
    "# Initialisation de la librairie Pandas.\n",
    "import pandas as pd\n",
    "\n",
    "# Importation des données. Le fichier csv (coma-separated-value) se nomme \"inventaire-ges.csv\" \n",
    "# et les données sont séparées par des points-virgules (;).\n",
    "df = pd.read_csv('./fichiers_input/inventaire-ges.csv',sep = ';')\n",
    "df"
   ]
  },
  {
   "cell_type": "markdown",
   "id": "dffcc997",
   "metadata": {
    "lines_to_next_cell": 0
   },
   "source": [
    "---\n",
    "# Informations de base sur le jeu de données:\n",
    "\n",
    "Pour bien comprendre les données dans un DataFrame pandas, vous devez examiner plusieurs aspects clés pour en tirer le meilleur parti. Voici une liste d'informations de base à prendre en compte :\n",
    "\n",
    "1. La structure du DataFrame :\n",
    "   - Le nombre de lignes (observations) et de colonnes (variables) dans le DataFrame.\n",
    "   - Les noms des colonnes, qui représentent les différentes variables.\n",
    "\n",
    "\n",
    "2. Les types de données :\n",
    "   - Vérifiez les types de données de chaque colonne à l'aide de `dtypes` pour vous assurer qu'ils sont corrects.\n",
    "\n",
    "3. Les valeurs uniques :\n",
    "   - Pour comprendre la variabilité des données catégoriques, utilisez `unique()` pour obtenir les valeurs uniques d'une colonne.\n",
    "\n",
    "```python\n",
    "df['colonne'].unique()\n",
    "```\n",
    "\n",
    "4. Les données manquantes :\n",
    "   - Utilisez `isna()` ou `isnull()` pour identifier les données manquantes dans le DataFrame.\n",
    "\n",
    "```python\n",
    "df.isna().sum()\n",
    "```\n",
    "\n",
    "  \n",
    "\n",
    "\n",
    "\n"
   ]
  },
  {
   "cell_type": "code",
   "execution_count": 140,
   "id": "aa1d58fb",
   "metadata": {
    "lines_to_next_cell": 2
   },
   "outputs": [
    {
     "data": {
      "text/plain": [
       "(1450, 5)"
      ]
     },
     "execution_count": 140,
     "metadata": {},
     "output_type": "execute_result"
    }
   ],
   "source": [
    "# Le nombre de ligne (rows) et de colonne (columns) est: \n",
    "df.shape"
   ]
  },
  {
   "cell_type": "code",
   "execution_count": 64,
   "id": "884cd17f",
   "metadata": {
    "lines_to_next_cell": 0
   },
   "outputs": [
    {
     "data": {
      "text/plain": [
       "Index(['Annee', 'Secteur', 'Sous-secteur', 'Categorie', 'Emissions(t_eq_CO2)'], dtype='object')"
      ]
     },
     "execution_count": 64,
     "metadata": {},
     "output_type": "execute_result"
    }
   ],
   "source": [
    "# Le nom des colonnes. Sous forme d'une array numpy. \n",
    "df.columns"
   ]
  },
  {
   "cell_type": "code",
   "execution_count": 78,
   "id": "d4b95e24",
   "metadata": {},
   "outputs": [
    {
     "data": {
      "text/plain": [
       "['Annee', 'Secteur', 'Sous-secteur', 'Categorie', 'Emissions(t_eq_CO2)']"
      ]
     },
     "execution_count": 78,
     "metadata": {},
     "output_type": "execute_result"
    }
   ],
   "source": [
    "# Le nom des colonnes, sous forme d'une liste normale.\n",
    "df.columns.tolist()"
   ]
  },
  {
   "cell_type": "code",
   "execution_count": 87,
   "id": "99c86784-e116-429a-a11c-e512232e4f82",
   "metadata": {},
   "outputs": [
    {
     "data": {
      "text/plain": [
       "Annee                    int64\n",
       "Secteur                 object\n",
       "Sous-secteur            object\n",
       "Categorie               object\n",
       "Emissions(t_eq_CO2)    float64\n",
       "dtype: object"
      ]
     },
     "execution_count": 87,
     "metadata": {},
     "output_type": "execute_result"
    }
   ],
   "source": [
    "# Le types de variables dans chaque colonne: \n",
    "df.dtypes"
   ]
  },
  {
   "cell_type": "code",
   "execution_count": 88,
   "id": "c9f1b0d4-ce91-4982-b050-1e57efdf5b43",
   "metadata": {},
   "outputs": [
    {
     "data": {
      "text/plain": [
       "RangeIndex(start=0, stop=1450, step=1)"
      ]
     },
     "execution_count": 88,
     "metadata": {},
     "output_type": "execute_result"
    }
   ],
   "source": [
    "# L'index du dataframe: \n",
    "df.index"
   ]
  },
  {
   "cell_type": "code",
   "execution_count": 66,
   "id": "7910ee7e",
   "metadata": {
    "lines_to_next_cell": 2
   },
   "outputs": [],
   "source": [
    "# Pour travailler les éléments d'une seule colonne, il faut travailler avec les Séries:\n",
    "df['Annee'];"
   ]
  },
  {
   "cell_type": "code",
   "execution_count": 184,
   "id": "1cb2c66c",
   "metadata": {
    "lines_to_next_cell": 0
   },
   "outputs": [
    {
     "data": {
      "text/plain": [
       "['Transports',\n",
       " 'Industries',\n",
       " 'Résidentiel, commercial et institutionnel',\n",
       " 'Agriculture',\n",
       " 'Matières résiduelles',\n",
       " 'Électricité']"
      ]
     },
     "execution_count": 184,
     "metadata": {},
     "output_type": "execute_result"
    }
   ],
   "source": [
    "# Élements uniques de la colonne Secteur. Sous forme d'une liste normale.\n",
    "secteurs = df['Secteur'].unique().tolist()\n",
    "secteurs"
   ]
  },
  {
   "cell_type": "code",
   "execution_count": 62,
   "id": "53bd0ef4",
   "metadata": {
    "lines_to_next_cell": 0
   },
   "outputs": [],
   "source": [
    "# Élements uniques de la colonne Sous-secteur. Sous forme d'une liste normale.\n",
    "df['Sous-secteur'].unique().tolist();"
   ]
  },
  {
   "cell_type": "code",
   "execution_count": 61,
   "id": "76d0136e",
   "metadata": {},
   "outputs": [],
   "source": [
    "# Élements uniques de la colonne 'Categorie'. Sous forme d'une liste normale.\n",
    "df['Categorie'].unique().tolist();"
   ]
  },
  {
   "cell_type": "code",
   "execution_count": 215,
   "id": "f7306b74-a39d-441f-b1da-c3dc68a7b454",
   "metadata": {},
   "outputs": [
    {
     "data": {
      "text/plain": [
       "Annee                  0\n",
       "Secteur                0\n",
       "Sous-secteur           0\n",
       "Categorie              0\n",
       "Emissions(t_eq_CO2)    0\n",
       "dtype: int64"
      ]
     },
     "execution_count": 215,
     "metadata": {},
     "output_type": "execute_result"
    }
   ],
   "source": [
    "# Élements absents\n",
    "df.isna().sum()"
   ]
  },
  {
   "cell_type": "code",
   "execution_count": 216,
   "id": "78e55e1c-450a-4c9a-8c22-0eb992a52b9a",
   "metadata": {},
   "outputs": [
    {
     "data": {
      "text/plain": [
       "Annee                  0\n",
       "Secteur                0\n",
       "Sous-secteur           0\n",
       "Categorie              0\n",
       "Emissions(t_eq_CO2)    0\n",
       "dtype: int64"
      ]
     },
     "execution_count": 216,
     "metadata": {},
     "output_type": "execute_result"
    }
   ],
   "source": [
    "df.isnull().sum()"
   ]
  },
  {
   "cell_type": "markdown",
   "id": "c5154706-3d22-4726-868e-dd3f85cae804",
   "metadata": {},
   "source": [
    "---\n",
    "# Constructions de la nouvelle dataframe: \n",
    "\n",
    "Les étapes pour construire df_secteurs_total sont:"
   ]
  },
  {
   "cell_type": "markdown",
   "id": "4d5f4ebd-8aa0-40d7-86c1-7532e23ed25f",
   "metadata": {},
   "source": [
    "---\n",
    "## Construction 1: obtention du total par année:"
   ]
  },
  {
   "cell_type": "code",
   "execution_count": 159,
   "id": "ef690be2-b925-4af5-9652-73ae26970895",
   "metadata": {},
   "outputs": [
    {
     "data": {
      "text/html": [
       "<div>\n",
       "<style scoped>\n",
       "    .dataframe tbody tr th:only-of-type {\n",
       "        vertical-align: middle;\n",
       "    }\n",
       "\n",
       "    .dataframe tbody tr th {\n",
       "        vertical-align: top;\n",
       "    }\n",
       "\n",
       "    .dataframe thead th {\n",
       "        text-align: right;\n",
       "    }\n",
       "</style>\n",
       "<table border=\"1\" class=\"dataframe\">\n",
       "  <thead>\n",
       "    <tr style=\"text-align: right;\">\n",
       "      <th></th>\n",
       "      <th>Annee</th>\n",
       "      <th>Emissions(t_eq_CO2)</th>\n",
       "    </tr>\n",
       "  </thead>\n",
       "  <tbody>\n",
       "    <tr>\n",
       "      <th>0</th>\n",
       "      <td>1990</td>\n",
       "      <td>1.085804e+07</td>\n",
       "    </tr>\n",
       "    <tr>\n",
       "      <th>1</th>\n",
       "      <td>1990</td>\n",
       "      <td>3.636960e+06</td>\n",
       "    </tr>\n",
       "    <tr>\n",
       "      <th>2</th>\n",
       "      <td>1990</td>\n",
       "      <td>3.602432e+06</td>\n",
       "    </tr>\n",
       "    <tr>\n",
       "      <th>3</th>\n",
       "      <td>1990</td>\n",
       "      <td>1.824648e+04</td>\n",
       "    </tr>\n",
       "    <tr>\n",
       "      <th>4</th>\n",
       "      <td>1990</td>\n",
       "      <td>9.985400e+05</td>\n",
       "    </tr>\n",
       "    <tr>\n",
       "      <th>...</th>\n",
       "      <td>...</td>\n",
       "      <td>...</td>\n",
       "    </tr>\n",
       "    <tr>\n",
       "      <th>1445</th>\n",
       "      <td>2020</td>\n",
       "      <td>6.994292e+04</td>\n",
       "    </tr>\n",
       "    <tr>\n",
       "      <th>1446</th>\n",
       "      <td>2020</td>\n",
       "      <td>7.126235e+04</td>\n",
       "    </tr>\n",
       "    <tr>\n",
       "      <th>1447</th>\n",
       "      <td>2020</td>\n",
       "      <td>4.134772e+05</td>\n",
       "    </tr>\n",
       "    <tr>\n",
       "      <th>1448</th>\n",
       "      <td>2020</td>\n",
       "      <td>2.124926e+05</td>\n",
       "    </tr>\n",
       "    <tr>\n",
       "      <th>1449</th>\n",
       "      <td>2020</td>\n",
       "      <td>2.290484e+05</td>\n",
       "    </tr>\n",
       "  </tbody>\n",
       "</table>\n",
       "<p>1450 rows × 2 columns</p>\n",
       "</div>"
      ],
      "text/plain": [
       "      Annee  Emissions(t_eq_CO2)\n",
       "0      1990         1.085804e+07\n",
       "1      1990         3.636960e+06\n",
       "2      1990         3.602432e+06\n",
       "3      1990         1.824648e+04\n",
       "4      1990         9.985400e+05\n",
       "...     ...                  ...\n",
       "1445   2020         6.994292e+04\n",
       "1446   2020         7.126235e+04\n",
       "1447   2020         4.134772e+05\n",
       "1448   2020         2.124926e+05\n",
       "1449   2020         2.290484e+05\n",
       "\n",
       "[1450 rows x 2 columns]"
      ]
     },
     "execution_count": 159,
     "metadata": {},
     "output_type": "execute_result"
    }
   ],
   "source": [
    "df[['Annee','Emissions(t_eq_CO2)']]"
   ]
  },
  {
   "cell_type": "code",
   "execution_count": 160,
   "id": "d0774833-abbc-4e54-a140-86ec7a0581ee",
   "metadata": {},
   "outputs": [
    {
     "data": {
      "text/plain": [
       "<pandas.core.groupby.generic.DataFrameGroupBy object at 0x12022eae0>"
      ]
     },
     "execution_count": 160,
     "metadata": {},
     "output_type": "execute_result"
    }
   ],
   "source": [
    "df[['Annee','Emissions(t_eq_CO2)']].groupby('Annee')"
   ]
  },
  {
   "cell_type": "code",
   "execution_count": 131,
   "id": "9218e832-f8ed-4fe2-ad62-1dbd88971df2",
   "metadata": {},
   "outputs": [],
   "source": [
    "df_total = df[['Annee','Emissions(t_eq_CO2)']].groupby('Annee').sum()\n",
    "df_total;"
   ]
  },
  {
   "cell_type": "code",
   "execution_count": 161,
   "id": "72841420-1f9a-487d-bb1c-c463524f1baa",
   "metadata": {},
   "outputs": [
    {
     "data": {
      "text/plain": [
       "Index(['Emissions(t_eq_CO2)'], dtype='object')"
      ]
     },
     "execution_count": 161,
     "metadata": {},
     "output_type": "execute_result"
    }
   ],
   "source": [
    "df_total.columns"
   ]
  },
  {
   "cell_type": "code",
   "execution_count": 174,
   "id": "2ab7c1c7-b456-4114-9c09-32a8974f2c60",
   "metadata": {},
   "outputs": [],
   "source": [
    "df_total = df_total.rename(columns={\"Emissions(t_eq_CO2)\": \"Emissions(t_eq_CO2)-Total\"})"
   ]
  },
  {
   "cell_type": "code",
   "execution_count": 175,
   "id": "7862f74d-e73e-4e4d-8d4a-077765014c5a",
   "metadata": {},
   "outputs": [
    {
     "data": {
      "text/html": [
       "<div>\n",
       "<style scoped>\n",
       "    .dataframe tbody tr th:only-of-type {\n",
       "        vertical-align: middle;\n",
       "    }\n",
       "\n",
       "    .dataframe tbody tr th {\n",
       "        vertical-align: top;\n",
       "    }\n",
       "\n",
       "    .dataframe thead th {\n",
       "        text-align: right;\n",
       "    }\n",
       "</style>\n",
       "<table border=\"1\" class=\"dataframe\">\n",
       "  <thead>\n",
       "    <tr style=\"text-align: right;\">\n",
       "      <th></th>\n",
       "      <th>Emissions(t_eq_CO2)-Total</th>\n",
       "    </tr>\n",
       "  </thead>\n",
       "  <tbody>\n",
       "    <tr>\n",
       "      <th>count</th>\n",
       "      <td>3.100000e+01</td>\n",
       "    </tr>\n",
       "    <tr>\n",
       "      <th>mean</th>\n",
       "      <td>8.276538e+07</td>\n",
       "    </tr>\n",
       "    <tr>\n",
       "      <th>std</th>\n",
       "      <td>3.345179e+06</td>\n",
       "    </tr>\n",
       "    <tr>\n",
       "      <th>min</th>\n",
       "      <td>7.401563e+07</td>\n",
       "    </tr>\n",
       "    <tr>\n",
       "      <th>25%</th>\n",
       "      <td>8.100227e+07</td>\n",
       "    </tr>\n",
       "    <tr>\n",
       "      <th>50%</th>\n",
       "      <td>8.274214e+07</td>\n",
       "    </tr>\n",
       "    <tr>\n",
       "      <th>75%</th>\n",
       "      <td>8.462749e+07</td>\n",
       "    </tr>\n",
       "    <tr>\n",
       "      <th>max</th>\n",
       "      <td>8.958743e+07</td>\n",
       "    </tr>\n",
       "  </tbody>\n",
       "</table>\n",
       "</div>"
      ],
      "text/plain": [
       "       Emissions(t_eq_CO2)-Total\n",
       "count               3.100000e+01\n",
       "mean                8.276538e+07\n",
       "std                 3.345179e+06\n",
       "min                 7.401563e+07\n",
       "25%                 8.100227e+07\n",
       "50%                 8.274214e+07\n",
       "75%                 8.462749e+07\n",
       "max                 8.958743e+07"
      ]
     },
     "execution_count": 175,
     "metadata": {},
     "output_type": "execute_result"
    }
   ],
   "source": [
    "df_total.describe()"
   ]
  },
  {
   "cell_type": "code",
   "execution_count": 210,
   "id": "6f268315-e36c-4505-bcab-f8fde1ee67ff",
   "metadata": {},
   "outputs": [],
   "source": [
    "# df_total.plot()"
   ]
  },
  {
   "cell_type": "markdown",
   "id": "984d13ae-498d-41b4-85e8-4d4cc344cb22",
   "metadata": {},
   "source": [
    "---\n",
    "## Construction 2: obtention du total par année pour le secteur 'Transports':"
   ]
  },
  {
   "cell_type": "code",
   "execution_count": 202,
   "id": "83de3a26",
   "metadata": {
    "lines_to_next_cell": 0
   },
   "outputs": [],
   "source": [
    "#Pour les transports seulement\n",
    "df_transports = df[df['Secteur']=='Transports']\n",
    "df_transports_total = df_transports[['Annee','Emissions(t_eq_CO2)']].groupby('Annee').sum()\n",
    "df_transports_total = df_transports_total.rename(columns={\"Emissions(t_eq_CO2)\": \"Emissions(t_eq_CO2)-Transports\"})\n",
    "df_transports_total;"
   ]
  },
  {
   "cell_type": "code",
   "execution_count": 206,
   "id": "0b799b09",
   "metadata": {
    "lines_to_next_cell": 0
   },
   "outputs": [],
   "source": [
    "df_merge = pd.merge(df_total, df_transports_total, on=[\"Annee\"])\n",
    "# df_merge"
   ]
  },
  {
   "cell_type": "code",
   "execution_count": 208,
   "id": "1bd3ed1f-55db-4608-9e23-5cfd20802969",
   "metadata": {},
   "outputs": [],
   "source": [
    "df_merge = df_total.merge(df_transports_total,on=[\"Annee\"])\n",
    "# df_merge"
   ]
  },
  {
   "cell_type": "markdown",
   "id": "c2b3079b-a4fa-4c6b-9899-1b304823ee0c",
   "metadata": {},
   "source": [
    "---\n",
    "## Construction 3: obtention du total par année pour tous les secteurs:"
   ]
  },
  {
   "cell_type": "code",
   "execution_count": 191,
   "id": "b561eb61-78aa-466d-a74a-72e10b9412ae",
   "metadata": {},
   "outputs": [
    {
     "data": {
      "text/plain": [
       "['Transports',\n",
       " 'Industries',\n",
       " 'Résidentiel, commercial et institutionnel',\n",
       " 'Agriculture',\n",
       " 'Matières résiduelles',\n",
       " 'Électricité']"
      ]
     },
     "execution_count": 191,
     "metadata": {},
     "output_type": "execute_result"
    }
   ],
   "source": [
    "secteurs"
   ]
  },
  {
   "cell_type": "code",
   "execution_count": 201,
   "id": "3c8fb6cc-3818-4315-978f-61f8355b4c35",
   "metadata": {},
   "outputs": [
    {
     "data": {
      "text/html": [
       "<div>\n",
       "<style scoped>\n",
       "    .dataframe tbody tr th:only-of-type {\n",
       "        vertical-align: middle;\n",
       "    }\n",
       "\n",
       "    .dataframe tbody tr th {\n",
       "        vertical-align: top;\n",
       "    }\n",
       "\n",
       "    .dataframe thead th {\n",
       "        text-align: right;\n",
       "    }\n",
       "</style>\n",
       "<table border=\"1\" class=\"dataframe\">\n",
       "  <thead>\n",
       "    <tr style=\"text-align: right;\">\n",
       "      <th></th>\n",
       "      <th>Emissions(t_eq_CO2)-Total</th>\n",
       "      <th>Emissions(t_eq_CO2)-Transports</th>\n",
       "      <th>Emissions(t_eq_CO2)-Industries</th>\n",
       "      <th>Emissions(t_eq_CO2)-Résidentiel, commercial et institutionnel</th>\n",
       "      <th>Emissions(t_eq_CO2)-Agriculture</th>\n",
       "      <th>Emissions(t_eq_CO2)-Matières résiduelles</th>\n",
       "      <th>Emissions(t_eq_CO2)-Électricité</th>\n",
       "    </tr>\n",
       "    <tr>\n",
       "      <th>Annee</th>\n",
       "      <th></th>\n",
       "      <th></th>\n",
       "      <th></th>\n",
       "      <th></th>\n",
       "      <th></th>\n",
       "      <th></th>\n",
       "      <th></th>\n",
       "    </tr>\n",
       "  </thead>\n",
       "  <tbody>\n",
       "    <tr>\n",
       "      <th>1990</th>\n",
       "      <td>8.525046e+07</td>\n",
       "      <td>2.720549e+07</td>\n",
       "      <td>3.207667e+07</td>\n",
       "      <td>1.121535e+07</td>\n",
       "      <td>7.117844e+06</td>\n",
       "      <td>6.242370e+06</td>\n",
       "      <td>1.392747e+06</td>\n",
       "    </tr>\n",
       "    <tr>\n",
       "      <th>1991</th>\n",
       "      <td>8.096232e+07</td>\n",
       "      <td>2.562506e+07</td>\n",
       "      <td>3.114813e+07</td>\n",
       "      <td>1.048791e+07</td>\n",
       "      <td>6.986795e+06</td>\n",
       "      <td>6.356778e+06</td>\n",
       "      <td>3.576496e+05</td>\n",
       "    </tr>\n",
       "    <tr>\n",
       "      <th>1992</th>\n",
       "      <td>8.011936e+07</td>\n",
       "      <td>2.617208e+07</td>\n",
       "      <td>2.946168e+07</td>\n",
       "      <td>1.119121e+07</td>\n",
       "      <td>6.920532e+06</td>\n",
       "      <td>5.544630e+06</td>\n",
       "      <td>8.292302e+05</td>\n",
       "    </tr>\n",
       "    <tr>\n",
       "      <th>1993</th>\n",
       "      <td>8.131694e+07</td>\n",
       "      <td>2.710587e+07</td>\n",
       "      <td>3.049741e+07</td>\n",
       "      <td>1.131267e+07</td>\n",
       "      <td>6.845626e+06</td>\n",
       "      <td>5.414277e+06</td>\n",
       "      <td>1.410925e+05</td>\n",
       "    </tr>\n",
       "    <tr>\n",
       "      <th>1994</th>\n",
       "      <td>8.274214e+07</td>\n",
       "      <td>2.846825e+07</td>\n",
       "      <td>3.057562e+07</td>\n",
       "      <td>1.130135e+07</td>\n",
       "      <td>6.903481e+06</td>\n",
       "      <td>5.293982e+06</td>\n",
       "      <td>1.994636e+05</td>\n",
       "    </tr>\n",
       "    <tr>\n",
       "      <th>1995</th>\n",
       "      <td>8.293150e+07</td>\n",
       "      <td>2.888283e+07</td>\n",
       "      <td>3.013029e+07</td>\n",
       "      <td>1.125606e+07</td>\n",
       "      <td>6.973976e+06</td>\n",
       "      <td>5.541953e+06</td>\n",
       "      <td>1.463866e+05</td>\n",
       "    </tr>\n",
       "    <tr>\n",
       "      <th>1996</th>\n",
       "      <td>8.298410e+07</td>\n",
       "      <td>2.905895e+07</td>\n",
       "      <td>3.003876e+07</td>\n",
       "      <td>1.159712e+07</td>\n",
       "      <td>7.075151e+06</td>\n",
       "      <td>5.082511e+06</td>\n",
       "      <td>1.316073e+05</td>\n",
       "    </tr>\n",
       "    <tr>\n",
       "      <th>1997</th>\n",
       "      <td>8.383858e+07</td>\n",
       "      <td>2.978185e+07</td>\n",
       "      <td>3.030741e+07</td>\n",
       "      <td>1.134331e+07</td>\n",
       "      <td>7.309203e+06</td>\n",
       "      <td>4.913877e+06</td>\n",
       "      <td>1.829265e+05</td>\n",
       "    </tr>\n",
       "    <tr>\n",
       "      <th>1998</th>\n",
       "      <td>8.517211e+07</td>\n",
       "      <td>3.046314e+07</td>\n",
       "      <td>3.054083e+07</td>\n",
       "      <td>1.013746e+07</td>\n",
       "      <td>7.413943e+06</td>\n",
       "      <td>5.058890e+06</td>\n",
       "      <td>1.557845e+06</td>\n",
       "    </tr>\n",
       "    <tr>\n",
       "      <th>1999</th>\n",
       "      <td>8.465540e+07</td>\n",
       "      <td>3.104853e+07</td>\n",
       "      <td>2.894797e+07</td>\n",
       "      <td>1.049810e+07</td>\n",
       "      <td>7.522661e+06</td>\n",
       "      <td>5.699894e+06</td>\n",
       "      <td>9.382496e+05</td>\n",
       "    </tr>\n",
       "    <tr>\n",
       "      <th>2000</th>\n",
       "      <td>8.459958e+07</td>\n",
       "      <td>3.082622e+07</td>\n",
       "      <td>2.938767e+07</td>\n",
       "      <td>1.164859e+07</td>\n",
       "      <td>7.347982e+06</td>\n",
       "      <td>5.057469e+06</td>\n",
       "      <td>3.316392e+05</td>\n",
       "    </tr>\n",
       "    <tr>\n",
       "      <th>2001</th>\n",
       "      <td>8.247052e+07</td>\n",
       "      <td>3.024779e+07</td>\n",
       "      <td>2.818682e+07</td>\n",
       "      <td>1.084302e+07</td>\n",
       "      <td>7.602759e+06</td>\n",
       "      <td>5.223678e+06</td>\n",
       "      <td>3.664495e+05</td>\n",
       "    </tr>\n",
       "    <tr>\n",
       "      <th>2002</th>\n",
       "      <td>8.410860e+07</td>\n",
       "      <td>3.090352e+07</td>\n",
       "      <td>2.849923e+07</td>\n",
       "      <td>1.151531e+07</td>\n",
       "      <td>7.682461e+06</td>\n",
       "      <td>5.272380e+06</td>\n",
       "      <td>2.356938e+05</td>\n",
       "    </tr>\n",
       "    <tr>\n",
       "      <th>2003</th>\n",
       "      <td>8.958743e+07</td>\n",
       "      <td>3.287521e+07</td>\n",
       "      <td>2.935429e+07</td>\n",
       "      <td>1.280374e+07</td>\n",
       "      <td>7.602666e+06</td>\n",
       "      <td>5.441654e+06</td>\n",
       "      <td>1.509874e+06</td>\n",
       "    </tr>\n",
       "    <tr>\n",
       "      <th>2004</th>\n",
       "      <td>8.904113e+07</td>\n",
       "      <td>3.321847e+07</td>\n",
       "      <td>2.947197e+07</td>\n",
       "      <td>1.237756e+07</td>\n",
       "      <td>7.891072e+06</td>\n",
       "      <td>4.826596e+06</td>\n",
       "      <td>1.255463e+06</td>\n",
       "    </tr>\n",
       "    <tr>\n",
       "      <th>2005</th>\n",
       "      <td>8.621064e+07</td>\n",
       "      <td>3.316216e+07</td>\n",
       "      <td>2.874145e+07</td>\n",
       "      <td>1.116592e+07</td>\n",
       "      <td>7.729128e+06</td>\n",
       "      <td>5.034448e+06</td>\n",
       "      <td>3.775383e+05</td>\n",
       "    </tr>\n",
       "    <tr>\n",
       "      <th>2006</th>\n",
       "      <td>8.514679e+07</td>\n",
       "      <td>3.307063e+07</td>\n",
       "      <td>2.912965e+07</td>\n",
       "      <td>9.894077e+06</td>\n",
       "      <td>7.728588e+06</td>\n",
       "      <td>5.110266e+06</td>\n",
       "      <td>2.135712e+05</td>\n",
       "    </tr>\n",
       "    <tr>\n",
       "      <th>2007</th>\n",
       "      <td>8.898720e+07</td>\n",
       "      <td>3.433262e+07</td>\n",
       "      <td>3.087027e+07</td>\n",
       "      <td>1.028535e+07</td>\n",
       "      <td>7.929902e+06</td>\n",
       "      <td>5.319508e+06</td>\n",
       "      <td>2.495480e+05</td>\n",
       "    </tr>\n",
       "    <tr>\n",
       "      <th>2008</th>\n",
       "      <td>8.458937e+07</td>\n",
       "      <td>3.450789e+07</td>\n",
       "      <td>2.758578e+07</td>\n",
       "      <td>9.296912e+06</td>\n",
       "      <td>7.859978e+06</td>\n",
       "      <td>5.105396e+06</td>\n",
       "      <td>2.334104e+05</td>\n",
       "    </tr>\n",
       "    <tr>\n",
       "      <th>2009</th>\n",
       "      <td>8.344091e+07</td>\n",
       "      <td>3.409714e+07</td>\n",
       "      <td>2.621085e+07</td>\n",
       "      <td>9.990479e+06</td>\n",
       "      <td>7.808115e+06</td>\n",
       "      <td>4.952334e+06</td>\n",
       "      <td>3.819920e+05</td>\n",
       "    </tr>\n",
       "    <tr>\n",
       "      <th>2010</th>\n",
       "      <td>8.126163e+07</td>\n",
       "      <td>3.401616e+07</td>\n",
       "      <td>2.546223e+07</td>\n",
       "      <td>9.018179e+06</td>\n",
       "      <td>7.824282e+06</td>\n",
       "      <td>4.733105e+06</td>\n",
       "      <td>2.076752e+05</td>\n",
       "    </tr>\n",
       "    <tr>\n",
       "      <th>2011</th>\n",
       "      <td>8.191538e+07</td>\n",
       "      <td>3.530230e+07</td>\n",
       "      <td>2.529553e+07</td>\n",
       "      <td>8.705855e+06</td>\n",
       "      <td>7.795096e+06</td>\n",
       "      <td>4.601622e+06</td>\n",
       "      <td>2.149811e+05</td>\n",
       "    </tr>\n",
       "    <tr>\n",
       "      <th>2012</th>\n",
       "      <td>8.020507e+07</td>\n",
       "      <td>3.468167e+07</td>\n",
       "      <td>2.540546e+07</td>\n",
       "      <td>7.517757e+06</td>\n",
       "      <td>7.907737e+06</td>\n",
       "      <td>4.485130e+06</td>\n",
       "      <td>2.073191e+05</td>\n",
       "    </tr>\n",
       "    <tr>\n",
       "      <th>2013</th>\n",
       "      <td>7.986842e+07</td>\n",
       "      <td>3.417136e+07</td>\n",
       "      <td>2.539231e+07</td>\n",
       "      <td>7.654704e+06</td>\n",
       "      <td>7.987980e+06</td>\n",
       "      <td>4.447976e+06</td>\n",
       "      <td>2.140966e+05</td>\n",
       "    </tr>\n",
       "    <tr>\n",
       "      <th>2014</th>\n",
       "      <td>7.837373e+07</td>\n",
       "      <td>3.267267e+07</td>\n",
       "      <td>2.535419e+07</td>\n",
       "      <td>7.923847e+06</td>\n",
       "      <td>7.771819e+06</td>\n",
       "      <td>4.429153e+06</td>\n",
       "      <td>2.220564e+05</td>\n",
       "    </tr>\n",
       "    <tr>\n",
       "      <th>2015</th>\n",
       "      <td>7.854424e+07</td>\n",
       "      <td>3.335087e+07</td>\n",
       "      <td>2.438307e+07</td>\n",
       "      <td>8.060023e+06</td>\n",
       "      <td>7.860339e+06</td>\n",
       "      <td>4.695534e+06</td>\n",
       "      <td>1.944028e+05</td>\n",
       "    </tr>\n",
       "    <tr>\n",
       "      <th>2016</th>\n",
       "      <td>7.851176e+07</td>\n",
       "      <td>3.367475e+07</td>\n",
       "      <td>2.347945e+07</td>\n",
       "      <td>8.198808e+06</td>\n",
       "      <td>7.900278e+06</td>\n",
       "      <td>5.032629e+06</td>\n",
       "      <td>2.258436e+05</td>\n",
       "    </tr>\n",
       "    <tr>\n",
       "      <th>2017</th>\n",
       "      <td>8.111818e+07</td>\n",
       "      <td>3.561482e+07</td>\n",
       "      <td>2.450676e+07</td>\n",
       "      <td>8.162234e+06</td>\n",
       "      <td>7.821708e+06</td>\n",
       "      <td>4.783654e+06</td>\n",
       "      <td>2.290030e+05</td>\n",
       "    </tr>\n",
       "    <tr>\n",
       "      <th>2018</th>\n",
       "      <td>8.104221e+07</td>\n",
       "      <td>3.568920e+07</td>\n",
       "      <td>2.449669e+07</td>\n",
       "      <td>8.051767e+06</td>\n",
       "      <td>7.919519e+06</td>\n",
       "      <td>4.649875e+06</td>\n",
       "      <td>2.351650e+05</td>\n",
       "    </tr>\n",
       "    <tr>\n",
       "      <th>2019</th>\n",
       "      <td>8.271558e+07</td>\n",
       "      <td>3.646536e+07</td>\n",
       "      <td>2.514983e+07</td>\n",
       "      <td>8.304411e+06</td>\n",
       "      <td>7.922154e+06</td>\n",
       "      <td>4.648564e+06</td>\n",
       "      <td>2.252593e+05</td>\n",
       "    </tr>\n",
       "    <tr>\n",
       "      <th>2020</th>\n",
       "      <td>7.401563e+07</td>\n",
       "      <td>3.164413e+07</td>\n",
       "      <td>2.267413e+07</td>\n",
       "      <td>7.098310e+06</td>\n",
       "      <td>7.875816e+06</td>\n",
       "      <td>4.494206e+06</td>\n",
       "      <td>2.290484e+05</td>\n",
       "    </tr>\n",
       "  </tbody>\n",
       "</table>\n",
       "</div>"
      ],
      "text/plain": [
       "       Emissions(t_eq_CO2)-Total  Emissions(t_eq_CO2)-Transports  \\\n",
       "Annee                                                              \n",
       "1990                8.525046e+07                    2.720549e+07   \n",
       "1991                8.096232e+07                    2.562506e+07   \n",
       "1992                8.011936e+07                    2.617208e+07   \n",
       "1993                8.131694e+07                    2.710587e+07   \n",
       "1994                8.274214e+07                    2.846825e+07   \n",
       "1995                8.293150e+07                    2.888283e+07   \n",
       "1996                8.298410e+07                    2.905895e+07   \n",
       "1997                8.383858e+07                    2.978185e+07   \n",
       "1998                8.517211e+07                    3.046314e+07   \n",
       "1999                8.465540e+07                    3.104853e+07   \n",
       "2000                8.459958e+07                    3.082622e+07   \n",
       "2001                8.247052e+07                    3.024779e+07   \n",
       "2002                8.410860e+07                    3.090352e+07   \n",
       "2003                8.958743e+07                    3.287521e+07   \n",
       "2004                8.904113e+07                    3.321847e+07   \n",
       "2005                8.621064e+07                    3.316216e+07   \n",
       "2006                8.514679e+07                    3.307063e+07   \n",
       "2007                8.898720e+07                    3.433262e+07   \n",
       "2008                8.458937e+07                    3.450789e+07   \n",
       "2009                8.344091e+07                    3.409714e+07   \n",
       "2010                8.126163e+07                    3.401616e+07   \n",
       "2011                8.191538e+07                    3.530230e+07   \n",
       "2012                8.020507e+07                    3.468167e+07   \n",
       "2013                7.986842e+07                    3.417136e+07   \n",
       "2014                7.837373e+07                    3.267267e+07   \n",
       "2015                7.854424e+07                    3.335087e+07   \n",
       "2016                7.851176e+07                    3.367475e+07   \n",
       "2017                8.111818e+07                    3.561482e+07   \n",
       "2018                8.104221e+07                    3.568920e+07   \n",
       "2019                8.271558e+07                    3.646536e+07   \n",
       "2020                7.401563e+07                    3.164413e+07   \n",
       "\n",
       "       Emissions(t_eq_CO2)-Industries  \\\n",
       "Annee                                   \n",
       "1990                     3.207667e+07   \n",
       "1991                     3.114813e+07   \n",
       "1992                     2.946168e+07   \n",
       "1993                     3.049741e+07   \n",
       "1994                     3.057562e+07   \n",
       "1995                     3.013029e+07   \n",
       "1996                     3.003876e+07   \n",
       "1997                     3.030741e+07   \n",
       "1998                     3.054083e+07   \n",
       "1999                     2.894797e+07   \n",
       "2000                     2.938767e+07   \n",
       "2001                     2.818682e+07   \n",
       "2002                     2.849923e+07   \n",
       "2003                     2.935429e+07   \n",
       "2004                     2.947197e+07   \n",
       "2005                     2.874145e+07   \n",
       "2006                     2.912965e+07   \n",
       "2007                     3.087027e+07   \n",
       "2008                     2.758578e+07   \n",
       "2009                     2.621085e+07   \n",
       "2010                     2.546223e+07   \n",
       "2011                     2.529553e+07   \n",
       "2012                     2.540546e+07   \n",
       "2013                     2.539231e+07   \n",
       "2014                     2.535419e+07   \n",
       "2015                     2.438307e+07   \n",
       "2016                     2.347945e+07   \n",
       "2017                     2.450676e+07   \n",
       "2018                     2.449669e+07   \n",
       "2019                     2.514983e+07   \n",
       "2020                     2.267413e+07   \n",
       "\n",
       "       Emissions(t_eq_CO2)-Résidentiel, commercial et institutionnel  \\\n",
       "Annee                                                                  \n",
       "1990                                        1.121535e+07               \n",
       "1991                                        1.048791e+07               \n",
       "1992                                        1.119121e+07               \n",
       "1993                                        1.131267e+07               \n",
       "1994                                        1.130135e+07               \n",
       "1995                                        1.125606e+07               \n",
       "1996                                        1.159712e+07               \n",
       "1997                                        1.134331e+07               \n",
       "1998                                        1.013746e+07               \n",
       "1999                                        1.049810e+07               \n",
       "2000                                        1.164859e+07               \n",
       "2001                                        1.084302e+07               \n",
       "2002                                        1.151531e+07               \n",
       "2003                                        1.280374e+07               \n",
       "2004                                        1.237756e+07               \n",
       "2005                                        1.116592e+07               \n",
       "2006                                        9.894077e+06               \n",
       "2007                                        1.028535e+07               \n",
       "2008                                        9.296912e+06               \n",
       "2009                                        9.990479e+06               \n",
       "2010                                        9.018179e+06               \n",
       "2011                                        8.705855e+06               \n",
       "2012                                        7.517757e+06               \n",
       "2013                                        7.654704e+06               \n",
       "2014                                        7.923847e+06               \n",
       "2015                                        8.060023e+06               \n",
       "2016                                        8.198808e+06               \n",
       "2017                                        8.162234e+06               \n",
       "2018                                        8.051767e+06               \n",
       "2019                                        8.304411e+06               \n",
       "2020                                        7.098310e+06               \n",
       "\n",
       "       Emissions(t_eq_CO2)-Agriculture  \\\n",
       "Annee                                    \n",
       "1990                      7.117844e+06   \n",
       "1991                      6.986795e+06   \n",
       "1992                      6.920532e+06   \n",
       "1993                      6.845626e+06   \n",
       "1994                      6.903481e+06   \n",
       "1995                      6.973976e+06   \n",
       "1996                      7.075151e+06   \n",
       "1997                      7.309203e+06   \n",
       "1998                      7.413943e+06   \n",
       "1999                      7.522661e+06   \n",
       "2000                      7.347982e+06   \n",
       "2001                      7.602759e+06   \n",
       "2002                      7.682461e+06   \n",
       "2003                      7.602666e+06   \n",
       "2004                      7.891072e+06   \n",
       "2005                      7.729128e+06   \n",
       "2006                      7.728588e+06   \n",
       "2007                      7.929902e+06   \n",
       "2008                      7.859978e+06   \n",
       "2009                      7.808115e+06   \n",
       "2010                      7.824282e+06   \n",
       "2011                      7.795096e+06   \n",
       "2012                      7.907737e+06   \n",
       "2013                      7.987980e+06   \n",
       "2014                      7.771819e+06   \n",
       "2015                      7.860339e+06   \n",
       "2016                      7.900278e+06   \n",
       "2017                      7.821708e+06   \n",
       "2018                      7.919519e+06   \n",
       "2019                      7.922154e+06   \n",
       "2020                      7.875816e+06   \n",
       "\n",
       "       Emissions(t_eq_CO2)-Matières résiduelles  \\\n",
       "Annee                                             \n",
       "1990                               6.242370e+06   \n",
       "1991                               6.356778e+06   \n",
       "1992                               5.544630e+06   \n",
       "1993                               5.414277e+06   \n",
       "1994                               5.293982e+06   \n",
       "1995                               5.541953e+06   \n",
       "1996                               5.082511e+06   \n",
       "1997                               4.913877e+06   \n",
       "1998                               5.058890e+06   \n",
       "1999                               5.699894e+06   \n",
       "2000                               5.057469e+06   \n",
       "2001                               5.223678e+06   \n",
       "2002                               5.272380e+06   \n",
       "2003                               5.441654e+06   \n",
       "2004                               4.826596e+06   \n",
       "2005                               5.034448e+06   \n",
       "2006                               5.110266e+06   \n",
       "2007                               5.319508e+06   \n",
       "2008                               5.105396e+06   \n",
       "2009                               4.952334e+06   \n",
       "2010                               4.733105e+06   \n",
       "2011                               4.601622e+06   \n",
       "2012                               4.485130e+06   \n",
       "2013                               4.447976e+06   \n",
       "2014                               4.429153e+06   \n",
       "2015                               4.695534e+06   \n",
       "2016                               5.032629e+06   \n",
       "2017                               4.783654e+06   \n",
       "2018                               4.649875e+06   \n",
       "2019                               4.648564e+06   \n",
       "2020                               4.494206e+06   \n",
       "\n",
       "       Emissions(t_eq_CO2)-Électricité  \n",
       "Annee                                   \n",
       "1990                      1.392747e+06  \n",
       "1991                      3.576496e+05  \n",
       "1992                      8.292302e+05  \n",
       "1993                      1.410925e+05  \n",
       "1994                      1.994636e+05  \n",
       "1995                      1.463866e+05  \n",
       "1996                      1.316073e+05  \n",
       "1997                      1.829265e+05  \n",
       "1998                      1.557845e+06  \n",
       "1999                      9.382496e+05  \n",
       "2000                      3.316392e+05  \n",
       "2001                      3.664495e+05  \n",
       "2002                      2.356938e+05  \n",
       "2003                      1.509874e+06  \n",
       "2004                      1.255463e+06  \n",
       "2005                      3.775383e+05  \n",
       "2006                      2.135712e+05  \n",
       "2007                      2.495480e+05  \n",
       "2008                      2.334104e+05  \n",
       "2009                      3.819920e+05  \n",
       "2010                      2.076752e+05  \n",
       "2011                      2.149811e+05  \n",
       "2012                      2.073191e+05  \n",
       "2013                      2.140966e+05  \n",
       "2014                      2.220564e+05  \n",
       "2015                      1.944028e+05  \n",
       "2016                      2.258436e+05  \n",
       "2017                      2.290030e+05  \n",
       "2018                      2.351650e+05  \n",
       "2019                      2.252593e+05  \n",
       "2020                      2.290484e+05  "
      ]
     },
     "execution_count": 201,
     "metadata": {},
     "output_type": "execute_result"
    }
   ],
   "source": [
    "# Initialisation du DataFrame résultant avec le premier DataFrame\n",
    "df_secteurs_total = df_total\n",
    "\n",
    "for secteur in secteurs:\n",
    "    df_secteur = df[df['Secteur']==secteur]\n",
    "    df_secteur_total = df_secteur[['Annee','Emissions(t_eq_CO2)']].groupby('Annee').sum()\n",
    "    df_secteur_total = df_secteur_total.rename(columns={\"Emissions(t_eq_CO2)\": f'Emissions(t_eq_CO2)-{secteur}'})\n",
    "    df_secteurs_total = df_secteurs_total.merge(df_secteur_total, on=[\"Annee\"])\n",
    "\n",
    "df_secteurs_total  "
   ]
  },
  {
   "cell_type": "code",
   "execution_count": 209,
   "id": "6ed7be42-d6c4-4a50-9215-511042e146b4",
   "metadata": {},
   "outputs": [],
   "source": [
    "# df_secteurs_total.plot()"
   ]
  },
  {
   "cell_type": "markdown",
   "id": "145d5c87-9891-47ad-952c-b32a46fee177",
   "metadata": {
    "lines_to_next_cell": 0
   },
   "source": [
    "---\n",
    "# Exportation de la nouvelle dataframe:"
   ]
  },
  {
   "cell_type": "code",
   "execution_count": 198,
   "id": "27a88b19",
   "metadata": {
    "lines_to_next_cell": 0
   },
   "outputs": [],
   "source": [
    "df_secteurs_total.to_excel(\"./fichiers_output/df_secteurs_total.xlsx\",sheet_name='Emissions(t_eq_CO2) par secteur') "
   ]
  },
  {
   "cell_type": "code",
   "execution_count": 212,
   "id": "5f1da4ab",
   "metadata": {},
   "outputs": [],
   "source": [
    "df_secteurs_total.to_csv(\"./fichiers_output/df_secteurs_total.csv\") \n"
   ]
  },
  {
   "cell_type": "markdown",
   "id": "3782dbd9",
   "metadata": {},
   "source": []
  },
  {
   "cell_type": "markdown",
   "id": "ca65f2e9",
   "metadata": {},
   "source": []
  },
  {
   "cell_type": "code",
   "execution_count": null,
   "id": "4d62b9a0",
   "metadata": {
    "lines_to_next_cell": 3
   },
   "outputs": [],
   "source": []
  }
 ],
 "metadata": {
  "jupytext": {
   "formats": "py:percent,.//ipynb"
  },
  "kernelspec": {
   "display_name": "Python 3 (ipykernel)",
   "language": "python",
   "name": "python3"
  },
  "language_info": {
   "codemirror_mode": {
    "name": "ipython",
    "version": 3
   },
   "file_extension": ".py",
   "mimetype": "text/x-python",
   "name": "python",
   "nbconvert_exporter": "python",
   "pygments_lexer": "ipython3",
   "version": "3.12.0"
  }
 },
 "nbformat": 4,
 "nbformat_minor": 5
}
