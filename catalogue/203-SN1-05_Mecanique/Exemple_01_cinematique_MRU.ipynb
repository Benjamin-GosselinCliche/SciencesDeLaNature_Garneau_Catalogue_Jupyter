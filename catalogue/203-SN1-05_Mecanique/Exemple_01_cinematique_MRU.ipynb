{
 "cells": [
  {
   "cell_type": "markdown",
   "id": "1478a712",
   "metadata": {},
   "source": [
    "# Initialisation"
   ]
  },
  {
   "cell_type": "code",
   "execution_count": 51,
   "id": "73c7e9b2",
   "metadata": {},
   "outputs": [],
   "source": [
    "import pandas as pd\n",
    "import matplotlib.pyplot as plt\n",
    "from matplotlib.patches import Rectangle\n",
    "import numpy as np\n",
    "from sklearn.linear_model import LinearRegression"
   ]
  },
  {
   "cell_type": "markdown",
   "id": "f18cc39e-1b66-4ce1-a184-8e1f477343ea",
   "metadata": {},
   "source": [
    "<img src=\"./img/fig2.jpg\" alt=\"Drawing\" style=\"width: 300px;\"/>"
   ]
  },
  {
   "cell_type": "markdown",
   "id": "c668ea51",
   "metadata": {},
   "source": [
    "# Import data"
   ]
  },
  {
   "cell_type": "code",
   "execution_count": 38,
   "id": "c1d036ae",
   "metadata": {},
   "outputs": [
    {
     "data": {
      "text/html": [
       "<div>\n",
       "<style scoped>\n",
       "    .dataframe tbody tr th:only-of-type {\n",
       "        vertical-align: middle;\n",
       "    }\n",
       "\n",
       "    .dataframe tbody tr th {\n",
       "        vertical-align: top;\n",
       "    }\n",
       "\n",
       "    .dataframe thead th {\n",
       "        text-align: right;\n",
       "    }\n",
       "</style>\n",
       "<table border=\"1\" class=\"dataframe\">\n",
       "  <thead>\n",
       "    <tr style=\"text-align: right;\">\n",
       "      <th></th>\n",
       "      <th>t</th>\n",
       "      <th>x</th>\n",
       "    </tr>\n",
       "  </thead>\n",
       "  <tbody>\n",
       "    <tr>\n",
       "      <th>0</th>\n",
       "      <td>0.05</td>\n",
       "      <td>2.00</td>\n",
       "    </tr>\n",
       "    <tr>\n",
       "      <th>1</th>\n",
       "      <td>0.10</td>\n",
       "      <td>4.05</td>\n",
       "    </tr>\n",
       "    <tr>\n",
       "      <th>2</th>\n",
       "      <td>0.15</td>\n",
       "      <td>6.20</td>\n",
       "    </tr>\n",
       "    <tr>\n",
       "      <th>3</th>\n",
       "      <td>0.20</td>\n",
       "      <td>8.10</td>\n",
       "    </tr>\n",
       "    <tr>\n",
       "      <th>4</th>\n",
       "      <td>0.25</td>\n",
       "      <td>10.20</td>\n",
       "    </tr>\n",
       "    <tr>\n",
       "      <th>5</th>\n",
       "      <td>0.30</td>\n",
       "      <td>12.20</td>\n",
       "    </tr>\n",
       "    <tr>\n",
       "      <th>6</th>\n",
       "      <td>0.35</td>\n",
       "      <td>14.20</td>\n",
       "    </tr>\n",
       "    <tr>\n",
       "      <th>7</th>\n",
       "      <td>0.40</td>\n",
       "      <td>16.30</td>\n",
       "    </tr>\n",
       "    <tr>\n",
       "      <th>8</th>\n",
       "      <td>0.45</td>\n",
       "      <td>18.30</td>\n",
       "    </tr>\n",
       "    <tr>\n",
       "      <th>9</th>\n",
       "      <td>0.50</td>\n",
       "      <td>20.35</td>\n",
       "    </tr>\n",
       "    <tr>\n",
       "      <th>10</th>\n",
       "      <td>0.55</td>\n",
       "      <td>22.40</td>\n",
       "    </tr>\n",
       "    <tr>\n",
       "      <th>11</th>\n",
       "      <td>0.60</td>\n",
       "      <td>24.40</td>\n",
       "    </tr>\n",
       "    <tr>\n",
       "      <th>12</th>\n",
       "      <td>0.65</td>\n",
       "      <td>26.45</td>\n",
       "    </tr>\n",
       "  </tbody>\n",
       "</table>\n",
       "</div>"
      ],
      "text/plain": [
       "       t      x\n",
       "0   0.05   2.00\n",
       "1   0.10   4.05\n",
       "2   0.15   6.20\n",
       "3   0.20   8.10\n",
       "4   0.25  10.20\n",
       "5   0.30  12.20\n",
       "6   0.35  14.20\n",
       "7   0.40  16.30\n",
       "8   0.45  18.30\n",
       "9   0.50  20.35\n",
       "10  0.55  22.40\n",
       "11  0.60  24.40\n",
       "12  0.65  26.45"
      ]
     },
     "execution_count": 38,
     "metadata": {},
     "output_type": "execute_result"
    }
   ],
   "source": [
    "# df = pd.read_csv(\"data/data_MRU.csv\",sep = ';')\n",
    "df = pd.read_excel(\"./fichiers_input/Exemple_01_cinematique_MRU_data.xlsx\")\n",
    "df"
   ]
  },
  {
   "cell_type": "code",
   "execution_count": 52,
   "id": "7f4a2c23",
   "metadata": {},
   "outputs": [
    {
     "name": "stdout",
     "output_type": "stream",
     "text": [
      "yo\n"
     ]
    }
   ],
   "source": [
    "print('yo')"
   ]
  },
  {
   "cell_type": "code",
   "execution_count": 39,
   "id": "1f1901ad",
   "metadata": {},
   "outputs": [
    {
     "data": {
      "text/plain": [
       "Index(['t', 'x'], dtype='object')"
      ]
     },
     "execution_count": 39,
     "metadata": {},
     "output_type": "execute_result"
    }
   ],
   "source": [
    "df.columns"
   ]
  },
  {
   "cell_type": "code",
   "execution_count": 40,
   "id": "d684edd3",
   "metadata": {},
   "outputs": [
    {
     "data": {
      "text/plain": [
       "t    float64\n",
       "x    float64\n",
       "dtype: object"
      ]
     },
     "execution_count": 40,
     "metadata": {},
     "output_type": "execute_result"
    }
   ],
   "source": [
    "df.dtypes"
   ]
  },
  {
   "cell_type": "code",
   "execution_count": 41,
   "id": "b1c17aef",
   "metadata": {},
   "outputs": [
    {
     "data": {
      "text/plain": [
       "[0.05, 0.1, 0.15, 0.2, 0.25, 0.3, 0.35, 0.4, 0.45, 0.5, 0.55, 0.6, 0.65]"
      ]
     },
     "execution_count": 41,
     "metadata": {},
     "output_type": "execute_result"
    }
   ],
   "source": [
    "xdata = list(df[\"t\"])\n",
    "ydata = list(df[\"x\"])\n",
    "xdata"
   ]
  },
  {
   "cell_type": "markdown",
   "id": "97546464",
   "metadata": {},
   "source": [
    "# Graphique "
   ]
  },
  {
   "cell_type": "code",
   "execution_count": 42,
   "id": "4ee040c6",
   "metadata": {},
   "outputs": [
    {
     "data": {
      "image/png": "[encoded data removed]",
      "text/plain": [
       "<Figure size 500x400 with 1 Axes>"
      ]
     },
     "metadata": {},
     "output_type": "display_data"
    }
   ],
   "source": [
    "# Création de l'objet graphique:\n",
    "fig, ax = plt.subplots()\n",
    "\n",
    "# Nuage de point:\n",
    "ax.scatter(xdata, ydata)\n",
    "\n",
    "# Titre:\n",
    "ax.set_title(\"Position de l'objet en fonction du temps\")\n",
    "\n",
    "# Nom des axes:\n",
    "ax.set_xlabel(\"t (s)\")\n",
    "ax.set_ylabel(\"x (m)\")\n",
    "\n",
    "# Domaine:\n",
    "ax.set(xlim=(0, 0.7), ylim=(0, 30))\n",
    "\n",
    "# Dimension de l'image:\n",
    "width = 5\n",
    "height = 4\n",
    "fig.set_size_inches(width, height)\n",
    "\n",
    "plt.savefig('graph1.pdf')\n",
    "plt.show()"
   ]
  },
  {
   "cell_type": "markdown",
   "id": "ee14e798",
   "metadata": {},
   "source": [
    "# Régression Linéaire"
   ]
  },
  {
   "cell_type": "code",
   "execution_count": 43,
   "id": "a3520fc1",
   "metadata": {},
   "outputs": [
    {
     "name": "stdout",
     "output_type": "stream",
     "text": [
      "pente: 40.692307692307686\n",
      "ordonnée à l'origine: 3.552713678800501e-15\n",
      "coefficient of détermination R^2: 0.999978559712986\n"
     ]
    }
   ],
   "source": [
    "x = np.array(xdata).reshape((-1, 1))\n",
    "y = np.array(ydata)\n",
    "\n",
    "model = LinearRegression().fit(x,y)\n",
    "\n",
    "a = model.coef_[0]\n",
    "b = model.intercept_\n",
    "r_sq = model.score(x, y)\n",
    "\n",
    "print(f\"pente: {a}\")\n",
    "print(f\"ordonnée à l'origine: {b}\")\n",
    "print(f\"coefficient of détermination R^2: {r_sq}\")"
   ]
  },
  {
   "cell_type": "markdown",
   "id": "6882ed1f",
   "metadata": {},
   "source": [
    "# Analyse des pentes extrêmes"
   ]
  },
  {
   "cell_type": "code",
   "execution_count": 44,
   "id": "9f89df04",
   "metadata": {},
   "outputs": [],
   "source": [
    "def fct_delta_a(a, b, x1, x2, delta_x1, delta_x2, delta_y1, delta_y2):\n",
    "    y1 = a*x1+b\n",
    "    y2 = a*x2+b\n",
    "    return abs(a)*((delta_y2+delta_y1)/abs(y2-y1)+(delta_x2+delta_x1)/abs(x2-x1))\n",
    " \n",
    "def fct_delta_b(a, delta_a, x1, delta_x1, delta_y1):\n",
    "    return delta_y1 + abs(x1)*delta_a + abs(a)*delta_x1"
   ]
  },
  {
   "cell_type": "code",
   "execution_count": 46,
   "id": "b04629ad",
   "metadata": {},
   "outputs": [
    {
     "name": "stdout",
     "output_type": "stream",
     "text": [
      "delta_a: 3.023076923076923\n",
      "delta_b: 1.0580769230769231\n"
     ]
    }
   ],
   "source": [
    "x1, x2 = 0.05, 0.65\n",
    "y1, y2 = a*x1+b, a*x2+b\n",
    "delta_x1, delta_x2 = .01, .01,\n",
    "delta_y1, delta_y2 = .5, .5\n",
    "\n",
    "delta_a = fct_delta_a(a, b, x1, x2, delta_x1, delta_x2, delta_y1, delta_y2)\n",
    "delta_b = fct_delta_b(a, delta_a, x1, delta_x1, delta_y1)\n",
    "\n",
    "print(f\"delta_a: {delta_a}\")\n",
    "print(f\"delta_b: {delta_b}\")"
   ]
  },
  {
   "cell_type": "markdown",
   "id": "cccf2c22",
   "metadata": {
    "heading_collapsed": true
   },
   "source": [
    "# Graphique avec régression linéaire"
   ]
  },
  {
   "cell_type": "code",
   "execution_count": 47,
   "id": "f20e58a1",
   "metadata": {
    "hidden": true
   },
   "outputs": [
    {
     "data": {
      "image/png": "[encoded data removed]",
      "text/plain": [
       "<Figure size 500x400 with 1 Axes>"
      ]
     },
     "metadata": {},
     "output_type": "display_data"
    }
   ],
   "source": [
    "# Création de l'objet graphique:\n",
    "fig, ax = plt.subplots()\n",
    "\n",
    "plt.grid()\n",
    "\n",
    "# Data:\n",
    "ax.plot(xdata, ydata, 'o', color='black', markersize=4)\n",
    "\n",
    "#Modele:\n",
    "xmin, xmax = 0, 0.7\n",
    "ax.plot([xmin, xmax], [a*xmin+b, a*xmax+b], 'b--', linewidth=1)\n",
    "\n",
    "# Titre:\n",
    "ax.set_title(\"Position de l'objet en fonction du temps\")\n",
    "\n",
    "# Nom des axes:\n",
    "ax.set_xlabel(\"t (s)\")\n",
    "ax.set_ylabel(\"x (m)\")\n",
    "\n",
    "# Domaine:\n",
    "ax.set(xlim=(0, 0.7), ylim=(0, 30))\n",
    "\n",
    "# Dimension de l'image:\n",
    "width = 5\n",
    "height = 4\n",
    "fig.set_size_inches(width, height)\n",
    "\n",
    "\n",
    "plt.savefig('./fichiers_output/Exemple_01_cinematique_MRU_graphique_1.pdf')\n",
    "plt.show()"
   ]
  },
  {
   "cell_type": "markdown",
   "id": "a68eb3aa",
   "metadata": {},
   "source": [
    "# Graphique avec régression linéaire et pentes extrêmes "
   ]
  },
  {
   "cell_type": "code",
   "execution_count": 48,
   "id": "21961f00",
   "metadata": {},
   "outputs": [
    {
     "data": {
      "image/png": "[encoded data removed]",
      "text/plain": [
       "<Figure size 500x400 with 1 Axes>"
      ]
     },
     "metadata": {},
     "output_type": "display_data"
    }
   ],
   "source": [
    "# Création de l'objet graphique:\n",
    "fig, ax = plt.subplots()\n",
    "\n",
    "plt.grid()\n",
    "\n",
    "# Nuage de point:\n",
    "ax.plot([x1, x2], [y1, y2], 'b-', linewidth=1)\n",
    "ax.plot([x1 + delta_x1, x2 - delta_x2], [y1 - delta_y1, y2 + delta_y2], 'g-', linewidth=1)\n",
    "ax.plot([x1 - delta_x1, x2 + delta_x2], [y1 + delta_y1, y2 - delta_y2], 'r-', linewidth=1)\n",
    "ax.plot(xdata, ydata, 'o', color='black', markersize=2)\n",
    "\n",
    "\n",
    "ax.add_patch(Rectangle((x1 - delta_x1, y1 - delta_y1), 2*delta_x1, 2*delta_y1,\n",
    "             edgecolor = 'black',\n",
    "             fill=False,\n",
    "             lw=1))\n",
    "ax.add_patch(Rectangle((x2 - delta_x2, y2 - delta_y2), 2*delta_x2, 2*delta_y2,\n",
    "             edgecolor = 'black',\n",
    "             fill=False,\n",
    "             lw=1))\n",
    "\n",
    "# Titre:\n",
    "ax.set_title(\"Position de l'objet en fonction du temps\")\n",
    "\n",
    "# Nom des axes:\n",
    "ax.set_xlabel(\"t (s)\")\n",
    "ax.set_ylabel(\"x (m)\")\n",
    "\n",
    "# Domaine:\n",
    "ax.set(xlim=(0, 0.7), ylim=(0, 30))\n",
    "\n",
    "# Dimension de l'image:\n",
    "width = 5\n",
    "height = 4\n",
    "fig.set_size_inches(width, height)\n",
    "\n",
    "\n",
    "plt.savefig('./fichiers_output/Exemple_01_cinematique_MRU_graphique_2.pdf')\n",
    "plt.show()"
   ]
  },
  {
   "cell_type": "markdown",
   "id": "433a001b",
   "metadata": {
    "heading_collapsed": true
   },
   "source": [
    "# Graphique de comparaison"
   ]
  },
  {
   "cell_type": "code",
   "execution_count": 49,
   "id": "17b37eef",
   "metadata": {
    "hidden": true
   },
   "outputs": [],
   "source": [
    "aref = 40 \n",
    "delta_aref = 1\n",
    "\n",
    "agraph = a\n",
    "delta_agraph = delta_a"
   ]
  },
  {
   "cell_type": "code",
   "execution_count": 50,
   "id": "b471a10a",
   "metadata": {
    "hidden": true
   },
   "outputs": [
    {
     "data": {
      "image/png": "[encoded data removed]",
      "text/plain": [
       "<Figure size 800x400 with 1 Axes>"
      ]
     },
     "metadata": {},
     "output_type": "display_data"
    }
   ],
   "source": [
    "fig, ax = plt.subplots()\n",
    "plt.grid()\n",
    "ax.set_title('Graphique de comparaison')\n",
    "\n",
    "data = np.array([[aref - delta_aref, agraph - delta_agraph],[aref + delta_aref, agraph + delta_agraph]])\n",
    "ax.boxplot(data, showfliers=False, vert=False, labels = [\"a_ref\",\"a_graph\"])\n",
    "\n",
    "ax.set_xlabel(\"v (m/s)\")\n",
    "\n",
    "\n",
    "width = 8\n",
    "height = 4\n",
    "fig.set_size_inches(width, height)\n",
    "\n",
    "\n",
    "ax.set(xlim=(35, 45))\n",
    "\n",
    "plt.savefig('./fichiers_output/Exemple_01_cinematique_MRU_graphique_comparaison.pdf')"
   ]
  },
  {
   "cell_type": "code",
   "execution_count": null,
   "id": "d04965e3",
   "metadata": {
    "hidden": true
   },
   "outputs": [],
   "source": []
  }
 ],
 "metadata": {
  "jupytext": {
   "formats": "ipynb,scripts//auto:percent"
  },
  "kernelspec": {
   "display_name": "Python 3 (ipykernel)",
   "language": "python",
   "name": "python3"
  },
  "language_info": {
   "codemirror_mode": {
    "name": "ipython",
    "version": 3
   },
   "file_extension": ".py",
   "mimetype": "text/x-python",
   "name": "python",
   "nbconvert_exporter": "python",
   "pygments_lexer": "ipython3",
   "version": "3.12.0"
  },
  "toc": {
   "base_numbering": 1,
   "nav_menu": {},
   "number_sections": true,
   "sideBar": true,
   "skip_h1_title": false,
   "title_cell": "Table of Contents",
   "title_sidebar": "Contents",
   "toc_cell": false,
   "toc_position": {},
   "toc_section_display": true,
   "toc_window_display": false
  },
  "varInspector": {
   "cols": {
    "lenName": 16,
    "lenType": 16,
    "lenVar": 40
   },
   "kernels_config": {
    "python": {
     "delete_cmd_postfix": "",
     "delete_cmd_prefix": "del ",
     "library": "var_list.py",
     "varRefreshCmd": "print(var_dic_list())"
    },
    "r": {
     "delete_cmd_postfix": ") ",
     "delete_cmd_prefix": "rm(",
     "library": "var_list.r",
     "varRefreshCmd": "cat(var_dic_list()) "
    }
   },
   "types_to_exclude": [
    "module",
    "function",
    "builtin_function_or_method",
    "instance",
    "_Feature"
   ],
   "window_display": false
  }
 },
 "nbformat": 4,
 "nbformat_minor": 5
}
