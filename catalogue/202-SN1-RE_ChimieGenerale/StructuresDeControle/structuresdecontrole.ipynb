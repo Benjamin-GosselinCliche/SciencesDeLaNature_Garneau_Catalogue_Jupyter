{
 "cells": [
  {
   "cell_type": "markdown",
   "id": "aaf5ae9b",
   "metadata": {
    "lines_to_next_cell": 2
   },
   "source": [
    "# Démonstration sur les structures de contrôle avec Python  : \n",
    "# Point d'ébullition de l'eau en fonction de l'altitude\n",
    "---\n",
    "<div style=\"text-align: center; margin-top: 20px;\">\n",
    "    <img src=\"./img/banner.webp\" alt=\"Drawing\" style=\"width: 300px;\"/>\n",
    "</div>"
   ]
  },
  {
   "cell_type": "markdown",
   "id": "466ea3e5",
   "metadata": {
    "lines_to_next_cell": 2
   },
   "source": [
    "---\n",
    "# Objectifs:\n",
    "- Utiliser les structures de contrôle `if` `else` `elif`\n",
    "- Utiliser les opérateurs logiques booléens `and` `or` `True` `False` `not`\n",
    "- Utiliser les opérateurs de comparaison `>` `<` `<=` `>=` `==`  \n",
    " Ce, afin de créer des programmes qui s'adaptent aux données et instructions fournies."
   ]
  },
  {
   "cell_type": "markdown",
   "id": "dcd91701",
   "metadata": {},
   "source": [
    "---\n",
    "# Opérateurs de comparaison (`>` `<` `<=` `>=` `==`)\n",
    "Vous pouvez utiliser les opérateurs ci-haut pour comparer des valeurs dans des conditions.\n",
    "- `>` : Plus grand que\n",
    "- `<` : Plus petit que\n",
    "- `>=` : Plus grand ou égal à\n",
    "- `<=` : Plus petit ou égal à\n",
    "- `==` : Égal à"
   ]
  },
  {
   "cell_type": "markdown",
   "id": "6c206537",
   "metadata": {},
   "source": [
    "---\n",
    "# Structures de contrôle (`if` `else` `elif`)"
   ]
  },
  {
   "cell_type": "markdown",
   "id": "e39291d0",
   "metadata": {},
   "source": [
    "Entrez une altitude en mètres.  "
   ]
  },
  {
   "cell_type": "code",
   "execution_count": 1,
   "id": "7dac953f",
   "metadata": {},
   "outputs": [],
   "source": [
    "# Point d'ébullition de l'eau au niveau de la mer (en degrés Celsius)\n",
    "ebullition_niveau_mer = 100 \n",
    "altitude = 900  # Altitude en mètres"
   ]
  },
  {
   "cell_type": "markdown",
   "id": "bdadfe4a",
   "metadata": {
    "lines_to_next_cell": 2
   },
   "source": [
    "Pour exécuter du code de façon conditionnelle (dans un cas précis seulement) \n",
    "vous pouvez utiliser le mot clé **If**.  \n",
    "Ici par exemple, le message d'erreur ne s'affiche que si l'altitude entrée est inférieur à 0."
   ]
  },
  {
   "cell_type": "code",
   "execution_count": 2,
   "id": "b9d74147",
   "metadata": {},
   "outputs": [],
   "source": [
    "# Changez la valeur de l'altitude et réévaluez cette cellule.\n",
    "if altitude < 0:\n",
    "    print(\"Erreur: L'altitude ne peut pas être négative.\")"
   ]
  },
  {
   "cell_type": "markdown",
   "id": "c02c37d7",
   "metadata": {},
   "source": [
    "Pour gérer plus d'un cas possible, on utilise le mot clé **elif** pour else if (sinon si) "
   ]
  },
  {
   "cell_type": "code",
   "execution_count": 3,
   "id": "96f79e23",
   "metadata": {},
   "outputs": [],
   "source": [
    "# Changez la valeur de l'altitude pour 0 et réévaluez cette cellule\n",
    "if altitude < 0:\n",
    "    print(\"Erreur: L'altitude ne peut pas être négative.\")\n",
    "elif altitude == 0:\n",
    "    print(f\"Au niveau de la mer, l'eau bout à {ebullition_niveau_mer}°C.\")"
   ]
  },
  {
   "cell_type": "markdown",
   "id": "37ebbe41",
   "metadata": {},
   "source": [
    "Pour gèrer les cas restant (ceux auxquel aucun condition ne s'applique) vous pouvez utiliser le mot clé **else**"
   ]
  },
  {
   "cell_type": "code",
   "execution_count": 4,
   "id": "d32588f3",
   "metadata": {},
   "outputs": [
    {
     "name": "stdout",
     "output_type": "stream",
     "text": [
      "À une altitude de 900 mètres, l'eau bout à 97.00°C.\n"
     ]
    }
   ],
   "source": [
    "# Changez la valeur de l'altitude pour 0 et réévaluez cette cellule\n",
    "if altitude < 0:\n",
    "    print(\"Erreur: L'altitude ne peut pas être négative.\")\n",
    "elif altitude == 0:\n",
    "    print(f\"Au niveau de la mer, l'eau bout à {ebullition_niveau_mer}°C.\")\n",
    "else:\n",
    "    # Calcul du point d'ébullition\n",
    "    # Le point d'ébullition de l'eau diminue d'environ 1 degré tous les 300 mètres d'altitude\n",
    "    reduction_temp = altitude / 300\n",
    "    point_ebullition = ebullition_niveau_mer - reduction_temp\n",
    "    print(f\"À une altitude de {altitude} mètres, l'eau bout à {point_ebullition:.2f}°C.\")"
   ]
  },
  {
   "cell_type": "markdown",
   "id": "edc40b0f",
   "metadata": {
    "lines_to_next_cell": 0
   },
   "source": [
    "---\n",
    "# Opérateurs booléens (`and` `or` `True` `False` `not`)"
   ]
  },
  {
   "cell_type": "code",
   "execution_count": 5,
   "id": "33fefec3",
   "metadata": {},
   "outputs": [],
   "source": [
    "# Supposons que nous avons des conditions spéciales pour des expériences scientifiques\n",
    "temperature_ideale = 97  # Température idéale pour une expérience\n",
    "altitude_ideale_min = 901  # Altitude minimale idéale\n",
    "altitude_ideale_max = 2500  # Altitude maximale idéale"
   ]
  },
  {
   "cell_type": "markdown",
   "id": "b3467221",
   "metadata": {},
   "source": [
    "Pour vérifier si deux conditions sont vraies en même temps, on utilise l'opérateur booléen **and**"
   ]
  },
  {
   "cell_type": "code",
   "execution_count": 6,
   "id": "9f9d505f",
   "metadata": {},
   "outputs": [
    {
     "name": "stdout",
     "output_type": "stream",
     "text": [
      "L'altitude n'est pas idéale pour l'expérience.\n"
     ]
    }
   ],
   "source": [
    "# Il faut obligatoirement que les deux conditions soient évaluées comme vraies pour entrer dans le 'if'\n",
    "if (altitude_ideale_min <= altitude <= altitude_ideale_max) and (point_ebullition <= temperature_ideale):\n",
    "    print(\"L'altitude est idéale pour l'expérience scientifique.\")\n",
    "else:\n",
    "    print(\"L'altitude n'est pas idéale pour l'expérience.\")"
   ]
  },
  {
   "cell_type": "markdown",
   "id": "41f86d1d",
   "metadata": {},
   "source": [
    "Pour vérifier si **au moins une** des conditions est vraie, on utilise l'opérateur booléen **or**"
   ]
  },
  {
   "cell_type": "code",
   "execution_count": 7,
   "id": "8293b472",
   "metadata": {},
   "outputs": [
    {
     "name": "stdout",
     "output_type": "stream",
     "text": [
      "Les conditions sont parfaites pour l'ébullition standard de l'eau ou une expérience idéale.\n"
     ]
    }
   ],
   "source": [
    "# Tant qu'une des deux conditions est vraie, on entre dans le 'if'\n",
    "if (point_ebullition == temperature_ideale) or (altitude == 0):\n",
    "    print(\"Les conditions sont parfaites pour l'ébullition standard de l'eau ou une expérience idéale.\")"
   ]
  },
  {
   "cell_type": "markdown",
   "id": "efa4fa99",
   "metadata": {},
   "source": [
    "Pour vérifier si une condition est fausse, on utilise l'opérateur booléen **not**"
   ]
  },
  {
   "cell_type": "code",
   "execution_count": 8,
   "id": "b7967e9d",
   "metadata": {},
   "outputs": [
    {
     "name": "stdout",
     "output_type": "stream",
     "text": [
      "L'altitude est soit trop basse, soit trop haute pour effectuer des expériences.\n"
     ]
    }
   ],
   "source": [
    "# Si la condition est évaluée à False, on entre dans le 'if'\n",
    "if not (altitude_ideale_min <= altitude <= altitude_ideale_max):\n",
    "    print(\"L'altitude est soit trop basse, soit trop haute pour effectuer des expériences.\")"
   ]
  },
  {
   "cell_type": "markdown",
   "id": "df259f59",
   "metadata": {},
   "source": [
    "Toute expression booléenne peut être évaluée à `True` ou `False` (Vrai ou Faux).  \n",
    "Il est possible d'assigner ces valeurs à des variables ou de les utiliser directement dans des conditions."
   ]
  },
  {
   "cell_type": "code",
   "execution_count": 9,
   "id": "4e45e74c",
   "metadata": {},
   "outputs": [],
   "source": [
    "# Assignation de valeurs booléennes à des variables\n",
    "volcanAProximite = True\n",
    "humiditeElevee = False\n",
    "surUneMontagne = altitude >= 800\n",
    "\n",
    "# Calculer le point d'ébullition de base en fonction de l'altitude\n",
    "reduction_temp = altitude / 300\n",
    "point_ebullition = ebullition_niveau_mer - reduction_temp"
   ]
  },
  {
   "cell_type": "markdown",
   "id": "38db359c",
   "metadata": {},
   "source": [
    "Comme ces valeurs sont des expressions booléennes, elles peuvent être utilisées directement dans des conditions."
   ]
  },
  {
   "cell_type": "code",
   "execution_count": 10,
   "id": "96c18740",
   "metadata": {},
   "outputs": [
    {
     "name": "stdout",
     "output_type": "stream",
     "text": [
      "À une altitude de 900 mètres, l'eau bout à 98.00°C.\n"
     ]
    }
   ],
   "source": [
    "# Ajuster le point d'ébullition en fonction des conditions spéciales\n",
    "if volcanAProximite:\n",
    "    # Près d'un volcan, le point d'ébullition pourrait être affecté par des gaz géothermiques\n",
    "    point_ebullition += 1  # Hypothétique: Augmenter le point d'ébullition de 1 degré\n",
    "\n",
    "if humiditeElevee and surUneMontagne:\n",
    "    # Haute altitude combinée avec une humidité élevée pourrait augmenter le point d'ébullition\n",
    "    point_ebullition += 0.5  # Hypothétique: Augmenter le point d'ébullition de 0.5 degré\n",
    "\n",
    "# Changez les valeurs des conditions spéciales et réévaluez cette cellule\n",
    "print(f\"À une altitude de {altitude} mètres, l'eau bout à {point_ebullition:.2f}°C.\")"
   ]
  },
  {
   "cell_type": "code",
   "execution_count": null,
   "id": "4acdcc1b",
   "metadata": {},
   "outputs": [],
   "source": []
  }
 ],
 "metadata": {
  "kernelspec": {
   "display_name": "Python 3 (ipykernel)",
   "language": "python",
   "name": "python3"
  },
  "language_info": {
   "codemirror_mode": {
    "name": "ipython",
    "version": 3
   },
   "file_extension": ".py",
   "mimetype": "text/x-python",
   "name": "python",
   "nbconvert_exporter": "python",
   "pygments_lexer": "ipython3",
   "version": "3.12.0"
  }
 },
 "nbformat": 4,
 "nbformat_minor": 5
}
