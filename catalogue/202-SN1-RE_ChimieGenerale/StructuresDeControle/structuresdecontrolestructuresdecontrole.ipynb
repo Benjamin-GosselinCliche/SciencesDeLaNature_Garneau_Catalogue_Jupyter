{
 "cells": [
  {
   "cell_type": "code",
   "execution_count": null,
   "id": "eeffa4a4",
   "metadata": {},
   "outputs": [],
   "source": [
    "ù# ---\n",
    "# jupyter:\n",
    "#   jupytext:\n",
    "#     formats: py:percent\n",
    "#     text_representation:\n",
    "#       extension: .py\n",
    "#       format_name: percent\n",
    "#       format_version: '1.3'\n",
    "#       jupytext_version: 1.15.2\n",
    "#   kernelspec:\n",
    "#     display_name: Python 3 (ipykernel)\n",
    "#     language: python\n",
    "#     name: python3\n",
    "# ---"
   ]
  },
  {
   "cell_type": "markdown",
   "id": "f1610398",
   "metadata": {
    "lines_to_next_cell": 2
   },
   "source": [
    "# Démonstration sur les structures de contrôle avec Python  : \n",
    "# Point d'ébullition de l'eau en fonction de l'altitude\n",
    "---\n",
    "<div style=\"text-align: center; margin-top: 20px;\">\n",
    "    <img src=\"./img/banner.webp\" alt=\"Drawing\" style=\"width: 300px;\"/>\n",
    "</div>"
   ]
  },
  {
   "cell_type": "markdown",
   "id": "ac539326",
   "metadata": {
    "lines_to_next_cell": 2
   },
   "source": [
    "---\n",
    "# Objectifs:\n",
    "- Utiliser les structures de contrôle `if` `else` `elif`\n",
    "- Utiliser les opérateurs logiques booléens `and` `or` `True` `False` `not`\n",
    "- Utiliser les opérateurs de comparaison `>` `<` `<=` `>=` `==`  \n",
    " Ce, afin de créer des programmes qui s'adaptent aux données et instructions fournies."
   ]
  },
  {
   "cell_type": "markdown",
   "id": "cfb03013",
   "metadata": {},
   "source": [
    "---\n",
    "# Opérateurs de comparaison (`>` `<` `<=` `>=` `==`)\n",
    "Vous pouvez utiliser les opérateurs ci-haut pour comparer des valeurs dans des conditions.\n",
    "- `>` : Plus grand que\n",
    "- `<` : Plus petit que\n",
    "- `>=` : Plus grand ou égal à\n",
    "- `<=` : Plus petit ou égal à\n",
    "- `==` : Égal à"
   ]
  },
  {
   "cell_type": "markdown",
   "id": "a27bb3a3",
   "metadata": {},
   "source": [
    "---\n",
    "# Structures de contrôle (`if` `else` `elif`)"
   ]
  },
  {
   "cell_type": "markdown",
   "id": "0277799b",
   "metadata": {},
   "source": [
    "Entrez une altitude en mètres.  "
   ]
  },
  {
   "cell_type": "code",
   "execution_count": null,
   "id": "cf80f8cc",
   "metadata": {},
   "outputs": [],
   "source": [
    "# Point d'ébullition de l'eau au niveau de la mer (en degrés Celsius)\n",
    "ebullition_niveau_mer = 100 \n",
    "altitude = 900  # Altitude en mètres"
   ]
  },
  {
   "cell_type": "markdown",
   "id": "75e82965",
   "metadata": {
    "lines_to_next_cell": 2
   },
   "source": [
    "Pour exécuter du code de façon conditionnelle (dans un cas précis seulement) \n",
    "vous pouvez utiliser le mot clé **If**.  \n",
    "Ici par exemple, le message d'erreur ne s'affiche que si l'altitude entrée est inférieur à 0."
   ]
  },
  {
   "cell_type": "code",
   "execution_count": null,
   "id": "5c486bce",
   "metadata": {},
   "outputs": [],
   "source": [
    "# Changez la valeur de l'altitude et réévaluez cette cellule.\n",
    "if altitude < 0:\n",
    "    print(\"Erreur: L'altitude ne peut pas être négative.\")"
   ]
  },
  {
   "cell_type": "markdown",
   "id": "74c9f42a",
   "metadata": {},
   "source": [
    "Pour gérer plus d'un cas possible, on utilise le mot clé **elif** pour else if (sinon si) "
   ]
  },
  {
   "cell_type": "code",
   "execution_count": null,
   "id": "7624e275",
   "metadata": {},
   "outputs": [],
   "source": [
    "# Changez la valeur de l'altitude pour 0 et réévaluez cette cellule\n",
    "if altitude < 0:\n",
    "    print(\"Erreur: L'altitude ne peut pas être négative.\")\n",
    "elif altitude == 0:\n",
    "    print(f\"Au niveau de la mer, l'eau bout à {ebullition_niveau_mer}°C.\")"
   ]
  },
  {
   "cell_type": "markdown",
   "id": "266c03cf",
   "metadata": {},
   "source": [
    "Pour gèrer les cas restant (ceux auxquel aucun condition ne s'applique) vous pouvez utiliser le mot clé **else**"
   ]
  },
  {
   "cell_type": "code",
   "execution_count": null,
   "id": "99d2bd31",
   "metadata": {},
   "outputs": [],
   "source": [
    "# Changez la valeur de l'altitude pour 0 et réévaluez cette cellule\n",
    "if altitude < 0:\n",
    "    print(\"Erreur: L'altitude ne peut pas être négative.\")\n",
    "elif altitude == 0:\n",
    "    print(f\"Au niveau de la mer, l'eau bout à {ebullition_niveau_mer}°C.\")\n",
    "else:\n",
    "    # Calcul du point d'ébullition\n",
    "    # Le point d'ébullition de l'eau diminue d'environ 1 degré tous les 300 mètres d'altitude\n",
    "    reduction_temp = altitude / 300\n",
    "    point_ebullition = ebullition_niveau_mer - reduction_temp\n",
    "    print(f\"À une altitude de {altitude} mètres, l'eau bout à {point_ebullition:.2f}°C.\")"
   ]
  },
  {
   "cell_type": "markdown",
   "id": "a5725a9d",
   "metadata": {
    "lines_to_next_cell": 0
   },
   "source": [
    "---\n",
    "# Opérateurs booléens (`and` `or` `True` `False` `not`)"
   ]
  },
  {
   "cell_type": "code",
   "execution_count": null,
   "id": "8e6a2b55",
   "metadata": {},
   "outputs": [],
   "source": [
    "# Supposons que nous avons des conditions spéciales pour des expériences scientifiques\n",
    "temperature_ideale = 97  # Température idéale pour une expérience\n",
    "altitude_ideale_min = 901  # Altitude minimale idéale\n",
    "altitude_ideale_max = 2500  # Altitude maximale idéale"
   ]
  },
  {
   "cell_type": "markdown",
   "id": "34fb6787",
   "metadata": {},
   "source": [
    "Pour vérifier si deux conditions sont vraies en même temps, on utilise l'opérateur booléen **and**"
   ]
  },
  {
   "cell_type": "code",
   "execution_count": null,
   "id": "5141042f",
   "metadata": {},
   "outputs": [],
   "source": [
    "# Il faut obligatoirement que les deux conditions soient évaluées comme vraies pour entrer dans le 'if'\n",
    "if (altitude_ideale_min <= altitude <= altitude_ideale_max) and (point_ebullition <= temperature_ideale):\n",
    "    print(\"L'altitude est idéale pour l'expérience scientifique.\")\n",
    "else:\n",
    "    print(\"L'altitude n'est pas idéale pour l'expérience.\")"
   ]
  },
  {
   "cell_type": "markdown",
   "id": "06ac480e",
   "metadata": {},
   "source": [
    "Pour vérifier si **au moins une** des conditions est vraie, on utilise l'opérateur booléen **or**"
   ]
  },
  {
   "cell_type": "code",
   "execution_count": null,
   "id": "96070e09",
   "metadata": {},
   "outputs": [],
   "source": [
    "# Tant qu'une des deux conditions est vraie, on entre dans le 'if'\n",
    "if (point_ebullition == temperature_ideale) or (altitude == 0):\n",
    "    print(\"Les conditions sont parfaites pour l'ébullition standard de l'eau ou une expérience idéale.\")"
   ]
  },
  {
   "cell_type": "markdown",
   "id": "b9071bcc",
   "metadata": {},
   "source": [
    "Pour vérifier si une condition est fausse, on utilise l'opérateur booléen **not**"
   ]
  },
  {
   "cell_type": "code",
   "execution_count": null,
   "id": "79e502a2",
   "metadata": {},
   "outputs": [],
   "source": [
    "# Si la condition est évaluée à False, on entre dans le 'if'\n",
    "if not (altitude_ideale_min <= altitude <= altitude_ideale_max):\n",
    "    print(\"L'altitude est soit trop basse, soit trop haute pour effectuer des expériences.\")"
   ]
  },
  {
   "cell_type": "markdown",
   "id": "c1b0762c",
   "metadata": {},
   "source": [
    "Toute expression booléenne peut être évaluée à `True` ou `False` (Vrai ou Faux).  \n",
    "Il est possible d'assigner ces valeurs à des variables ou de les utiliser directement dans des conditions."
   ]
  },
  {
   "cell_type": "code",
   "execution_count": null,
   "id": "00334528",
   "metadata": {},
   "outputs": [],
   "source": [
    "# Assignation de valeurs booléennes à des variables\n",
    "volcanAProximite = True\n",
    "humiditeElevee = False\n",
    "surUneMontagne = altitude >= 800\n",
    "\n",
    "# Calculer le point d'ébullition de base en fonction de l'altitude\n",
    "reduction_temp = altitude / 300\n",
    "point_ebullition = ebullition_niveau_mer - reduction_temp"
   ]
  },
  {
   "cell_type": "markdown",
   "id": "e266d04d",
   "metadata": {},
   "source": [
    "Comme ces valeurs sont des expressions booléennes, elles peuvent être utilisées directement dans des conditions."
   ]
  },
  {
   "cell_type": "code",
   "execution_count": null,
   "id": "9f155953",
   "metadata": {},
   "outputs": [],
   "source": [
    "# Ajuster le point d'ébullition en fonction des conditions spéciales\n",
    "if volcanAProximite:\n",
    "    # Près d'un volcan, le point d'ébullition pourrait être affecté par des gaz géothermiques\n",
    "    point_ebullition += 1  # Hypothétique: Augmenter le point d'ébullition de 1 degré\n",
    "\n",
    "if humiditeElevee and surUneMontagne:\n",
    "    # Haute altitude combinée avec une humidité élevée pourrait augmenter le point d'ébullition\n",
    "    point_ebullition += 0.5  # Hypothétique: Augmenter le point d'ébullition de 0.5 degré\n",
    "\n",
    "# Changez les valeurs des conditions spéciales et réévaluez cette cellule\n",
    "print(f\"À une altitude de {altitude} mètres, l'eau bout à {point_ebullition:.2f}°C.\")"
   ]
  },
  {
   "cell_type": "code",
   "execution_count": null,
   "id": "e07c9693",
   "metadata": {},
   "outputs": [],
   "source": []
  }
 ],
 "metadata": {
  "jupytext": {
   "cell_metadata_filter": "-all",
   "main_language": "python",
   "notebook_metadata_filter": "-all"
  }
 },
 "nbformat": 4,
 "nbformat_minor": 5
}
