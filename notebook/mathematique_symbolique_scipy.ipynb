{
 "cells": [
  {
   "cell_type": "markdown",
   "id": "34419965",
   "metadata": {},
   "source": [
    "# Démonstration Sympy\n",
    "---\n",
    "\n",
    "<div style=\"text-align: center;\">\n",
    "    <div style=\"display: inline-block; position: relative; width: 350px;\">\n",
    "        <img src=\"../img/_f260286f-3f4a-48cb-9dee-93d38a5b43d2.jpeg\" alt=\"Dessin\" style=\"width: 100%;\"/>\n",
    "        <p style=\"text-align: center; margin-top: 5px;\">\n",
    "            <span style=\"font-style: italic; font-size: 16px;\"> Sympy </span><br/>\n",
    "            <span style=\"font-style: italic; font-size: 12px;\">Image générée par DALL·E 3, 2024 </span>\n",
    "        </p>\n",
    "    </div>\n",
    "</div>"
   ]
  },
  {
   "cell_type": "markdown",
   "id": "e2fc5143",
   "metadata": {},
   "source": [
    "\n",
    "## Mise en contexte:\n",
    "\n",
    "SymPy est une bibliothèque Python pour les mathématiques symboliques. Contrairement aux calculs numériques, où les valeurs sont représentées par des nombres, les mathématiques symboliques manipulent des expressions mathématiques de manière exacte, en conservant les symboles tels quels.\n",
    "\n",
    "Comme à l'habitude, nous importons d'abors la librairie:\n",
    "\n",
    "```python\n",
    "import sympy as sp \n",
    "```\n",
    "\n",
    "Les variables doivent être instanciées de la manière suivante:\n",
    "\n",
    "```python\n",
    "x, y, a, b = sp.symbols('x y a b')\n",
    "```\n",
    "\n",
    "Ici, les variables x, y, a et b seront donc traités symboliquement.\n",
    "\n",
    "\n"
   ]
  },
  {
   "cell_type": "code",
   "execution_count": null,
   "id": "8c4f4f49",
   "metadata": {},
   "outputs": [],
   "source": [
    "import sympy as sp\n",
    "\n",
    "# Définition des variables\n",
    "x, y, a, b = sp.symbols('x y a b')\n",
    "\n",
    "# Définition d'une fonction à une variable: f1(x) \n",
    "fonction_f1 = sp.Function('f1')(x)\n",
    "\n",
    "# Définition d'une fonction à deux variable: f2(x, y) \n",
    "fonction_f2 = sp.Function('f2')(x, y)\n",
    "\n",
    "# L'équivalent d'un print pour un affichage symbolique dans Jupyter est la fonction display de IPython.display\n",
    "from IPython.display import display\n",
    "display(x)\n",
    "display(fonction_f1)\n",
    "\n",
    "#Le dernier élément d'une cellule n'a pas besoin d'un display\n",
    "fonction_f2"
   ]
  },
  {
   "cell_type": "code",
   "execution_count": null,
   "id": "880db4f5",
   "metadata": {},
   "outputs": [],
   "source": [
    "#\n",
    "polynomial_degre_4 = 16*x**4 + 96*x**3 + 216*x**2 + 216*x + 81\n",
    "polynomial_degre_4\n",
    "racines = sp.roots(polynomial_degre_4)\n",
    "racines"
   ]
  },
  {
   "cell_type": "code",
   "execution_count": null,
   "id": "97d76d12",
   "metadata": {},
   "outputs": [],
   "source": [
    "polynomial_degre_4.factor()"
   ]
  },
  {
   "cell_type": "code",
   "execution_count": null,
   "id": "8931e4a4",
   "metadata": {},
   "outputs": [],
   "source": [
    "#\n",
    "polynomial_degre_4 = 10*x**4 + 96*x**3 + 216*x**2 + 216*x + 81\n",
    "# Calcul des racines du polynôme\n",
    "racines = sp.roots(polynomial_degre_4)\n",
    "racines"
   ]
  },
  {
   "cell_type": "code",
   "execution_count": null,
   "id": "265a3187",
   "metadata": {},
   "outputs": [],
   "source": [
    "## Les fonctions\n",
    "\n",
    "\n",
    "ggg = r'f(a)=\\int_\\infty^0 \\frac{1}{a+2} \\mathrm{d}a'\n",
    "\n",
    "display(Math(ggg))"
   ]
  },
  {
   "cell_type": "code",
   "execution_count": null,
   "id": "29895666",
   "metadata": {},
   "outputs": [],
   "source": [
    "# Création de l'expression f(x + a)\n",
    "fonction_f_with_offset = fonction_f.subs(x, x + b)\n",
    "\n",
    "# Affichage de f(x + a)\n",
    "fonction_f_with_offset"
   ]
  },
  {
   "cell_type": "code",
   "execution_count": null,
   "id": "fb7b484e",
   "metadata": {},
   "outputs": [],
   "source": [
    "# Calcul de la dérivée\n",
    "derivative_f1 = sp.diff(fonction_f1, x)\n",
    "\n",
    "# Calcul de l'intégrale\n",
    "integral_f1 = sp.integrate(fonction_f1, x)\n",
    "\n",
    "display(derivative_f1)\n",
    "display(integral_f1)"
   ]
  },
  {
   "cell_type": "code",
   "execution_count": null,
   "id": "af7352b3",
   "metadata": {
    "lines_to_next_cell": 2
   },
   "outputs": [],
   "source": [
    "import sympy as sp\n",
    "\n",
    "# Définition des symboles\n",
    "x, a, b = sp.symbols('x a b')\n",
    "\n",
    "# Définition de la fonction F(x)\n",
    "F = sp.Function('F')(x)\n",
    "\n",
    "# Définition de l'intégrale définie\n",
    "integral_eq = sp.Eq(sp.integrate(F.diff(x), (x, a, b)), F.subs(x, b) - F.subs(x, a))\n",
    "\n",
    "# Affichage de l'équation\n",
    "integral_eq"
   ]
  },
  {
   "cell_type": "code",
   "execution_count": null,
   "id": "f5374506",
   "metadata": {
    "lines_to_next_cell": 2
   },
   "outputs": [],
   "source": [
    "import sympy as sp\n",
    "\n",
    "# Définition des symboles\n",
    "x, y = sp.symbols('x y')\n",
    "\n",
    "# Expression à simplifier\n",
    "expr = (x**2 + 2*x + 1) / (x + 1)\n",
    "\n",
    "# Simplification de l'expression\n",
    "simplified_expr = sp.simplify(expr)\n",
    "\n",
    "print(\"Expression simplifiée:\", simplified_expr)"
   ]
  },
  {
   "cell_type": "code",
   "execution_count": null,
   "id": "433aeb22",
   "metadata": {
    "lines_to_next_cell": 2
   },
   "outputs": [],
   "source": [
    "# Equation symbolique\n",
    "equation = sp.Eq(x**2 + 2*x, 0)\n",
    "\n",
    "# Résolution de l'équation\n",
    "solutions = sp.solve(equation, x)\n",
    "\n",
    "print(\"Solutions de l'équation:\", solutions)"
   ]
  },
  {
   "cell_type": "code",
   "execution_count": null,
   "id": "3eec0347",
   "metadata": {
    "lines_to_next_cell": 2
   },
   "outputs": [],
   "source": [
    "# Définition d'une fonction symbolique\n",
    "f = sp.Function('f')(x)\n",
    "\n",
    "# Calcul de la dérivée\n",
    "derivative = sp.diff(f, x)\n",
    "\n",
    "print(\"Dérivée de f par rapport à x:\", derivative)\n",
    "\n",
    "# Calcul de l'intégrale\n",
    "integral = sp.integrate(f, x)\n",
    "\n",
    "print(\"Intégrale de f par rapport à x:\", integral)"
   ]
  },
  {
   "cell_type": "code",
   "execution_count": null,
   "id": "d10f5ff3",
   "metadata": {
    "lines_to_next_cell": 2
   },
   "outputs": [],
   "source": [
    "# Simplification d'une expression trigonométrique\n",
    "expr_trig = sp.sin(x)**2 + sp.cos(x)**2\n",
    "\n",
    "simplified_trig_expr = sp.simplify(expr_trig)\n",
    "\n",
    "print(\"Expression trigonométrique simplifiée:\", simplified_trig_expr)"
   ]
  },
  {
   "cell_type": "code",
   "execution_count": null,
   "id": "e818384b",
   "metadata": {},
   "outputs": [],
   "source": [
    "import scipy.integrate as spi\n",
    "\n",
    "# Définir la fonction à intégrer\n",
    "def f(x):\n",
    "    return x**2\n",
    "\n",
    "# Intégrer la fonction de 0 à 1\n",
    "result, error = spi.quad(f, 0, 1)\n",
    "print(\"Résultat de l'intégration :\", result)"
   ]
  },
  {
   "cell_type": "code",
   "execution_count": null,
   "id": "95bdd8f4",
   "metadata": {
    "lines_to_next_cell": 2
   },
   "outputs": [],
   "source": [
    "import numpy as np\n",
    "from scipy.integrate import solve_ivp\n",
    "import matplotlib.pyplot as plt\n",
    "\n",
    "# Définir l'équation différentielle : dy/dt = -2y\n",
    "def model(t, y):\n",
    "    return -2 * y\n",
    "\n",
    "# Conditions initiales et intervalle de temps\n",
    "t_span = (0, 5)\n",
    "y0 = [1]\n",
    "\n",
    "# Résolution de l'EDO\n",
    "sol = solve_ivp(model, t_span, y0, t_eval=np.linspace(0, 5, 100))\n",
    "\n",
    "# Affichage du résultat\n",
    "plt.plot(sol.t, sol.y[0])\n",
    "plt.xlabel('Temps')\n",
    "plt.ylabel('y(t)')\n",
    "plt.title('Solution de l\\'équation différentielle')\n",
    "plt.grid(True)\n",
    "plt.show()"
   ]
  },
  {
   "cell_type": "code",
   "execution_count": null,
   "id": "a3e7e695",
   "metadata": {},
   "outputs": [],
   "source": [
    "print(sol)"
   ]
  },
  {
   "cell_type": "code",
   "execution_count": null,
   "id": "2431b12f",
   "metadata": {
    "lines_to_next_cell": 2
   },
   "outputs": [],
   "source": [
    "from scipy.interpolate import interp1d\n",
    "import numpy as np\n",
    "import matplotlib.pyplot as plt\n",
    "\n",
    "# Données initiales\n",
    "x = np.linspace(0, 10, 10)\n",
    "y = np.cos(x)\n",
    "\n",
    "# Interpolation linéaire\n",
    "f_linear = interp1d(x, y)\n",
    "x_new = np.linspace(0, 10, 100)\n",
    "y_new_linear = f_linear(x_new)\n",
    "\n",
    "# Interpolation cubique\n",
    "f_cubic = interp1d(x, y, kind='cubic')\n",
    "y_new_cubic = f_cubic(x_new)\n",
    "\n",
    "# Affichage des résultats\n",
    "plt.plot(x, y, 'o', label='Données initiales')\n",
    "plt.plot(x_new, y_new_linear, '-', label='Interpolation linéaire')\n",
    "plt.plot(x_new, y_new_cubic, '--', label='Interpolation cubique')\n",
    "plt.legend()\n",
    "plt.title('Interpolation de données')\n",
    "plt.xlabel('x')\n",
    "plt.ylabel('y')\n",
    "plt.grid(True)\n",
    "plt.show()"
   ]
  },
  {
   "cell_type": "code",
   "execution_count": null,
   "id": "fa394a81",
   "metadata": {
    "lines_to_next_cell": 2
   },
   "outputs": [],
   "source": [
    "import sympy as sp\n",
    "\n",
    "# Définition des symboles\n",
    "x, y = sp.symbols('x y')\n",
    "\n",
    "# Expression à simplifier\n",
    "expr = (x**2 + 2*x + 1) / (x + 1)\n",
    "\n",
    "# Simplification de l'expression\n",
    "simplified_expr = sp.simplify(expr)\n",
    "\n",
    "# Affichage en LaTeX\n",
    "sp.latex(simplified_expr)"
   ]
  },
  {
   "cell_type": "code",
   "execution_count": null,
   "id": "1f8ff10d",
   "metadata": {
    "lines_to_next_cell": 2
   },
   "outputs": [],
   "source": [
    "# Définition d'une fonction symbolique\n",
    "f = sp.Function('f')(x)\n",
    "\n",
    "# Calcul de la dérivée\n",
    "derivative = sp.diff(f, x)\n",
    "\n",
    "# Affichage en LaTeX\n",
    "mip = sp.latex(derivative)\n",
    "\n",
    "from IPython.display import display, Math\n",
    "display(Math(mip))"
   ]
  },
  {
   "cell_type": "code",
   "execution_count": null,
   "id": "282e5843",
   "metadata": {},
   "outputs": [],
   "source": []
  }
 ],
 "metadata": {
  "kernelspec": {
   "display_name": "Python 3 (ipykernel)",
   "language": "python",
   "name": "python3"
  },
  "language_info": {
   "codemirror_mode": {
    "name": "ipython",
    "version": 3
   },
   "file_extension": ".py",
   "mimetype": "text/x-python",
   "name": "python",
   "nbconvert_exporter": "python",
   "pygments_lexer": "ipython3",
   "version": "3.11.5"
  }
 },
 "nbformat": 4,
 "nbformat_minor": 5
}
