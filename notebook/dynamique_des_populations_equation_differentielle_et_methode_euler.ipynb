{
 "cells": [
  {
   "cell_type": "markdown",
   "id": "01138673",
   "metadata": {
    "jp-MarkdownHeadingCollapsed": true
   },
   "source": [
    "# La dynamique des populations\n",
    "---\n",
    "<div style=\"text-align: center;\">\n",
    "    <div style=\"display: inline-block; position: relative; width: 350px;\">\n",
    "        <img src=\"../img/_da709904-9305-4b95-a50f-3ac37b077133.jpeg\" alt=\"Dessin\" style=\"width: 100%;\"/>\n",
    "        <p style=\"text-align: center; margin-top: 5px;\">\n",
    "            <span style=\"font-style: italic; font-size: 16px;\"> Course et destinée </span><br/>\n",
    "            <span style=\"font-style: italic; font-size: 12px;\">Image générée par DALL·E 3, 2024 </span>\n",
    "        </p>\n",
    "    </div>\n",
    "</div>"
   ]
  },
  {
   "cell_type": "markdown",
   "id": "ffff8d3c",
   "metadata": {},
   "source": [
    "## Mise en contexte:\n",
    "\n",
    "### La dynamique des populations:\n",
    "\n",
    "Pour prédire et comprendre la dynamique des populations, des modèles mathématiques avec équations différentielles sont utilisés. En général, celles-ci dépendent de nombreux facteurs et sont extrêmement complexes à modéliser. \n",
    "\n",
    "Cela dit, certaines dynamiques \"simples\" peuvent être modélisées par des équations différentielles ordinaires (EDO). \n",
    "\n",
    "- L'équation logistique de Verhulst: description de la croissance d'une population en fonction du temps, en prenant en compte les limitations environnementales.\n",
    "\n",
    "- Les équations de Lotka-Volterra: description des interactions prédateur-proie dans un écosystème.\n",
    "\n",
    "\n",
    "### La méthode d'Euler:\n",
    "La méthode d'Euler est une technique numérique utilisée pour résoudre des équations différentielles ordinaires. \n",
    "\n",
    "Voici un résumé de la méthode d'Euler :\n",
    "\n",
    "- Discrétisation du temps : La première étape consiste à diviser le temps en intervalle (ou le \"pas\" de temps), ce qui crée une discrétisation du temps. \n",
    "\n",
    "- Condition initiale : la valeur initiale de la variable dépendante à un certain moment, c'est-à-dire la condition initiale, sert de point de départ pour résoudre l'EDO.\n",
    "\n",
    "- Approximation de la dérivée : À chaque pas de temps, la dérivée approximée est calculée en multipliant le taux de variation local par la taille du pas de temps.\n",
    "\n",
    "- Mise à jour de la variable dépendante : La nouvelle valeur de la variable dépendante est calculée en ajoutant la dérivée approximée à la valeur actuelle de la variable. Cela correspond à un pas de temps en avant.\n",
    "\n",
    "- Répétition : Les étapes 3 et 4 sont répétées pour chaque pas de temps jusqu'à ce que la variable atteigne la valeur finale souhaitée ou jusqu'à ce que le processus atteigne un certain nombre prédéfini d'itérations. C'est à cette étape que la technique de la boucle `for` est utilisé."
   ]
  },
  {
   "cell_type": "markdown",
   "id": "7888163e",
   "metadata": {},
   "source": [
    "## Objectifs\n",
    "\n",
    "- Utiliser une boucle `for` pour résoudre l'équation logistique de Verhulst avec la méthode d'Euler.\n",
    "\n",
    "- Utiliser une boucle `for` pour résoudre les équations de Lotka-Volterra avec la méthode d'Euler."
   ]
  },
  {
   "cell_type": "markdown",
   "id": "566d8332",
   "metadata": {
    "lines_to_next_cell": 0
   },
   "source": [
    "# L'équation logistique de Verhulst"
   ]
  },
  {
   "cell_type": "markdown",
   "id": "d38b887b",
   "metadata": {},
   "source": [
    "L'équation logistique de Verhulst est un modèle mathématique largement utilisé pour décrire la croissance d'une population en fonction du temps, en prenant en compte les limitations environnementales. Cette équation tire son nom du mathématicien belge Pierre-François Verhulst, qui l'a développée au XIXe siècle pour modéliser la croissance de populations animales, mais elle est également couramment appliquée à d'autres domaines, notamment en écologie et en économie.\n",
    "\n",
    "L'équation logistique de Verhulst est :\n",
    "\n",
    "$$\n",
    "\\frac{dN(t)}{dt} = r \\cdot N(t) \\cdot \\left(1 - \\frac{N(t)}{K}\\right)\n",
    "$$\n",
    "où :\n",
    "- $ \\frac{dN(t)}{dt} $ représente le taux de croissance de la population par rapport au temps.\n",
    "- $ N(t) $ est la taille de la population à un moment $t$.\n",
    "- $ r $ est le taux de croissance intrinsèque de la population, qui dépend des conditions environnementales et des caractéristiques de l'organisme.\n",
    "- $ K $ est la capacité de charge de l'environnement, c'est-à-dire la taille maximale que la population peut atteindre en fonction des ressources disponibles.\n",
    "\n",
    "Cette équation est souvent utilisée pour modéliser des situations où la croissance d'une population est limitée par des facteurs tels que la disponibilité de nourriture, d'espace ou d'autres ressources. Au fur et à mesure que la population ($ N $) augmente, le terme $ \\left(1 - \\frac{N}{K}\\right) $ reflète la réduction de la croissance due à la saturation des ressources disponibles. Le modèle de Verhulst permet donc de comprendre comment une population peut atteindre un équilibre où la croissance cesse, car elle atteint sa capacité de charge. \n",
    "\n",
    "La méthode d'Euler sera:\n",
    "\n",
    "   - Conditions initiales : a) temps initial ($t_0$) ; b) Population initiale ($N_0$).\n",
    "   - Discrétisation du temps: $\\Delta t$\n",
    "   - Calcul de la dérivée $\\frac{dN}{dt}$ pour la $n$-ième itération (au temps $t=t_n$):\n",
    "     $$\n",
    "     \\left. \\frac{dN}{dt}\\right|_{t=t_n} = r \\cdot N_n \\cdot \\left(1 - \\frac {N_n}{K}\\right)\n",
    "     $$\n",
    "   - Mise à jour de $N$ en vue de la $n+1$-ième itération (au temps $t=t_n+1$) :\n",
    "     $$\n",
    "     N_{n+1} = N_n + \\frac{dN}{dt} \\cdot \\Delta t\n",
    "     $$\n",
    "   - Incrémentation du temps : $t_{n+1} = t_n + \\Delta t$.\n",
    "\n",
    "   - À partir de $t = t_0$, on répète l'itération jusqu'à ce que $t$ atteigne la valeur finale $t_f$:\n"
   ]
  },
  {
   "cell_type": "code",
   "execution_count": null,
   "id": "b4b270d2",
   "metadata": {},
   "outputs": [],
   "source": [
    "# Initialisation des modules nécessaires:\n",
    "import numpy as np\n",
    "import matplotlib.pyplot as plt\n",
    "\n",
    "\n",
    "# Méthode d'Euler: **Initialisation des variables** :\n",
    "\n",
    "# Paramètres de l'équation logistique de Verhulst\n",
    "r = 0.1  # Taux de croissance intrinsèque\n",
    "K = 1000  # Capacité de charge de l'environnement\n",
    "dt = .1  # Intervalle de temps\n",
    "t_f = 200  # Durée de la simulation\n",
    "\n",
    "\n",
    "# Méthode d'Euler: **Création des listes**\n",
    "\n",
    "# Initialisation des listes pour stocker les données à chaque itération:\n",
    "time_points = [0]  # temps initial\n",
    "population = [10]  # Population initiale\n",
    "\n",
    "# Méthode d'Euler: **Itération**\n",
    "\n",
    "# Boucle for pour résoudre l'équation de Verhulst: \n",
    "# \"for t\" : C'est une boucle \"for\" en Python, qui itère sur une variable \"t\". À chaque itération, \"t\" prendra une nouvelle valeur.\n",
    "# \"in\" : C'est le mot-clé \"in\" qui indique que nous allons itérer sur une séquence de valeurs.\n",
    "# \"np.arange(dt, T + dt, dt)\" : C'est la séquence de valeurs sur laquelle nous itérons. \"np.arange\" crée un tableau de valeurs espacées de manière régulière. \n",
    "#  Dans ce cas, il génère une séquence de valeurs commençant à \"dt\" (la première valeur), se terminant à \"T + dt\" (la dernière valeur), avec un pas de \"dt\" (l'espacement entre les valeurs).\n",
    "for t in np.arange(dt, T + dt, dt):\n",
    "    # dNdt correspond au taux de variation.  \n",
    "    dN_dt = r * population[-1] * (1 - population[-1] / K)\n",
    "    N = population[-1] + dN_dt * dt\n",
    "    time_points.append(t)\n",
    "    population.append(N)\n",
    "\n",
    "\n",
    "# Tracé du graphique de l'évolution de la population\n",
    "plt.figure(figsize=(8, 4))\n",
    "plt.plot(time_points, population)\n",
    "plt.xlabel(\"Temps\")\n",
    "plt.ylabel(\"Population\")\n",
    "plt.title(\"Évolution de la population de bactéries (Équation de Verhulst)\")\n",
    "plt.grid()\n",
    "plt.show()"
   ]
  },
  {
   "cell_type": "markdown",
   "id": "950f7dae",
   "metadata": {
    "lines_to_next_cell": 0
   },
   "source": [
    "# Les équations de Lotka-Volterra"
   ]
  },
  {
   "cell_type": "markdown",
   "id": "b4d1bc3d",
   "metadata": {},
   "source": [
    "Les équations de Lotka-Volterra sont un système d'équations différentielles utilisé pour modéliser les interactions entre populations de proies ($N$) et de prédateurs ($P$) dans un écosystème. Elles ont été proposées indépendamment par Alfred J. Lotka en 1925 et Vito Volterra en 1926. Ces équations sont essentielles dans l'étude des dynamiques des populations et ont une grande importance en écologie et en biologie des populations.\n",
    "\n",
    "Le modèle de Lotka-Volterra est :\n",
    "\n",
    "\\begin{array}{ccc}\\dfrac{\\mathrm{d}N(t)}{\\mathrm{d}t} &=& N(t)\\Big(\\alpha - \\beta P(t)\\Big) \\\\\n",
    "\\dfrac{\\mathrm{d}P(t)}{\\mathrm{d}t} &=& P(t)\\Big( \\delta N(t) - \\gamma\\Big) \n",
    "\\end{array}\n",
    "\n",
    "où :\n",
    "\n",
    "- $N(t)$ et $P(t)$ représentent respectivement les populations de proies et de prédateurs au cours du temps $t$.\n",
    "- $\\alpha$ représente le taux de croissance intrinsèque des proies (indépendants des prédateurs).\n",
    "- $\\beta$ représente le taux de mortalité des proies (dû au nombre de prédateurs).\n",
    "- $\\gamma$ représente le taux de mortalité intrinsèque des prédateurs (indépendants des proies).\n",
    "- $\\delta$ représente le taux de croissance des prédateurs (dû aux nombre de proies).\n",
    "\n",
    "Les équations de Lotka-Volterra prédisent ainsi des cycles périodiques de croissance et de décroissance des populations de proies et de prédateurs. Les proies se multiplient lorsqu'elles ne sont pas affectées par les prédateurs, mais leur croissance est limitée par la prédation. Les prédateurs se reproduisent en consommant des proies, mais leur population diminue lorsqu'il y a pénurie de nourriture.\n",
    "\n",
    "\n"
   ]
  },
  {
   "cell_type": "code",
   "execution_count": null,
   "id": "8b91fed2",
   "metadata": {},
   "outputs": [],
   "source": [
    "# Initialisation des modules nécessaires:\n",
    "import numpy as np\n",
    "import matplotlib.pyplot as plt\n",
    "\n",
    "# Paramètres des équations de Lotka-Volterra\n",
    "alpha = 0.1  # Taux de reproduction intrinsèque des proies\n",
    "beta = 0.02  # Taux de prédation\n",
    "gamma = 0.3  # Taux de décroissance intrinsèque des prédateurs\n",
    "delta = 0.01  # Efficacité de la prédation\n",
    "\n",
    "# Conditions initiales\n",
    "N0 = 40  # Population initiale de proies\n",
    "P0 = 9   # Population initiale de prédateurs\n",
    "\n",
    "# Intervalle de temps et nombre d'itérations\n",
    "dt = 0.1\n",
    "T = 200\n",
    "num_iterations = int(T / dt)\n",
    "\n",
    "# Initialisation des listes pour stocker les données\n",
    "time_points = [0]\n",
    "prey_population = [N0]\n",
    "predator_population = [P0]\n",
    "\n",
    "# Boucle for pour résoudre les équations de Lotka-Volterra avec la méthode d'Euler\n",
    "for i in range(num_iterations):\n",
    "    dN = (r_N * prey_population[-1] - a * prey_population[-1] * predator_population[-1]) * dt\n",
    "    dP = (-r_P * predator_population[-1] + b * prey_population[-1] * predator_population[-1]) * dt\n",
    "\n",
    "    N = prey_population[-1] + dN\n",
    "    P = predator_population[-1] + dP\n",
    "\n",
    "    time_points.append(time_points[-1] + dt)\n",
    "    prey_population.append(N)\n",
    "    predator_population.append(P)\n",
    "\n",
    "# Tracé du graphique de l'évolution des populations de proies et de prédateurs\n",
    "plt.figure(figsize=(10, 6))\n",
    "plt.plot(time_points, prey_population, label='Population proies')\n",
    "plt.plot(time_points, predator_population, label='Population prédateurs')\n",
    "plt.xlabel(\"Temps\")\n",
    "plt.ylabel(\"Population\")\n",
    "plt.title(\"Dynamique des populations de proies et de prédateurs (Lotka-Volterra)\")\n",
    "plt.legend()\n",
    "plt.grid()\n",
    "plt.show()"
   ]
  },
  {
   "cell_type": "code",
   "execution_count": null,
   "id": "3deea8d6",
   "metadata": {},
   "outputs": [],
   "source": []
  },
  {
   "cell_type": "code",
   "execution_count": null,
   "id": "243abdd9",
   "metadata": {},
   "outputs": [],
   "source": []
  },
  {
   "cell_type": "code",
   "execution_count": null,
   "id": "bc64cc31",
   "metadata": {},
   "outputs": [],
   "source": []
  },
  {
   "cell_type": "code",
   "execution_count": null,
   "id": "53ee5360",
   "metadata": {},
   "outputs": [],
   "source": []
  },
  {
   "cell_type": "code",
   "execution_count": null,
   "id": "bf824fba",
   "metadata": {
    "lines_to_next_cell": 2
   },
   "outputs": [],
   "source": []
  },
  {
   "cell_type": "code",
   "execution_count": null,
   "id": "96da6ea4",
   "metadata": {},
   "outputs": [],
   "source": []
  }
 ],
 "metadata": {
  "kernelspec": {
   "display_name": "Python 3 (ipykernel)",
   "language": "python",
   "name": "python3"
  },
  "language_info": {
   "codemirror_mode": {
    "name": "ipython",
    "version": 3
   },
   "file_extension": ".py",
   "mimetype": "text/x-python",
   "name": "python",
   "nbconvert_exporter": "python",
   "pygments_lexer": "ipython3",
   "version": "3.11.5"
  }
 },
 "nbformat": 4,
 "nbformat_minor": 5
}
