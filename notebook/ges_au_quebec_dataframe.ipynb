{
 "cells": [
  {
   "cell_type": "markdown",
   "id": "4211fe22",
   "metadata": {},
   "source": [
    "# Les gaz à effet de serre au Québec\n",
    "---\n",
    "\n",
    "<div style=\"text-align: center;\">\n",
    "    <div style=\"display: inline-block; position: relative; width: 350px;\">\n",
    "        <img src=\"../img/_cc50555b-1857-4a03-a71b-744befcfb323.jpeg\" alt=\"Dessin\" style=\"width: 100%;\"/>\n",
    "        <p style=\"text-align: center; margin-top: 5px;\">\n",
    "            <span style=\"font-style: italic; font-size: 16px;\"> Solution simple </span><br/>\n",
    "            <span style=\"font-style: italic; font-size: 12px;\">Image générée par DALL·E 3, 2024 </span>\n",
    "        </p>\n",
    "    </div>\n",
    "</div>\n",
    "\n"
   ]
  },
  {
   "cell_type": "markdown",
   "id": "2845e61c",
   "metadata": {},
   "source": [
    "Les données de l'inventaire québécois des émissions de gaz à effet de serre, sont disponibles chez [Données Québec](https://www.donneesquebec.ca/recherche/dataset/inventaire-quebecois-des-emissions-de-gaz-a-effet-de-serre \"https://www.donneesquebec.ca/recherche/dataset/inventaire-quebecois-des-emissions-de-gaz-a-effet-de-serre\"):\n",
    "\n",
    "> \"L’inventaire des émissions de gaz à effet de serre (GES) produits par l’activité humaine au Québec est tenu à jour annuellement depuis 1990 \n",
    "par le ministère de l’Environnement, de la Lutte contre les changements climatiques, de la Faune et des Parcs. Cet inventaire est établi à partir de données recueillies auprès d’entreprises et d’institutions et se base sur des données obtenues principalement de Statistique Canada, d’Environnement et Changement climatique Canada (ECCC) et de ministères et organismes du Québec.\" \n",
    "\n",
    "Dernière modification du jeux de données pour ce notebook : 2022-12-21 "
   ]
  },
  {
   "cell_type": "markdown",
   "id": "0ef6951e",
   "metadata": {},
   "source": [
    "---\n",
    "# Objectifs:\n",
    "\n",
    "L'objectif de ce notebook est d'utiliser la méthode `groupby`\n",
    " relative aux dataframes afin d'obtenir le total des GES émis par secteur d'activité."
   ]
  },
  {
   "cell_type": "markdown",
   "id": "f0abcda5",
   "metadata": {},
   "source": [
    "---\n",
    "# Importation des données"
   ]
  },
  {
   "cell_type": "markdown",
   "id": "b5402a49",
   "metadata": {},
   "source": [
    "Afin de lire et d'explorer les données, nous utilisons la librairie pandas avec toutes les fonctionnalités des Dataframes. "
   ]
  },
  {
   "cell_type": "code",
   "execution_count": 2,
   "id": "22f07e6a",
   "metadata": {},
   "outputs": [
    {
     "data": {
      "text/html": [
       "<div>\n",
       "<style scoped>\n",
       "    .dataframe tbody tr th:only-of-type {\n",
       "        vertical-align: middle;\n",
       "    }\n",
       "\n",
       "    .dataframe tbody tr th {\n",
       "        vertical-align: top;\n",
       "    }\n",
       "\n",
       "    .dataframe thead th {\n",
       "        text-align: right;\n",
       "    }\n",
       "</style>\n",
       "<table border=\"1\" class=\"dataframe\">\n",
       "  <thead>\n",
       "    <tr style=\"text-align: right;\">\n",
       "      <th></th>\n",
       "      <th>Annee</th>\n",
       "      <th>Secteur</th>\n",
       "      <th>Sous-secteur</th>\n",
       "      <th>Categorie</th>\n",
       "      <th>Emissions(t_eq_CO2)</th>\n",
       "    </tr>\n",
       "  </thead>\n",
       "  <tbody>\n",
       "    <tr>\n",
       "      <th>0</th>\n",
       "      <td>1990</td>\n",
       "      <td>Transports</td>\n",
       "      <td>Transport routier</td>\n",
       "      <td>Automobiles</td>\n",
       "      <td>1.085804e+07</td>\n",
       "    </tr>\n",
       "    <tr>\n",
       "      <th>1</th>\n",
       "      <td>1990</td>\n",
       "      <td>Transports</td>\n",
       "      <td>Transport routier</td>\n",
       "      <td>Camions légers</td>\n",
       "      <td>3.636960e+06</td>\n",
       "    </tr>\n",
       "    <tr>\n",
       "      <th>2</th>\n",
       "      <td>1990</td>\n",
       "      <td>Transports</td>\n",
       "      <td>Transport routier</td>\n",
       "      <td>Véhicules lourds</td>\n",
       "      <td>3.602432e+06</td>\n",
       "    </tr>\n",
       "    <tr>\n",
       "      <th>3</th>\n",
       "      <td>1990</td>\n",
       "      <td>Transports</td>\n",
       "      <td>Transport routier</td>\n",
       "      <td>Autres transports routiers</td>\n",
       "      <td>1.824648e+04</td>\n",
       "    </tr>\n",
       "    <tr>\n",
       "      <th>4</th>\n",
       "      <td>1990</td>\n",
       "      <td>Transports</td>\n",
       "      <td>Autres transports</td>\n",
       "      <td>Véhicules hors route - Agriculture et foresterie</td>\n",
       "      <td>9.985400e+05</td>\n",
       "    </tr>\n",
       "    <tr>\n",
       "      <th>...</th>\n",
       "      <td>...</td>\n",
       "      <td>...</td>\n",
       "      <td>...</td>\n",
       "      <td>...</td>\n",
       "      <td>...</td>\n",
       "    </tr>\n",
       "    <tr>\n",
       "      <th>1445</th>\n",
       "      <td>2020</td>\n",
       "      <td>Matières résiduelles</td>\n",
       "      <td>Lieux d'enfouissement réservés aux usines de p...</td>\n",
       "      <td>Lieux d'enfouissement réservés aux usines de p...</td>\n",
       "      <td>6.994292e+04</td>\n",
       "    </tr>\n",
       "    <tr>\n",
       "      <th>1446</th>\n",
       "      <td>2020</td>\n",
       "      <td>Matières résiduelles</td>\n",
       "      <td>Traitement biologique des matières résiduelles</td>\n",
       "      <td>Traitement biologique des matières résiduelles</td>\n",
       "      <td>7.126235e+04</td>\n",
       "    </tr>\n",
       "    <tr>\n",
       "      <th>1447</th>\n",
       "      <td>2020</td>\n",
       "      <td>Matières résiduelles</td>\n",
       "      <td>Traitement et rejet des eaux usées municipales</td>\n",
       "      <td>Traitement et rejet des eaux usées municipales</td>\n",
       "      <td>4.134772e+05</td>\n",
       "    </tr>\n",
       "    <tr>\n",
       "      <th>1448</th>\n",
       "      <td>2020</td>\n",
       "      <td>Matières résiduelles</td>\n",
       "      <td>Incinération des matières résiduelles</td>\n",
       "      <td>Incinération des matières résiduelles</td>\n",
       "      <td>2.124926e+05</td>\n",
       "    </tr>\n",
       "    <tr>\n",
       "      <th>1449</th>\n",
       "      <td>2020</td>\n",
       "      <td>Électricité</td>\n",
       "      <td>Électricité</td>\n",
       "      <td>Centrales thermiques publiques</td>\n",
       "      <td>2.290484e+05</td>\n",
       "    </tr>\n",
       "  </tbody>\n",
       "</table>\n",
       "<p>1450 rows × 5 columns</p>\n",
       "</div>"
      ],
      "text/plain": [
       "      Annee               Secteur  \\\n",
       "0      1990            Transports   \n",
       "1      1990            Transports   \n",
       "2      1990            Transports   \n",
       "3      1990            Transports   \n",
       "4      1990            Transports   \n",
       "...     ...                   ...   \n",
       "1445   2020  Matières résiduelles   \n",
       "1446   2020  Matières résiduelles   \n",
       "1447   2020  Matières résiduelles   \n",
       "1448   2020  Matières résiduelles   \n",
       "1449   2020           Électricité   \n",
       "\n",
       "                                           Sous-secteur  \\\n",
       "0                                     Transport routier   \n",
       "1                                     Transport routier   \n",
       "2                                     Transport routier   \n",
       "3                                     Transport routier   \n",
       "4                                     Autres transports   \n",
       "...                                                 ...   \n",
       "1445  Lieux d'enfouissement réservés aux usines de p...   \n",
       "1446     Traitement biologique des matières résiduelles   \n",
       "1447     Traitement et rejet des eaux usées municipales   \n",
       "1448              Incinération des matières résiduelles   \n",
       "1449                                        Électricité   \n",
       "\n",
       "                                              Categorie  Emissions(t_eq_CO2)  \n",
       "0                                           Automobiles         1.085804e+07  \n",
       "1                                        Camions légers         3.636960e+06  \n",
       "2                                      Véhicules lourds         3.602432e+06  \n",
       "3                            Autres transports routiers         1.824648e+04  \n",
       "4      Véhicules hors route - Agriculture et foresterie         9.985400e+05  \n",
       "...                                                 ...                  ...  \n",
       "1445  Lieux d'enfouissement réservés aux usines de p...         6.994292e+04  \n",
       "1446     Traitement biologique des matières résiduelles         7.126235e+04  \n",
       "1447     Traitement et rejet des eaux usées municipales         4.134772e+05  \n",
       "1448              Incinération des matières résiduelles         2.124926e+05  \n",
       "1449                     Centrales thermiques publiques         2.290484e+05  \n",
       "\n",
       "[1450 rows x 5 columns]"
      ]
     },
     "execution_count": 2,
     "metadata": {},
     "output_type": "execute_result"
    }
   ],
   "source": [
    "# Initialisation de la librairie Pandas.\n",
    "import pandas as pd\n",
    "\n",
    "# Importation des données. Le fichier csv (coma-separated-value) se nomme \"inventaire-ges.csv\" \n",
    "# et les données sont séparées par des points-virgules (;).\n",
    "df = pd.read_csv('../data/inventaire-ges.csv',sep = ';')  \n",
    "df"
   ]
  },
  {
   "cell_type": "code",
   "execution_count": null,
   "id": "6d1ad999",
   "metadata": {
    "lines_to_next_cell": 2
   },
   "outputs": [],
   "source": [
    "# Le nombre de ligne (rows) et de colonne (columns) est: \n",
    "df.shape"
   ]
  },
  {
   "cell_type": "code",
   "execution_count": null,
   "id": "14b59806",
   "metadata": {
    "lines_to_next_cell": 0
   },
   "outputs": [],
   "source": [
    "# Le nom des colonnes, sous forme d'une array numpy. \n",
    "\n",
    "df.columns"
   ]
  },
  {
   "cell_type": "code",
   "execution_count": null,
   "id": "05ecb0b9",
   "metadata": {},
   "outputs": [],
   "source": [
    "# Le nom des colonnes, sous forme d'une liste normale.\n",
    "\n",
    "df.columns.tolist()"
   ]
  },
  {
   "cell_type": "code",
   "execution_count": null,
   "id": "f87918dd",
   "metadata": {},
   "outputs": [],
   "source": [
    "# Le types de variables dans chaque colonne: \n",
    "\n",
    "df.dtypes"
   ]
  },
  {
   "cell_type": "code",
   "execution_count": null,
   "id": "e8e3ed1b",
   "metadata": {},
   "outputs": [],
   "source": [
    "# L'index du dataframe: \n",
    "\n",
    "df.index"
   ]
  },
  {
   "cell_type": "code",
   "execution_count": null,
   "id": "ae6f2471",
   "metadata": {
    "lines_to_next_cell": 2
   },
   "outputs": [],
   "source": [
    "# Pour travailler les éléments d'une seule colonne, il faut travailler avec les Séries:\n",
    "df['Annee'];"
   ]
  },
  {
   "cell_type": "code",
   "execution_count": null,
   "id": "8509449b",
   "metadata": {
    "lines_to_next_cell": 0
   },
   "outputs": [],
   "source": [
    "# Élements uniques de la colonne Secteur. Sous forme d'une liste normale.\n",
    "secteurs = df['Secteur'].unique().tolist()\n",
    "secteurs"
   ]
  },
  {
   "cell_type": "code",
   "execution_count": null,
   "id": "2692d70c",
   "metadata": {
    "lines_to_next_cell": 0
   },
   "outputs": [],
   "source": [
    "# Élements uniques de la colonne Sous-secteur. Sous forme d'une liste normale.\n",
    "df['Sous-secteur'].unique().tolist();"
   ]
  },
  {
   "cell_type": "code",
   "execution_count": null,
   "id": "69f2a66f",
   "metadata": {},
   "outputs": [],
   "source": [
    "# Élements uniques de la colonne 'Categorie'. Sous forme d'une liste normale.\n",
    "df['Categorie'].unique().tolist();"
   ]
  },
  {
   "cell_type": "code",
   "execution_count": null,
   "id": "42d7891b",
   "metadata": {},
   "outputs": [],
   "source": [
    "# Élements absents\n",
    "df.isna().sum()"
   ]
  },
  {
   "cell_type": "code",
   "execution_count": null,
   "id": "b5dcb912",
   "metadata": {},
   "outputs": [],
   "source": [
    "df.isnull().sum()"
   ]
  },
  {
   "cell_type": "markdown",
   "id": "d38c62db",
   "metadata": {},
   "source": [
    "---\n",
    "# Constructions de la nouvelle dataframe: \n",
    "\n",
    "Les étapes pour construire df_secteurs_total sont:"
   ]
  },
  {
   "cell_type": "markdown",
   "id": "014b60dd",
   "metadata": {},
   "source": [
    "---\n",
    "## Construction 1: obtention du total par année:"
   ]
  },
  {
   "cell_type": "code",
   "execution_count": 3,
   "id": "9605bbdd",
   "metadata": {},
   "outputs": [
    {
     "data": {
      "text/html": [
       "<div>\n",
       "<style scoped>\n",
       "    .dataframe tbody tr th:only-of-type {\n",
       "        vertical-align: middle;\n",
       "    }\n",
       "\n",
       "    .dataframe tbody tr th {\n",
       "        vertical-align: top;\n",
       "    }\n",
       "\n",
       "    .dataframe thead th {\n",
       "        text-align: right;\n",
       "    }\n",
       "</style>\n",
       "<table border=\"1\" class=\"dataframe\">\n",
       "  <thead>\n",
       "    <tr style=\"text-align: right;\">\n",
       "      <th></th>\n",
       "      <th>Annee</th>\n",
       "      <th>Emissions(t_eq_CO2)</th>\n",
       "    </tr>\n",
       "  </thead>\n",
       "  <tbody>\n",
       "    <tr>\n",
       "      <th>0</th>\n",
       "      <td>1990</td>\n",
       "      <td>1.085804e+07</td>\n",
       "    </tr>\n",
       "    <tr>\n",
       "      <th>1</th>\n",
       "      <td>1990</td>\n",
       "      <td>3.636960e+06</td>\n",
       "    </tr>\n",
       "    <tr>\n",
       "      <th>2</th>\n",
       "      <td>1990</td>\n",
       "      <td>3.602432e+06</td>\n",
       "    </tr>\n",
       "    <tr>\n",
       "      <th>3</th>\n",
       "      <td>1990</td>\n",
       "      <td>1.824648e+04</td>\n",
       "    </tr>\n",
       "    <tr>\n",
       "      <th>4</th>\n",
       "      <td>1990</td>\n",
       "      <td>9.985400e+05</td>\n",
       "    </tr>\n",
       "    <tr>\n",
       "      <th>...</th>\n",
       "      <td>...</td>\n",
       "      <td>...</td>\n",
       "    </tr>\n",
       "    <tr>\n",
       "      <th>1445</th>\n",
       "      <td>2020</td>\n",
       "      <td>6.994292e+04</td>\n",
       "    </tr>\n",
       "    <tr>\n",
       "      <th>1446</th>\n",
       "      <td>2020</td>\n",
       "      <td>7.126235e+04</td>\n",
       "    </tr>\n",
       "    <tr>\n",
       "      <th>1447</th>\n",
       "      <td>2020</td>\n",
       "      <td>4.134772e+05</td>\n",
       "    </tr>\n",
       "    <tr>\n",
       "      <th>1448</th>\n",
       "      <td>2020</td>\n",
       "      <td>2.124926e+05</td>\n",
       "    </tr>\n",
       "    <tr>\n",
       "      <th>1449</th>\n",
       "      <td>2020</td>\n",
       "      <td>2.290484e+05</td>\n",
       "    </tr>\n",
       "  </tbody>\n",
       "</table>\n",
       "<p>1450 rows × 2 columns</p>\n",
       "</div>"
      ],
      "text/plain": [
       "      Annee  Emissions(t_eq_CO2)\n",
       "0      1990         1.085804e+07\n",
       "1      1990         3.636960e+06\n",
       "2      1990         3.602432e+06\n",
       "3      1990         1.824648e+04\n",
       "4      1990         9.985400e+05\n",
       "...     ...                  ...\n",
       "1445   2020         6.994292e+04\n",
       "1446   2020         7.126235e+04\n",
       "1447   2020         4.134772e+05\n",
       "1448   2020         2.124926e+05\n",
       "1449   2020         2.290484e+05\n",
       "\n",
       "[1450 rows x 2 columns]"
      ]
     },
     "execution_count": 3,
     "metadata": {},
     "output_type": "execute_result"
    }
   ],
   "source": [
    "df[['Annee','Emissions(t_eq_CO2)']]"
   ]
  },
  {
   "cell_type": "code",
   "execution_count": 4,
   "id": "7411d6e2",
   "metadata": {},
   "outputs": [
    {
     "data": {
      "text/plain": [
       "<pandas.core.groupby.generic.DataFrameGroupBy object at 0x00000269D155AD50>"
      ]
     },
     "execution_count": 4,
     "metadata": {},
     "output_type": "execute_result"
    }
   ],
   "source": [
    "df[['Annee','Emissions(t_eq_CO2)']].groupby('Annee')"
   ]
  },
  {
   "cell_type": "code",
   "execution_count": 6,
   "id": "a0bdd60d",
   "metadata": {},
   "outputs": [],
   "source": [
    "df_total = df[['Annee','Emissions(t_eq_CO2)']].groupby('Annee').sum()\n",
    "df_total;"
   ]
  },
  {
   "cell_type": "code",
   "execution_count": 7,
   "id": "41eb6ce1",
   "metadata": {},
   "outputs": [
    {
     "data": {
      "text/plain": [
       "Index(['Emissions(t_eq_CO2)'], dtype='object')"
      ]
     },
     "execution_count": 7,
     "metadata": {},
     "output_type": "execute_result"
    }
   ],
   "source": [
    "df_total.columns"
   ]
  },
  {
   "cell_type": "code",
   "execution_count": null,
   "id": "ea33f4c4",
   "metadata": {},
   "outputs": [],
   "source": [
    "df_total = df_total.rename(columns={\"Emissions(t_eq_CO2)\": \"Emissions(t_eq_CO2)-Total\"})"
   ]
  },
  {
   "cell_type": "code",
   "execution_count": null,
   "id": "9afb3011",
   "metadata": {},
   "outputs": [],
   "source": [
    "df_total.describe()"
   ]
  },
  {
   "cell_type": "code",
   "execution_count": null,
   "id": "516aff41",
   "metadata": {},
   "outputs": [],
   "source": [
    "df_total.plot()"
   ]
  },
  {
   "cell_type": "markdown",
   "id": "24e148da",
   "metadata": {},
   "source": [
    "---\n",
    "## Construction 2: obtention du total par année pour le secteur 'Transports':"
   ]
  },
  {
   "cell_type": "code",
   "execution_count": null,
   "id": "8e0a98eb",
   "metadata": {
    "lines_to_next_cell": 0
   },
   "outputs": [],
   "source": [
    "#Pour les transports seulement\n",
    "df_transports = df[df['Secteur']=='Transports']\n",
    "df_transports_total = df_transports[['Annee','Emissions(t_eq_CO2)']].groupby('Annee').sum()\n",
    "df_transports_total = df_transports_total.rename(columns={\"Emissions(t_eq_CO2)\": \"Emissions(t_eq_CO2)-Transports\"})\n",
    "df_transports_total;"
   ]
  },
  {
   "cell_type": "code",
   "execution_count": null,
   "id": "fa56cb32",
   "metadata": {
    "lines_to_next_cell": 0
   },
   "outputs": [],
   "source": [
    "df_merge = pd.merge(df_total, df_transports_total, on=[\"Annee\"])\n",
    "# df_merge"
   ]
  },
  {
   "cell_type": "code",
   "execution_count": null,
   "id": "074a9255",
   "metadata": {},
   "outputs": [],
   "source": [
    "df_merge = df_total.merge(df_transports_total,on=[\"Annee\"])\n",
    "# df_merge"
   ]
  },
  {
   "cell_type": "markdown",
   "id": "8ccaa47c",
   "metadata": {},
   "source": [
    "---\n",
    "## Construction 3: obtention du total par année pour tous les secteurs:"
   ]
  },
  {
   "cell_type": "code",
   "execution_count": null,
   "id": "e7210382",
   "metadata": {},
   "outputs": [],
   "source": [
    "secteurs"
   ]
  },
  {
   "cell_type": "code",
   "execution_count": null,
   "id": "f303f9b3",
   "metadata": {},
   "outputs": [],
   "source": [
    "# Initialisation du DataFrame résultant avec le premier DataFrame\n",
    "df_secteurs_total = df_total\n",
    "\n",
    "for secteur in secteurs:\n",
    "    df_secteur = df[df['Secteur']==secteur]\n",
    "    df_secteur_total = df_secteur[['Annee','Emissions(t_eq_CO2)']].groupby('Annee').sum()\n",
    "    df_secteur_total = df_secteur_total.rename(columns={\"Emissions(t_eq_CO2)\": f'Emissions(t_eq_CO2)-{secteur}'})\n",
    "    df_secteurs_total = df_secteurs_total.merge(df_secteur_total, on=[\"Annee\"])\n",
    "\n",
    "df_secteurs_total  "
   ]
  },
  {
   "cell_type": "code",
   "execution_count": null,
   "id": "c24fe48f",
   "metadata": {},
   "outputs": [],
   "source": [
    "df_secteurs_total.plot()"
   ]
  },
  {
   "cell_type": "markdown",
   "id": "cd520ef6",
   "metadata": {
    "lines_to_next_cell": 0
   },
   "source": [
    "---\n",
    "# Exportation de la nouvelle dataframe:"
   ]
  },
  {
   "cell_type": "code",
   "execution_count": null,
   "id": "2e8f1b19",
   "metadata": {
    "lines_to_next_cell": 0
   },
   "outputs": [],
   "source": [
    "df_secteurs_total.to_excel(\"../output/df_secteurs_total.xlsx\",sheet_name='Emissions(t_eq_CO2) par secteur') "
   ]
  },
  {
   "cell_type": "code",
   "execution_count": null,
   "id": "ca4089c3",
   "metadata": {
    "lines_to_next_cell": 2
   },
   "outputs": [],
   "source": [
    "df_secteurs_total.to_csv(\"../output/df_secteurs_total.csv\") "
   ]
  },
  {
   "cell_type": "markdown",
   "id": "2237c8aa",
   "metadata": {},
   "source": []
  },
  {
   "cell_type": "markdown",
   "id": "d242f396",
   "metadata": {},
   "source": []
  },
  {
   "cell_type": "code",
   "execution_count": null,
   "id": "e0e15dc4",
   "metadata": {
    "lines_to_next_cell": 3
   },
   "outputs": [],
   "source": []
  },
  {
   "cell_type": "code",
   "execution_count": null,
   "id": "d752dec6-1324-48cd-b234-77d781231cfe",
   "metadata": {},
   "outputs": [],
   "source": []
  }
 ],
 "metadata": {
  "kernelspec": {
   "display_name": "Python 3 (ipykernel)",
   "language": "python",
   "name": "python3"
  },
  "language_info": {
   "codemirror_mode": {
    "name": "ipython",
    "version": 3
   },
   "file_extension": ".py",
   "mimetype": "text/x-python",
   "name": "python",
   "nbconvert_exporter": "python",
   "pygments_lexer": "ipython3",
   "version": "3.11.5"
  }
 },
 "nbformat": 4,
 "nbformat_minor": 5
}
